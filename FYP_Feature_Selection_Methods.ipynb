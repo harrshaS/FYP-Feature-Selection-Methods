{
  "cells": [
    {
      "cell_type": "code",
      "execution_count": null,
      "metadata": {
        "colab": {
          "base_uri": "https://localhost:8080/"
        },
        "id": "rCha0E3SJyFm",
        "outputId": "04f14537-3de7-46b9-ba2f-27dee220e810"
      },
      "outputs": [
        {
          "name": "stdout",
          "output_type": "stream",
          "text": [
            "Operations Start Time: 1668349177513\n"
          ]
        }
      ],
      "source": [
        "import time\n",
        "start_time = round(time.time()*1000)\n",
        "print(\"Operations Start Time:\",start_time)"
      ]
    },
    {
      "cell_type": "markdown",
      "metadata": {
        "id": "GpgHRC_XuqKB"
      },
      "source": [
        "# **Feature Selection Methods with Instance Hardness Threshold Resampling Technique**"
      ]
    },
    {
      "cell_type": "code",
      "execution_count": null,
      "metadata": {
        "colab": {
          "base_uri": "https://localhost:8080/"
        },
        "id": "PAwEdmz6swdB",
        "outputId": "0db5daf4-8c9b-4379-d103-676e5e385ece"
      },
      "outputs": [
        {
          "name": "stdout",
          "output_type": "stream",
          "text": [
            "Mounted at /content/drive\n"
          ]
        }
      ],
      "source": [
        "from google.colab import drive\n",
        "drive.mount('/content/drive')"
      ]
    },
    {
      "cell_type": "code",
      "execution_count": null,
      "metadata": {
        "id": "4a86h-sWuzFc"
      },
      "outputs": [],
      "source": [
        "import numpy as np\n",
        "import pandas as pd"
      ]
    },
    {
      "cell_type": "code",
      "execution_count": null,
      "metadata": {
        "colab": {
          "base_uri": "https://localhost:8080/",
          "height": 206
        },
        "id": "SYIRYQymvRY_",
        "outputId": "a0f588b9-dc84-43d6-9649-0dff429c0524"
      },
      "outputs": [
        {
          "data": {
            "text/html": [
              "\n",
              "  <div id=\"df-231da8c3-316a-4a34-94c3-adfe388c67c9\">\n",
              "    <div class=\"colab-df-container\">\n",
              "      <div>\n",
              "<style scoped>\n",
              "    .dataframe tbody tr th:only-of-type {\n",
              "        vertical-align: middle;\n",
              "    }\n",
              "\n",
              "    .dataframe tbody tr th {\n",
              "        vertical-align: top;\n",
              "    }\n",
              "\n",
              "    .dataframe thead th {\n",
              "        text-align: right;\n",
              "    }\n",
              "</style>\n",
              "<table border=\"1\" class=\"dataframe\">\n",
              "  <thead>\n",
              "    <tr style=\"text-align: right;\">\n",
              "      <th></th>\n",
              "      <th>id</th>\n",
              "      <th>gender</th>\n",
              "      <th>age</th>\n",
              "      <th>hypertension</th>\n",
              "      <th>heart_disease</th>\n",
              "      <th>ever_married</th>\n",
              "      <th>work_type</th>\n",
              "      <th>Residence_type</th>\n",
              "      <th>avg_glucose_level</th>\n",
              "      <th>bmi</th>\n",
              "      <th>smoking_status</th>\n",
              "      <th>stroke</th>\n",
              "    </tr>\n",
              "  </thead>\n",
              "  <tbody>\n",
              "    <tr>\n",
              "      <th>0</th>\n",
              "      <td>9046</td>\n",
              "      <td>Male</td>\n",
              "      <td>67.0</td>\n",
              "      <td>0</td>\n",
              "      <td>1</td>\n",
              "      <td>Yes</td>\n",
              "      <td>Private</td>\n",
              "      <td>Urban</td>\n",
              "      <td>228.69</td>\n",
              "      <td>36.6</td>\n",
              "      <td>formerly smoked</td>\n",
              "      <td>1</td>\n",
              "    </tr>\n",
              "    <tr>\n",
              "      <th>1</th>\n",
              "      <td>51676</td>\n",
              "      <td>Female</td>\n",
              "      <td>61.0</td>\n",
              "      <td>0</td>\n",
              "      <td>0</td>\n",
              "      <td>Yes</td>\n",
              "      <td>Self-employed</td>\n",
              "      <td>Rural</td>\n",
              "      <td>202.21</td>\n",
              "      <td>NaN</td>\n",
              "      <td>never smoked</td>\n",
              "      <td>1</td>\n",
              "    </tr>\n",
              "    <tr>\n",
              "      <th>2</th>\n",
              "      <td>31112</td>\n",
              "      <td>Male</td>\n",
              "      <td>80.0</td>\n",
              "      <td>0</td>\n",
              "      <td>1</td>\n",
              "      <td>Yes</td>\n",
              "      <td>Private</td>\n",
              "      <td>Rural</td>\n",
              "      <td>105.92</td>\n",
              "      <td>32.5</td>\n",
              "      <td>never smoked</td>\n",
              "      <td>1</td>\n",
              "    </tr>\n",
              "    <tr>\n",
              "      <th>3</th>\n",
              "      <td>60182</td>\n",
              "      <td>Female</td>\n",
              "      <td>49.0</td>\n",
              "      <td>0</td>\n",
              "      <td>0</td>\n",
              "      <td>Yes</td>\n",
              "      <td>Private</td>\n",
              "      <td>Urban</td>\n",
              "      <td>171.23</td>\n",
              "      <td>34.4</td>\n",
              "      <td>smokes</td>\n",
              "      <td>1</td>\n",
              "    </tr>\n",
              "    <tr>\n",
              "      <th>4</th>\n",
              "      <td>1665</td>\n",
              "      <td>Female</td>\n",
              "      <td>79.0</td>\n",
              "      <td>1</td>\n",
              "      <td>0</td>\n",
              "      <td>Yes</td>\n",
              "      <td>Self-employed</td>\n",
              "      <td>Rural</td>\n",
              "      <td>174.12</td>\n",
              "      <td>24.0</td>\n",
              "      <td>never smoked</td>\n",
              "      <td>1</td>\n",
              "    </tr>\n",
              "  </tbody>\n",
              "</table>\n",
              "</div>\n",
              "      <button class=\"colab-df-convert\" onclick=\"convertToInteractive('df-231da8c3-316a-4a34-94c3-adfe388c67c9')\"\n",
              "              title=\"Convert this dataframe to an interactive table.\"\n",
              "              style=\"display:none;\">\n",
              "        \n",
              "  <svg xmlns=\"http://www.w3.org/2000/svg\" height=\"24px\"viewBox=\"0 0 24 24\"\n",
              "       width=\"24px\">\n",
              "    <path d=\"M0 0h24v24H0V0z\" fill=\"none\"/>\n",
              "    <path d=\"M18.56 5.44l.94 2.06.94-2.06 2.06-.94-2.06-.94-.94-2.06-.94 2.06-2.06.94zm-11 1L8.5 8.5l.94-2.06 2.06-.94-2.06-.94L8.5 2.5l-.94 2.06-2.06.94zm10 10l.94 2.06.94-2.06 2.06-.94-2.06-.94-.94-2.06-.94 2.06-2.06.94z\"/><path d=\"M17.41 7.96l-1.37-1.37c-.4-.4-.92-.59-1.43-.59-.52 0-1.04.2-1.43.59L10.3 9.45l-7.72 7.72c-.78.78-.78 2.05 0 2.83L4 21.41c.39.39.9.59 1.41.59.51 0 1.02-.2 1.41-.59l7.78-7.78 2.81-2.81c.8-.78.8-2.07 0-2.86zM5.41 20L4 18.59l7.72-7.72 1.47 1.35L5.41 20z\"/>\n",
              "  </svg>\n",
              "      </button>\n",
              "      \n",
              "  <style>\n",
              "    .colab-df-container {\n",
              "      display:flex;\n",
              "      flex-wrap:wrap;\n",
              "      gap: 12px;\n",
              "    }\n",
              "\n",
              "    .colab-df-convert {\n",
              "      background-color: #E8F0FE;\n",
              "      border: none;\n",
              "      border-radius: 50%;\n",
              "      cursor: pointer;\n",
              "      display: none;\n",
              "      fill: #1967D2;\n",
              "      height: 32px;\n",
              "      padding: 0 0 0 0;\n",
              "      width: 32px;\n",
              "    }\n",
              "\n",
              "    .colab-df-convert:hover {\n",
              "      background-color: #E2EBFA;\n",
              "      box-shadow: 0px 1px 2px rgba(60, 64, 67, 0.3), 0px 1px 3px 1px rgba(60, 64, 67, 0.15);\n",
              "      fill: #174EA6;\n",
              "    }\n",
              "\n",
              "    [theme=dark] .colab-df-convert {\n",
              "      background-color: #3B4455;\n",
              "      fill: #D2E3FC;\n",
              "    }\n",
              "\n",
              "    [theme=dark] .colab-df-convert:hover {\n",
              "      background-color: #434B5C;\n",
              "      box-shadow: 0px 1px 3px 1px rgba(0, 0, 0, 0.15);\n",
              "      filter: drop-shadow(0px 1px 2px rgba(0, 0, 0, 0.3));\n",
              "      fill: #FFFFFF;\n",
              "    }\n",
              "  </style>\n",
              "\n",
              "      <script>\n",
              "        const buttonEl =\n",
              "          document.querySelector('#df-231da8c3-316a-4a34-94c3-adfe388c67c9 button.colab-df-convert');\n",
              "        buttonEl.style.display =\n",
              "          google.colab.kernel.accessAllowed ? 'block' : 'none';\n",
              "\n",
              "        async function convertToInteractive(key) {\n",
              "          const element = document.querySelector('#df-231da8c3-316a-4a34-94c3-adfe388c67c9');\n",
              "          const dataTable =\n",
              "            await google.colab.kernel.invokeFunction('convertToInteractive',\n",
              "                                                     [key], {});\n",
              "          if (!dataTable) return;\n",
              "\n",
              "          const docLinkHtml = 'Like what you see? Visit the ' +\n",
              "            '<a target=\"_blank\" href=https://colab.research.google.com/notebooks/data_table.ipynb>data table notebook</a>'\n",
              "            + ' to learn more about interactive tables.';\n",
              "          element.innerHTML = '';\n",
              "          dataTable['output_type'] = 'display_data';\n",
              "          await google.colab.output.renderOutput(dataTable, element);\n",
              "          const docLink = document.createElement('div');\n",
              "          docLink.innerHTML = docLinkHtml;\n",
              "          element.appendChild(docLink);\n",
              "        }\n",
              "      </script>\n",
              "    </div>\n",
              "  </div>\n",
              "  "
            ],
            "text/plain": [
              "      id  gender   age  hypertension  heart_disease ever_married  \\\n",
              "0   9046    Male  67.0             0              1          Yes   \n",
              "1  51676  Female  61.0             0              0          Yes   \n",
              "2  31112    Male  80.0             0              1          Yes   \n",
              "3  60182  Female  49.0             0              0          Yes   \n",
              "4   1665  Female  79.0             1              0          Yes   \n",
              "\n",
              "       work_type Residence_type  avg_glucose_level   bmi   smoking_status  \\\n",
              "0        Private          Urban             228.69  36.6  formerly smoked   \n",
              "1  Self-employed          Rural             202.21   NaN     never smoked   \n",
              "2        Private          Rural             105.92  32.5     never smoked   \n",
              "3        Private          Urban             171.23  34.4           smokes   \n",
              "4  Self-employed          Rural             174.12  24.0     never smoked   \n",
              "\n",
              "   stroke  \n",
              "0       1  \n",
              "1       1  \n",
              "2       1  \n",
              "3       1  \n",
              "4       1  "
            ]
          },
          "execution_count": 4,
          "metadata": {},
          "output_type": "execute_result"
        }
      ],
      "source": [
        "df = pd.read_csv('/content/drive/My Drive/heartstroke.csv')\n",
        "df.head()"
      ]
    },
    {
      "cell_type": "markdown",
      "metadata": {
        "id": "GJKwIKX3wz_i"
      },
      "source": [
        "# **Preprocessing**"
      ]
    },
    {
      "cell_type": "code",
      "execution_count": null,
      "metadata": {
        "id": "qyZWWpO1EaUP"
      },
      "outputs": [],
      "source": [
        "df.drop(['id'],axis = 1,inplace = True)"
      ]
    },
    {
      "cell_type": "markdown",
      "metadata": {
        "id": "o3yHtCPKw2FB"
      },
      "source": [
        "**Filling NULL Values**"
      ]
    },
    {
      "cell_type": "code",
      "execution_count": null,
      "metadata": {
        "colab": {
          "base_uri": "https://localhost:8080/"
        },
        "id": "N_ZTruFvvZJ9",
        "outputId": "6525b43e-15b8-4fd6-8a06-f29c8de288d6"
      },
      "outputs": [
        {
          "data": {
            "text/plain": [
              "gender                 0\n",
              "age                    0\n",
              "hypertension           0\n",
              "heart_disease          0\n",
              "ever_married           0\n",
              "work_type              0\n",
              "Residence_type         0\n",
              "avg_glucose_level      0\n",
              "bmi                  201\n",
              "smoking_status         0\n",
              "stroke                 0\n",
              "dtype: int64"
            ]
          },
          "execution_count": 6,
          "metadata": {},
          "output_type": "execute_result"
        }
      ],
      "source": [
        "df.isnull().sum()"
      ]
    },
    {
      "cell_type": "code",
      "execution_count": null,
      "metadata": {
        "colab": {
          "base_uri": "https://localhost:8080/"
        },
        "id": "hPhq5iYxvr58",
        "outputId": "18711e58-ef40-45fa-8411-d6d251dffcf3"
      },
      "outputs": [
        {
          "name": "stdout",
          "output_type": "stream",
          "text": [
            "28.9\n"
          ]
        }
      ],
      "source": [
        "print(round(df['bmi'].mean(),1))"
      ]
    },
    {
      "cell_type": "code",
      "execution_count": null,
      "metadata": {
        "id": "Y0OfnSTHvuQI"
      },
      "outputs": [],
      "source": [
        "df['bmi'].fillna(28.9,inplace = True)"
      ]
    },
    {
      "cell_type": "code",
      "execution_count": null,
      "metadata": {
        "colab": {
          "base_uri": "https://localhost:8080/"
        },
        "id": "yTSuW2R4vwSv",
        "outputId": "d605b244-6c8c-43a0-dd24-bc8661c106c3"
      },
      "outputs": [
        {
          "data": {
            "text/plain": [
              "gender               0\n",
              "age                  0\n",
              "hypertension         0\n",
              "heart_disease        0\n",
              "ever_married         0\n",
              "work_type            0\n",
              "Residence_type       0\n",
              "avg_glucose_level    0\n",
              "bmi                  0\n",
              "smoking_status       0\n",
              "stroke               0\n",
              "dtype: int64"
            ]
          },
          "execution_count": 9,
          "metadata": {},
          "output_type": "execute_result"
        }
      ],
      "source": [
        "df.isnull().sum()"
      ]
    },
    {
      "cell_type": "markdown",
      "metadata": {
        "id": "lv0tt8XUw6Gb"
      },
      "source": [
        "**Conversion of Categorical data into Numerical data**"
      ]
    },
    {
      "cell_type": "code",
      "execution_count": null,
      "metadata": {
        "colab": {
          "base_uri": "https://localhost:8080/"
        },
        "id": "9F604MSUvyga",
        "outputId": "d89c35ba-6ba5-4c9d-f7dc-c515ba24ea3f"
      },
      "outputs": [
        {
          "data": {
            "text/plain": [
              "Female    2994\n",
              "Male      2115\n",
              "Other        1\n",
              "Name: gender, dtype: int64"
            ]
          },
          "execution_count": 10,
          "metadata": {},
          "output_type": "execute_result"
        }
      ],
      "source": [
        "df['gender'].value_counts()"
      ]
    },
    {
      "cell_type": "code",
      "execution_count": null,
      "metadata": {
        "id": "nGF9PwYpv43Y"
      },
      "outputs": [],
      "source": [
        "from sklearn import preprocessing"
      ]
    },
    {
      "cell_type": "code",
      "execution_count": null,
      "metadata": {
        "colab": {
          "base_uri": "https://localhost:8080/",
          "height": 206
        },
        "id": "RXJt3Gefv7c4",
        "outputId": "dddf2844-d62f-4842-db47-bdaaadae9032"
      },
      "outputs": [
        {
          "data": {
            "text/html": [
              "\n",
              "  <div id=\"df-e8661b6c-4f54-4092-b65b-5766dc125938\">\n",
              "    <div class=\"colab-df-container\">\n",
              "      <div>\n",
              "<style scoped>\n",
              "    .dataframe tbody tr th:only-of-type {\n",
              "        vertical-align: middle;\n",
              "    }\n",
              "\n",
              "    .dataframe tbody tr th {\n",
              "        vertical-align: top;\n",
              "    }\n",
              "\n",
              "    .dataframe thead th {\n",
              "        text-align: right;\n",
              "    }\n",
              "</style>\n",
              "<table border=\"1\" class=\"dataframe\">\n",
              "  <thead>\n",
              "    <tr style=\"text-align: right;\">\n",
              "      <th></th>\n",
              "      <th>gender</th>\n",
              "      <th>age</th>\n",
              "      <th>hypertension</th>\n",
              "      <th>heart_disease</th>\n",
              "      <th>ever_married</th>\n",
              "      <th>work_type</th>\n",
              "      <th>Residence_type</th>\n",
              "      <th>avg_glucose_level</th>\n",
              "      <th>bmi</th>\n",
              "      <th>smoking_status</th>\n",
              "      <th>stroke</th>\n",
              "    </tr>\n",
              "  </thead>\n",
              "  <tbody>\n",
              "    <tr>\n",
              "      <th>0</th>\n",
              "      <td>1</td>\n",
              "      <td>67.0</td>\n",
              "      <td>0</td>\n",
              "      <td>1</td>\n",
              "      <td>Yes</td>\n",
              "      <td>Private</td>\n",
              "      <td>Urban</td>\n",
              "      <td>228.69</td>\n",
              "      <td>36.6</td>\n",
              "      <td>formerly smoked</td>\n",
              "      <td>1</td>\n",
              "    </tr>\n",
              "    <tr>\n",
              "      <th>1</th>\n",
              "      <td>0</td>\n",
              "      <td>61.0</td>\n",
              "      <td>0</td>\n",
              "      <td>0</td>\n",
              "      <td>Yes</td>\n",
              "      <td>Self-employed</td>\n",
              "      <td>Rural</td>\n",
              "      <td>202.21</td>\n",
              "      <td>28.9</td>\n",
              "      <td>never smoked</td>\n",
              "      <td>1</td>\n",
              "    </tr>\n",
              "    <tr>\n",
              "      <th>2</th>\n",
              "      <td>1</td>\n",
              "      <td>80.0</td>\n",
              "      <td>0</td>\n",
              "      <td>1</td>\n",
              "      <td>Yes</td>\n",
              "      <td>Private</td>\n",
              "      <td>Rural</td>\n",
              "      <td>105.92</td>\n",
              "      <td>32.5</td>\n",
              "      <td>never smoked</td>\n",
              "      <td>1</td>\n",
              "    </tr>\n",
              "    <tr>\n",
              "      <th>3</th>\n",
              "      <td>0</td>\n",
              "      <td>49.0</td>\n",
              "      <td>0</td>\n",
              "      <td>0</td>\n",
              "      <td>Yes</td>\n",
              "      <td>Private</td>\n",
              "      <td>Urban</td>\n",
              "      <td>171.23</td>\n",
              "      <td>34.4</td>\n",
              "      <td>smokes</td>\n",
              "      <td>1</td>\n",
              "    </tr>\n",
              "    <tr>\n",
              "      <th>4</th>\n",
              "      <td>0</td>\n",
              "      <td>79.0</td>\n",
              "      <td>1</td>\n",
              "      <td>0</td>\n",
              "      <td>Yes</td>\n",
              "      <td>Self-employed</td>\n",
              "      <td>Rural</td>\n",
              "      <td>174.12</td>\n",
              "      <td>24.0</td>\n",
              "      <td>never smoked</td>\n",
              "      <td>1</td>\n",
              "    </tr>\n",
              "  </tbody>\n",
              "</table>\n",
              "</div>\n",
              "      <button class=\"colab-df-convert\" onclick=\"convertToInteractive('df-e8661b6c-4f54-4092-b65b-5766dc125938')\"\n",
              "              title=\"Convert this dataframe to an interactive table.\"\n",
              "              style=\"display:none;\">\n",
              "        \n",
              "  <svg xmlns=\"http://www.w3.org/2000/svg\" height=\"24px\"viewBox=\"0 0 24 24\"\n",
              "       width=\"24px\">\n",
              "    <path d=\"M0 0h24v24H0V0z\" fill=\"none\"/>\n",
              "    <path d=\"M18.56 5.44l.94 2.06.94-2.06 2.06-.94-2.06-.94-.94-2.06-.94 2.06-2.06.94zm-11 1L8.5 8.5l.94-2.06 2.06-.94-2.06-.94L8.5 2.5l-.94 2.06-2.06.94zm10 10l.94 2.06.94-2.06 2.06-.94-2.06-.94-.94-2.06-.94 2.06-2.06.94z\"/><path d=\"M17.41 7.96l-1.37-1.37c-.4-.4-.92-.59-1.43-.59-.52 0-1.04.2-1.43.59L10.3 9.45l-7.72 7.72c-.78.78-.78 2.05 0 2.83L4 21.41c.39.39.9.59 1.41.59.51 0 1.02-.2 1.41-.59l7.78-7.78 2.81-2.81c.8-.78.8-2.07 0-2.86zM5.41 20L4 18.59l7.72-7.72 1.47 1.35L5.41 20z\"/>\n",
              "  </svg>\n",
              "      </button>\n",
              "      \n",
              "  <style>\n",
              "    .colab-df-container {\n",
              "      display:flex;\n",
              "      flex-wrap:wrap;\n",
              "      gap: 12px;\n",
              "    }\n",
              "\n",
              "    .colab-df-convert {\n",
              "      background-color: #E8F0FE;\n",
              "      border: none;\n",
              "      border-radius: 50%;\n",
              "      cursor: pointer;\n",
              "      display: none;\n",
              "      fill: #1967D2;\n",
              "      height: 32px;\n",
              "      padding: 0 0 0 0;\n",
              "      width: 32px;\n",
              "    }\n",
              "\n",
              "    .colab-df-convert:hover {\n",
              "      background-color: #E2EBFA;\n",
              "      box-shadow: 0px 1px 2px rgba(60, 64, 67, 0.3), 0px 1px 3px 1px rgba(60, 64, 67, 0.15);\n",
              "      fill: #174EA6;\n",
              "    }\n",
              "\n",
              "    [theme=dark] .colab-df-convert {\n",
              "      background-color: #3B4455;\n",
              "      fill: #D2E3FC;\n",
              "    }\n",
              "\n",
              "    [theme=dark] .colab-df-convert:hover {\n",
              "      background-color: #434B5C;\n",
              "      box-shadow: 0px 1px 3px 1px rgba(0, 0, 0, 0.15);\n",
              "      filter: drop-shadow(0px 1px 2px rgba(0, 0, 0, 0.3));\n",
              "      fill: #FFFFFF;\n",
              "    }\n",
              "  </style>\n",
              "\n",
              "      <script>\n",
              "        const buttonEl =\n",
              "          document.querySelector('#df-e8661b6c-4f54-4092-b65b-5766dc125938 button.colab-df-convert');\n",
              "        buttonEl.style.display =\n",
              "          google.colab.kernel.accessAllowed ? 'block' : 'none';\n",
              "\n",
              "        async function convertToInteractive(key) {\n",
              "          const element = document.querySelector('#df-e8661b6c-4f54-4092-b65b-5766dc125938');\n",
              "          const dataTable =\n",
              "            await google.colab.kernel.invokeFunction('convertToInteractive',\n",
              "                                                     [key], {});\n",
              "          if (!dataTable) return;\n",
              "\n",
              "          const docLinkHtml = 'Like what you see? Visit the ' +\n",
              "            '<a target=\"_blank\" href=https://colab.research.google.com/notebooks/data_table.ipynb>data table notebook</a>'\n",
              "            + ' to learn more about interactive tables.';\n",
              "          element.innerHTML = '';\n",
              "          dataTable['output_type'] = 'display_data';\n",
              "          await google.colab.output.renderOutput(dataTable, element);\n",
              "          const docLink = document.createElement('div');\n",
              "          docLink.innerHTML = docLinkHtml;\n",
              "          element.appendChild(docLink);\n",
              "        }\n",
              "      </script>\n",
              "    </div>\n",
              "  </div>\n",
              "  "
            ],
            "text/plain": [
              "   gender   age  hypertension  heart_disease ever_married      work_type  \\\n",
              "0       1  67.0             0              1          Yes        Private   \n",
              "1       0  61.0             0              0          Yes  Self-employed   \n",
              "2       1  80.0             0              1          Yes        Private   \n",
              "3       0  49.0             0              0          Yes        Private   \n",
              "4       0  79.0             1              0          Yes  Self-employed   \n",
              "\n",
              "  Residence_type  avg_glucose_level   bmi   smoking_status  stroke  \n",
              "0          Urban             228.69  36.6  formerly smoked       1  \n",
              "1          Rural             202.21  28.9     never smoked       1  \n",
              "2          Rural             105.92  32.5     never smoked       1  \n",
              "3          Urban             171.23  34.4           smokes       1  \n",
              "4          Rural             174.12  24.0     never smoked       1  "
            ]
          },
          "execution_count": 12,
          "metadata": {},
          "output_type": "execute_result"
        }
      ],
      "source": [
        "label_encoder = preprocessing.LabelEncoder()\n",
        "\n",
        "df['gender'] = label_encoder.fit_transform(df['gender'])\n",
        "df.head()"
      ]
    },
    {
      "cell_type": "code",
      "execution_count": null,
      "metadata": {
        "colab": {
          "base_uri": "https://localhost:8080/"
        },
        "id": "Voeym6Div_ok",
        "outputId": "cb3381b3-167d-4abc-e8d1-d3af680a3aed"
      },
      "outputs": [
        {
          "data": {
            "text/plain": [
              "0    2994\n",
              "1    2115\n",
              "2       1\n",
              "Name: gender, dtype: int64"
            ]
          },
          "execution_count": 13,
          "metadata": {},
          "output_type": "execute_result"
        }
      ],
      "source": [
        "df['gender'].value_counts()"
      ]
    },
    {
      "cell_type": "code",
      "execution_count": null,
      "metadata": {
        "colab": {
          "base_uri": "https://localhost:8080/"
        },
        "id": "ZICk4atRwD_n",
        "outputId": "75815800-a7f0-48aa-8db8-99fea4b6a185"
      },
      "outputs": [
        {
          "data": {
            "text/plain": [
              "Yes    3353\n",
              "No     1757\n",
              "Name: ever_married, dtype: int64"
            ]
          },
          "execution_count": 14,
          "metadata": {},
          "output_type": "execute_result"
        }
      ],
      "source": [
        "df['ever_married'].value_counts()"
      ]
    },
    {
      "cell_type": "code",
      "execution_count": null,
      "metadata": {
        "colab": {
          "base_uri": "https://localhost:8080/",
          "height": 206
        },
        "id": "vJFyIURrwIxq",
        "outputId": "b9a51435-584e-407d-eaa5-4f5386190d7e"
      },
      "outputs": [
        {
          "data": {
            "text/html": [
              "\n",
              "  <div id=\"df-7b53ce21-54b2-4302-ac53-9bfab256028f\">\n",
              "    <div class=\"colab-df-container\">\n",
              "      <div>\n",
              "<style scoped>\n",
              "    .dataframe tbody tr th:only-of-type {\n",
              "        vertical-align: middle;\n",
              "    }\n",
              "\n",
              "    .dataframe tbody tr th {\n",
              "        vertical-align: top;\n",
              "    }\n",
              "\n",
              "    .dataframe thead th {\n",
              "        text-align: right;\n",
              "    }\n",
              "</style>\n",
              "<table border=\"1\" class=\"dataframe\">\n",
              "  <thead>\n",
              "    <tr style=\"text-align: right;\">\n",
              "      <th></th>\n",
              "      <th>gender</th>\n",
              "      <th>age</th>\n",
              "      <th>hypertension</th>\n",
              "      <th>heart_disease</th>\n",
              "      <th>ever_married</th>\n",
              "      <th>work_type</th>\n",
              "      <th>Residence_type</th>\n",
              "      <th>avg_glucose_level</th>\n",
              "      <th>bmi</th>\n",
              "      <th>smoking_status</th>\n",
              "      <th>stroke</th>\n",
              "    </tr>\n",
              "  </thead>\n",
              "  <tbody>\n",
              "    <tr>\n",
              "      <th>0</th>\n",
              "      <td>1</td>\n",
              "      <td>67.0</td>\n",
              "      <td>0</td>\n",
              "      <td>1</td>\n",
              "      <td>1</td>\n",
              "      <td>Private</td>\n",
              "      <td>Urban</td>\n",
              "      <td>228.69</td>\n",
              "      <td>36.6</td>\n",
              "      <td>formerly smoked</td>\n",
              "      <td>1</td>\n",
              "    </tr>\n",
              "    <tr>\n",
              "      <th>1</th>\n",
              "      <td>0</td>\n",
              "      <td>61.0</td>\n",
              "      <td>0</td>\n",
              "      <td>0</td>\n",
              "      <td>1</td>\n",
              "      <td>Self-employed</td>\n",
              "      <td>Rural</td>\n",
              "      <td>202.21</td>\n",
              "      <td>28.9</td>\n",
              "      <td>never smoked</td>\n",
              "      <td>1</td>\n",
              "    </tr>\n",
              "    <tr>\n",
              "      <th>2</th>\n",
              "      <td>1</td>\n",
              "      <td>80.0</td>\n",
              "      <td>0</td>\n",
              "      <td>1</td>\n",
              "      <td>1</td>\n",
              "      <td>Private</td>\n",
              "      <td>Rural</td>\n",
              "      <td>105.92</td>\n",
              "      <td>32.5</td>\n",
              "      <td>never smoked</td>\n",
              "      <td>1</td>\n",
              "    </tr>\n",
              "    <tr>\n",
              "      <th>3</th>\n",
              "      <td>0</td>\n",
              "      <td>49.0</td>\n",
              "      <td>0</td>\n",
              "      <td>0</td>\n",
              "      <td>1</td>\n",
              "      <td>Private</td>\n",
              "      <td>Urban</td>\n",
              "      <td>171.23</td>\n",
              "      <td>34.4</td>\n",
              "      <td>smokes</td>\n",
              "      <td>1</td>\n",
              "    </tr>\n",
              "    <tr>\n",
              "      <th>4</th>\n",
              "      <td>0</td>\n",
              "      <td>79.0</td>\n",
              "      <td>1</td>\n",
              "      <td>0</td>\n",
              "      <td>1</td>\n",
              "      <td>Self-employed</td>\n",
              "      <td>Rural</td>\n",
              "      <td>174.12</td>\n",
              "      <td>24.0</td>\n",
              "      <td>never smoked</td>\n",
              "      <td>1</td>\n",
              "    </tr>\n",
              "  </tbody>\n",
              "</table>\n",
              "</div>\n",
              "      <button class=\"colab-df-convert\" onclick=\"convertToInteractive('df-7b53ce21-54b2-4302-ac53-9bfab256028f')\"\n",
              "              title=\"Convert this dataframe to an interactive table.\"\n",
              "              style=\"display:none;\">\n",
              "        \n",
              "  <svg xmlns=\"http://www.w3.org/2000/svg\" height=\"24px\"viewBox=\"0 0 24 24\"\n",
              "       width=\"24px\">\n",
              "    <path d=\"M0 0h24v24H0V0z\" fill=\"none\"/>\n",
              "    <path d=\"M18.56 5.44l.94 2.06.94-2.06 2.06-.94-2.06-.94-.94-2.06-.94 2.06-2.06.94zm-11 1L8.5 8.5l.94-2.06 2.06-.94-2.06-.94L8.5 2.5l-.94 2.06-2.06.94zm10 10l.94 2.06.94-2.06 2.06-.94-2.06-.94-.94-2.06-.94 2.06-2.06.94z\"/><path d=\"M17.41 7.96l-1.37-1.37c-.4-.4-.92-.59-1.43-.59-.52 0-1.04.2-1.43.59L10.3 9.45l-7.72 7.72c-.78.78-.78 2.05 0 2.83L4 21.41c.39.39.9.59 1.41.59.51 0 1.02-.2 1.41-.59l7.78-7.78 2.81-2.81c.8-.78.8-2.07 0-2.86zM5.41 20L4 18.59l7.72-7.72 1.47 1.35L5.41 20z\"/>\n",
              "  </svg>\n",
              "      </button>\n",
              "      \n",
              "  <style>\n",
              "    .colab-df-container {\n",
              "      display:flex;\n",
              "      flex-wrap:wrap;\n",
              "      gap: 12px;\n",
              "    }\n",
              "\n",
              "    .colab-df-convert {\n",
              "      background-color: #E8F0FE;\n",
              "      border: none;\n",
              "      border-radius: 50%;\n",
              "      cursor: pointer;\n",
              "      display: none;\n",
              "      fill: #1967D2;\n",
              "      height: 32px;\n",
              "      padding: 0 0 0 0;\n",
              "      width: 32px;\n",
              "    }\n",
              "\n",
              "    .colab-df-convert:hover {\n",
              "      background-color: #E2EBFA;\n",
              "      box-shadow: 0px 1px 2px rgba(60, 64, 67, 0.3), 0px 1px 3px 1px rgba(60, 64, 67, 0.15);\n",
              "      fill: #174EA6;\n",
              "    }\n",
              "\n",
              "    [theme=dark] .colab-df-convert {\n",
              "      background-color: #3B4455;\n",
              "      fill: #D2E3FC;\n",
              "    }\n",
              "\n",
              "    [theme=dark] .colab-df-convert:hover {\n",
              "      background-color: #434B5C;\n",
              "      box-shadow: 0px 1px 3px 1px rgba(0, 0, 0, 0.15);\n",
              "      filter: drop-shadow(0px 1px 2px rgba(0, 0, 0, 0.3));\n",
              "      fill: #FFFFFF;\n",
              "    }\n",
              "  </style>\n",
              "\n",
              "      <script>\n",
              "        const buttonEl =\n",
              "          document.querySelector('#df-7b53ce21-54b2-4302-ac53-9bfab256028f button.colab-df-convert');\n",
              "        buttonEl.style.display =\n",
              "          google.colab.kernel.accessAllowed ? 'block' : 'none';\n",
              "\n",
              "        async function convertToInteractive(key) {\n",
              "          const element = document.querySelector('#df-7b53ce21-54b2-4302-ac53-9bfab256028f');\n",
              "          const dataTable =\n",
              "            await google.colab.kernel.invokeFunction('convertToInteractive',\n",
              "                                                     [key], {});\n",
              "          if (!dataTable) return;\n",
              "\n",
              "          const docLinkHtml = 'Like what you see? Visit the ' +\n",
              "            '<a target=\"_blank\" href=https://colab.research.google.com/notebooks/data_table.ipynb>data table notebook</a>'\n",
              "            + ' to learn more about interactive tables.';\n",
              "          element.innerHTML = '';\n",
              "          dataTable['output_type'] = 'display_data';\n",
              "          await google.colab.output.renderOutput(dataTable, element);\n",
              "          const docLink = document.createElement('div');\n",
              "          docLink.innerHTML = docLinkHtml;\n",
              "          element.appendChild(docLink);\n",
              "        }\n",
              "      </script>\n",
              "    </div>\n",
              "  </div>\n",
              "  "
            ],
            "text/plain": [
              "   gender   age  hypertension  heart_disease  ever_married      work_type  \\\n",
              "0       1  67.0             0              1             1        Private   \n",
              "1       0  61.0             0              0             1  Self-employed   \n",
              "2       1  80.0             0              1             1        Private   \n",
              "3       0  49.0             0              0             1        Private   \n",
              "4       0  79.0             1              0             1  Self-employed   \n",
              "\n",
              "  Residence_type  avg_glucose_level   bmi   smoking_status  stroke  \n",
              "0          Urban             228.69  36.6  formerly smoked       1  \n",
              "1          Rural             202.21  28.9     never smoked       1  \n",
              "2          Rural             105.92  32.5     never smoked       1  \n",
              "3          Urban             171.23  34.4           smokes       1  \n",
              "4          Rural             174.12  24.0     never smoked       1  "
            ]
          },
          "execution_count": 15,
          "metadata": {},
          "output_type": "execute_result"
        }
      ],
      "source": [
        "df['ever_married'] = label_encoder.fit_transform(df['ever_married'])\n",
        "df.head()"
      ]
    },
    {
      "cell_type": "code",
      "execution_count": null,
      "metadata": {
        "colab": {
          "base_uri": "https://localhost:8080/"
        },
        "id": "jxkDzaO8wLvU",
        "outputId": "fbb51336-f761-4283-fe21-545b877e2f52"
      },
      "outputs": [
        {
          "data": {
            "text/plain": [
              "1    3353\n",
              "0    1757\n",
              "Name: ever_married, dtype: int64"
            ]
          },
          "execution_count": 16,
          "metadata": {},
          "output_type": "execute_result"
        }
      ],
      "source": [
        "df['ever_married'].value_counts()"
      ]
    },
    {
      "cell_type": "code",
      "execution_count": null,
      "metadata": {
        "colab": {
          "base_uri": "https://localhost:8080/"
        },
        "id": "mvr8CT_6wNYd",
        "outputId": "4ee6e1d5-6481-4486-9808-d97aaf1f02a9"
      },
      "outputs": [
        {
          "data": {
            "text/plain": [
              "Urban    2596\n",
              "Rural    2514\n",
              "Name: Residence_type, dtype: int64"
            ]
          },
          "execution_count": 17,
          "metadata": {},
          "output_type": "execute_result"
        }
      ],
      "source": [
        "df['Residence_type'].value_counts()"
      ]
    },
    {
      "cell_type": "code",
      "execution_count": null,
      "metadata": {
        "colab": {
          "base_uri": "https://localhost:8080/",
          "height": 206
        },
        "id": "nVvtiN4fwRoS",
        "outputId": "1769b199-eb8e-4d1b-cd1a-c27b028a4336"
      },
      "outputs": [
        {
          "data": {
            "text/html": [
              "\n",
              "  <div id=\"df-ae569798-3c98-4341-bf8d-3d5c7f8f5035\">\n",
              "    <div class=\"colab-df-container\">\n",
              "      <div>\n",
              "<style scoped>\n",
              "    .dataframe tbody tr th:only-of-type {\n",
              "        vertical-align: middle;\n",
              "    }\n",
              "\n",
              "    .dataframe tbody tr th {\n",
              "        vertical-align: top;\n",
              "    }\n",
              "\n",
              "    .dataframe thead th {\n",
              "        text-align: right;\n",
              "    }\n",
              "</style>\n",
              "<table border=\"1\" class=\"dataframe\">\n",
              "  <thead>\n",
              "    <tr style=\"text-align: right;\">\n",
              "      <th></th>\n",
              "      <th>gender</th>\n",
              "      <th>age</th>\n",
              "      <th>hypertension</th>\n",
              "      <th>heart_disease</th>\n",
              "      <th>ever_married</th>\n",
              "      <th>work_type</th>\n",
              "      <th>Residence_type</th>\n",
              "      <th>avg_glucose_level</th>\n",
              "      <th>bmi</th>\n",
              "      <th>smoking_status</th>\n",
              "      <th>stroke</th>\n",
              "    </tr>\n",
              "  </thead>\n",
              "  <tbody>\n",
              "    <tr>\n",
              "      <th>0</th>\n",
              "      <td>1</td>\n",
              "      <td>67.0</td>\n",
              "      <td>0</td>\n",
              "      <td>1</td>\n",
              "      <td>1</td>\n",
              "      <td>Private</td>\n",
              "      <td>1</td>\n",
              "      <td>228.69</td>\n",
              "      <td>36.6</td>\n",
              "      <td>formerly smoked</td>\n",
              "      <td>1</td>\n",
              "    </tr>\n",
              "    <tr>\n",
              "      <th>1</th>\n",
              "      <td>0</td>\n",
              "      <td>61.0</td>\n",
              "      <td>0</td>\n",
              "      <td>0</td>\n",
              "      <td>1</td>\n",
              "      <td>Self-employed</td>\n",
              "      <td>0</td>\n",
              "      <td>202.21</td>\n",
              "      <td>28.9</td>\n",
              "      <td>never smoked</td>\n",
              "      <td>1</td>\n",
              "    </tr>\n",
              "    <tr>\n",
              "      <th>2</th>\n",
              "      <td>1</td>\n",
              "      <td>80.0</td>\n",
              "      <td>0</td>\n",
              "      <td>1</td>\n",
              "      <td>1</td>\n",
              "      <td>Private</td>\n",
              "      <td>0</td>\n",
              "      <td>105.92</td>\n",
              "      <td>32.5</td>\n",
              "      <td>never smoked</td>\n",
              "      <td>1</td>\n",
              "    </tr>\n",
              "    <tr>\n",
              "      <th>3</th>\n",
              "      <td>0</td>\n",
              "      <td>49.0</td>\n",
              "      <td>0</td>\n",
              "      <td>0</td>\n",
              "      <td>1</td>\n",
              "      <td>Private</td>\n",
              "      <td>1</td>\n",
              "      <td>171.23</td>\n",
              "      <td>34.4</td>\n",
              "      <td>smokes</td>\n",
              "      <td>1</td>\n",
              "    </tr>\n",
              "    <tr>\n",
              "      <th>4</th>\n",
              "      <td>0</td>\n",
              "      <td>79.0</td>\n",
              "      <td>1</td>\n",
              "      <td>0</td>\n",
              "      <td>1</td>\n",
              "      <td>Self-employed</td>\n",
              "      <td>0</td>\n",
              "      <td>174.12</td>\n",
              "      <td>24.0</td>\n",
              "      <td>never smoked</td>\n",
              "      <td>1</td>\n",
              "    </tr>\n",
              "  </tbody>\n",
              "</table>\n",
              "</div>\n",
              "      <button class=\"colab-df-convert\" onclick=\"convertToInteractive('df-ae569798-3c98-4341-bf8d-3d5c7f8f5035')\"\n",
              "              title=\"Convert this dataframe to an interactive table.\"\n",
              "              style=\"display:none;\">\n",
              "        \n",
              "  <svg xmlns=\"http://www.w3.org/2000/svg\" height=\"24px\"viewBox=\"0 0 24 24\"\n",
              "       width=\"24px\">\n",
              "    <path d=\"M0 0h24v24H0V0z\" fill=\"none\"/>\n",
              "    <path d=\"M18.56 5.44l.94 2.06.94-2.06 2.06-.94-2.06-.94-.94-2.06-.94 2.06-2.06.94zm-11 1L8.5 8.5l.94-2.06 2.06-.94-2.06-.94L8.5 2.5l-.94 2.06-2.06.94zm10 10l.94 2.06.94-2.06 2.06-.94-2.06-.94-.94-2.06-.94 2.06-2.06.94z\"/><path d=\"M17.41 7.96l-1.37-1.37c-.4-.4-.92-.59-1.43-.59-.52 0-1.04.2-1.43.59L10.3 9.45l-7.72 7.72c-.78.78-.78 2.05 0 2.83L4 21.41c.39.39.9.59 1.41.59.51 0 1.02-.2 1.41-.59l7.78-7.78 2.81-2.81c.8-.78.8-2.07 0-2.86zM5.41 20L4 18.59l7.72-7.72 1.47 1.35L5.41 20z\"/>\n",
              "  </svg>\n",
              "      </button>\n",
              "      \n",
              "  <style>\n",
              "    .colab-df-container {\n",
              "      display:flex;\n",
              "      flex-wrap:wrap;\n",
              "      gap: 12px;\n",
              "    }\n",
              "\n",
              "    .colab-df-convert {\n",
              "      background-color: #E8F0FE;\n",
              "      border: none;\n",
              "      border-radius: 50%;\n",
              "      cursor: pointer;\n",
              "      display: none;\n",
              "      fill: #1967D2;\n",
              "      height: 32px;\n",
              "      padding: 0 0 0 0;\n",
              "      width: 32px;\n",
              "    }\n",
              "\n",
              "    .colab-df-convert:hover {\n",
              "      background-color: #E2EBFA;\n",
              "      box-shadow: 0px 1px 2px rgba(60, 64, 67, 0.3), 0px 1px 3px 1px rgba(60, 64, 67, 0.15);\n",
              "      fill: #174EA6;\n",
              "    }\n",
              "\n",
              "    [theme=dark] .colab-df-convert {\n",
              "      background-color: #3B4455;\n",
              "      fill: #D2E3FC;\n",
              "    }\n",
              "\n",
              "    [theme=dark] .colab-df-convert:hover {\n",
              "      background-color: #434B5C;\n",
              "      box-shadow: 0px 1px 3px 1px rgba(0, 0, 0, 0.15);\n",
              "      filter: drop-shadow(0px 1px 2px rgba(0, 0, 0, 0.3));\n",
              "      fill: #FFFFFF;\n",
              "    }\n",
              "  </style>\n",
              "\n",
              "      <script>\n",
              "        const buttonEl =\n",
              "          document.querySelector('#df-ae569798-3c98-4341-bf8d-3d5c7f8f5035 button.colab-df-convert');\n",
              "        buttonEl.style.display =\n",
              "          google.colab.kernel.accessAllowed ? 'block' : 'none';\n",
              "\n",
              "        async function convertToInteractive(key) {\n",
              "          const element = document.querySelector('#df-ae569798-3c98-4341-bf8d-3d5c7f8f5035');\n",
              "          const dataTable =\n",
              "            await google.colab.kernel.invokeFunction('convertToInteractive',\n",
              "                                                     [key], {});\n",
              "          if (!dataTable) return;\n",
              "\n",
              "          const docLinkHtml = 'Like what you see? Visit the ' +\n",
              "            '<a target=\"_blank\" href=https://colab.research.google.com/notebooks/data_table.ipynb>data table notebook</a>'\n",
              "            + ' to learn more about interactive tables.';\n",
              "          element.innerHTML = '';\n",
              "          dataTable['output_type'] = 'display_data';\n",
              "          await google.colab.output.renderOutput(dataTable, element);\n",
              "          const docLink = document.createElement('div');\n",
              "          docLink.innerHTML = docLinkHtml;\n",
              "          element.appendChild(docLink);\n",
              "        }\n",
              "      </script>\n",
              "    </div>\n",
              "  </div>\n",
              "  "
            ],
            "text/plain": [
              "   gender   age  hypertension  heart_disease  ever_married      work_type  \\\n",
              "0       1  67.0             0              1             1        Private   \n",
              "1       0  61.0             0              0             1  Self-employed   \n",
              "2       1  80.0             0              1             1        Private   \n",
              "3       0  49.0             0              0             1        Private   \n",
              "4       0  79.0             1              0             1  Self-employed   \n",
              "\n",
              "   Residence_type  avg_glucose_level   bmi   smoking_status  stroke  \n",
              "0               1             228.69  36.6  formerly smoked       1  \n",
              "1               0             202.21  28.9     never smoked       1  \n",
              "2               0             105.92  32.5     never smoked       1  \n",
              "3               1             171.23  34.4           smokes       1  \n",
              "4               0             174.12  24.0     never smoked       1  "
            ]
          },
          "execution_count": 18,
          "metadata": {},
          "output_type": "execute_result"
        }
      ],
      "source": [
        "df['Residence_type'] = label_encoder.fit_transform(df['Residence_type'])\n",
        "df.head()"
      ]
    },
    {
      "cell_type": "code",
      "execution_count": null,
      "metadata": {
        "colab": {
          "base_uri": "https://localhost:8080/"
        },
        "id": "pH8CBV-ywe0D",
        "outputId": "759a1105-1443-43f2-93c9-baa8e3073c9e"
      },
      "outputs": [
        {
          "data": {
            "text/plain": [
              "1    2596\n",
              "0    2514\n",
              "Name: Residence_type, dtype: int64"
            ]
          },
          "execution_count": 19,
          "metadata": {},
          "output_type": "execute_result"
        }
      ],
      "source": [
        "df['Residence_type'].value_counts()"
      ]
    },
    {
      "cell_type": "code",
      "execution_count": null,
      "metadata": {
        "colab": {
          "base_uri": "https://localhost:8080/"
        },
        "id": "iX-IH6Qowg8S",
        "outputId": "6eb1eae8-2f9c-465c-9bf9-71fe9cc1fc90"
      },
      "outputs": [
        {
          "data": {
            "text/plain": [
              "never smoked       1892\n",
              "Unknown            1544\n",
              "formerly smoked     885\n",
              "smokes              789\n",
              "Name: smoking_status, dtype: int64"
            ]
          },
          "execution_count": 20,
          "metadata": {},
          "output_type": "execute_result"
        }
      ],
      "source": [
        "df['smoking_status'].value_counts()"
      ]
    },
    {
      "cell_type": "code",
      "execution_count": null,
      "metadata": {
        "colab": {
          "base_uri": "https://localhost:8080/",
          "height": 206
        },
        "id": "kR6iY9dy0Umf",
        "outputId": "8af108c4-daaa-43f3-e924-0b3abc936b0a"
      },
      "outputs": [
        {
          "data": {
            "text/html": [
              "\n",
              "  <div id=\"df-822621cb-c89c-493c-9b9d-d30a8a54f556\">\n",
              "    <div class=\"colab-df-container\">\n",
              "      <div>\n",
              "<style scoped>\n",
              "    .dataframe tbody tr th:only-of-type {\n",
              "        vertical-align: middle;\n",
              "    }\n",
              "\n",
              "    .dataframe tbody tr th {\n",
              "        vertical-align: top;\n",
              "    }\n",
              "\n",
              "    .dataframe thead th {\n",
              "        text-align: right;\n",
              "    }\n",
              "</style>\n",
              "<table border=\"1\" class=\"dataframe\">\n",
              "  <thead>\n",
              "    <tr style=\"text-align: right;\">\n",
              "      <th></th>\n",
              "      <th>gender</th>\n",
              "      <th>age</th>\n",
              "      <th>hypertension</th>\n",
              "      <th>heart_disease</th>\n",
              "      <th>ever_married</th>\n",
              "      <th>work_type</th>\n",
              "      <th>Residence_type</th>\n",
              "      <th>avg_glucose_level</th>\n",
              "      <th>bmi</th>\n",
              "      <th>smoking_status</th>\n",
              "      <th>stroke</th>\n",
              "    </tr>\n",
              "  </thead>\n",
              "  <tbody>\n",
              "    <tr>\n",
              "      <th>0</th>\n",
              "      <td>1</td>\n",
              "      <td>67.0</td>\n",
              "      <td>0</td>\n",
              "      <td>1</td>\n",
              "      <td>1</td>\n",
              "      <td>Private</td>\n",
              "      <td>1</td>\n",
              "      <td>228.69</td>\n",
              "      <td>36.6</td>\n",
              "      <td>1</td>\n",
              "      <td>1</td>\n",
              "    </tr>\n",
              "    <tr>\n",
              "      <th>1</th>\n",
              "      <td>0</td>\n",
              "      <td>61.0</td>\n",
              "      <td>0</td>\n",
              "      <td>0</td>\n",
              "      <td>1</td>\n",
              "      <td>Self-employed</td>\n",
              "      <td>0</td>\n",
              "      <td>202.21</td>\n",
              "      <td>28.9</td>\n",
              "      <td>2</td>\n",
              "      <td>1</td>\n",
              "    </tr>\n",
              "    <tr>\n",
              "      <th>2</th>\n",
              "      <td>1</td>\n",
              "      <td>80.0</td>\n",
              "      <td>0</td>\n",
              "      <td>1</td>\n",
              "      <td>1</td>\n",
              "      <td>Private</td>\n",
              "      <td>0</td>\n",
              "      <td>105.92</td>\n",
              "      <td>32.5</td>\n",
              "      <td>2</td>\n",
              "      <td>1</td>\n",
              "    </tr>\n",
              "    <tr>\n",
              "      <th>3</th>\n",
              "      <td>0</td>\n",
              "      <td>49.0</td>\n",
              "      <td>0</td>\n",
              "      <td>0</td>\n",
              "      <td>1</td>\n",
              "      <td>Private</td>\n",
              "      <td>1</td>\n",
              "      <td>171.23</td>\n",
              "      <td>34.4</td>\n",
              "      <td>3</td>\n",
              "      <td>1</td>\n",
              "    </tr>\n",
              "    <tr>\n",
              "      <th>4</th>\n",
              "      <td>0</td>\n",
              "      <td>79.0</td>\n",
              "      <td>1</td>\n",
              "      <td>0</td>\n",
              "      <td>1</td>\n",
              "      <td>Self-employed</td>\n",
              "      <td>0</td>\n",
              "      <td>174.12</td>\n",
              "      <td>24.0</td>\n",
              "      <td>2</td>\n",
              "      <td>1</td>\n",
              "    </tr>\n",
              "  </tbody>\n",
              "</table>\n",
              "</div>\n",
              "      <button class=\"colab-df-convert\" onclick=\"convertToInteractive('df-822621cb-c89c-493c-9b9d-d30a8a54f556')\"\n",
              "              title=\"Convert this dataframe to an interactive table.\"\n",
              "              style=\"display:none;\">\n",
              "        \n",
              "  <svg xmlns=\"http://www.w3.org/2000/svg\" height=\"24px\"viewBox=\"0 0 24 24\"\n",
              "       width=\"24px\">\n",
              "    <path d=\"M0 0h24v24H0V0z\" fill=\"none\"/>\n",
              "    <path d=\"M18.56 5.44l.94 2.06.94-2.06 2.06-.94-2.06-.94-.94-2.06-.94 2.06-2.06.94zm-11 1L8.5 8.5l.94-2.06 2.06-.94-2.06-.94L8.5 2.5l-.94 2.06-2.06.94zm10 10l.94 2.06.94-2.06 2.06-.94-2.06-.94-.94-2.06-.94 2.06-2.06.94z\"/><path d=\"M17.41 7.96l-1.37-1.37c-.4-.4-.92-.59-1.43-.59-.52 0-1.04.2-1.43.59L10.3 9.45l-7.72 7.72c-.78.78-.78 2.05 0 2.83L4 21.41c.39.39.9.59 1.41.59.51 0 1.02-.2 1.41-.59l7.78-7.78 2.81-2.81c.8-.78.8-2.07 0-2.86zM5.41 20L4 18.59l7.72-7.72 1.47 1.35L5.41 20z\"/>\n",
              "  </svg>\n",
              "      </button>\n",
              "      \n",
              "  <style>\n",
              "    .colab-df-container {\n",
              "      display:flex;\n",
              "      flex-wrap:wrap;\n",
              "      gap: 12px;\n",
              "    }\n",
              "\n",
              "    .colab-df-convert {\n",
              "      background-color: #E8F0FE;\n",
              "      border: none;\n",
              "      border-radius: 50%;\n",
              "      cursor: pointer;\n",
              "      display: none;\n",
              "      fill: #1967D2;\n",
              "      height: 32px;\n",
              "      padding: 0 0 0 0;\n",
              "      width: 32px;\n",
              "    }\n",
              "\n",
              "    .colab-df-convert:hover {\n",
              "      background-color: #E2EBFA;\n",
              "      box-shadow: 0px 1px 2px rgba(60, 64, 67, 0.3), 0px 1px 3px 1px rgba(60, 64, 67, 0.15);\n",
              "      fill: #174EA6;\n",
              "    }\n",
              "\n",
              "    [theme=dark] .colab-df-convert {\n",
              "      background-color: #3B4455;\n",
              "      fill: #D2E3FC;\n",
              "    }\n",
              "\n",
              "    [theme=dark] .colab-df-convert:hover {\n",
              "      background-color: #434B5C;\n",
              "      box-shadow: 0px 1px 3px 1px rgba(0, 0, 0, 0.15);\n",
              "      filter: drop-shadow(0px 1px 2px rgba(0, 0, 0, 0.3));\n",
              "      fill: #FFFFFF;\n",
              "    }\n",
              "  </style>\n",
              "\n",
              "      <script>\n",
              "        const buttonEl =\n",
              "          document.querySelector('#df-822621cb-c89c-493c-9b9d-d30a8a54f556 button.colab-df-convert');\n",
              "        buttonEl.style.display =\n",
              "          google.colab.kernel.accessAllowed ? 'block' : 'none';\n",
              "\n",
              "        async function convertToInteractive(key) {\n",
              "          const element = document.querySelector('#df-822621cb-c89c-493c-9b9d-d30a8a54f556');\n",
              "          const dataTable =\n",
              "            await google.colab.kernel.invokeFunction('convertToInteractive',\n",
              "                                                     [key], {});\n",
              "          if (!dataTable) return;\n",
              "\n",
              "          const docLinkHtml = 'Like what you see? Visit the ' +\n",
              "            '<a target=\"_blank\" href=https://colab.research.google.com/notebooks/data_table.ipynb>data table notebook</a>'\n",
              "            + ' to learn more about interactive tables.';\n",
              "          element.innerHTML = '';\n",
              "          dataTable['output_type'] = 'display_data';\n",
              "          await google.colab.output.renderOutput(dataTable, element);\n",
              "          const docLink = document.createElement('div');\n",
              "          docLink.innerHTML = docLinkHtml;\n",
              "          element.appendChild(docLink);\n",
              "        }\n",
              "      </script>\n",
              "    </div>\n",
              "  </div>\n",
              "  "
            ],
            "text/plain": [
              "   gender   age  hypertension  heart_disease  ever_married      work_type  \\\n",
              "0       1  67.0             0              1             1        Private   \n",
              "1       0  61.0             0              0             1  Self-employed   \n",
              "2       1  80.0             0              1             1        Private   \n",
              "3       0  49.0             0              0             1        Private   \n",
              "4       0  79.0             1              0             1  Self-employed   \n",
              "\n",
              "   Residence_type  avg_glucose_level   bmi  smoking_status  stroke  \n",
              "0               1             228.69  36.6               1       1  \n",
              "1               0             202.21  28.9               2       1  \n",
              "2               0             105.92  32.5               2       1  \n",
              "3               1             171.23  34.4               3       1  \n",
              "4               0             174.12  24.0               2       1  "
            ]
          },
          "execution_count": 21,
          "metadata": {},
          "output_type": "execute_result"
        }
      ],
      "source": [
        "df['smoking_status'] = label_encoder.fit_transform(df['smoking_status'])\n",
        "df.head()"
      ]
    },
    {
      "cell_type": "code",
      "execution_count": null,
      "metadata": {
        "colab": {
          "base_uri": "https://localhost:8080/"
        },
        "id": "DG_XQMKx0Ujh",
        "outputId": "c4dfafc3-0762-4033-af73-8754911a3970"
      },
      "outputs": [
        {
          "data": {
            "text/plain": [
              "2    1892\n",
              "0    1544\n",
              "1     885\n",
              "3     789\n",
              "Name: smoking_status, dtype: int64"
            ]
          },
          "execution_count": 22,
          "metadata": {},
          "output_type": "execute_result"
        }
      ],
      "source": [
        "df['smoking_status'].value_counts()"
      ]
    },
    {
      "cell_type": "code",
      "execution_count": null,
      "metadata": {
        "colab": {
          "base_uri": "https://localhost:8080/"
        },
        "id": "lFJ6pVkcwlCL",
        "outputId": "f2976957-d607-464e-fc4c-0c5ed84fcb98"
      },
      "outputs": [
        {
          "data": {
            "text/plain": [
              "Private          2925\n",
              "Self-employed     819\n",
              "children          687\n",
              "Govt_job          657\n",
              "Never_worked       22\n",
              "Name: work_type, dtype: int64"
            ]
          },
          "execution_count": 23,
          "metadata": {},
          "output_type": "execute_result"
        }
      ],
      "source": [
        "df['work_type'].value_counts()"
      ]
    },
    {
      "cell_type": "code",
      "execution_count": null,
      "metadata": {
        "colab": {
          "base_uri": "https://localhost:8080/",
          "height": 206
        },
        "id": "FX3B8ur60ac-",
        "outputId": "f794a9ba-8cee-45ba-9e51-28957b62dbdc"
      },
      "outputs": [
        {
          "data": {
            "text/html": [
              "\n",
              "  <div id=\"df-f50a4022-82b8-4f52-8498-7f8433274208\">\n",
              "    <div class=\"colab-df-container\">\n",
              "      <div>\n",
              "<style scoped>\n",
              "    .dataframe tbody tr th:only-of-type {\n",
              "        vertical-align: middle;\n",
              "    }\n",
              "\n",
              "    .dataframe tbody tr th {\n",
              "        vertical-align: top;\n",
              "    }\n",
              "\n",
              "    .dataframe thead th {\n",
              "        text-align: right;\n",
              "    }\n",
              "</style>\n",
              "<table border=\"1\" class=\"dataframe\">\n",
              "  <thead>\n",
              "    <tr style=\"text-align: right;\">\n",
              "      <th></th>\n",
              "      <th>gender</th>\n",
              "      <th>age</th>\n",
              "      <th>hypertension</th>\n",
              "      <th>heart_disease</th>\n",
              "      <th>ever_married</th>\n",
              "      <th>work_type</th>\n",
              "      <th>Residence_type</th>\n",
              "      <th>avg_glucose_level</th>\n",
              "      <th>bmi</th>\n",
              "      <th>smoking_status</th>\n",
              "      <th>stroke</th>\n",
              "    </tr>\n",
              "  </thead>\n",
              "  <tbody>\n",
              "    <tr>\n",
              "      <th>0</th>\n",
              "      <td>1</td>\n",
              "      <td>67.0</td>\n",
              "      <td>0</td>\n",
              "      <td>1</td>\n",
              "      <td>1</td>\n",
              "      <td>2</td>\n",
              "      <td>1</td>\n",
              "      <td>228.69</td>\n",
              "      <td>36.6</td>\n",
              "      <td>1</td>\n",
              "      <td>1</td>\n",
              "    </tr>\n",
              "    <tr>\n",
              "      <th>1</th>\n",
              "      <td>0</td>\n",
              "      <td>61.0</td>\n",
              "      <td>0</td>\n",
              "      <td>0</td>\n",
              "      <td>1</td>\n",
              "      <td>3</td>\n",
              "      <td>0</td>\n",
              "      <td>202.21</td>\n",
              "      <td>28.9</td>\n",
              "      <td>2</td>\n",
              "      <td>1</td>\n",
              "    </tr>\n",
              "    <tr>\n",
              "      <th>2</th>\n",
              "      <td>1</td>\n",
              "      <td>80.0</td>\n",
              "      <td>0</td>\n",
              "      <td>1</td>\n",
              "      <td>1</td>\n",
              "      <td>2</td>\n",
              "      <td>0</td>\n",
              "      <td>105.92</td>\n",
              "      <td>32.5</td>\n",
              "      <td>2</td>\n",
              "      <td>1</td>\n",
              "    </tr>\n",
              "    <tr>\n",
              "      <th>3</th>\n",
              "      <td>0</td>\n",
              "      <td>49.0</td>\n",
              "      <td>0</td>\n",
              "      <td>0</td>\n",
              "      <td>1</td>\n",
              "      <td>2</td>\n",
              "      <td>1</td>\n",
              "      <td>171.23</td>\n",
              "      <td>34.4</td>\n",
              "      <td>3</td>\n",
              "      <td>1</td>\n",
              "    </tr>\n",
              "    <tr>\n",
              "      <th>4</th>\n",
              "      <td>0</td>\n",
              "      <td>79.0</td>\n",
              "      <td>1</td>\n",
              "      <td>0</td>\n",
              "      <td>1</td>\n",
              "      <td>3</td>\n",
              "      <td>0</td>\n",
              "      <td>174.12</td>\n",
              "      <td>24.0</td>\n",
              "      <td>2</td>\n",
              "      <td>1</td>\n",
              "    </tr>\n",
              "  </tbody>\n",
              "</table>\n",
              "</div>\n",
              "      <button class=\"colab-df-convert\" onclick=\"convertToInteractive('df-f50a4022-82b8-4f52-8498-7f8433274208')\"\n",
              "              title=\"Convert this dataframe to an interactive table.\"\n",
              "              style=\"display:none;\">\n",
              "        \n",
              "  <svg xmlns=\"http://www.w3.org/2000/svg\" height=\"24px\"viewBox=\"0 0 24 24\"\n",
              "       width=\"24px\">\n",
              "    <path d=\"M0 0h24v24H0V0z\" fill=\"none\"/>\n",
              "    <path d=\"M18.56 5.44l.94 2.06.94-2.06 2.06-.94-2.06-.94-.94-2.06-.94 2.06-2.06.94zm-11 1L8.5 8.5l.94-2.06 2.06-.94-2.06-.94L8.5 2.5l-.94 2.06-2.06.94zm10 10l.94 2.06.94-2.06 2.06-.94-2.06-.94-.94-2.06-.94 2.06-2.06.94z\"/><path d=\"M17.41 7.96l-1.37-1.37c-.4-.4-.92-.59-1.43-.59-.52 0-1.04.2-1.43.59L10.3 9.45l-7.72 7.72c-.78.78-.78 2.05 0 2.83L4 21.41c.39.39.9.59 1.41.59.51 0 1.02-.2 1.41-.59l7.78-7.78 2.81-2.81c.8-.78.8-2.07 0-2.86zM5.41 20L4 18.59l7.72-7.72 1.47 1.35L5.41 20z\"/>\n",
              "  </svg>\n",
              "      </button>\n",
              "      \n",
              "  <style>\n",
              "    .colab-df-container {\n",
              "      display:flex;\n",
              "      flex-wrap:wrap;\n",
              "      gap: 12px;\n",
              "    }\n",
              "\n",
              "    .colab-df-convert {\n",
              "      background-color: #E8F0FE;\n",
              "      border: none;\n",
              "      border-radius: 50%;\n",
              "      cursor: pointer;\n",
              "      display: none;\n",
              "      fill: #1967D2;\n",
              "      height: 32px;\n",
              "      padding: 0 0 0 0;\n",
              "      width: 32px;\n",
              "    }\n",
              "\n",
              "    .colab-df-convert:hover {\n",
              "      background-color: #E2EBFA;\n",
              "      box-shadow: 0px 1px 2px rgba(60, 64, 67, 0.3), 0px 1px 3px 1px rgba(60, 64, 67, 0.15);\n",
              "      fill: #174EA6;\n",
              "    }\n",
              "\n",
              "    [theme=dark] .colab-df-convert {\n",
              "      background-color: #3B4455;\n",
              "      fill: #D2E3FC;\n",
              "    }\n",
              "\n",
              "    [theme=dark] .colab-df-convert:hover {\n",
              "      background-color: #434B5C;\n",
              "      box-shadow: 0px 1px 3px 1px rgba(0, 0, 0, 0.15);\n",
              "      filter: drop-shadow(0px 1px 2px rgba(0, 0, 0, 0.3));\n",
              "      fill: #FFFFFF;\n",
              "    }\n",
              "  </style>\n",
              "\n",
              "      <script>\n",
              "        const buttonEl =\n",
              "          document.querySelector('#df-f50a4022-82b8-4f52-8498-7f8433274208 button.colab-df-convert');\n",
              "        buttonEl.style.display =\n",
              "          google.colab.kernel.accessAllowed ? 'block' : 'none';\n",
              "\n",
              "        async function convertToInteractive(key) {\n",
              "          const element = document.querySelector('#df-f50a4022-82b8-4f52-8498-7f8433274208');\n",
              "          const dataTable =\n",
              "            await google.colab.kernel.invokeFunction('convertToInteractive',\n",
              "                                                     [key], {});\n",
              "          if (!dataTable) return;\n",
              "\n",
              "          const docLinkHtml = 'Like what you see? Visit the ' +\n",
              "            '<a target=\"_blank\" href=https://colab.research.google.com/notebooks/data_table.ipynb>data table notebook</a>'\n",
              "            + ' to learn more about interactive tables.';\n",
              "          element.innerHTML = '';\n",
              "          dataTable['output_type'] = 'display_data';\n",
              "          await google.colab.output.renderOutput(dataTable, element);\n",
              "          const docLink = document.createElement('div');\n",
              "          docLink.innerHTML = docLinkHtml;\n",
              "          element.appendChild(docLink);\n",
              "        }\n",
              "      </script>\n",
              "    </div>\n",
              "  </div>\n",
              "  "
            ],
            "text/plain": [
              "   gender   age  hypertension  heart_disease  ever_married  work_type  \\\n",
              "0       1  67.0             0              1             1          2   \n",
              "1       0  61.0             0              0             1          3   \n",
              "2       1  80.0             0              1             1          2   \n",
              "3       0  49.0             0              0             1          2   \n",
              "4       0  79.0             1              0             1          3   \n",
              "\n",
              "   Residence_type  avg_glucose_level   bmi  smoking_status  stroke  \n",
              "0               1             228.69  36.6               1       1  \n",
              "1               0             202.21  28.9               2       1  \n",
              "2               0             105.92  32.5               2       1  \n",
              "3               1             171.23  34.4               3       1  \n",
              "4               0             174.12  24.0               2       1  "
            ]
          },
          "execution_count": 24,
          "metadata": {},
          "output_type": "execute_result"
        }
      ],
      "source": [
        "df['work_type'] = label_encoder.fit_transform(df['work_type'])\n",
        "df.head()"
      ]
    },
    {
      "cell_type": "code",
      "execution_count": null,
      "metadata": {
        "colab": {
          "base_uri": "https://localhost:8080/"
        },
        "id": "lbJOHmFl0aYf",
        "outputId": "40fb3c21-2eee-4222-9873-ecb0744fd2db"
      },
      "outputs": [
        {
          "data": {
            "text/plain": [
              "2    2925\n",
              "3     819\n",
              "4     687\n",
              "0     657\n",
              "1      22\n",
              "Name: work_type, dtype: int64"
            ]
          },
          "execution_count": 25,
          "metadata": {},
          "output_type": "execute_result"
        }
      ],
      "source": [
        "df['work_type'].value_counts()"
      ]
    },
    {
      "cell_type": "markdown",
      "metadata": {
        "id": "Ewv2C2710GF2"
      },
      "source": [
        "**One Hot Encoding**\n",
        "\n",
        "df1 = pd.get_dummies(df,columns = ['work_type','smoking_status'])\n",
        "\n",
        "df1.head()"
      ]
    },
    {
      "cell_type": "code",
      "execution_count": null,
      "metadata": {
        "colab": {
          "base_uri": "https://localhost:8080/"
        },
        "id": "Vaa69qu4wskR",
        "outputId": "bc856094-1a92-4c2f-e794-c40a62bba783"
      },
      "outputs": [
        {
          "data": {
            "text/plain": [
              "gender                 int64\n",
              "age                  float64\n",
              "hypertension           int64\n",
              "heart_disease          int64\n",
              "ever_married           int64\n",
              "work_type              int64\n",
              "Residence_type         int64\n",
              "avg_glucose_level    float64\n",
              "bmi                  float64\n",
              "smoking_status         int64\n",
              "stroke                 int64\n",
              "dtype: object"
            ]
          },
          "execution_count": 26,
          "metadata": {},
          "output_type": "execute_result"
        }
      ],
      "source": [
        "df.dtypes"
      ]
    },
    {
      "cell_type": "markdown",
      "metadata": {
        "id": "-QwRTcWHxAfA"
      },
      "source": [
        "**Scaling of the dataset**"
      ]
    },
    {
      "cell_type": "code",
      "execution_count": null,
      "metadata": {
        "id": "R6EV5fdhwxCU"
      },
      "outputs": [],
      "source": [
        "from sklearn.preprocessing import StandardScaler\n",
        "\n",
        "scaler = StandardScaler()"
      ]
    },
    {
      "cell_type": "code",
      "execution_count": null,
      "metadata": {
        "colab": {
          "base_uri": "https://localhost:8080/"
        },
        "id": "_2GTQpB7xLVM",
        "outputId": "10e66c50-b733-4708-b5d4-49565d04622d"
      },
      "outputs": [
        {
          "data": {
            "text/plain": [
              "(5110, 10)"
            ]
          },
          "execution_count": 28,
          "metadata": {},
          "output_type": "execute_result"
        }
      ],
      "source": [
        "data = df.drop(['stroke'],axis = 1)\n",
        "data.shape"
      ]
    },
    {
      "cell_type": "code",
      "execution_count": null,
      "metadata": {
        "id": "9CyekqAUxN-S"
      },
      "outputs": [],
      "source": [
        "columns = ['gender','age','hypertension','heart_disease','ever_married', 'work_type', 'Residence_type','avg_glucose_level',\n",
        "           'bmi','smoking_status']"
      ]
    },
    {
      "cell_type": "code",
      "execution_count": null,
      "metadata": {
        "id": "yySTvLggxQeb"
      },
      "outputs": [],
      "source": [
        "X = pd.DataFrame(scaler.fit_transform(data),columns = columns)"
      ]
    },
    {
      "cell_type": "code",
      "execution_count": null,
      "metadata": {
        "colab": {
          "base_uri": "https://localhost:8080/",
          "height": 206
        },
        "id": "bMnZyix0xSxF",
        "outputId": "33fa00dd-1a41-4b68-b2e7-6558640deedf"
      },
      "outputs": [
        {
          "data": {
            "text/html": [
              "\n",
              "  <div id=\"df-66bb81a0-cd9f-4404-8bfc-44ff358d304b\">\n",
              "    <div class=\"colab-df-container\">\n",
              "      <div>\n",
              "<style scoped>\n",
              "    .dataframe tbody tr th:only-of-type {\n",
              "        vertical-align: middle;\n",
              "    }\n",
              "\n",
              "    .dataframe tbody tr th {\n",
              "        vertical-align: top;\n",
              "    }\n",
              "\n",
              "    .dataframe thead th {\n",
              "        text-align: right;\n",
              "    }\n",
              "</style>\n",
              "<table border=\"1\" class=\"dataframe\">\n",
              "  <thead>\n",
              "    <tr style=\"text-align: right;\">\n",
              "      <th></th>\n",
              "      <th>gender</th>\n",
              "      <th>age</th>\n",
              "      <th>hypertension</th>\n",
              "      <th>heart_disease</th>\n",
              "      <th>ever_married</th>\n",
              "      <th>work_type</th>\n",
              "      <th>Residence_type</th>\n",
              "      <th>avg_glucose_level</th>\n",
              "      <th>bmi</th>\n",
              "      <th>smoking_status</th>\n",
              "    </tr>\n",
              "  </thead>\n",
              "  <tbody>\n",
              "    <tr>\n",
              "      <th>0</th>\n",
              "      <td>1.188073</td>\n",
              "      <td>1.051434</td>\n",
              "      <td>-0.328602</td>\n",
              "      <td>4.185032</td>\n",
              "      <td>0.723884</td>\n",
              "      <td>-0.153836</td>\n",
              "      <td>0.984080</td>\n",
              "      <td>2.706375</td>\n",
              "      <td>1.001199</td>\n",
              "      <td>-0.351781</td>\n",
              "    </tr>\n",
              "    <tr>\n",
              "      <th>1</th>\n",
              "      <td>-0.840344</td>\n",
              "      <td>0.786070</td>\n",
              "      <td>-0.328602</td>\n",
              "      <td>-0.238947</td>\n",
              "      <td>0.723884</td>\n",
              "      <td>0.763438</td>\n",
              "      <td>-1.016178</td>\n",
              "      <td>2.121559</td>\n",
              "      <td>0.000844</td>\n",
              "      <td>0.581552</td>\n",
              "    </tr>\n",
              "    <tr>\n",
              "      <th>2</th>\n",
              "      <td>1.188073</td>\n",
              "      <td>1.626390</td>\n",
              "      <td>-0.328602</td>\n",
              "      <td>4.185032</td>\n",
              "      <td>0.723884</td>\n",
              "      <td>-0.153836</td>\n",
              "      <td>-1.016178</td>\n",
              "      <td>-0.005028</td>\n",
              "      <td>0.468543</td>\n",
              "      <td>0.581552</td>\n",
              "    </tr>\n",
              "    <tr>\n",
              "      <th>3</th>\n",
              "      <td>-0.840344</td>\n",
              "      <td>0.255342</td>\n",
              "      <td>-0.328602</td>\n",
              "      <td>-0.238947</td>\n",
              "      <td>0.723884</td>\n",
              "      <td>-0.153836</td>\n",
              "      <td>0.984080</td>\n",
              "      <td>1.437358</td>\n",
              "      <td>0.715384</td>\n",
              "      <td>1.514885</td>\n",
              "    </tr>\n",
              "    <tr>\n",
              "      <th>4</th>\n",
              "      <td>-0.840344</td>\n",
              "      <td>1.582163</td>\n",
              "      <td>3.043196</td>\n",
              "      <td>-0.238947</td>\n",
              "      <td>0.723884</td>\n",
              "      <td>0.763438</td>\n",
              "      <td>-1.016178</td>\n",
              "      <td>1.501184</td>\n",
              "      <td>-0.635746</td>\n",
              "      <td>0.581552</td>\n",
              "    </tr>\n",
              "  </tbody>\n",
              "</table>\n",
              "</div>\n",
              "      <button class=\"colab-df-convert\" onclick=\"convertToInteractive('df-66bb81a0-cd9f-4404-8bfc-44ff358d304b')\"\n",
              "              title=\"Convert this dataframe to an interactive table.\"\n",
              "              style=\"display:none;\">\n",
              "        \n",
              "  <svg xmlns=\"http://www.w3.org/2000/svg\" height=\"24px\"viewBox=\"0 0 24 24\"\n",
              "       width=\"24px\">\n",
              "    <path d=\"M0 0h24v24H0V0z\" fill=\"none\"/>\n",
              "    <path d=\"M18.56 5.44l.94 2.06.94-2.06 2.06-.94-2.06-.94-.94-2.06-.94 2.06-2.06.94zm-11 1L8.5 8.5l.94-2.06 2.06-.94-2.06-.94L8.5 2.5l-.94 2.06-2.06.94zm10 10l.94 2.06.94-2.06 2.06-.94-2.06-.94-.94-2.06-.94 2.06-2.06.94z\"/><path d=\"M17.41 7.96l-1.37-1.37c-.4-.4-.92-.59-1.43-.59-.52 0-1.04.2-1.43.59L10.3 9.45l-7.72 7.72c-.78.78-.78 2.05 0 2.83L4 21.41c.39.39.9.59 1.41.59.51 0 1.02-.2 1.41-.59l7.78-7.78 2.81-2.81c.8-.78.8-2.07 0-2.86zM5.41 20L4 18.59l7.72-7.72 1.47 1.35L5.41 20z\"/>\n",
              "  </svg>\n",
              "      </button>\n",
              "      \n",
              "  <style>\n",
              "    .colab-df-container {\n",
              "      display:flex;\n",
              "      flex-wrap:wrap;\n",
              "      gap: 12px;\n",
              "    }\n",
              "\n",
              "    .colab-df-convert {\n",
              "      background-color: #E8F0FE;\n",
              "      border: none;\n",
              "      border-radius: 50%;\n",
              "      cursor: pointer;\n",
              "      display: none;\n",
              "      fill: #1967D2;\n",
              "      height: 32px;\n",
              "      padding: 0 0 0 0;\n",
              "      width: 32px;\n",
              "    }\n",
              "\n",
              "    .colab-df-convert:hover {\n",
              "      background-color: #E2EBFA;\n",
              "      box-shadow: 0px 1px 2px rgba(60, 64, 67, 0.3), 0px 1px 3px 1px rgba(60, 64, 67, 0.15);\n",
              "      fill: #174EA6;\n",
              "    }\n",
              "\n",
              "    [theme=dark] .colab-df-convert {\n",
              "      background-color: #3B4455;\n",
              "      fill: #D2E3FC;\n",
              "    }\n",
              "\n",
              "    [theme=dark] .colab-df-convert:hover {\n",
              "      background-color: #434B5C;\n",
              "      box-shadow: 0px 1px 3px 1px rgba(0, 0, 0, 0.15);\n",
              "      filter: drop-shadow(0px 1px 2px rgba(0, 0, 0, 0.3));\n",
              "      fill: #FFFFFF;\n",
              "    }\n",
              "  </style>\n",
              "\n",
              "      <script>\n",
              "        const buttonEl =\n",
              "          document.querySelector('#df-66bb81a0-cd9f-4404-8bfc-44ff358d304b button.colab-df-convert');\n",
              "        buttonEl.style.display =\n",
              "          google.colab.kernel.accessAllowed ? 'block' : 'none';\n",
              "\n",
              "        async function convertToInteractive(key) {\n",
              "          const element = document.querySelector('#df-66bb81a0-cd9f-4404-8bfc-44ff358d304b');\n",
              "          const dataTable =\n",
              "            await google.colab.kernel.invokeFunction('convertToInteractive',\n",
              "                                                     [key], {});\n",
              "          if (!dataTable) return;\n",
              "\n",
              "          const docLinkHtml = 'Like what you see? Visit the ' +\n",
              "            '<a target=\"_blank\" href=https://colab.research.google.com/notebooks/data_table.ipynb>data table notebook</a>'\n",
              "            + ' to learn more about interactive tables.';\n",
              "          element.innerHTML = '';\n",
              "          dataTable['output_type'] = 'display_data';\n",
              "          await google.colab.output.renderOutput(dataTable, element);\n",
              "          const docLink = document.createElement('div');\n",
              "          docLink.innerHTML = docLinkHtml;\n",
              "          element.appendChild(docLink);\n",
              "        }\n",
              "      </script>\n",
              "    </div>\n",
              "  </div>\n",
              "  "
            ],
            "text/plain": [
              "     gender       age  hypertension  heart_disease  ever_married  work_type  \\\n",
              "0  1.188073  1.051434     -0.328602       4.185032      0.723884  -0.153836   \n",
              "1 -0.840344  0.786070     -0.328602      -0.238947      0.723884   0.763438   \n",
              "2  1.188073  1.626390     -0.328602       4.185032      0.723884  -0.153836   \n",
              "3 -0.840344  0.255342     -0.328602      -0.238947      0.723884  -0.153836   \n",
              "4 -0.840344  1.582163      3.043196      -0.238947      0.723884   0.763438   \n",
              "\n",
              "   Residence_type  avg_glucose_level       bmi  smoking_status  \n",
              "0        0.984080           2.706375  1.001199       -0.351781  \n",
              "1       -1.016178           2.121559  0.000844        0.581552  \n",
              "2       -1.016178          -0.005028  0.468543        0.581552  \n",
              "3        0.984080           1.437358  0.715384        1.514885  \n",
              "4       -1.016178           1.501184 -0.635746        0.581552  "
            ]
          },
          "execution_count": 31,
          "metadata": {},
          "output_type": "execute_result"
        }
      ],
      "source": [
        "X.head()"
      ]
    },
    {
      "cell_type": "code",
      "execution_count": null,
      "metadata": {
        "colab": {
          "base_uri": "https://localhost:8080/"
        },
        "id": "2pNxyWIqxUal",
        "outputId": "5866e2bc-df70-42d6-d586-43c1afadfa2b"
      },
      "outputs": [
        {
          "data": {
            "text/plain": [
              "0       1\n",
              "1       1\n",
              "2       1\n",
              "3       1\n",
              "4       1\n",
              "       ..\n",
              "5105    0\n",
              "5106    0\n",
              "5107    0\n",
              "5108    0\n",
              "5109    0\n",
              "Name: stroke, Length: 5110, dtype: int64"
            ]
          },
          "execution_count": 32,
          "metadata": {},
          "output_type": "execute_result"
        }
      ],
      "source": [
        "y = df['stroke']\n",
        "y"
      ]
    },
    {
      "cell_type": "markdown",
      "metadata": {
        "id": "adI4duaqxcts"
      },
      "source": [
        "# **Instance Hardness Threshold - Resampling Technique**"
      ]
    },
    {
      "cell_type": "code",
      "execution_count": null,
      "metadata": {
        "id": "NJCO2a0ex4BJ"
      },
      "outputs": [],
      "source": [
        "import warnings\n",
        "warnings.simplefilter(action='ignore', category=FutureWarning)"
      ]
    },
    {
      "cell_type": "code",
      "execution_count": null,
      "metadata": {
        "id": "wH1N5lPoxXCd"
      },
      "outputs": [],
      "source": [
        "from imblearn.under_sampling import InstanceHardnessThreshold\n",
        "\n",
        "iht = InstanceHardnessThreshold(random_state = 0)\n",
        "x_instance, y_iht = iht.fit_resample(X,y)"
      ]
    },
    {
      "cell_type": "code",
      "execution_count": null,
      "metadata": {
        "colab": {
          "base_uri": "https://localhost:8080/"
        },
        "id": "UladnEBddLD3",
        "outputId": "b64f47fa-b4ba-45fc-9cc0-d1f1a6b88898"
      },
      "outputs": [
        {
          "data": {
            "text/plain": [
              "2384"
            ]
          },
          "execution_count": 35,
          "metadata": {},
          "output_type": "execute_result"
        }
      ],
      "source": [
        "len(x_instance)"
      ]
    },
    {
      "cell_type": "code",
      "execution_count": null,
      "metadata": {
        "colab": {
          "base_uri": "https://localhost:8080/",
          "height": 424
        },
        "id": "p2c_XpOWI7cN",
        "outputId": "8afa1f5d-ddec-4008-cb36-a9fe2fd05af3"
      },
      "outputs": [
        {
          "data": {
            "text/html": [
              "\n",
              "  <div id=\"df-1bf73595-ac9b-4616-b342-7f4ffad7b431\">\n",
              "    <div class=\"colab-df-container\">\n",
              "      <div>\n",
              "<style scoped>\n",
              "    .dataframe tbody tr th:only-of-type {\n",
              "        vertical-align: middle;\n",
              "    }\n",
              "\n",
              "    .dataframe tbody tr th {\n",
              "        vertical-align: top;\n",
              "    }\n",
              "\n",
              "    .dataframe thead th {\n",
              "        text-align: right;\n",
              "    }\n",
              "</style>\n",
              "<table border=\"1\" class=\"dataframe\">\n",
              "  <thead>\n",
              "    <tr style=\"text-align: right;\">\n",
              "      <th></th>\n",
              "      <th>gender</th>\n",
              "      <th>age</th>\n",
              "      <th>hypertension</th>\n",
              "      <th>heart_disease</th>\n",
              "      <th>ever_married</th>\n",
              "      <th>work_type</th>\n",
              "      <th>Residence_type</th>\n",
              "      <th>avg_glucose_level</th>\n",
              "      <th>bmi</th>\n",
              "      <th>smoking_status</th>\n",
              "    </tr>\n",
              "  </thead>\n",
              "  <tbody>\n",
              "    <tr>\n",
              "      <th>0</th>\n",
              "      <td>1.188073</td>\n",
              "      <td>-1.779117</td>\n",
              "      <td>-0.328602</td>\n",
              "      <td>-0.238947</td>\n",
              "      <td>-1.381436</td>\n",
              "      <td>1.680712</td>\n",
              "      <td>-1.016178</td>\n",
              "      <td>-0.243549</td>\n",
              "      <td>-1.415243</td>\n",
              "      <td>-1.285114</td>\n",
              "    </tr>\n",
              "    <tr>\n",
              "      <th>1</th>\n",
              "      <td>-0.840344</td>\n",
              "      <td>-1.557980</td>\n",
              "      <td>-0.328602</td>\n",
              "      <td>-0.238947</td>\n",
              "      <td>-1.381436</td>\n",
              "      <td>-0.153836</td>\n",
              "      <td>0.984080</td>\n",
              "      <td>0.104735</td>\n",
              "      <td>-1.467210</td>\n",
              "      <td>-1.285114</td>\n",
              "    </tr>\n",
              "    <tr>\n",
              "      <th>2</th>\n",
              "      <td>1.188073</td>\n",
              "      <td>-1.292616</td>\n",
              "      <td>-0.328602</td>\n",
              "      <td>-0.238947</td>\n",
              "      <td>-1.381436</td>\n",
              "      <td>-1.071110</td>\n",
              "      <td>-1.016178</td>\n",
              "      <td>1.217610</td>\n",
              "      <td>-1.272335</td>\n",
              "      <td>-1.285114</td>\n",
              "    </tr>\n",
              "    <tr>\n",
              "      <th>3</th>\n",
              "      <td>-0.840344</td>\n",
              "      <td>0.388024</td>\n",
              "      <td>-0.328602</td>\n",
              "      <td>-0.238947</td>\n",
              "      <td>0.723884</td>\n",
              "      <td>-0.153836</td>\n",
              "      <td>0.984080</td>\n",
              "      <td>-0.630703</td>\n",
              "      <td>-1.454218</td>\n",
              "      <td>-0.351781</td>\n",
              "    </tr>\n",
              "    <tr>\n",
              "      <th>4</th>\n",
              "      <td>-0.840344</td>\n",
              "      <td>-0.142705</td>\n",
              "      <td>-0.328602</td>\n",
              "      <td>-0.238947</td>\n",
              "      <td>0.723884</td>\n",
              "      <td>-0.153836</td>\n",
              "      <td>-1.016178</td>\n",
              "      <td>-0.245316</td>\n",
              "      <td>1.754714</td>\n",
              "      <td>0.581552</td>\n",
              "    </tr>\n",
              "    <tr>\n",
              "      <th>...</th>\n",
              "      <td>...</td>\n",
              "      <td>...</td>\n",
              "      <td>...</td>\n",
              "      <td>...</td>\n",
              "      <td>...</td>\n",
              "      <td>...</td>\n",
              "      <td>...</td>\n",
              "      <td>...</td>\n",
              "      <td>...</td>\n",
              "      <td>...</td>\n",
              "    </tr>\n",
              "    <tr>\n",
              "      <th>2379</th>\n",
              "      <td>1.188073</td>\n",
              "      <td>0.609161</td>\n",
              "      <td>-0.328602</td>\n",
              "      <td>-0.238947</td>\n",
              "      <td>0.723884</td>\n",
              "      <td>-0.153836</td>\n",
              "      <td>-1.016178</td>\n",
              "      <td>-0.467935</td>\n",
              "      <td>1.014191</td>\n",
              "      <td>-1.285114</td>\n",
              "    </tr>\n",
              "    <tr>\n",
              "      <th>2380</th>\n",
              "      <td>-0.840344</td>\n",
              "      <td>-1.292616</td>\n",
              "      <td>-0.328602</td>\n",
              "      <td>-0.238947</td>\n",
              "      <td>-1.381436</td>\n",
              "      <td>1.680712</td>\n",
              "      <td>-1.016178</td>\n",
              "      <td>-1.064899</td>\n",
              "      <td>0.260677</td>\n",
              "      <td>-1.285114</td>\n",
              "    </tr>\n",
              "    <tr>\n",
              "      <th>2381</th>\n",
              "      <td>-0.840344</td>\n",
              "      <td>1.405253</td>\n",
              "      <td>-0.328602</td>\n",
              "      <td>-0.238947</td>\n",
              "      <td>0.723884</td>\n",
              "      <td>0.763438</td>\n",
              "      <td>-1.016178</td>\n",
              "      <td>-0.603980</td>\n",
              "      <td>0.052811</td>\n",
              "      <td>-0.351781</td>\n",
              "    </tr>\n",
              "    <tr>\n",
              "      <th>2382</th>\n",
              "      <td>1.188073</td>\n",
              "      <td>1.228344</td>\n",
              "      <td>3.043196</td>\n",
              "      <td>-0.238947</td>\n",
              "      <td>0.723884</td>\n",
              "      <td>0.763438</td>\n",
              "      <td>-1.016178</td>\n",
              "      <td>-0.405213</td>\n",
              "      <td>0.000844</td>\n",
              "      <td>-1.285114</td>\n",
              "    </tr>\n",
              "    <tr>\n",
              "      <th>2383</th>\n",
              "      <td>-0.840344</td>\n",
              "      <td>1.537935</td>\n",
              "      <td>-0.328602</td>\n",
              "      <td>-0.238947</td>\n",
              "      <td>0.723884</td>\n",
              "      <td>-0.153836</td>\n",
              "      <td>-1.016178</td>\n",
              "      <td>-0.603759</td>\n",
              "      <td>-1.207377</td>\n",
              "      <td>-1.285114</td>\n",
              "    </tr>\n",
              "  </tbody>\n",
              "</table>\n",
              "<p>2384 rows × 10 columns</p>\n",
              "</div>\n",
              "      <button class=\"colab-df-convert\" onclick=\"convertToInteractive('df-1bf73595-ac9b-4616-b342-7f4ffad7b431')\"\n",
              "              title=\"Convert this dataframe to an interactive table.\"\n",
              "              style=\"display:none;\">\n",
              "        \n",
              "  <svg xmlns=\"http://www.w3.org/2000/svg\" height=\"24px\"viewBox=\"0 0 24 24\"\n",
              "       width=\"24px\">\n",
              "    <path d=\"M0 0h24v24H0V0z\" fill=\"none\"/>\n",
              "    <path d=\"M18.56 5.44l.94 2.06.94-2.06 2.06-.94-2.06-.94-.94-2.06-.94 2.06-2.06.94zm-11 1L8.5 8.5l.94-2.06 2.06-.94-2.06-.94L8.5 2.5l-.94 2.06-2.06.94zm10 10l.94 2.06.94-2.06 2.06-.94-2.06-.94-.94-2.06-.94 2.06-2.06.94z\"/><path d=\"M17.41 7.96l-1.37-1.37c-.4-.4-.92-.59-1.43-.59-.52 0-1.04.2-1.43.59L10.3 9.45l-7.72 7.72c-.78.78-.78 2.05 0 2.83L4 21.41c.39.39.9.59 1.41.59.51 0 1.02-.2 1.41-.59l7.78-7.78 2.81-2.81c.8-.78.8-2.07 0-2.86zM5.41 20L4 18.59l7.72-7.72 1.47 1.35L5.41 20z\"/>\n",
              "  </svg>\n",
              "      </button>\n",
              "      \n",
              "  <style>\n",
              "    .colab-df-container {\n",
              "      display:flex;\n",
              "      flex-wrap:wrap;\n",
              "      gap: 12px;\n",
              "    }\n",
              "\n",
              "    .colab-df-convert {\n",
              "      background-color: #E8F0FE;\n",
              "      border: none;\n",
              "      border-radius: 50%;\n",
              "      cursor: pointer;\n",
              "      display: none;\n",
              "      fill: #1967D2;\n",
              "      height: 32px;\n",
              "      padding: 0 0 0 0;\n",
              "      width: 32px;\n",
              "    }\n",
              "\n",
              "    .colab-df-convert:hover {\n",
              "      background-color: #E2EBFA;\n",
              "      box-shadow: 0px 1px 2px rgba(60, 64, 67, 0.3), 0px 1px 3px 1px rgba(60, 64, 67, 0.15);\n",
              "      fill: #174EA6;\n",
              "    }\n",
              "\n",
              "    [theme=dark] .colab-df-convert {\n",
              "      background-color: #3B4455;\n",
              "      fill: #D2E3FC;\n",
              "    }\n",
              "\n",
              "    [theme=dark] .colab-df-convert:hover {\n",
              "      background-color: #434B5C;\n",
              "      box-shadow: 0px 1px 3px 1px rgba(0, 0, 0, 0.15);\n",
              "      filter: drop-shadow(0px 1px 2px rgba(0, 0, 0, 0.3));\n",
              "      fill: #FFFFFF;\n",
              "    }\n",
              "  </style>\n",
              "\n",
              "      <script>\n",
              "        const buttonEl =\n",
              "          document.querySelector('#df-1bf73595-ac9b-4616-b342-7f4ffad7b431 button.colab-df-convert');\n",
              "        buttonEl.style.display =\n",
              "          google.colab.kernel.accessAllowed ? 'block' : 'none';\n",
              "\n",
              "        async function convertToInteractive(key) {\n",
              "          const element = document.querySelector('#df-1bf73595-ac9b-4616-b342-7f4ffad7b431');\n",
              "          const dataTable =\n",
              "            await google.colab.kernel.invokeFunction('convertToInteractive',\n",
              "                                                     [key], {});\n",
              "          if (!dataTable) return;\n",
              "\n",
              "          const docLinkHtml = 'Like what you see? Visit the ' +\n",
              "            '<a target=\"_blank\" href=https://colab.research.google.com/notebooks/data_table.ipynb>data table notebook</a>'\n",
              "            + ' to learn more about interactive tables.';\n",
              "          element.innerHTML = '';\n",
              "          dataTable['output_type'] = 'display_data';\n",
              "          await google.colab.output.renderOutput(dataTable, element);\n",
              "          const docLink = document.createElement('div');\n",
              "          docLink.innerHTML = docLinkHtml;\n",
              "          element.appendChild(docLink);\n",
              "        }\n",
              "      </script>\n",
              "    </div>\n",
              "  </div>\n",
              "  "
            ],
            "text/plain": [
              "        gender       age  hypertension  heart_disease  ever_married  \\\n",
              "0     1.188073 -1.779117     -0.328602      -0.238947     -1.381436   \n",
              "1    -0.840344 -1.557980     -0.328602      -0.238947     -1.381436   \n",
              "2     1.188073 -1.292616     -0.328602      -0.238947     -1.381436   \n",
              "3    -0.840344  0.388024     -0.328602      -0.238947      0.723884   \n",
              "4    -0.840344 -0.142705     -0.328602      -0.238947      0.723884   \n",
              "...        ...       ...           ...            ...           ...   \n",
              "2379  1.188073  0.609161     -0.328602      -0.238947      0.723884   \n",
              "2380 -0.840344 -1.292616     -0.328602      -0.238947     -1.381436   \n",
              "2381 -0.840344  1.405253     -0.328602      -0.238947      0.723884   \n",
              "2382  1.188073  1.228344      3.043196      -0.238947      0.723884   \n",
              "2383 -0.840344  1.537935     -0.328602      -0.238947      0.723884   \n",
              "\n",
              "      work_type  Residence_type  avg_glucose_level       bmi  smoking_status  \n",
              "0      1.680712       -1.016178          -0.243549 -1.415243       -1.285114  \n",
              "1     -0.153836        0.984080           0.104735 -1.467210       -1.285114  \n",
              "2     -1.071110       -1.016178           1.217610 -1.272335       -1.285114  \n",
              "3     -0.153836        0.984080          -0.630703 -1.454218       -0.351781  \n",
              "4     -0.153836       -1.016178          -0.245316  1.754714        0.581552  \n",
              "...         ...             ...                ...       ...             ...  \n",
              "2379  -0.153836       -1.016178          -0.467935  1.014191       -1.285114  \n",
              "2380   1.680712       -1.016178          -1.064899  0.260677       -1.285114  \n",
              "2381   0.763438       -1.016178          -0.603980  0.052811       -0.351781  \n",
              "2382   0.763438       -1.016178          -0.405213  0.000844       -1.285114  \n",
              "2383  -0.153836       -1.016178          -0.603759 -1.207377       -1.285114  \n",
              "\n",
              "[2384 rows x 10 columns]"
            ]
          },
          "execution_count": 36,
          "metadata": {},
          "output_type": "execute_result"
        }
      ],
      "source": [
        "x_instance"
      ]
    },
    {
      "cell_type": "code",
      "execution_count": null,
      "metadata": {
        "id": "2xsfgmFdKuX8"
      },
      "outputs": [],
      "source": [
        "x_instance = x_instance.to_numpy()"
      ]
    },
    {
      "cell_type": "code",
      "execution_count": null,
      "metadata": {
        "colab": {
          "base_uri": "https://localhost:8080/"
        },
        "id": "bcQiPDrvdN0G",
        "outputId": "a515cac2-939b-44a2-cfe6-7dc411943cb8"
      },
      "outputs": [
        {
          "data": {
            "text/plain": [
              "2384"
            ]
          },
          "execution_count": 38,
          "metadata": {},
          "output_type": "execute_result"
        }
      ],
      "source": [
        "len(y_iht)"
      ]
    },
    {
      "cell_type": "code",
      "execution_count": null,
      "metadata": {
        "id": "imS8_4E7yCa2"
      },
      "outputs": [],
      "source": [
        "from collections import Counter"
      ]
    },
    {
      "cell_type": "code",
      "execution_count": null,
      "metadata": {
        "colab": {
          "base_uri": "https://localhost:8080/"
        },
        "id": "VkWadoyNxiuM",
        "outputId": "43bf2bd4-efcb-4ae3-b00b-6e59fdfbd3b2"
      },
      "outputs": [
        {
          "name": "stdout",
          "output_type": "stream",
          "text": [
            "Original dataset shape: Counter({0: 4861, 1: 249})\n",
            "Resample dataset shape: Counter({0: 2135, 1: 249})\n"
          ]
        }
      ],
      "source": [
        "print('Original dataset shape:', Counter(y))\n",
        "print('Resample dataset shape:', Counter(y_iht))"
      ]
    },
    {
      "cell_type": "code",
      "execution_count": null,
      "metadata": {
        "id": "_jLXCPhYx755"
      },
      "outputs": [],
      "source": [
        "from sklearn.model_selection import KFold\n",
        "from sklearn.model_selection import StratifiedKFold\n",
        "from sklearn.model_selection import cross_val_score"
      ]
    },
    {
      "cell_type": "code",
      "execution_count": null,
      "metadata": {
        "id": "J2zf-vZSDL3v"
      },
      "outputs": [],
      "source": [
        "def measure(model,X, Y):\n",
        "  from sklearn.metrics import make_scorer\n",
        "\n",
        "  accuracy = cross_val_score(model, X, Y, scoring ='accuracy', cv = 10)\n",
        "  precision = cross_val_score(model, X, Y, scoring = 'precision', cv = 10)\n",
        "  recall = cross_val_score(model, X, Y, scoring = 'recall', cv = 10)\n",
        "  F1 = cross_val_score(model, X, Y, scoring = 'f1', cv = 10)\n",
        "\n",
        "  sol = []\n",
        "  sol.append(accuracy.mean())\n",
        "  sol.append(precision.mean())\n",
        "  sol.append(recall.mean())\n",
        "  sol.append(F1.mean())\n",
        "\n",
        "  return sol"
      ]
    },
    {
      "cell_type": "markdown",
      "metadata": {
        "id": "7kE0vFq5yd2v"
      },
      "source": [
        "# **Comparative Analysis of Feature Selection Methods**"
      ]
    },
    {
      "cell_type": "markdown",
      "metadata": {
        "id": "hJEMMNjkyj6_"
      },
      "source": [
        "# **Information Gain**"
      ]
    },
    {
      "cell_type": "code",
      "execution_count": null,
      "metadata": {
        "id": "QevDzvdIyZUX"
      },
      "outputs": [],
      "source": [
        "from sklearn.feature_selection import mutual_info_classif\n",
        "import matplotlib.pyplot as plt\n",
        "%matplotlib inline"
      ]
    },
    {
      "cell_type": "code",
      "execution_count": null,
      "metadata": {
        "id": "7pl7RfA4yx0b"
      },
      "outputs": [],
      "source": [
        "imp = mutual_info_classif(x_instance, y_iht)"
      ]
    },
    {
      "cell_type": "code",
      "execution_count": null,
      "metadata": {
        "colab": {
          "base_uri": "https://localhost:8080/"
        },
        "id": "sjHaEFMTy4D_",
        "outputId": "99bd24f2-5cd2-4de6-b1d8-1162f10793b2"
      },
      "outputs": [
        {
          "data": {
            "text/plain": [
              "array([0.00058697, 0.23975873, 0.0475377 , 0.04211556, 0.05021428,\n",
              "       0.05381586, 0.        , 0.05882469, 0.04537531, 0.02658272])"
            ]
          },
          "execution_count": 45,
          "metadata": {},
          "output_type": "execute_result"
        }
      ],
      "source": [
        "imp"
      ]
    },
    {
      "cell_type": "code",
      "execution_count": null,
      "metadata": {
        "id": "iGjg-RBHltQX"
      },
      "outputs": [],
      "source": [
        "index = [0,1,2,3,4,5,6,7,8,9]"
      ]
    },
    {
      "cell_type": "code",
      "execution_count": null,
      "metadata": {
        "colab": {
          "base_uri": "https://localhost:8080/",
          "height": 483
        },
        "id": "kEDDaYZCy4vy",
        "outputId": "dc9c893c-92a6-4dae-fb25-df49c8de367e"
      },
      "outputs": [
        {
          "data": {
            "image/png": "[encoded data removed]",
            "text/plain": [
              "<Figure size 576x576 with 1 Axes>"
            ]
          },
          "metadata": {},
          "output_type": "display_data"
        }
      ],
      "source": [
        "plt.figure(figsize = (8,8))\n",
        "\n",
        "feature_imp = pd.Series(imp, df.columns[0:len(df.columns)-1])\n",
        "\n",
        "feature_imp.plot(kind = 'barh', color = 'teal')\n",
        "plt.show()"
      ]
    },
    {
      "cell_type": "code",
      "execution_count": null,
      "metadata": {
        "colab": {
          "base_uri": "https://localhost:8080/"
        },
        "id": "KoLYdB7GFoCy",
        "outputId": "b73458f3-72ab-4b4c-ac40-647b65d64577"
      },
      "outputs": [
        {
          "data": {
            "text/plain": [
              "gender               0.000587\n",
              "age                  0.239759\n",
              "hypertension         0.047538\n",
              "heart_disease        0.042116\n",
              "ever_married         0.050214\n",
              "work_type            0.053816\n",
              "Residence_type       0.000000\n",
              "avg_glucose_level    0.058825\n",
              "bmi                  0.045375\n",
              "smoking_status       0.026583\n",
              "dtype: float64"
            ]
          },
          "execution_count": 48,
          "metadata": {},
          "output_type": "execute_result"
        }
      ],
      "source": [
        "feature_imp"
      ]
    },
    {
      "cell_type": "code",
      "execution_count": null,
      "metadata": {
        "colab": {
          "base_uri": "https://localhost:8080/"
        },
        "id": "gzZCDdxjNCF6",
        "outputId": "fc353220-5f16-4c0f-b951-b1114ec6239c"
      },
      "outputs": [
        {
          "data": {
            "text/plain": [
              "Residence_type       0.000000\n",
              "gender               0.000587\n",
              "smoking_status       0.026583\n",
              "heart_disease        0.042116\n",
              "bmi                  0.045375\n",
              "hypertension         0.047538\n",
              "ever_married         0.050214\n",
              "work_type            0.053816\n",
              "avg_glucose_level    0.058825\n",
              "age                  0.239759\n",
              "dtype: float64"
            ]
          },
          "execution_count": 49,
          "metadata": {},
          "output_type": "execute_result"
        }
      ],
      "source": [
        "feature_imp.sort_values(ascending=True)"
      ]
    },
    {
      "cell_type": "markdown",
      "metadata": {
        "id": "t7MdGL8kGAXZ"
      },
      "source": [
        "**Extracting 7 features from the 10 features availble which have most Information Gain**"
      ]
    },
    {
      "cell_type": "markdown",
      "metadata": {
        "id": "3GVDMeQfGX_2"
      },
      "source": [
        "Of all the above, Gender and Residence type have least Information Gain\n",
        "\n",
        "So We remove them both from x_iht"
      ]
    },
    {
      "cell_type": "code",
      "execution_count": null,
      "metadata": {
        "colab": {
          "base_uri": "https://localhost:8080/"
        },
        "id": "53vvj-79IxmG",
        "outputId": "0b716f7e-5536-4315-d266-344d39424e3e"
      },
      "outputs": [
        {
          "data": {
            "text/plain": [
              "array([[ 1.18807255e+00, -1.77911731e+00, -3.28601864e-01, ...,\n",
              "        -2.43548790e-01, -1.41524339e+00, -1.28511375e+00],\n",
              "       [-8.40343999e-01, -1.55798046e+00, -3.28601864e-01, ...,\n",
              "         1.04735294e-01, -1.46720990e+00, -1.28511375e+00],\n",
              "       [ 1.18807255e+00, -1.29261625e+00, -3.28601864e-01, ...,\n",
              "         1.21761006e+00, -1.27233548e+00, -1.28511375e+00],\n",
              "       ...,\n",
              "       [-8.40343999e-01,  1.40525323e+00, -3.28601864e-01, ...,\n",
              "        -6.03979751e-01,  5.28105869e-02, -3.51780710e-01],\n",
              "       [ 1.18807255e+00,  1.22834376e+00,  3.04319637e+00, ...,\n",
              "        -4.05212677e-01,  8.44074468e-04, -1.28511375e+00],\n",
              "       [-8.40343999e-01,  1.53793534e+00, -3.28601864e-01, ...,\n",
              "        -6.03758899e-01, -1.20737734e+00, -1.28511375e+00]])"
            ]
          },
          "execution_count": 50,
          "metadata": {},
          "output_type": "execute_result"
        }
      ],
      "source": [
        "x_instance"
      ]
    },
    {
      "cell_type": "code",
      "execution_count": null,
      "metadata": {
        "colab": {
          "base_uri": "https://localhost:8080/"
        },
        "id": "YcOyWglQKRTs",
        "outputId": "f13091b8-3c5f-49a6-c531-5f48984e4e7b"
      },
      "outputs": [
        {
          "data": {
            "text/plain": [
              "10"
            ]
          },
          "execution_count": 51,
          "metadata": {},
          "output_type": "execute_result"
        }
      ],
      "source": [
        "len(x_instance[0])"
      ]
    },
    {
      "cell_type": "code",
      "execution_count": null,
      "metadata": {
        "colab": {
          "base_uri": "https://localhost:8080/"
        },
        "id": "4M_o1sZxl3_l",
        "outputId": "b528cbc1-7659-4e36-b5c7-c2c0d48cf7f8"
      },
      "outputs": [
        {
          "name": "stdout",
          "output_type": "stream",
          "text": [
            "[0.         0.00058697 0.02658272 0.04211556 0.04537531 0.0475377\n",
            " 0.05021428 0.05381586 0.05882469 0.23975873]\n",
            "[6, 0, 9, 3, 8, 2, 4, 5, 7, 1]\n"
          ]
        }
      ],
      "source": [
        "for i in range(0,len(imp)-1):\n",
        "  for j in range(0,len(imp)-i-1):\n",
        "    if(imp[j] > imp[j+1]):\n",
        "      imp[j],imp[j+1] = imp[j+1],imp[j]\n",
        "      index[j], index[j+1] = index[j+1],index[j]\n",
        "\n",
        "print(imp)\n",
        "print(index)"
      ]
    },
    {
      "cell_type": "code",
      "execution_count": null,
      "metadata": {
        "colab": {
          "base_uri": "https://localhost:8080/"
        },
        "id": "RLI7MFQYn6eV",
        "outputId": "6f0ef6d9-2962-45aa-fe26-ea8dea4e497a"
      },
      "outputs": [
        {
          "data": {
            "text/plain": [
              "[6, 0, 9]"
            ]
          },
          "execution_count": 53,
          "metadata": {},
          "output_type": "execute_result"
        }
      ],
      "source": [
        "miss = []\n",
        "miss.append(index[0])\n",
        "miss.append(index[1])\n",
        "miss.append(index[2])\n",
        "\n",
        "miss"
      ]
    },
    {
      "cell_type": "code",
      "execution_count": null,
      "metadata": {
        "colab": {
          "base_uri": "https://localhost:8080/"
        },
        "id": "CVAgHFGQHYP_",
        "outputId": "ef9c367b-6267-4af8-8831-9b637d36e94d"
      },
      "outputs": [
        {
          "data": {
            "text/plain": [
              "array([[-1.77911731e+00, -3.28601864e-01, -2.38946800e-01, ...,\n",
              "         1.68071161e+00, -2.43548790e-01, -1.41524339e+00],\n",
              "       [-1.55798046e+00, -3.28601864e-01, -2.38946800e-01, ...,\n",
              "        -1.53836361e-01,  1.04735294e-01, -1.46720990e+00],\n",
              "       [-1.29261625e+00, -3.28601864e-01, -2.38946800e-01, ...,\n",
              "        -1.07111035e+00,  1.21761006e+00, -1.27233548e+00],\n",
              "       ...,\n",
              "       [ 1.40525323e+00, -3.28601864e-01, -2.38946800e-01, ...,\n",
              "         7.63437624e-01, -6.03979751e-01,  5.28105869e-02],\n",
              "       [ 1.22834376e+00,  3.04319637e+00, -2.38946800e-01, ...,\n",
              "         7.63437624e-01, -4.05212677e-01,  8.44074468e-04],\n",
              "       [ 1.53793534e+00, -3.28601864e-01, -2.38946800e-01, ...,\n",
              "        -1.53836361e-01, -6.03758899e-01, -1.20737734e+00]])"
            ]
          },
          "execution_count": 54,
          "metadata": {},
          "output_type": "execute_result"
        }
      ],
      "source": [
        "x_iht = np.delete(x_instance, miss, axis = 1)\n",
        "x_iht"
      ]
    },
    {
      "cell_type": "code",
      "execution_count": null,
      "metadata": {
        "colab": {
          "base_uri": "https://localhost:8080/"
        },
        "id": "1PYKiaQgI3Oj",
        "outputId": "d091fcb8-ab96-4a0a-8b59-05044ff7b621"
      },
      "outputs": [
        {
          "data": {
            "text/plain": [
              "7"
            ]
          },
          "execution_count": 55,
          "metadata": {},
          "output_type": "execute_result"
        }
      ],
      "source": [
        "len(x_iht[0])"
      ]
    },
    {
      "cell_type": "markdown",
      "metadata": {
        "id": "ckBR8duYLVyf"
      },
      "source": [
        "**Information Gain Using Logistic Regression**"
      ]
    },
    {
      "cell_type": "code",
      "execution_count": null,
      "metadata": {
        "id": "temOBBzALXgi"
      },
      "outputs": [],
      "source": [
        "from sklearn.linear_model import LogisticRegression\n",
        "log = LogisticRegression(random_state = 0)"
      ]
    },
    {
      "cell_type": "code",
      "execution_count": null,
      "metadata": {
        "colab": {
          "base_uri": "https://localhost:8080/"
        },
        "id": "-iAsQLEhDVoI",
        "outputId": "69ee70fe-1f87-4cc5-c7a3-a0298e5699b2"
      },
      "outputs": [
        {
          "name": "stdout",
          "output_type": "stream",
          "text": [
            "Acuracy using Information Gain and Logistic Regression is :  96.6017\n",
            "Precision using Information Gain and Logistic Regression is :  89.1165\n",
            "Recall using Information Gain and Logistic Regression is :  77.05\n",
            "F1 Score using Information Gain and Logistic Regression is :  82.3746\n"
          ]
        }
      ],
      "source": [
        "ans = measure(log, x_iht, y_iht)\n",
        "\n",
        "print(\"Acuracy using Information Gain and Logistic Regression is : \",round(ans[0]*100,4))\n",
        "print(\"Precision using Information Gain and Logistic Regression is : \",round(ans[1]*100,4))\n",
        "\n",
        "print(\"Recall using Information Gain and Logistic Regression is : \",round(ans[2]*100,4))\n",
        "print(\"F1 Score using Information Gain and Logistic Regression is : \",round(ans[3]*100,4))"
      ]
    },
    {
      "cell_type": "markdown",
      "metadata": {
        "id": "9bC1zicLL0Lk"
      },
      "source": [
        "**Information Gain using Decision Tree**"
      ]
    },
    {
      "cell_type": "code",
      "execution_count": null,
      "metadata": {
        "id": "ZUQit2UnLvxb"
      },
      "outputs": [],
      "source": [
        "from sklearn import tree\n",
        "clf = tree.DecisionTreeClassifier()"
      ]
    },
    {
      "cell_type": "code",
      "execution_count": null,
      "metadata": {
        "colab": {
          "base_uri": "https://localhost:8080/"
        },
        "id": "r0sFlbBgDg8r",
        "outputId": "ffefcc45-777f-455f-d609-f2ba8fde6256"
      },
      "outputs": [
        {
          "name": "stdout",
          "output_type": "stream",
          "text": [
            "Acuracy using Information Gain  and Decision Tree is :  95.8461\n",
            "Precision using Information Gain and Decision Tree is :  81.3115\n",
            "Recall using Information Gain and Decision Tree is :  79.9167\n",
            "F1 Score using Information Gain and Decision Tree is :  80.2514\n"
          ]
        }
      ],
      "source": [
        "ans = measure(clf, x_iht, y_iht)\n",
        "\n",
        "print(\"Acuracy using Information Gain  and Decision Tree is : \",round(ans[0]*100,4))\n",
        "print(\"Precision using Information Gain and Decision Tree is : \",round(ans[1]*100,4))\n",
        "\n",
        "print(\"Recall using Information Gain and Decision Tree is : \",round(ans[2]*100,4))\n",
        "print(\"F1 Score using Information Gain and Decision Tree is : \",round(ans[3]*100,4))"
      ]
    },
    {
      "cell_type": "markdown",
      "metadata": {
        "id": "qhflBgirMOpC"
      },
      "source": [
        "**Information Gain using SVM**"
      ]
    },
    {
      "cell_type": "code",
      "execution_count": null,
      "metadata": {
        "id": "nqTvVJPSMBEx"
      },
      "outputs": [],
      "source": [
        "from sklearn import svm\n",
        "cl = svm.SVC()"
      ]
    },
    {
      "cell_type": "code",
      "execution_count": null,
      "metadata": {
        "colab": {
          "base_uri": "https://localhost:8080/"
        },
        "id": "dPbWK7WYDq-z",
        "outputId": "b3f2bcdf-d3ad-4c34-9c96-c7c9f4df8e05"
      },
      "outputs": [
        {
          "name": "stdout",
          "output_type": "stream",
          "text": [
            "Acuracy using Information Gain and SVM is :  96.854\n",
            "Precision using Information Gain and SVM is :  92.6008\n",
            "Recall using Information Gain and SVM is :  75.8833\n",
            "F1 Score using Information Gain and SVM is :  83.233\n"
          ]
        }
      ],
      "source": [
        "ans = measure(cl, x_iht, y_iht)\n",
        "\n",
        "print(\"Acuracy using Information Gain and SVM is : \",round(ans[0]*100,4))\n",
        "print(\"Precision using Information Gain and SVM is : \",round(ans[1]*100,4))\n",
        "\n",
        "print(\"Recall using Information Gain and SVM is : \",round(ans[2]*100,4))\n",
        "print(\"F1 Score using Information Gain and SVM is : \",round(ans[3]*100,4))"
      ]
    },
    {
      "cell_type": "markdown",
      "metadata": {
        "id": "rw7uyZlMOlla"
      },
      "source": [
        "**Information Gain using Naive Bayes**"
      ]
    },
    {
      "cell_type": "code",
      "execution_count": null,
      "metadata": {
        "id": "0vqZi55KMa4_"
      },
      "outputs": [],
      "source": [
        "from sklearn.naive_bayes import GaussianNB\n",
        "gnb = GaussianNB()"
      ]
    },
    {
      "cell_type": "code",
      "execution_count": null,
      "metadata": {
        "colab": {
          "base_uri": "https://localhost:8080/"
        },
        "id": "2ddlFQmCD3Dz",
        "outputId": "57f251be-6457-4585-ffc1-ace30b38b3ac"
      },
      "outputs": [
        {
          "name": "stdout",
          "output_type": "stream",
          "text": [
            "Acuracy using Information Gain and Naive Bayes is :  94.044\n",
            "Precision using Information Gain and Naive Bayes is :  79.1801\n",
            "Recall using Information Gain and Naive Bayes is :  59.05\n",
            "F1 Score using Information Gain and Naive Bayes is :  67.207\n"
          ]
        }
      ],
      "source": [
        "ans = measure(gnb, x_iht, y_iht)\n",
        "\n",
        "print(\"Acuracy using Information Gain and Naive Bayes is : \",round(ans[0]*100,4))\n",
        "print(\"Precision using Information Gain and Naive Bayes is : \",round(ans[1]*100,4))\n",
        "\n",
        "print(\"Recall using Information Gain and Naive Bayes is : \",round(ans[2]*100,4))\n",
        "print(\"F1 Score using Information Gain and Naive Bayes is : \",round(ans[3]*100,4))\n"
      ]
    },
    {
      "cell_type": "markdown",
      "metadata": {
        "id": "n_YZB0O5PJDv"
      },
      "source": [
        "**Information Gain using Random Forest**"
      ]
    },
    {
      "cell_type": "code",
      "execution_count": null,
      "metadata": {
        "id": "8GnK87ECO3xM"
      },
      "outputs": [],
      "source": [
        "from sklearn.ensemble import RandomForestClassifier\n",
        "rf = RandomForestClassifier(random_state=0)"
      ]
    },
    {
      "cell_type": "code",
      "execution_count": null,
      "metadata": {
        "colab": {
          "base_uri": "https://localhost:8080/"
        },
        "id": "VKi449ejEDrw",
        "outputId": "a6471970-0078-4156-c6e2-cff74f6dd24f"
      },
      "outputs": [
        {
          "name": "stdout",
          "output_type": "stream",
          "text": [
            "Acuracy using Information Gain and Random Forest is :  97.8181\n",
            "Precision using Information Gain and Random Forest is :  95.5295\n",
            "Recall using Information Gain and Random Forest is :  83.1333\n",
            "F1 Score using Information Gain and Random Forest is :  88.7285\n"
          ]
        }
      ],
      "source": [
        "ans = measure(rf, x_iht, y_iht)\n",
        "\n",
        "print(\"Acuracy using Information Gain and Random Forest is : \",round(ans[0]*100,4))\n",
        "print(\"Precision using Information Gain and Random Forest is : \",round(ans[1]*100,4))\n",
        "\n",
        "print(\"Recall using Information Gain and Random Forest is : \",round(ans[2]*100,4))\n",
        "print(\"F1 Score using Information Gain and Random Forest is : \",round(ans[3]*100,4))"
      ]
    },
    {
      "cell_type": "markdown",
      "metadata": {
        "id": "a0VLywfyPYAr"
      },
      "source": [
        "**Information Gain using KNN**"
      ]
    },
    {
      "cell_type": "code",
      "execution_count": null,
      "metadata": {
        "id": "OwewrQuLPUZ3"
      },
      "outputs": [],
      "source": [
        "from sklearn.neighbors import KNeighborsClassifier\n",
        "knn = KNeighborsClassifier()"
      ]
    },
    {
      "cell_type": "code",
      "execution_count": null,
      "metadata": {
        "colab": {
          "base_uri": "https://localhost:8080/"
        },
        "id": "tkuIzq0yEMR5",
        "outputId": "886d670d-ed42-4f6b-9f00-eba93d00f115"
      },
      "outputs": [
        {
          "name": "stdout",
          "output_type": "stream",
          "text": [
            "Acuracy using Information Gain and KNN is :  96.5181\n",
            "Precision using Information Gain and KNN is :  90.2486\n",
            "Recall using Information Gain and KNN is :  75.0667\n",
            "F1 Score using Information Gain and KNN is :  81.602\n"
          ]
        }
      ],
      "source": [
        "ans = measure(knn, x_iht, y_iht)\n",
        "\n",
        "print(\"Acuracy using Information Gain and KNN is : \",round(ans[0]*100,4))\n",
        "print(\"Precision using Information Gain and KNN is : \",round(ans[1]*100,4))\n",
        "\n",
        "print(\"Recall using Information Gain and KNN is : \",round(ans[2]*100,4))\n",
        "print(\"F1 Score using Information Gain and KNN is : \",round(ans[3]*100,4))"
      ]
    },
    {
      "cell_type": "markdown",
      "metadata": {
        "id": "UrnaWsaGbTMf"
      },
      "source": [
        "# **Fisher's Score**"
      ]
    },
    {
      "cell_type": "code",
      "execution_count": null,
      "metadata": {
        "colab": {
          "base_uri": "https://localhost:8080/"
        },
        "id": "hbsU482z8l1Z",
        "outputId": "957e9ea3-3356-4929-dcdc-0eed6e70cc7f"
      },
      "outputs": [
        {
          "name": "stdout",
          "output_type": "stream",
          "text": [
            "Looking in indexes: https://pypi.org/simple, https://us-python.pkg.dev/colab-wheels/public/simple/\n",
            "Collecting skfeature-chappers\n",
            "  Downloading skfeature_chappers-1.1.0-py3-none-any.whl (66 kB)\n",
            "\u001b[K     |████████████████████████████████| 66 kB 2.6 MB/s \n",
            "\u001b[?25hRequirement already satisfied: scikit-learn in /usr/local/lib/python3.7/dist-packages (from skfeature-chappers) (1.0.2)\n",
            "Requirement already satisfied: pandas in /usr/local/lib/python3.7/dist-packages (from skfeature-chappers) (1.3.5)\n",
            "Requirement already satisfied: numpy in /usr/local/lib/python3.7/dist-packages (from skfeature-chappers) (1.21.6)\n",
            "Requirement already satisfied: pytz>=2017.3 in /usr/local/lib/python3.7/dist-packages (from pandas->skfeature-chappers) (2022.6)\n",
            "Requirement already satisfied: python-dateutil>=2.7.3 in /usr/local/lib/python3.7/dist-packages (from pandas->skfeature-chappers) (2.8.2)\n",
            "Requirement already satisfied: six>=1.5 in /usr/local/lib/python3.7/dist-packages (from python-dateutil>=2.7.3->pandas->skfeature-chappers) (1.15.0)\n",
            "Requirement already satisfied: threadpoolctl>=2.0.0 in /usr/local/lib/python3.7/dist-packages (from scikit-learn->skfeature-chappers) (3.1.0)\n",
            "Requirement already satisfied: scipy>=1.1.0 in /usr/local/lib/python3.7/dist-packages (from scikit-learn->skfeature-chappers) (1.7.3)\n",
            "Requirement already satisfied: joblib>=0.11 in /usr/local/lib/python3.7/dist-packages (from scikit-learn->skfeature-chappers) (1.2.0)\n",
            "Installing collected packages: skfeature-chappers\n",
            "Successfully installed skfeature-chappers-1.1.0\n"
          ]
        }
      ],
      "source": [
        "pip install skfeature-chappers"
      ]
    },
    {
      "cell_type": "code",
      "execution_count": null,
      "metadata": {
        "id": "1-lUamQ8eBx2"
      },
      "outputs": [],
      "source": [
        "from skfeature.function.similarity_based import fisher_score"
      ]
    },
    {
      "cell_type": "code",
      "execution_count": null,
      "metadata": {
        "id": "bkUFeIg_8Z_P"
      },
      "outputs": [],
      "source": [
        "import matplotlib.pyplot as plt\n",
        "%matplotlib inline\n",
        "import seaborn as sns"
      ]
    },
    {
      "cell_type": "code",
      "execution_count": null,
      "metadata": {
        "id": "V80a7oR78vRB"
      },
      "outputs": [],
      "source": [
        "ranks = fisher_score.fisher_score(x_instance, y_iht)"
      ]
    },
    {
      "cell_type": "code",
      "execution_count": null,
      "metadata": {
        "colab": {
          "base_uri": "https://localhost:8080/"
        },
        "id": "gCPP0hi684vZ",
        "outputId": "260126f1-0b39-4215-c0e8-a98bb457cf58"
      },
      "outputs": [
        {
          "data": {
            "text/plain": [
              "array([8, 7, 6, 2, 5, 1, 4, 0, 3, 9])"
            ]
          },
          "execution_count": 72,
          "metadata": {},
          "output_type": "execute_result"
        }
      ],
      "source": [
        "ranks"
      ]
    },
    {
      "cell_type": "code",
      "execution_count": null,
      "metadata": {
        "colab": {
          "base_uri": "https://localhost:8080/",
          "height": 265
        },
        "id": "FHQltnhf86S9",
        "outputId": "3284238d-aee7-43f6-9a5c-b87b6725ac8d"
      },
      "outputs": [
        {
          "data": {
            "image/png": "[encoded data removed]",
            "text/plain": [
              "<Figure size 432x288 with 1 Axes>"
            ]
          },
          "metadata": {},
          "output_type": "display_data"
        }
      ],
      "source": [
        "features_importance = pd.Series(ranks, df.columns[0:len(df.columns)-1])\n",
        "\n",
        "features_importance.plot(kind = 'barh', color = 'teal')\n",
        "plt.show()"
      ]
    },
    {
      "cell_type": "code",
      "execution_count": null,
      "metadata": {
        "colab": {
          "base_uri": "https://localhost:8080/"
        },
        "id": "dHeat7ab9NIn",
        "outputId": "9742c283-18d5-40fa-a1b9-65f678b9dba4"
      },
      "outputs": [
        {
          "data": {
            "text/plain": [
              "gender               8\n",
              "age                  7\n",
              "hypertension         6\n",
              "heart_disease        2\n",
              "ever_married         5\n",
              "work_type            1\n",
              "Residence_type       4\n",
              "avg_glucose_level    0\n",
              "bmi                  3\n",
              "smoking_status       9\n",
              "dtype: int64"
            ]
          },
          "execution_count": 74,
          "metadata": {},
          "output_type": "execute_result"
        }
      ],
      "source": [
        "features_importance"
      ]
    },
    {
      "cell_type": "markdown",
      "metadata": {
        "id": "m57jBbeg9jIV"
      },
      "source": [
        "Minimum Fisher's Score willbe removed - Avg_glucose Level, Work_type, Heart_disease"
      ]
    },
    {
      "cell_type": "code",
      "execution_count": null,
      "metadata": {
        "colab": {
          "base_uri": "https://localhost:8080/"
        },
        "id": "vko00o2G9s-V",
        "outputId": "b48047b4-12f1-457d-91b1-e6da68f78c27"
      },
      "outputs": [
        {
          "data": {
            "text/plain": [
              "array([[ 1.18807255e+00, -1.77911731e+00, -3.28601864e-01, ...,\n",
              "        -2.43548790e-01, -1.41524339e+00, -1.28511375e+00],\n",
              "       [-8.40343999e-01, -1.55798046e+00, -3.28601864e-01, ...,\n",
              "         1.04735294e-01, -1.46720990e+00, -1.28511375e+00],\n",
              "       [ 1.18807255e+00, -1.29261625e+00, -3.28601864e-01, ...,\n",
              "         1.21761006e+00, -1.27233548e+00, -1.28511375e+00],\n",
              "       ...,\n",
              "       [-8.40343999e-01,  1.40525323e+00, -3.28601864e-01, ...,\n",
              "        -6.03979751e-01,  5.28105869e-02, -3.51780710e-01],\n",
              "       [ 1.18807255e+00,  1.22834376e+00,  3.04319637e+00, ...,\n",
              "        -4.05212677e-01,  8.44074468e-04, -1.28511375e+00],\n",
              "       [-8.40343999e-01,  1.53793534e+00, -3.28601864e-01, ...,\n",
              "        -6.03758899e-01, -1.20737734e+00, -1.28511375e+00]])"
            ]
          },
          "execution_count": 75,
          "metadata": {},
          "output_type": "execute_result"
        }
      ],
      "source": [
        "x_instance"
      ]
    },
    {
      "cell_type": "code",
      "execution_count": null,
      "metadata": {
        "colab": {
          "base_uri": "https://localhost:8080/"
        },
        "id": "TKipjPSJ93Yo",
        "outputId": "8a7e3bfe-e47c-482d-941f-202a6c9427db"
      },
      "outputs": [
        {
          "data": {
            "text/plain": [
              "10"
            ]
          },
          "execution_count": 76,
          "metadata": {},
          "output_type": "execute_result"
        }
      ],
      "source": [
        "len(x_instance[0])"
      ]
    },
    {
      "cell_type": "code",
      "execution_count": null,
      "metadata": {
        "id": "xC8g8QvvkgP6"
      },
      "outputs": [],
      "source": [
        "miss = []\n",
        "for i in range(0,len(ranks)):\n",
        "  if(ranks[i] == 0 or ranks[i] == 1 or ranks[i] == 2):\n",
        "    miss.append(i)"
      ]
    },
    {
      "cell_type": "code",
      "execution_count": null,
      "metadata": {
        "colab": {
          "base_uri": "https://localhost:8080/"
        },
        "id": "7VdRZnoRkpvj",
        "outputId": "93fb2cbd-5587-4950-c7ce-ca8e3f29fde8"
      },
      "outputs": [
        {
          "name": "stdout",
          "output_type": "stream",
          "text": [
            "[3, 5, 7]\n"
          ]
        }
      ],
      "source": [
        "print(miss)"
      ]
    },
    {
      "cell_type": "code",
      "execution_count": null,
      "metadata": {
        "colab": {
          "base_uri": "https://localhost:8080/"
        },
        "id": "aHQPhWDZ9d-A",
        "outputId": "6a9fbb3d-51f5-4294-de30-7524b473bda4"
      },
      "outputs": [
        {
          "data": {
            "text/plain": [
              "array([[ 1.18807255e+00, -1.77911731e+00, -3.28601864e-01, ...,\n",
              "        -1.01617781e+00, -1.41524339e+00, -1.28511375e+00],\n",
              "       [-8.40343999e-01, -1.55798046e+00, -3.28601864e-01, ...,\n",
              "         9.84079744e-01, -1.46720990e+00, -1.28511375e+00],\n",
              "       [ 1.18807255e+00, -1.29261625e+00, -3.28601864e-01, ...,\n",
              "        -1.01617781e+00, -1.27233548e+00, -1.28511375e+00],\n",
              "       ...,\n",
              "       [-8.40343999e-01,  1.40525323e+00, -3.28601864e-01, ...,\n",
              "        -1.01617781e+00,  5.28105869e-02, -3.51780710e-01],\n",
              "       [ 1.18807255e+00,  1.22834376e+00,  3.04319637e+00, ...,\n",
              "        -1.01617781e+00,  8.44074468e-04, -1.28511375e+00],\n",
              "       [-8.40343999e-01,  1.53793534e+00, -3.28601864e-01, ...,\n",
              "        -1.01617781e+00, -1.20737734e+00, -1.28511375e+00]])"
            ]
          },
          "execution_count": 79,
          "metadata": {},
          "output_type": "execute_result"
        }
      ],
      "source": [
        "x_iht = np.delete(x_instance, miss, axis = 1)\n",
        "x_iht"
      ]
    },
    {
      "cell_type": "code",
      "execution_count": null,
      "metadata": {
        "colab": {
          "base_uri": "https://localhost:8080/"
        },
        "id": "EvUMDtCQ90pJ",
        "outputId": "97bdcb6c-7f39-41cc-ded2-c126d173f2b0"
      },
      "outputs": [
        {
          "data": {
            "text/plain": [
              "7"
            ]
          },
          "execution_count": 80,
          "metadata": {},
          "output_type": "execute_result"
        }
      ],
      "source": [
        "len(x_iht[0])"
      ]
    },
    {
      "cell_type": "markdown",
      "metadata": {
        "id": "MulINd_i-Szk"
      },
      "source": [
        "**Fisher Score using Logistic Regression**"
      ]
    },
    {
      "cell_type": "code",
      "execution_count": null,
      "metadata": {
        "id": "zhRBaSDi957j"
      },
      "outputs": [],
      "source": [
        "from sklearn.linear_model import LogisticRegression\n",
        "log = LogisticRegression(random_state = 0)"
      ]
    },
    {
      "cell_type": "code",
      "execution_count": null,
      "metadata": {
        "colab": {
          "base_uri": "https://localhost:8080/"
        },
        "id": "z1DsCNm1FExj",
        "outputId": "db5adffe-09f5-4209-8257-49d87b17c36e"
      },
      "outputs": [
        {
          "name": "stdout",
          "output_type": "stream",
          "text": [
            "Acuracy using Fisher Score and Logistic Regression is :  96.0569\n",
            "Precision using Fisher Score and Logistic Regression is :  87.1605\n",
            "Recall using Fisher Score and Logistic Regression is :  73.4667\n",
            "F1 Score using Fisher Score and Logistic Regression is :  79.3645\n"
          ]
        }
      ],
      "source": [
        "ans = measure(log, x_iht, y_iht)\n",
        "\n",
        "print(\"Acuracy using Fisher Score and Logistic Regression is : \",round(ans[0]*100,4))\n",
        "print(\"Precision using Fisher Score and Logistic Regression is : \",round(ans[1]*100,4))\n",
        "\n",
        "print(\"Recall using Fisher Score and Logistic Regression is : \",round(ans[2]*100,4))\n",
        "print(\"F1 Score using Fisher Score and Logistic Regression is : \",round(ans[3]*100,4))"
      ]
    },
    {
      "cell_type": "markdown",
      "metadata": {
        "id": "-O4EpC2q-l9B"
      },
      "source": [
        "**Fisher Score using Decision Tree**"
      ]
    },
    {
      "cell_type": "code",
      "execution_count": null,
      "metadata": {
        "id": "iQsdixe2-icG"
      },
      "outputs": [],
      "source": [
        "from sklearn import tree\n",
        "clf = tree.DecisionTreeClassifier()"
      ]
    },
    {
      "cell_type": "code",
      "execution_count": null,
      "metadata": {
        "colab": {
          "base_uri": "https://localhost:8080/"
        },
        "id": "pMo-MMHZFBnt",
        "outputId": "5ad4e331-bef1-48cd-d246-c82827c3322d"
      },
      "outputs": [
        {
          "name": "stdout",
          "output_type": "stream",
          "text": [
            "Acuracy using Fisher Score  and Decision Tree is :  95.7206\n",
            "Precision using Fisher Score and Decision Tree is :  79.7253\n",
            "Recall using Fisher Score and Decision Tree is :  79.9167\n",
            "F1 Score using Fisher Score and Decision Tree is :  79.3657\n"
          ]
        }
      ],
      "source": [
        "ans = measure(clf, x_iht, y_iht)\n",
        "\n",
        "print(\"Acuracy using Fisher Score  and Decision Tree is : \",round(ans[0]*100,4))\n",
        "print(\"Precision using Fisher Score and Decision Tree is : \",round(ans[1]*100,4))\n",
        "\n",
        "print(\"Recall using Fisher Score and Decision Tree is : \",round(ans[2]*100,4))\n",
        "print(\"F1 Score using Fisher Score and Decision Tree is : \",round(ans[3]*100,4))"
      ]
    },
    {
      "cell_type": "markdown",
      "metadata": {
        "id": "0MFeTowT-04A"
      },
      "source": [
        "**Fisher Score using SVM**"
      ]
    },
    {
      "cell_type": "code",
      "execution_count": null,
      "metadata": {
        "id": "1mAmcJme-zkC"
      },
      "outputs": [],
      "source": [
        "from sklearn import svm\n",
        "cl = svm.SVC()"
      ]
    },
    {
      "cell_type": "code",
      "execution_count": null,
      "metadata": {
        "colab": {
          "base_uri": "https://localhost:8080/"
        },
        "id": "ZI7ON2ttE9nE",
        "outputId": "b5394a86-e8d9-4319-cc90-eab571411055"
      },
      "outputs": [
        {
          "name": "stdout",
          "output_type": "stream",
          "text": [
            "Acuracy using Fisher Score and SVM is :  95.5965\n",
            "Precision using Fisher Score and SVM is :  86.9083\n",
            "Recall using Fisher Score and SVM is :  68.6833\n",
            "F1 Score using Fisher Score and SVM is :  76.2901\n"
          ]
        }
      ],
      "source": [
        "ans = measure(cl, x_iht, y_iht)\n",
        "\n",
        "print(\"Acuracy using Fisher Score and SVM is : \",round(ans[0]*100,4))\n",
        "print(\"Precision using Fisher Score and SVM is : \",round(ans[1]*100,4))\n",
        "\n",
        "print(\"Recall using Fisher Score and SVM is : \",round(ans[2]*100,4))\n",
        "print(\"F1 Score using Fisher Score and SVM is : \",round(ans[3]*100,4))"
      ]
    },
    {
      "cell_type": "markdown",
      "metadata": {
        "id": "h2AwsSnw_Xik"
      },
      "source": [
        "**Fisher Score using Naive Bayes**"
      ]
    },
    {
      "cell_type": "code",
      "execution_count": null,
      "metadata": {
        "id": "_To1CmTH_DT_"
      },
      "outputs": [],
      "source": [
        "from sklearn.naive_bayes import GaussianNB\n",
        "gnb = GaussianNB()"
      ]
    },
    {
      "cell_type": "code",
      "execution_count": null,
      "metadata": {
        "colab": {
          "base_uri": "https://localhost:8080/"
        },
        "id": "j_vK1igRFJZ1",
        "outputId": "16d63149-bd92-4ab3-906d-89a146c43c70"
      },
      "outputs": [
        {
          "name": "stdout",
          "output_type": "stream",
          "text": [
            "Acuracy using Fisher Score and Naive Bayes is :  95.0503\n",
            "Precision using Fisher Score and Naive Bayes is :  77.4858\n",
            "Recall using Fisher Score and Naive Bayes is :  75.8833\n",
            "F1 Score using Fisher Score and Naive Bayes is :  76.2029\n"
          ]
        }
      ],
      "source": [
        "ans = measure(gnb, x_iht, y_iht)\n",
        "\n",
        "print(\"Acuracy using Fisher Score and Naive Bayes is : \",round(ans[0]*100,4))\n",
        "print(\"Precision using Fisher Score and Naive Bayes is : \",round(ans[1]*100,4))\n",
        "\n",
        "print(\"Recall using Fisher Score and Naive Bayes is : \",round(ans[2]*100,4))\n",
        "print(\"F1 Score using Fisher Score and Naive Bayes is : \",round(ans[3]*100,4))"
      ]
    },
    {
      "cell_type": "markdown",
      "metadata": {
        "id": "fljEn4Lv_kjp"
      },
      "source": [
        "**Fisher Score using Random Forest**"
      ]
    },
    {
      "cell_type": "code",
      "execution_count": null,
      "metadata": {
        "id": "GFq27JZV_jzh"
      },
      "outputs": [],
      "source": [
        "from sklearn.ensemble import RandomForestClassifier\n",
        "rf = RandomForestClassifier(random_state=0)"
      ]
    },
    {
      "cell_type": "code",
      "execution_count": null,
      "metadata": {
        "colab": {
          "base_uri": "https://localhost:8080/"
        },
        "id": "P3bAhLchFOpp",
        "outputId": "1c7b8011-8e72-4cd0-f73e-42158643e617"
      },
      "outputs": [
        {
          "name": "stdout",
          "output_type": "stream",
          "text": [
            "Acuracy using Fisher Score and Random Forest is :  97.1889\n",
            "Precision using Fisher Score and Random Forest is :  91.8115\n",
            "Recall using Fisher Score and Random Forest is :  80.3333\n",
            "F1 Score using Fisher Score and Random Forest is :  85.5426\n"
          ]
        }
      ],
      "source": [
        "ans = measure(rf, x_iht, y_iht)\n",
        "\n",
        "print(\"Acuracy using Fisher Score and Random Forest is : \",round(ans[0]*100,4))\n",
        "print(\"Precision using Fisher Score and Random Forest is : \",round(ans[1]*100,4))\n",
        "\n",
        "print(\"Recall using Fisher Score and Random Forest is : \",round(ans[2]*100,4))\n",
        "print(\"F1 Score using Fisher Score and Random Forest is : \",round(ans[3]*100,4))"
      ]
    },
    {
      "cell_type": "markdown",
      "metadata": {
        "id": "4c96Hj1q_yxp"
      },
      "source": [
        "**Fisher Score using KNN**"
      ]
    },
    {
      "cell_type": "code",
      "execution_count": null,
      "metadata": {
        "id": "sVIw266X_x81"
      },
      "outputs": [],
      "source": [
        "from sklearn.neighbors import KNeighborsClassifier\n",
        "knn = KNeighborsClassifier()"
      ]
    },
    {
      "cell_type": "code",
      "execution_count": null,
      "metadata": {
        "colab": {
          "base_uri": "https://localhost:8080/"
        },
        "id": "ZXSVmOBWFR7L",
        "outputId": "2f8c4afd-cdd0-4b0a-f5b5-f0324b4ac658"
      },
      "outputs": [
        {
          "name": "stdout",
          "output_type": "stream",
          "text": [
            "Acuracy using Fisher Score and KNN is :  95.093\n",
            "Precision using Fisher Score and KNN is :  83.8579\n",
            "Recall using Fisher Score and KNN is :  66.3167\n",
            "F1 Score using Fisher Score and KNN is :  73.4608\n"
          ]
        }
      ],
      "source": [
        "ans = measure(knn, x_iht, y_iht)\n",
        "\n",
        "print(\"Acuracy using Fisher Score and KNN is : \",round(ans[0]*100,4))\n",
        "print(\"Precision using Fisher Score and KNN is : \",round(ans[1]*100,4))\n",
        "\n",
        "print(\"Recall using Fisher Score and KNN is : \",round(ans[2]*100,4))\n",
        "print(\"F1 Score using Fisher Score and KNN is : \",round(ans[3]*100,4))"
      ]
    },
    {
      "cell_type": "markdown",
      "metadata": {
        "id": "l7CKfoteBGHN"
      },
      "source": [
        "# **Variance Threshold**"
      ]
    },
    {
      "cell_type": "code",
      "execution_count": null,
      "metadata": {
        "id": "Xok61ulb_8jA"
      },
      "outputs": [],
      "source": [
        "from sklearn.feature_selection import VarianceThreshold"
      ]
    },
    {
      "cell_type": "code",
      "execution_count": null,
      "metadata": {
        "id": "6lf2ZuIlBNLq"
      },
      "outputs": [],
      "source": [
        "v_threshold = VarianceThreshold(threshold = 0.6)"
      ]
    },
    {
      "cell_type": "code",
      "execution_count": null,
      "metadata": {
        "colab": {
          "base_uri": "https://localhost:8080/"
        },
        "id": "g-HDzTGGBTvN",
        "outputId": "e4389303-8a10-4994-ef01-47523aeea2ee"
      },
      "outputs": [
        {
          "data": {
            "text/plain": [
              "VarianceThreshold(threshold=0.6)"
            ]
          },
          "execution_count": 95,
          "metadata": {},
          "output_type": "execute_result"
        }
      ],
      "source": [
        "v_threshold.fit(x_instance)"
      ]
    },
    {
      "cell_type": "code",
      "execution_count": null,
      "metadata": {
        "colab": {
          "base_uri": "https://localhost:8080/"
        },
        "id": "JZu6cTbJBWcL",
        "outputId": "f2a663bf-c2a7-4f20-a170-7d3c945de8ce"
      },
      "outputs": [
        {
          "data": {
            "text/plain": [
              "array([ True,  True, False, False,  True,  True,  True, False,  True,\n",
              "        True])"
            ]
          },
          "execution_count": 96,
          "metadata": {},
          "output_type": "execute_result"
        }
      ],
      "source": [
        "v_threshold.get_support()"
      ]
    },
    {
      "cell_type": "markdown",
      "metadata": {
        "id": "gRg4h1_HCNhv"
      },
      "source": [
        "**Removes those columns whose variance doesn't cross the threshold value**\n",
        "\n",
        "Hyper Tension, Heart Disease and Avg_glucose_level doesn't satisfy this"
      ]
    },
    {
      "cell_type": "code",
      "execution_count": null,
      "metadata": {
        "colab": {
          "base_uri": "https://localhost:8080/"
        },
        "id": "9SRTKoEnBa7f",
        "outputId": "ad4a9e33-a453-480f-b3d6-dd594b8d387d"
      },
      "outputs": [
        {
          "data": {
            "text/plain": [
              "10"
            ]
          },
          "execution_count": 97,
          "metadata": {},
          "output_type": "execute_result"
        }
      ],
      "source": [
        "len(x_instance[0])"
      ]
    },
    {
      "cell_type": "code",
      "execution_count": null,
      "metadata": {
        "id": "auL30nQKju4F"
      },
      "outputs": [],
      "source": [
        "miss = []\n",
        "for i in range(0,len(v_threshold.get_support())):\n",
        "  if(v_threshold.get_support()[i] == False):\n",
        "    miss.append(i)\n",
        "  #print(v_threshold.get_support()[i])"
      ]
    },
    {
      "cell_type": "code",
      "execution_count": null,
      "metadata": {
        "colab": {
          "base_uri": "https://localhost:8080/"
        },
        "id": "MBvTc2ylkEGh",
        "outputId": "ab59370b-7a30-4e0b-bea7-a0bde438828d"
      },
      "outputs": [
        {
          "data": {
            "text/plain": [
              "[2, 3, 7]"
            ]
          },
          "execution_count": 99,
          "metadata": {},
          "output_type": "execute_result"
        }
      ],
      "source": [
        "miss"
      ]
    },
    {
      "cell_type": "code",
      "execution_count": null,
      "metadata": {
        "colab": {
          "base_uri": "https://localhost:8080/"
        },
        "id": "bQSFqpIOCeuU",
        "outputId": "2a9ced7f-61d0-4421-9616-de4009be97ac"
      },
      "outputs": [
        {
          "data": {
            "text/plain": [
              "array([[ 1.18807255e+00, -1.77911731e+00, -1.38143640e+00, ...,\n",
              "        -1.01617781e+00, -1.41524339e+00, -1.28511375e+00],\n",
              "       [-8.40343999e-01, -1.55798046e+00, -1.38143640e+00, ...,\n",
              "         9.84079744e-01, -1.46720990e+00, -1.28511375e+00],\n",
              "       [ 1.18807255e+00, -1.29261625e+00, -1.38143640e+00, ...,\n",
              "        -1.01617781e+00, -1.27233548e+00, -1.28511375e+00],\n",
              "       ...,\n",
              "       [-8.40343999e-01,  1.40525323e+00,  7.23884211e-01, ...,\n",
              "        -1.01617781e+00,  5.28105869e-02, -3.51780710e-01],\n",
              "       [ 1.18807255e+00,  1.22834376e+00,  7.23884211e-01, ...,\n",
              "        -1.01617781e+00,  8.44074468e-04, -1.28511375e+00],\n",
              "       [-8.40343999e-01,  1.53793534e+00,  7.23884211e-01, ...,\n",
              "        -1.01617781e+00, -1.20737734e+00, -1.28511375e+00]])"
            ]
          },
          "execution_count": 100,
          "metadata": {},
          "output_type": "execute_result"
        }
      ],
      "source": [
        "x_iht = np.delete(x_instance,miss , axis = 1)\n",
        "x_iht"
      ]
    },
    {
      "cell_type": "code",
      "execution_count": null,
      "metadata": {
        "colab": {
          "base_uri": "https://localhost:8080/"
        },
        "id": "hzMvu3lDClc2",
        "outputId": "e863072f-f4b2-47b3-dceb-9b2d52f57146"
      },
      "outputs": [
        {
          "data": {
            "text/plain": [
              "7"
            ]
          },
          "execution_count": 101,
          "metadata": {},
          "output_type": "execute_result"
        }
      ],
      "source": [
        "len(x_iht[0])"
      ]
    },
    {
      "cell_type": "markdown",
      "metadata": {
        "id": "ybm7Dm53Cn3e"
      },
      "source": [
        "**Variance Threshold using Logistic Regression**"
      ]
    },
    {
      "cell_type": "code",
      "execution_count": null,
      "metadata": {
        "id": "bKJAxI6ACrOB"
      },
      "outputs": [],
      "source": [
        "from sklearn.linear_model import LogisticRegression\n",
        "log = LogisticRegression(random_state = 0)"
      ]
    },
    {
      "cell_type": "code",
      "execution_count": null,
      "metadata": {
        "colab": {
          "base_uri": "https://localhost:8080/"
        },
        "id": "MEIF4lu4F3i-",
        "outputId": "ad090481-28bd-4995-89b8-289fea27ae23"
      },
      "outputs": [
        {
          "name": "stdout",
          "output_type": "stream",
          "text": [
            "Acuracy using Variance Threshold and Logistic Regression is :  95.4697\n",
            "Precision using Variance Threshold and Logistic Regression is :  84.0121\n",
            "Recall using Variance Threshold and Logistic Regression is :  70.6333\n",
            "F1 Score using Variance Threshold and Logistic Regression is :  76.3658\n"
          ]
        }
      ],
      "source": [
        "ans = measure(log, x_iht, y_iht)\n",
        "\n",
        "print(\"Acuracy using Variance Threshold and Logistic Regression is : \",round(ans[0]*100,4))\n",
        "print(\"Precision using Variance Threshold and Logistic Regression is : \",round(ans[1]*100,4))\n",
        "\n",
        "print(\"Recall using Variance Threshold and Logistic Regression is : \",round(ans[2]*100,4))\n",
        "print(\"F1 Score using Variance Threshold and Logistic Regression is : \",round(ans[3]*100,4))"
      ]
    },
    {
      "cell_type": "markdown",
      "metadata": {
        "id": "IYiSNiybCrzw"
      },
      "source": [
        "**Variance Threshold using Decision Tree**"
      ]
    },
    {
      "cell_type": "code",
      "execution_count": null,
      "metadata": {
        "id": "QCGzD5kRCuI9"
      },
      "outputs": [],
      "source": [
        "from sklearn import tree\n",
        "clf = tree.DecisionTreeClassifier()"
      ]
    },
    {
      "cell_type": "code",
      "execution_count": null,
      "metadata": {
        "colab": {
          "base_uri": "https://localhost:8080/"
        },
        "id": "b16cFelsGDRb",
        "outputId": "d4d5f041-ed17-41c0-9fa6-ce5e83c3d410"
      },
      "outputs": [
        {
          "name": "stdout",
          "output_type": "stream",
          "text": [
            "Acuracy using Variance Threshold  and Decision Tree is :  95.6373\n",
            "Precision using Variance Threshold and Decision Tree is :  78.0808\n",
            "Recall using Variance Threshold and Decision Tree is :  79.55\n",
            "F1 Score using Variance Threshold and Decision Tree is :  78.0238\n"
          ]
        }
      ],
      "source": [
        "ans = measure(clf, x_iht, y_iht)\n",
        "\n",
        "print(\"Acuracy using Variance Threshold  and Decision Tree is : \",round(ans[0]*100,4))\n",
        "print(\"Precision using Variance Threshold and Decision Tree is : \",round(ans[1]*100,4))\n",
        "\n",
        "print(\"Recall using Variance Threshold and Decision Tree is : \",round(ans[2]*100,4))\n",
        "print(\"F1 Score using Variance Threshold and Decision Tree is : \",round(ans[3]*100,4))"
      ]
    },
    {
      "cell_type": "markdown",
      "metadata": {
        "id": "RMXBisXHCveh"
      },
      "source": [
        "**Variance Threshold using SVM**"
      ]
    },
    {
      "cell_type": "code",
      "execution_count": null,
      "metadata": {
        "id": "XXV59Rv3C0ZA"
      },
      "outputs": [],
      "source": [
        "from sklearn import svm\n",
        "cl = svm.SVC()"
      ]
    },
    {
      "cell_type": "code",
      "execution_count": null,
      "metadata": {
        "colab": {
          "base_uri": "https://localhost:8080/"
        },
        "id": "xBRXQdpnGLP4",
        "outputId": "7829d338-646e-4a89-ec1f-417b3459c215"
      },
      "outputs": [
        {
          "name": "stdout",
          "output_type": "stream",
          "text": [
            "Acuracy using Variance Threshold and SVM is :  95.8474\n",
            "Precision using Variance Threshold and SVM is :  89.6971\n",
            "Recall using Variance Threshold and SVM is :  68.2333\n",
            "F1 Score using Variance Threshold and SVM is :  77.1006\n"
          ]
        }
      ],
      "source": [
        "ans = measure(cl, x_iht, y_iht)\n",
        "\n",
        "print(\"Acuracy using Variance Threshold and SVM is : \",round(ans[0]*100,4))\n",
        "print(\"Precision using Variance Threshold and SVM is : \",round(ans[1]*100,4))\n",
        "\n",
        "print(\"Recall using Variance Threshold and SVM is : \",round(ans[2]*100,4))\n",
        "print(\"F1 Score using Variance Threshold and SVM is : \",round(ans[3]*100,4))"
      ]
    },
    {
      "cell_type": "markdown",
      "metadata": {
        "id": "mhh-yVr4C1Fr"
      },
      "source": [
        "**Variance Threshold using Naive Bayes**"
      ]
    },
    {
      "cell_type": "code",
      "execution_count": null,
      "metadata": {
        "id": "olw0gRTwC49A"
      },
      "outputs": [],
      "source": [
        "from sklearn.naive_bayes import GaussianNB\n",
        "gnb = GaussianNB()"
      ]
    },
    {
      "cell_type": "code",
      "execution_count": null,
      "metadata": {
        "colab": {
          "base_uri": "https://localhost:8080/"
        },
        "id": "w1ov-THgGWt6",
        "outputId": "119eb877-13c8-45ea-b667-95e732e58b87"
      },
      "outputs": [
        {
          "name": "stdout",
          "output_type": "stream",
          "text": [
            "Acuracy using Variance Threshold and Naive Bayes is :  92.2406\n",
            "Precision using Variance Threshold and Naive Bayes is :  59.3016\n",
            "Recall using Variance Threshold and Naive Bayes is :  86.7333\n",
            "F1 Score using Variance Threshold and Naive Bayes is :  70.2541\n"
          ]
        }
      ],
      "source": [
        "ans = measure(gnb, x_iht, y_iht)\n",
        "\n",
        "print(\"Acuracy using Variance Threshold and Naive Bayes is : \",round(ans[0]*100,4))\n",
        "print(\"Precision using Variance Threshold and Naive Bayes is : \",round(ans[1]*100,4))\n",
        "\n",
        "print(\"Recall using Variance Threshold and Naive Bayes is : \",round(ans[2]*100,4))\n",
        "print(\"F1 Score using Variance Threshold and Naive Bayes is : \",round(ans[3]*100,4))"
      ]
    },
    {
      "cell_type": "markdown",
      "metadata": {
        "id": "Hh9T9PWZC5UQ"
      },
      "source": [
        "**Variance Threshold using Random Forest**"
      ]
    },
    {
      "cell_type": "code",
      "execution_count": null,
      "metadata": {
        "id": "a-Z_5PPQC84L"
      },
      "outputs": [],
      "source": [
        "from sklearn.ensemble import RandomForestClassifier\n",
        "rf = RandomForestClassifier(random_state=0)"
      ]
    },
    {
      "cell_type": "code",
      "execution_count": null,
      "metadata": {
        "colab": {
          "base_uri": "https://localhost:8080/"
        },
        "id": "fzu09BK6GgI_",
        "outputId": "5b9a05c8-de18-4b0c-ce71-eef315692d11"
      },
      "outputs": [
        {
          "name": "stdout",
          "output_type": "stream",
          "text": [
            "Acuracy using Variance Threshold and Random Forest is :  96.9794\n",
            "Precision using Variance Threshold and Random Forest is :  93.3602\n",
            "Recall using Variance Threshold and Random Forest is :  76.6833\n",
            "F1 Score using Variance Threshold and Random Forest is :  84.0239\n"
          ]
        }
      ],
      "source": [
        "ans = measure(rf, x_iht, y_iht)\n",
        "\n",
        "print(\"Acuracy using Variance Threshold and Random Forest is : \",round(ans[0]*100,4))\n",
        "print(\"Precision using Variance Threshold and Random Forest is : \",round(ans[1]*100,4))\n",
        "\n",
        "print(\"Recall using Variance Threshold and Random Forest is : \",round(ans[2]*100,4))\n",
        "print(\"F1 Score using Variance Threshold and Random Forest is : \",round(ans[3]*100,4))"
      ]
    },
    {
      "cell_type": "markdown",
      "metadata": {
        "id": "hPDUbb_KC9lP"
      },
      "source": [
        "**Variance Threshold using KNN**"
      ]
    },
    {
      "cell_type": "code",
      "execution_count": null,
      "metadata": {
        "id": "fpuJHR91DAWh"
      },
      "outputs": [],
      "source": [
        "from sklearn.neighbors import KNeighborsClassifier\n",
        "knn = KNeighborsClassifier()"
      ]
    },
    {
      "cell_type": "code",
      "execution_count": null,
      "metadata": {
        "colab": {
          "base_uri": "https://localhost:8080/"
        },
        "id": "StTFnwwbGqPf",
        "outputId": "5485326f-e9c7-4804-ab4a-042518dfa1e4"
      },
      "outputs": [
        {
          "name": "stdout",
          "output_type": "stream",
          "text": [
            "Acuracy using Variance Threshold and KNN is :  95.1343\n",
            "Precision using Variance Threshold and KNN is :  89.7046\n",
            "Recall using Variance Threshold and KNN is :  60.6\n",
            "F1 Score using Variance Threshold and KNN is :  71.9647\n"
          ]
        }
      ],
      "source": [
        "ans = measure(knn, x_iht, y_iht)\n",
        "\n",
        "print(\"Acuracy using Variance Threshold and KNN is : \",round(ans[0]*100,4))\n",
        "print(\"Precision using Variance Threshold and KNN is : \",round(ans[1]*100,4))\n",
        "\n",
        "print(\"Recall using Variance Threshold and KNN is : \",round(ans[2]*100,4))\n",
        "print(\"F1 Score using Variance Threshold and KNN is : \",round(ans[3]*100,4))"
      ]
    },
    {
      "cell_type": "markdown",
      "metadata": {
        "id": "T2mVU-T0GK90"
      },
      "source": [
        "# **Forward Feature Selection**"
      ]
    },
    {
      "cell_type": "markdown",
      "metadata": {
        "id": "aD0mo1i9HFic"
      },
      "source": [
        "**Forward Feature Selection using Logistic Regression**"
      ]
    },
    {
      "cell_type": "code",
      "execution_count": null,
      "metadata": {
        "id": "VpyujMm-LYmA"
      },
      "outputs": [],
      "source": [
        "import joblib\n",
        "import sys\n",
        "\n",
        "sys.modules['sklearn.externals.joblib'] = joblib"
      ]
    },
    {
      "cell_type": "code",
      "execution_count": null,
      "metadata": {
        "id": "LuOMUJWfDA80"
      },
      "outputs": [],
      "source": [
        "from mlxtend.feature_selection import SequentialFeatureSelector as sfs\n",
        "from sklearn.linear_model import LogisticRegression"
      ]
    },
    {
      "cell_type": "code",
      "execution_count": null,
      "metadata": {
        "id": "lg4my6jNGNwp"
      },
      "outputs": [],
      "source": [
        "log = LogisticRegression(random_state = 0)\n",
        "sfs1 = sfs(log, k_features=7, forward=True, verbose=2, scoring='neg_mean_squared_error')"
      ]
    },
    {
      "cell_type": "code",
      "execution_count": null,
      "metadata": {
        "colab": {
          "base_uri": "https://localhost:8080/"
        },
        "id": "lUhB_YvjGcL5",
        "outputId": "914d5595-6cef-4bbd-b41e-10a7bab06b81"
      },
      "outputs": [
        {
          "name": "stderr",
          "output_type": "stream",
          "text": [
            "[Parallel(n_jobs=1)]: Using backend SequentialBackend with 1 concurrent workers.\n",
            "[Parallel(n_jobs=1)]: Done   1 out of   1 | elapsed:    0.0s remaining:    0.0s\n",
            "[Parallel(n_jobs=1)]: Done  10 out of  10 | elapsed:    0.3s finished\n",
            "\n",
            "[2022-11-13 14:26:15] Features: 1/7 -- score: -0.04949791237249617[Parallel(n_jobs=1)]: Using backend SequentialBackend with 1 concurrent workers.\n",
            "[Parallel(n_jobs=1)]: Done   1 out of   1 | elapsed:    0.0s remaining:    0.0s\n",
            "[Parallel(n_jobs=1)]: Done   9 out of   9 | elapsed:    0.3s finished\n",
            "\n",
            "[2022-11-13 14:26:15] Features: 2/7 -- score: -0.037330655532653315[Parallel(n_jobs=1)]: Using backend SequentialBackend with 1 concurrent workers.\n",
            "[Parallel(n_jobs=1)]: Done   1 out of   1 | elapsed:    0.0s remaining:    0.0s\n",
            "[Parallel(n_jobs=1)]: Done   8 out of   8 | elapsed:    0.3s finished\n",
            "\n",
            "[2022-11-13 14:26:16] Features: 3/7 -- score: -0.03355707062699294[Parallel(n_jobs=1)]: Using backend SequentialBackend with 1 concurrent workers.\n",
            "[Parallel(n_jobs=1)]: Done   1 out of   1 | elapsed:    0.0s remaining:    0.0s\n",
            "[Parallel(n_jobs=1)]: Done   7 out of   7 | elapsed:    0.3s finished\n",
            "\n",
            "[2022-11-13 14:26:16] Features: 4/7 -- score: -0.03313778341525289[Parallel(n_jobs=1)]: Using backend SequentialBackend with 1 concurrent workers.\n",
            "[Parallel(n_jobs=1)]: Done   1 out of   1 | elapsed:    0.1s remaining:    0.0s\n",
            "[Parallel(n_jobs=1)]: Done   6 out of   6 | elapsed:    0.4s finished\n",
            "\n",
            "[2022-11-13 14:26:16] Features: 5/7 -- score: -0.032718496203512845[Parallel(n_jobs=1)]: Using backend SequentialBackend with 1 concurrent workers.\n",
            "[Parallel(n_jobs=1)]: Done   1 out of   1 | elapsed:    0.1s remaining:    0.0s\n",
            "[Parallel(n_jobs=1)]: Done   5 out of   5 | elapsed:    0.3s finished\n",
            "\n",
            "[2022-11-13 14:26:17] Features: 6/7 -- score: -0.032298328136285956[Parallel(n_jobs=1)]: Using backend SequentialBackend with 1 concurrent workers.\n",
            "[Parallel(n_jobs=1)]: Done   1 out of   1 | elapsed:    0.1s remaining:    0.0s\n",
            "[Parallel(n_jobs=1)]: Done   4 out of   4 | elapsed:    0.3s finished\n",
            "\n",
            "[2022-11-13 14:26:17] Features: 7/7 -- score: -0.03229920899177281"
          ]
        }
      ],
      "source": [
        "sfs1 = sfs1.fit(x_instance, y_iht)"
      ]
    },
    {
      "cell_type": "code",
      "execution_count": null,
      "metadata": {
        "colab": {
          "base_uri": "https://localhost:8080/"
        },
        "id": "VQGUmRdCGg6v",
        "outputId": "ce5b6447-c9b9-4a33-e55c-7dc70b6b48f5"
      },
      "outputs": [
        {
          "name": "stdout",
          "output_type": "stream",
          "text": [
            "['0', '1', '2', '3', '5', '7', '9']\n"
          ]
        }
      ],
      "source": [
        "feat_names = list(sfs1.k_feature_names_)\n",
        "print(feat_names)"
      ]
    },
    {
      "cell_type": "code",
      "execution_count": null,
      "metadata": {
        "colab": {
          "base_uri": "https://localhost:8080/"
        },
        "id": "Wk4pmTHPovH2",
        "outputId": "1d7fb53c-500a-47ee-989f-24271090740e"
      },
      "outputs": [
        {
          "data": {
            "text/plain": [
              "[0, 1, 2, 3, 5, 7, 9]"
            ]
          },
          "execution_count": 119,
          "metadata": {},
          "output_type": "execute_result"
        }
      ],
      "source": [
        "for i in range(0,len(feat_names)):\n",
        "  feat_names[i] = int(feat_names[i])\n",
        "feat_names"
      ]
    },
    {
      "cell_type": "code",
      "execution_count": null,
      "metadata": {
        "id": "5vszOSk7o4Wf"
      },
      "outputs": [],
      "source": [
        "miss = []\n",
        "actual = [0,1,2,3,4,5,6,7,8,9]\n",
        "for i in range(0,len(actual)):\n",
        "  if(actual[i] not in feat_names):\n",
        "    miss.append(i)"
      ]
    },
    {
      "cell_type": "code",
      "execution_count": null,
      "metadata": {
        "colab": {
          "base_uri": "https://localhost:8080/"
        },
        "id": "s0lq2XGspCaT",
        "outputId": "68b734a1-97da-40a2-c1d5-fac145c62e07"
      },
      "outputs": [
        {
          "data": {
            "text/plain": [
              "[4, 6, 8]"
            ]
          },
          "execution_count": 121,
          "metadata": {},
          "output_type": "execute_result"
        }
      ],
      "source": [
        "miss"
      ]
    },
    {
      "cell_type": "code",
      "execution_count": null,
      "metadata": {
        "colab": {
          "base_uri": "https://localhost:8080/"
        },
        "id": "64sn9kLrGn1p",
        "outputId": "b45e3093-9fea-4aef-a33c-9b8370f29da6"
      },
      "outputs": [
        {
          "data": {
            "text/plain": [
              "10"
            ]
          },
          "execution_count": 122,
          "metadata": {},
          "output_type": "execute_result"
        }
      ],
      "source": [
        "len(x_instance[0])"
      ]
    },
    {
      "cell_type": "code",
      "execution_count": null,
      "metadata": {
        "colab": {
          "base_uri": "https://localhost:8080/"
        },
        "id": "TdBia4icHNMa",
        "outputId": "c8364976-9480-4e6a-c068-99773b8b91e7"
      },
      "outputs": [
        {
          "data": {
            "text/plain": [
              "array([[ 1.18807255, -1.77911731, -0.32860186, ...,  1.68071161,\n",
              "        -0.24354879, -1.28511375],\n",
              "       [-0.840344  , -1.55798046, -0.32860186, ..., -0.15383636,\n",
              "         0.10473529, -1.28511375],\n",
              "       [ 1.18807255, -1.29261625, -0.32860186, ..., -1.07111035,\n",
              "         1.21761006, -1.28511375],\n",
              "       ...,\n",
              "       [-0.840344  ,  1.40525323, -0.32860186, ...,  0.76343762,\n",
              "        -0.60397975, -0.35178071],\n",
              "       [ 1.18807255,  1.22834376,  3.04319637, ...,  0.76343762,\n",
              "        -0.40521268, -1.28511375],\n",
              "       [-0.840344  ,  1.53793534, -0.32860186, ..., -0.15383636,\n",
              "        -0.6037589 , -1.28511375]])"
            ]
          },
          "execution_count": 123,
          "metadata": {},
          "output_type": "execute_result"
        }
      ],
      "source": [
        "x_iht = np.delete(x_instance, miss, axis = 1)\n",
        "x_iht"
      ]
    },
    {
      "cell_type": "code",
      "execution_count": null,
      "metadata": {
        "id": "0b033NKvHS3E"
      },
      "outputs": [],
      "source": [
        "from sklearn.linear_model import LogisticRegression\n",
        "log = LogisticRegression(random_state = 0)"
      ]
    },
    {
      "cell_type": "code",
      "execution_count": null,
      "metadata": {
        "colab": {
          "base_uri": "https://localhost:8080/"
        },
        "id": "zk3Vd7ZiHA6E",
        "outputId": "2f03b591-cdea-45b9-dd10-1056ecae6453"
      },
      "outputs": [
        {
          "name": "stdout",
          "output_type": "stream",
          "text": [
            "Acuracy using Forward Feature Selection and Logistic Regression is :  96.6858\n",
            "Precision using Forward Feature Selection and Logistic Regression is :  89.3212\n",
            "Recall using Forward Feature Selection and Logistic Regression is :  77.85\n",
            "F1 Score using Forward Feature Selection and Logistic Regression is :  82.8478\n"
          ]
        }
      ],
      "source": [
        "ans = measure(log, x_iht, y_iht)\n",
        "\n",
        "print(\"Acuracy using Forward Feature Selection and Logistic Regression is : \",round(ans[0]*100,4))\n",
        "print(\"Precision using Forward Feature Selection and Logistic Regression is : \",round(ans[1]*100,4))\n",
        "\n",
        "print(\"Recall using Forward Feature Selection and Logistic Regression is : \",round(ans[2]*100,4))\n",
        "print(\"F1 Score using Forward Feature Selection and Logistic Regression is : \",round(ans[3]*100,4))"
      ]
    },
    {
      "cell_type": "markdown",
      "metadata": {
        "id": "NjWH7SANHqSb"
      },
      "source": [
        "**Feature Selection using Decision Tree**"
      ]
    },
    {
      "cell_type": "code",
      "execution_count": null,
      "metadata": {
        "id": "n6hYeSj7HdA_"
      },
      "outputs": [],
      "source": [
        "from mlxtend.feature_selection import SequentialFeatureSelector as sfs\n",
        "from sklearn import tree"
      ]
    },
    {
      "cell_type": "code",
      "execution_count": null,
      "metadata": {
        "id": "33yWoquFHy3D"
      },
      "outputs": [],
      "source": [
        "clf = tree.DecisionTreeClassifier()\n",
        "sfs1 = sfs(clf, k_features=7, forward=True, verbose=2, scoring='neg_mean_squared_error')"
      ]
    },
    {
      "cell_type": "code",
      "execution_count": null,
      "metadata": {
        "colab": {
          "base_uri": "https://localhost:8080/"
        },
        "id": "XRJ1SlnOH4Pm",
        "outputId": "b63a4cf5-16c4-490f-bfce-a21d3fec2fe8"
      },
      "outputs": [
        {
          "name": "stderr",
          "output_type": "stream",
          "text": [
            "[Parallel(n_jobs=1)]: Using backend SequentialBackend with 1 concurrent workers.\n",
            "[Parallel(n_jobs=1)]: Done   1 out of   1 | elapsed:    0.0s remaining:    0.0s\n",
            "[Parallel(n_jobs=1)]: Done  10 out of  10 | elapsed:    0.1s finished\n",
            "\n",
            "[2022-11-13 14:26:18] Features: 1/7 -- score: -0.03984814051406726[Parallel(n_jobs=1)]: Using backend SequentialBackend with 1 concurrent workers.\n",
            "[Parallel(n_jobs=1)]: Done   1 out of   1 | elapsed:    0.0s remaining:    0.0s\n",
            "[Parallel(n_jobs=1)]: Done   9 out of   9 | elapsed:    0.1s finished\n",
            "\n",
            "[2022-11-13 14:26:18] Features: 2/7 -- score: -0.035654387541179985[Parallel(n_jobs=1)]: Using backend SequentialBackend with 1 concurrent workers.\n",
            "[Parallel(n_jobs=1)]: Done   1 out of   1 | elapsed:    0.0s remaining:    0.0s\n",
            "[Parallel(n_jobs=1)]: Done   8 out of   8 | elapsed:    0.1s finished\n",
            "\n",
            "[2022-11-13 14:26:18] Features: 3/7 -- score: -0.03355795148247979[Parallel(n_jobs=1)]: Using backend SequentialBackend with 1 concurrent workers.\n",
            "[Parallel(n_jobs=1)]: Done   1 out of   1 | elapsed:    0.0s remaining:    0.0s\n",
            "[Parallel(n_jobs=1)]: Done   7 out of   7 | elapsed:    0.1s finished\n",
            "\n",
            "[2022-11-13 14:26:18] Features: 4/7 -- score: -0.033138664270739734[Parallel(n_jobs=1)]: Using backend SequentialBackend with 1 concurrent workers.\n",
            "[Parallel(n_jobs=1)]: Done   1 out of   1 | elapsed:    0.0s remaining:    0.0s\n",
            "[Parallel(n_jobs=1)]: Done   6 out of   6 | elapsed:    0.1s finished\n",
            "\n",
            "[2022-11-13 14:26:18] Features: 5/7 -- score: -0.031879921780032766[Parallel(n_jobs=1)]: Using backend SequentialBackend with 1 concurrent workers.\n",
            "[Parallel(n_jobs=1)]: Done   1 out of   1 | elapsed:    0.0s remaining:    0.0s\n",
            "[Parallel(n_jobs=1)]: Done   5 out of   5 | elapsed:    0.1s finished\n",
            "\n",
            "[2022-11-13 14:26:18] Features: 6/7 -- score: -0.03397723869421983[Parallel(n_jobs=1)]: Using backend SequentialBackend with 1 concurrent workers.\n",
            "[Parallel(n_jobs=1)]: Done   1 out of   1 | elapsed:    0.0s remaining:    0.0s\n",
            "[Parallel(n_jobs=1)]: Done   4 out of   4 | elapsed:    0.1s finished\n",
            "\n",
            "[2022-11-13 14:26:19] Features: 7/7 -- score: -0.03607807903035428"
          ]
        }
      ],
      "source": [
        "sfs1 = sfs1.fit(x_instance, y_iht)"
      ]
    },
    {
      "cell_type": "code",
      "execution_count": null,
      "metadata": {
        "colab": {
          "base_uri": "https://localhost:8080/"
        },
        "id": "k7L0sXgYH6oe",
        "outputId": "b0602634-22ee-4102-a0db-2f5eb16411bd"
      },
      "outputs": [
        {
          "name": "stdout",
          "output_type": "stream",
          "text": [
            "['0', '1', '2', '3', '4', '5', '9']\n"
          ]
        }
      ],
      "source": [
        "feat_names = list(sfs1.k_feature_names_)\n",
        "print(feat_names)"
      ]
    },
    {
      "cell_type": "code",
      "execution_count": null,
      "metadata": {
        "colab": {
          "base_uri": "https://localhost:8080/"
        },
        "id": "-vlcByF6pU3J",
        "outputId": "207a9b78-8984-4ebf-811a-6a31c3833d30"
      },
      "outputs": [
        {
          "data": {
            "text/plain": [
              "[0, 1, 2, 3, 4, 5, 9]"
            ]
          },
          "execution_count": 130,
          "metadata": {},
          "output_type": "execute_result"
        }
      ],
      "source": [
        "for i in range(0,len(feat_names)):\n",
        "  feat_names[i] = int(feat_names[i])\n",
        "feat_names"
      ]
    },
    {
      "cell_type": "code",
      "execution_count": null,
      "metadata": {
        "colab": {
          "base_uri": "https://localhost:8080/"
        },
        "id": "mrp9ArV-pUr0",
        "outputId": "76359025-f467-4ce4-8632-e00127a31b4d"
      },
      "outputs": [
        {
          "data": {
            "text/plain": [
              "[6, 7, 8]"
            ]
          },
          "execution_count": 131,
          "metadata": {},
          "output_type": "execute_result"
        }
      ],
      "source": [
        "miss = []\n",
        "actual = [0,1,2,3,4,5,6,7,8,9]\n",
        "for i in range(0,len(actual)):\n",
        "  if(actual[i] not in feat_names):\n",
        "    miss.append(i)\n",
        "\n",
        "miss"
      ]
    },
    {
      "cell_type": "code",
      "execution_count": null,
      "metadata": {
        "colab": {
          "base_uri": "https://localhost:8080/"
        },
        "id": "vWzu6JXsH9h4",
        "outputId": "63f9ae3f-e372-4cf1-933d-523c6ec466e9"
      },
      "outputs": [
        {
          "data": {
            "text/plain": [
              "array([[ 1.18807255, -1.77911731, -0.32860186, ..., -1.3814364 ,\n",
              "         1.68071161, -1.28511375],\n",
              "       [-0.840344  , -1.55798046, -0.32860186, ..., -1.3814364 ,\n",
              "        -0.15383636, -1.28511375],\n",
              "       [ 1.18807255, -1.29261625, -0.32860186, ..., -1.3814364 ,\n",
              "        -1.07111035, -1.28511375],\n",
              "       ...,\n",
              "       [-0.840344  ,  1.40525323, -0.32860186, ...,  0.72388421,\n",
              "         0.76343762, -0.35178071],\n",
              "       [ 1.18807255,  1.22834376,  3.04319637, ...,  0.72388421,\n",
              "         0.76343762, -1.28511375],\n",
              "       [-0.840344  ,  1.53793534, -0.32860186, ...,  0.72388421,\n",
              "        -0.15383636, -1.28511375]])"
            ]
          },
          "execution_count": 132,
          "metadata": {},
          "output_type": "execute_result"
        }
      ],
      "source": [
        "x_iht = np.delete(x_instance, miss, axis = 1)\n",
        "x_iht"
      ]
    },
    {
      "cell_type": "code",
      "execution_count": null,
      "metadata": {
        "id": "jS9egCTTIGIJ"
      },
      "outputs": [],
      "source": [
        "from sklearn import tree\n",
        "clf = tree.DecisionTreeClassifier()"
      ]
    },
    {
      "cell_type": "code",
      "execution_count": null,
      "metadata": {
        "colab": {
          "base_uri": "https://localhost:8080/"
        },
        "id": "VrDnoyuCHOw1",
        "outputId": "d9cbfbc6-c082-4609-d1b6-7c766d38527e"
      },
      "outputs": [
        {
          "name": "stdout",
          "output_type": "stream",
          "text": [
            "Acuracy using Forward Feature Selection  and Decision Tree is :  96.2679\n",
            "Precision using Forward Feature Selection and Decision Tree is :  84.0043\n",
            "Recall using Forward Feature Selection and Decision Tree is :  78.7333\n",
            "F1 Score using Forward Feature Selection and Decision Tree is :  81.5033\n"
          ]
        }
      ],
      "source": [
        "ans = measure(clf, x_iht, y_iht)\n",
        "\n",
        "print(\"Acuracy using Forward Feature Selection  and Decision Tree is : \",round(ans[0]*100,4))\n",
        "print(\"Precision using Forward Feature Selection and Decision Tree is : \",round(ans[1]*100,4))\n",
        "\n",
        "print(\"Recall using Forward Feature Selection and Decision Tree is : \",round(ans[2]*100,4))\n",
        "print(\"F1 Score using Forward Feature Selection and Decision Tree is : \",round(ans[3]*100,4))"
      ]
    },
    {
      "cell_type": "markdown",
      "metadata": {
        "id": "J4kM95HGXq_s"
      },
      "source": [
        "**Forward Feature Selection using SVM**"
      ]
    },
    {
      "cell_type": "code",
      "execution_count": null,
      "metadata": {
        "id": "QCN9-ff5IQFf"
      },
      "outputs": [],
      "source": [
        "from mlxtend.feature_selection import SequentialFeatureSelector as sfs\n",
        "from sklearn import svm"
      ]
    },
    {
      "cell_type": "code",
      "execution_count": null,
      "metadata": {
        "id": "2ju92sZAYCh0"
      },
      "outputs": [],
      "source": [
        "cl = svm.SVC()\n",
        "sfs1 = sfs(cl, k_features=7, forward=True, verbose=2, scoring='neg_mean_squared_error')"
      ]
    },
    {
      "cell_type": "code",
      "execution_count": null,
      "metadata": {
        "colab": {
          "base_uri": "https://localhost:8080/"
        },
        "id": "rEM1CpdqYGjv",
        "outputId": "07fc1830-ef3e-43c3-aa9b-f158e6f138a2"
      },
      "outputs": [
        {
          "name": "stderr",
          "output_type": "stream",
          "text": [
            "[Parallel(n_jobs=1)]: Using backend SequentialBackend with 1 concurrent workers.\n",
            "[Parallel(n_jobs=1)]: Done   1 out of   1 | elapsed:    0.3s remaining:    0.0s\n",
            "[Parallel(n_jobs=1)]: Done  10 out of  10 | elapsed:    2.4s finished\n",
            "\n",
            "[2022-11-13 14:26:21] Features: 1/7 -- score: -0.04362612969716188[Parallel(n_jobs=1)]: Using backend SequentialBackend with 1 concurrent workers.\n",
            "[Parallel(n_jobs=1)]: Done   1 out of   1 | elapsed:    0.1s remaining:    0.0s\n",
            "[Parallel(n_jobs=1)]: Done   9 out of   9 | elapsed:    1.3s finished\n",
            "\n",
            "[2022-11-13 14:26:22] Features: 2/7 -- score: -0.033138664270739734[Parallel(n_jobs=1)]: Using backend SequentialBackend with 1 concurrent workers.\n",
            "[Parallel(n_jobs=1)]: Done   1 out of   1 | elapsed:    0.1s remaining:    0.0s\n",
            "[Parallel(n_jobs=1)]: Done   8 out of   8 | elapsed:    1.2s finished\n",
            "\n",
            "[2022-11-13 14:26:24] Features: 3/7 -- score: -0.03187904092454592[Parallel(n_jobs=1)]: Using backend SequentialBackend with 1 concurrent workers.\n",
            "[Parallel(n_jobs=1)]: Done   1 out of   1 | elapsed:    0.1s remaining:    0.0s\n",
            "[Parallel(n_jobs=1)]: Done   7 out of   7 | elapsed:    1.0s finished\n",
            "\n",
            "[2022-11-13 14:26:25] Features: 4/7 -- score: -0.031458872857319034[Parallel(n_jobs=1)]: Using backend SequentialBackend with 1 concurrent workers.\n",
            "[Parallel(n_jobs=1)]: Done   1 out of   1 | elapsed:    0.2s remaining:    0.0s\n",
            "[Parallel(n_jobs=1)]: Done   6 out of   6 | elapsed:    0.9s finished\n",
            "\n",
            "[2022-11-13 14:26:26] Features: 5/7 -- score: -0.030200130366612055[Parallel(n_jobs=1)]: Using backend SequentialBackend with 1 concurrent workers.\n",
            "[Parallel(n_jobs=1)]: Done   1 out of   1 | elapsed:    0.2s remaining:    0.0s\n",
            "[Parallel(n_jobs=1)]: Done   5 out of   5 | elapsed:    0.8s finished\n",
            "\n",
            "[2022-11-13 14:26:26] Features: 6/7 -- score: -0.029781724010358862[Parallel(n_jobs=1)]: Using backend SequentialBackend with 1 concurrent workers.\n",
            "[Parallel(n_jobs=1)]: Done   1 out of   1 | elapsed:    0.2s remaining:    0.0s\n",
            "[Parallel(n_jobs=1)]: Done   4 out of   4 | elapsed:    0.7s finished\n",
            "\n",
            "[2022-11-13 14:26:27] Features: 7/7 -- score: -0.029780843154872012"
          ]
        }
      ],
      "source": [
        "sfs1 = sfs1.fit(x_instance, y_iht)"
      ]
    },
    {
      "cell_type": "code",
      "execution_count": null,
      "metadata": {
        "colab": {
          "base_uri": "https://localhost:8080/"
        },
        "id": "Vd6cAyjCYNj-",
        "outputId": "64f9b911-1c92-4d3f-f458-d9d0dcceca6b"
      },
      "outputs": [
        {
          "name": "stdout",
          "output_type": "stream",
          "text": [
            "['1', '2', '3', '5', '6', '7', '9']\n"
          ]
        }
      ],
      "source": [
        "feat_names = list(sfs1.k_feature_names_)\n",
        "print(feat_names)"
      ]
    },
    {
      "cell_type": "code",
      "execution_count": null,
      "metadata": {
        "colab": {
          "base_uri": "https://localhost:8080/"
        },
        "id": "uZC2FvdPpdyb",
        "outputId": "1f522b92-1dbc-4c4d-c3f4-7d65cdb6a0b1"
      },
      "outputs": [
        {
          "data": {
            "text/plain": [
              "[1, 2, 3, 5, 6, 7, 9]"
            ]
          },
          "execution_count": 139,
          "metadata": {},
          "output_type": "execute_result"
        }
      ],
      "source": [
        "for i in range(0,len(feat_names)):\n",
        "  feat_names[i] = int(feat_names[i])\n",
        "feat_names"
      ]
    },
    {
      "cell_type": "code",
      "execution_count": null,
      "metadata": {
        "colab": {
          "base_uri": "https://localhost:8080/"
        },
        "id": "ts_E_U-qpdqC",
        "outputId": "e651197d-bf3e-469f-c159-085909ee505a"
      },
      "outputs": [
        {
          "data": {
            "text/plain": [
              "[0, 4, 8]"
            ]
          },
          "execution_count": 140,
          "metadata": {},
          "output_type": "execute_result"
        }
      ],
      "source": [
        "miss = []\n",
        "actual = [0,1,2,3,4,5,6,7,8,9]\n",
        "for i in range(0,len(actual)):\n",
        "  if(actual[i] not in feat_names):\n",
        "    miss.append(i)\n",
        "\n",
        "miss"
      ]
    },
    {
      "cell_type": "code",
      "execution_count": null,
      "metadata": {
        "colab": {
          "base_uri": "https://localhost:8080/"
        },
        "id": "eno17QlaYcTq",
        "outputId": "f079949b-11ff-4d8f-a1ab-8f4b41b7ecbc"
      },
      "outputs": [
        {
          "data": {
            "text/plain": [
              "array([[-1.77911731, -0.32860186, -0.2389468 , ..., -1.01617781,\n",
              "        -0.24354879, -1.28511375],\n",
              "       [-1.55798046, -0.32860186, -0.2389468 , ...,  0.98407974,\n",
              "         0.10473529, -1.28511375],\n",
              "       [-1.29261625, -0.32860186, -0.2389468 , ..., -1.01617781,\n",
              "         1.21761006, -1.28511375],\n",
              "       ...,\n",
              "       [ 1.40525323, -0.32860186, -0.2389468 , ..., -1.01617781,\n",
              "        -0.60397975, -0.35178071],\n",
              "       [ 1.22834376,  3.04319637, -0.2389468 , ..., -1.01617781,\n",
              "        -0.40521268, -1.28511375],\n",
              "       [ 1.53793534, -0.32860186, -0.2389468 , ..., -1.01617781,\n",
              "        -0.6037589 , -1.28511375]])"
            ]
          },
          "execution_count": 141,
          "metadata": {},
          "output_type": "execute_result"
        }
      ],
      "source": [
        "x_iht = np.delete(x_instance,miss, axis = 1)\n",
        "x_iht"
      ]
    },
    {
      "cell_type": "code",
      "execution_count": null,
      "metadata": {
        "id": "CrbC9jDYYhXw"
      },
      "outputs": [],
      "source": [
        "from sklearn import svm\n",
        "cl = svm.SVC()"
      ]
    },
    {
      "cell_type": "code",
      "execution_count": null,
      "metadata": {
        "colab": {
          "base_uri": "https://localhost:8080/"
        },
        "id": "sd-2uu12Ho_b",
        "outputId": "4eac301b-9805-4597-993c-119c1e3cdefd"
      },
      "outputs": [
        {
          "name": "stdout",
          "output_type": "stream",
          "text": [
            "Acuracy using Forward Feature Selection and SVM is :  96.938\n",
            "Precision using Forward Feature Selection and SVM is :  92.6927\n",
            "Recall using Forward Feature Selection and SVM is :  76.6833\n",
            "F1 Score using Forward Feature Selection and SVM is :  83.6629\n"
          ]
        }
      ],
      "source": [
        "ans = measure(cl, x_iht, y_iht)\n",
        "\n",
        "print(\"Acuracy using Forward Feature Selection and SVM is : \",round(ans[0]*100,4))\n",
        "print(\"Precision using Forward Feature Selection and SVM is : \",round(ans[1]*100,4))\n",
        "\n",
        "print(\"Recall using Forward Feature Selection and SVM is : \",round(ans[2]*100,4))\n",
        "print(\"F1 Score using Forward Feature Selection and SVM is : \",round(ans[3]*100,4))"
      ]
    },
    {
      "cell_type": "markdown",
      "metadata": {
        "id": "yaW25oJmYu4e"
      },
      "source": [
        "**Forward Feature Selection using Naive Bayes**"
      ]
    },
    {
      "cell_type": "code",
      "execution_count": null,
      "metadata": {
        "id": "EnobbVSgYs7T"
      },
      "outputs": [],
      "source": [
        "from mlxtend.feature_selection import SequentialFeatureSelector as sfs\n",
        "from sklearn.naive_bayes import GaussianNB\n",
        "gnb = GaussianNB()"
      ]
    },
    {
      "cell_type": "code",
      "execution_count": null,
      "metadata": {
        "id": "Kd6zqeb-Y3WE"
      },
      "outputs": [],
      "source": [
        "sfs1 = sfs(gnb, k_features=7, forward=True, verbose=2, scoring='neg_mean_squared_error')"
      ]
    },
    {
      "cell_type": "code",
      "execution_count": null,
      "metadata": {
        "colab": {
          "base_uri": "https://localhost:8080/"
        },
        "id": "YcPk5GErY3K0",
        "outputId": "81852c2e-c10e-4b88-df0f-0d3cd09338f3"
      },
      "outputs": [
        {
          "name": "stderr",
          "output_type": "stream",
          "text": [
            "[Parallel(n_jobs=1)]: Using backend SequentialBackend with 1 concurrent workers.\n",
            "[Parallel(n_jobs=1)]: Done   1 out of   1 | elapsed:    0.0s remaining:    0.0s\n",
            "[Parallel(n_jobs=1)]: Done  10 out of  10 | elapsed:    0.1s finished\n",
            "\n",
            "[2022-11-13 14:26:29] Features: 1/7 -- score: -0.04740059545830912[Parallel(n_jobs=1)]: Using backend SequentialBackend with 1 concurrent workers.\n",
            "[Parallel(n_jobs=1)]: Done   1 out of   1 | elapsed:    0.0s remaining:    0.0s\n",
            "[Parallel(n_jobs=1)]: Done   9 out of   9 | elapsed:    0.1s finished\n",
            "\n",
            "[2022-11-13 14:26:29] Features: 2/7 -- score: -0.04362436798618819[Parallel(n_jobs=1)]: Using backend SequentialBackend with 1 concurrent workers.\n",
            "[Parallel(n_jobs=1)]: Done   1 out of   1 | elapsed:    0.0s remaining:    0.0s\n",
            "[Parallel(n_jobs=1)]: Done   8 out of   8 | elapsed:    0.1s finished\n",
            "\n",
            "[2022-11-13 14:26:29] Features: 3/7 -- score: -0.04362436798618819[Parallel(n_jobs=1)]: Using backend SequentialBackend with 1 concurrent workers.\n",
            "[Parallel(n_jobs=1)]: Done   1 out of   1 | elapsed:    0.0s remaining:    0.0s\n",
            "[Parallel(n_jobs=1)]: Done   7 out of   7 | elapsed:    0.1s finished\n",
            "\n",
            "[2022-11-13 14:26:29] Features: 4/7 -- score: -0.04404365519792823[Parallel(n_jobs=1)]: Using backend SequentialBackend with 1 concurrent workers.\n",
            "[Parallel(n_jobs=1)]: Done   1 out of   1 | elapsed:    0.0s remaining:    0.0s\n",
            "[Parallel(n_jobs=1)]: Done   6 out of   6 | elapsed:    0.1s finished\n",
            "\n",
            "[2022-11-13 14:26:29] Features: 5/7 -- score: -0.045300635977661506[Parallel(n_jobs=1)]: Using backend SequentialBackend with 1 concurrent workers.\n",
            "[Parallel(n_jobs=1)]: Done   1 out of   1 | elapsed:    0.0s remaining:    0.0s\n",
            "[Parallel(n_jobs=1)]: Done   5 out of   5 | elapsed:    0.1s finished\n",
            "\n",
            "[2022-11-13 14:26:29] Features: 6/7 -- score: -0.04781812095907546[Parallel(n_jobs=1)]: Using backend SequentialBackend with 1 concurrent workers.\n",
            "[Parallel(n_jobs=1)]: Done   1 out of   1 | elapsed:    0.0s remaining:    0.0s\n",
            "[Parallel(n_jobs=1)]: Done   4 out of   4 | elapsed:    0.1s finished\n",
            "\n",
            "[2022-11-13 14:26:29] Features: 7/7 -- score: -0.04739795289184857"
          ]
        }
      ],
      "source": [
        "sfs1 = sfs1.fit(x_instance, y_iht)"
      ]
    },
    {
      "cell_type": "code",
      "execution_count": null,
      "metadata": {
        "colab": {
          "base_uri": "https://localhost:8080/"
        },
        "id": "6TyNOhF-Y90N",
        "outputId": "fe26fa1d-8a58-4c45-ed6e-1748c2987a28"
      },
      "outputs": [
        {
          "name": "stdout",
          "output_type": "stream",
          "text": [
            "['0', '1', '2', '5', '6', '7', '9']\n"
          ]
        }
      ],
      "source": [
        "feat_names = list(sfs1.k_feature_names_)\n",
        "print(feat_names)"
      ]
    },
    {
      "cell_type": "code",
      "execution_count": null,
      "metadata": {
        "colab": {
          "base_uri": "https://localhost:8080/"
        },
        "id": "JaKL1AFqpl4I",
        "outputId": "f1204dba-a176-404e-8123-262ba49800fa"
      },
      "outputs": [
        {
          "data": {
            "text/plain": [
              "[0, 1, 2, 5, 6, 7, 9]"
            ]
          },
          "execution_count": 148,
          "metadata": {},
          "output_type": "execute_result"
        }
      ],
      "source": [
        "for i in range(0,len(feat_names)):\n",
        "  feat_names[i] = int(feat_names[i])\n",
        "feat_names"
      ]
    },
    {
      "cell_type": "code",
      "execution_count": null,
      "metadata": {
        "colab": {
          "base_uri": "https://localhost:8080/"
        },
        "id": "p_9oauxRpn3Z",
        "outputId": "ba22e8d6-31ce-44bd-a332-2c69eb7aedaf"
      },
      "outputs": [
        {
          "data": {
            "text/plain": [
              "[3, 4, 8]"
            ]
          },
          "execution_count": 149,
          "metadata": {},
          "output_type": "execute_result"
        }
      ],
      "source": [
        "miss = []\n",
        "actual = [0,1,2,3,4,5,6,7,8,9]\n",
        "for i in range(0,len(actual)):\n",
        "  if(actual[i] not in feat_names):\n",
        "    miss.append(i)\n",
        "\n",
        "miss"
      ]
    },
    {
      "cell_type": "code",
      "execution_count": null,
      "metadata": {
        "colab": {
          "base_uri": "https://localhost:8080/"
        },
        "id": "TrKqUTFOZC33",
        "outputId": "49dd79d5-f154-452b-c09e-020fb3482b36"
      },
      "outputs": [
        {
          "data": {
            "text/plain": [
              "array([[ 1.18807255, -1.77911731, -0.32860186, ..., -1.01617781,\n",
              "        -0.24354879, -1.28511375],\n",
              "       [-0.840344  , -1.55798046, -0.32860186, ...,  0.98407974,\n",
              "         0.10473529, -1.28511375],\n",
              "       [ 1.18807255, -1.29261625, -0.32860186, ..., -1.01617781,\n",
              "         1.21761006, -1.28511375],\n",
              "       ...,\n",
              "       [-0.840344  ,  1.40525323, -0.32860186, ..., -1.01617781,\n",
              "        -0.60397975, -0.35178071],\n",
              "       [ 1.18807255,  1.22834376,  3.04319637, ..., -1.01617781,\n",
              "        -0.40521268, -1.28511375],\n",
              "       [-0.840344  ,  1.53793534, -0.32860186, ..., -1.01617781,\n",
              "        -0.6037589 , -1.28511375]])"
            ]
          },
          "execution_count": 150,
          "metadata": {},
          "output_type": "execute_result"
        }
      ],
      "source": [
        "x_iht = np.delete(x_instance, miss, axis = 1)\n",
        "x_iht"
      ]
    },
    {
      "cell_type": "code",
      "execution_count": null,
      "metadata": {
        "id": "qDSHMeRQZILF"
      },
      "outputs": [],
      "source": [
        "from sklearn.naive_bayes import GaussianNB\n",
        "gnb = GaussianNB()"
      ]
    },
    {
      "cell_type": "code",
      "execution_count": null,
      "metadata": {
        "colab": {
          "base_uri": "https://localhost:8080/"
        },
        "id": "xM9ZDsN5Hr9R",
        "outputId": "113776d6-32ce-45fd-8da5-4834ecb6dc17"
      },
      "outputs": [
        {
          "name": "stdout",
          "output_type": "stream",
          "text": [
            "Acuracy using Forward Feature Selection and Naive Bayes is :  95.2612\n",
            "Precision using Forward Feature Selection and Naive Bayes is :  81.4481\n",
            "Recall using Forward Feature Selection and Naive Bayes is :  71.0667\n",
            "F1 Score using Forward Feature Selection and Naive Bayes is :  75.5237\n"
          ]
        }
      ],
      "source": [
        "ans = measure(gnb, x_iht, y_iht)\n",
        "\n",
        "print(\"Acuracy using Forward Feature Selection and Naive Bayes is : \",round(ans[0]*100,4))\n",
        "print(\"Precision using Forward Feature Selection and Naive Bayes is : \",round(ans[1]*100,4))\n",
        "\n",
        "print(\"Recall using Forward Feature Selection and Naive Bayes is : \",round(ans[2]*100,4))\n",
        "print(\"F1 Score using Forward Feature Selection and Naive Bayes is : \",round(ans[3]*100,4))"
      ]
    },
    {
      "cell_type": "markdown",
      "metadata": {
        "id": "jsDSQEKpZYAT"
      },
      "source": [
        "**Forward Feature Selection using Random Forest**"
      ]
    },
    {
      "cell_type": "code",
      "execution_count": null,
      "metadata": {
        "id": "MZYoDkMvZWA1"
      },
      "outputs": [],
      "source": [
        "from mlxtend.feature_selection import SequentialFeatureSelector as sfs\n",
        "from sklearn.ensemble import RandomForestClassifier\n",
        "rf = RandomForestClassifier(random_state=0)"
      ]
    },
    {
      "cell_type": "code",
      "execution_count": null,
      "metadata": {
        "id": "pDD8gSCbZipp"
      },
      "outputs": [],
      "source": [
        "sfs1 = sfs(rf, k_features=7, forward=True, verbose=2, scoring='neg_mean_squared_error')"
      ]
    },
    {
      "cell_type": "code",
      "execution_count": null,
      "metadata": {
        "colab": {
          "base_uri": "https://localhost:8080/"
        },
        "id": "WT0fky0HZl2H",
        "outputId": "1d3a5fa4-6555-4452-fa9f-4fc42fda90a5"
      },
      "outputs": [
        {
          "name": "stderr",
          "output_type": "stream",
          "text": [
            "[Parallel(n_jobs=1)]: Using backend SequentialBackend with 1 concurrent workers.\n",
            "[Parallel(n_jobs=1)]: Done   1 out of   1 | elapsed:    0.9s remaining:    0.0s\n",
            "[Parallel(n_jobs=1)]: Done  10 out of  10 | elapsed:    9.8s finished\n",
            "\n",
            "[2022-11-13 14:26:40] Features: 1/7 -- score: -0.04194457657276747[Parallel(n_jobs=1)]: Using backend SequentialBackend with 1 concurrent workers.\n",
            "[Parallel(n_jobs=1)]: Done   1 out of   1 | elapsed:    1.0s remaining:    0.0s\n",
            "[Parallel(n_jobs=1)]: Done   9 out of   9 | elapsed:    9.1s finished\n",
            "\n",
            "[2022-11-13 14:26:49] Features: 2/7 -- score: -0.029781724010358862[Parallel(n_jobs=1)]: Using backend SequentialBackend with 1 concurrent workers.\n",
            "[Parallel(n_jobs=1)]: Done   1 out of   1 | elapsed:    1.2s remaining:    0.0s\n",
            "[Parallel(n_jobs=1)]: Done   8 out of   8 | elapsed:    9.5s finished\n",
            "\n",
            "[2022-11-13 14:26:58] Features: 3/7 -- score: -0.024333632824198863[Parallel(n_jobs=1)]: Using backend SequentialBackend with 1 concurrent workers.\n",
            "[Parallel(n_jobs=1)]: Done   1 out of   1 | elapsed:    2.1s remaining:    0.0s\n",
            "[Parallel(n_jobs=1)]: Done   7 out of   7 | elapsed:   10.9s finished\n",
            "\n",
            "[2022-11-13 14:27:09] Features: 4/7 -- score: -0.02517044553670525[Parallel(n_jobs=1)]: Using backend SequentialBackend with 1 concurrent workers.\n",
            "[Parallel(n_jobs=1)]: Done   1 out of   1 | elapsed:    1.3s remaining:    0.0s\n",
            "[Parallel(n_jobs=1)]: Done   6 out of   6 | elapsed:    7.7s finished\n",
            "\n",
            "[2022-11-13 14:27:17] Features: 5/7 -- score: -0.023074009478005038[Parallel(n_jobs=1)]: Using backend SequentialBackend with 1 concurrent workers.\n",
            "[Parallel(n_jobs=1)]: Done   1 out of   1 | elapsed:    1.3s remaining:    0.0s\n",
            "[Parallel(n_jobs=1)]: Done   5 out of   5 | elapsed:    6.3s finished\n",
            "\n",
            "[2022-11-13 14:27:23] Features: 6/7 -- score: -0.02139686063104487[Parallel(n_jobs=1)]: Using backend SequentialBackend with 1 concurrent workers.\n",
            "[Parallel(n_jobs=1)]: Done   1 out of   1 | elapsed:    1.2s remaining:    0.0s\n",
            "[Parallel(n_jobs=1)]: Done   4 out of   4 | elapsed:    4.9s finished\n",
            "\n",
            "[2022-11-13 14:27:28] Features: 7/7 -- score: -0.02223455419903811"
          ]
        }
      ],
      "source": [
        "sfs1 = sfs1.fit(x_instance, y_iht)"
      ]
    },
    {
      "cell_type": "code",
      "execution_count": null,
      "metadata": {
        "colab": {
          "base_uri": "https://localhost:8080/"
        },
        "id": "c4uhgpJ-ZvOS",
        "outputId": "dba79cb1-23f6-4966-8ccb-99ed74fa0b05"
      },
      "outputs": [
        {
          "name": "stdout",
          "output_type": "stream",
          "text": [
            "['0', '1', '2', '3', '7', '8', '9']\n"
          ]
        }
      ],
      "source": [
        "feat_names = list(sfs1.k_feature_names_)\n",
        "print(feat_names)"
      ]
    },
    {
      "cell_type": "code",
      "execution_count": null,
      "metadata": {
        "colab": {
          "base_uri": "https://localhost:8080/"
        },
        "id": "lGj3U8gDpsoD",
        "outputId": "783d2909-2e3f-46c6-be6e-2c624ac00516"
      },
      "outputs": [
        {
          "data": {
            "text/plain": [
              "[0, 1, 2, 3, 7, 8, 9]"
            ]
          },
          "execution_count": 157,
          "metadata": {},
          "output_type": "execute_result"
        }
      ],
      "source": [
        "for i in range(0,len(feat_names)):\n",
        "  feat_names[i] = int(feat_names[i])\n",
        "feat_names"
      ]
    },
    {
      "cell_type": "code",
      "execution_count": null,
      "metadata": {
        "colab": {
          "base_uri": "https://localhost:8080/"
        },
        "id": "0XA_UMl7pu7r",
        "outputId": "cb2051b6-85d6-4e11-f2ec-d09087576382"
      },
      "outputs": [
        {
          "data": {
            "text/plain": [
              "[4, 5, 6]"
            ]
          },
          "execution_count": 158,
          "metadata": {},
          "output_type": "execute_result"
        }
      ],
      "source": [
        "miss = []\n",
        "actual = [0,1,2,3,4,5,6,7,8,9]\n",
        "for i in range(0,len(actual)):\n",
        "  if(actual[i] not in feat_names):\n",
        "    miss.append(i)\n",
        "\n",
        "miss"
      ]
    },
    {
      "cell_type": "code",
      "execution_count": null,
      "metadata": {
        "colab": {
          "base_uri": "https://localhost:8080/"
        },
        "id": "l6uJkbbaZ9EH",
        "outputId": "f801a51b-5c13-4313-f8a2-58820e8253c8"
      },
      "outputs": [
        {
          "data": {
            "text/plain": [
              "array([[ 1.18807255e+00, -1.77911731e+00, -3.28601864e-01, ...,\n",
              "        -2.43548790e-01, -1.41524339e+00, -1.28511375e+00],\n",
              "       [-8.40343999e-01, -1.55798046e+00, -3.28601864e-01, ...,\n",
              "         1.04735294e-01, -1.46720990e+00, -1.28511375e+00],\n",
              "       [ 1.18807255e+00, -1.29261625e+00, -3.28601864e-01, ...,\n",
              "         1.21761006e+00, -1.27233548e+00, -1.28511375e+00],\n",
              "       ...,\n",
              "       [-8.40343999e-01,  1.40525323e+00, -3.28601864e-01, ...,\n",
              "        -6.03979751e-01,  5.28105869e-02, -3.51780710e-01],\n",
              "       [ 1.18807255e+00,  1.22834376e+00,  3.04319637e+00, ...,\n",
              "        -4.05212677e-01,  8.44074468e-04, -1.28511375e+00],\n",
              "       [-8.40343999e-01,  1.53793534e+00, -3.28601864e-01, ...,\n",
              "        -6.03758899e-01, -1.20737734e+00, -1.28511375e+00]])"
            ]
          },
          "execution_count": 159,
          "metadata": {},
          "output_type": "execute_result"
        }
      ],
      "source": [
        "x_iht = np.delete(x_instance, miss, axis = 1)\n",
        "x_iht"
      ]
    },
    {
      "cell_type": "code",
      "execution_count": null,
      "metadata": {
        "id": "jgH7GeULaEkq"
      },
      "outputs": [],
      "source": [
        "from sklearn.ensemble import RandomForestClassifier\n",
        "rf = RandomForestClassifier(random_state=0)"
      ]
    },
    {
      "cell_type": "code",
      "execution_count": null,
      "metadata": {
        "colab": {
          "base_uri": "https://localhost:8080/"
        },
        "id": "Y1L6iomRH2p0",
        "outputId": "f81de217-b4cd-46f9-e2ee-5abc7740a92e"
      },
      "outputs": [
        {
          "name": "stdout",
          "output_type": "stream",
          "text": [
            "Acuracy using Forward Feature Selection and Random Forest is :  97.7343\n",
            "Precision using Forward Feature Selection and Random Forest is :  95.7815\n",
            "Recall using Forward Feature Selection and Random Forest is :  81.9\n",
            "F1 Score using Forward Feature Selection and Random Forest is :  88.2064\n"
          ]
        }
      ],
      "source": [
        "ans = measure(rf, x_iht, y_iht)\n",
        "\n",
        "print(\"Acuracy using Forward Feature Selection and Random Forest is : \",round(ans[0]*100,4))\n",
        "print(\"Precision using Forward Feature Selection and Random Forest is : \",round(ans[1]*100,4))\n",
        "\n",
        "print(\"Recall using Forward Feature Selection and Random Forest is : \",round(ans[2]*100,4))\n",
        "print(\"F1 Score using Forward Feature Selection and Random Forest is : \",round(ans[3]*100,4))"
      ]
    },
    {
      "cell_type": "markdown",
      "metadata": {
        "id": "zf68rCaCabyB"
      },
      "source": [
        "**Forward Feature Selection using KNN**"
      ]
    },
    {
      "cell_type": "code",
      "execution_count": null,
      "metadata": {
        "id": "DH_JCuBLaYmc"
      },
      "outputs": [],
      "source": [
        "from mlxtend.feature_selection import SequentialFeatureSelector as sfs\n",
        "from sklearn.neighbors import KNeighborsClassifier\n",
        "knn = KNeighborsClassifier()"
      ]
    },
    {
      "cell_type": "code",
      "execution_count": null,
      "metadata": {
        "id": "0XDsRpNEao7b"
      },
      "outputs": [],
      "source": [
        "sfs1 = sfs(knn, k_features=7, forward=True, verbose=2, scoring='neg_mean_squared_error')"
      ]
    },
    {
      "cell_type": "code",
      "execution_count": null,
      "metadata": {
        "colab": {
          "base_uri": "https://localhost:8080/"
        },
        "id": "xcdS9RIlat4Y",
        "outputId": "04d6db57-28c0-4ff7-b590-81011b9edceb"
      },
      "outputs": [
        {
          "name": "stderr",
          "output_type": "stream",
          "text": [
            "[Parallel(n_jobs=1)]: Using backend SequentialBackend with 1 concurrent workers.\n",
            "[Parallel(n_jobs=1)]: Done   1 out of   1 | elapsed:    0.1s remaining:    0.0s\n",
            "[Parallel(n_jobs=1)]: Done  10 out of  10 | elapsed:    0.9s finished\n",
            "\n",
            "[2022-11-13 14:27:39] Features: 1/7 -- score: -0.03859027887884713[Parallel(n_jobs=1)]: Using backend SequentialBackend with 1 concurrent workers.\n",
            "[Parallel(n_jobs=1)]: Done   1 out of   1 | elapsed:    0.1s remaining:    0.0s\n",
            "[Parallel(n_jobs=1)]: Done   9 out of   9 | elapsed:    0.8s finished\n",
            "\n",
            "[2022-11-13 14:27:40] Features: 2/7 -- score: -0.03271673449253916[Parallel(n_jobs=1)]: Using backend SequentialBackend with 1 concurrent workers.\n",
            "[Parallel(n_jobs=1)]: Done   1 out of   1 | elapsed:    0.1s remaining:    0.0s\n",
            "[Parallel(n_jobs=1)]: Done   8 out of   8 | elapsed:    0.7s finished\n",
            "\n",
            "[2022-11-13 14:27:41] Features: 3/7 -- score: -0.03145887285731903[Parallel(n_jobs=1)]: Using backend SequentialBackend with 1 concurrent workers.\n",
            "[Parallel(n_jobs=1)]: Done   1 out of   1 | elapsed:    0.1s remaining:    0.0s\n",
            "[Parallel(n_jobs=1)]: Done   7 out of   7 | elapsed:    0.6s finished\n",
            "\n",
            "[2022-11-13 14:27:42] Features: 4/7 -- score: -0.029780843154872016[Parallel(n_jobs=1)]: Using backend SequentialBackend with 1 concurrent workers.\n",
            "[Parallel(n_jobs=1)]: Done   1 out of   1 | elapsed:    0.1s remaining:    0.0s\n",
            "[Parallel(n_jobs=1)]: Done   6 out of   6 | elapsed:    0.6s finished\n",
            "\n",
            "[2022-11-13 14:27:42] Features: 5/7 -- score: -0.029361555943131966[Parallel(n_jobs=1)]: Using backend SequentialBackend with 1 concurrent workers.\n",
            "[Parallel(n_jobs=1)]: Done   1 out of   1 | elapsed:    0.1s remaining:    0.0s\n",
            "[Parallel(n_jobs=1)]: Done   5 out of   5 | elapsed:    0.5s finished\n",
            "\n",
            "[2022-11-13 14:27:43] Features: 6/7 -- score: -0.030200130366612055[Parallel(n_jobs=1)]: Using backend SequentialBackend with 1 concurrent workers.\n",
            "[Parallel(n_jobs=1)]: Done   1 out of   1 | elapsed:    0.1s remaining:    0.0s\n",
            "[Parallel(n_jobs=1)]: Done   4 out of   4 | elapsed:    0.4s finished\n",
            "\n",
            "[2022-11-13 14:27:43] Features: 7/7 -- score: -0.03397723869421983"
          ]
        }
      ],
      "source": [
        "sfs1 = sfs1.fit(x_instance, y_iht)"
      ]
    },
    {
      "cell_type": "code",
      "execution_count": null,
      "metadata": {
        "colab": {
          "base_uri": "https://localhost:8080/"
        },
        "id": "pLT3zMEpaxCT",
        "outputId": "6c31c56e-af47-446e-eee7-cae3e41d61fa"
      },
      "outputs": [
        {
          "name": "stdout",
          "output_type": "stream",
          "text": [
            "['1', '2', '3', '4', '7', '8', '9']\n"
          ]
        }
      ],
      "source": [
        "feat_names = list(sfs1.k_feature_names_)\n",
        "print(feat_names)"
      ]
    },
    {
      "cell_type": "code",
      "execution_count": null,
      "metadata": {
        "colab": {
          "base_uri": "https://localhost:8080/"
        },
        "id": "7X92wXw4pzDC",
        "outputId": "8232fdc7-e546-42d5-f712-8e0e1e1e9e72"
      },
      "outputs": [
        {
          "data": {
            "text/plain": [
              "[1, 2, 3, 4, 7, 8, 9]"
            ]
          },
          "execution_count": 166,
          "metadata": {},
          "output_type": "execute_result"
        }
      ],
      "source": [
        "for i in range(0,len(feat_names)):\n",
        "  feat_names[i] = int(feat_names[i])\n",
        "feat_names"
      ]
    },
    {
      "cell_type": "code",
      "execution_count": null,
      "metadata": {
        "colab": {
          "base_uri": "https://localhost:8080/"
        },
        "id": "IuQi5LZfpy4N",
        "outputId": "c7b8d80f-e6f1-4fe1-9723-21fed0acdb92"
      },
      "outputs": [
        {
          "data": {
            "text/plain": [
              "[0, 5, 6]"
            ]
          },
          "execution_count": 167,
          "metadata": {},
          "output_type": "execute_result"
        }
      ],
      "source": [
        "miss = []\n",
        "actual = [0,1,2,3,4,5,6,7,8,9]\n",
        "for i in range(0,len(actual)):\n",
        "  if(actual[i] not in feat_names):\n",
        "    miss.append(i)\n",
        "\n",
        "miss"
      ]
    },
    {
      "cell_type": "code",
      "execution_count": null,
      "metadata": {
        "colab": {
          "base_uri": "https://localhost:8080/"
        },
        "id": "8Qf_XwHLa0RV",
        "outputId": "e091c14a-09b5-46b7-bd11-82a8bd8b141d"
      },
      "outputs": [
        {
          "data": {
            "text/plain": [
              "array([[-1.77911731e+00, -3.28601864e-01, -2.38946800e-01, ...,\n",
              "        -2.43548790e-01, -1.41524339e+00, -1.28511375e+00],\n",
              "       [-1.55798046e+00, -3.28601864e-01, -2.38946800e-01, ...,\n",
              "         1.04735294e-01, -1.46720990e+00, -1.28511375e+00],\n",
              "       [-1.29261625e+00, -3.28601864e-01, -2.38946800e-01, ...,\n",
              "         1.21761006e+00, -1.27233548e+00, -1.28511375e+00],\n",
              "       ...,\n",
              "       [ 1.40525323e+00, -3.28601864e-01, -2.38946800e-01, ...,\n",
              "        -6.03979751e-01,  5.28105869e-02, -3.51780710e-01],\n",
              "       [ 1.22834376e+00,  3.04319637e+00, -2.38946800e-01, ...,\n",
              "        -4.05212677e-01,  8.44074468e-04, -1.28511375e+00],\n",
              "       [ 1.53793534e+00, -3.28601864e-01, -2.38946800e-01, ...,\n",
              "        -6.03758899e-01, -1.20737734e+00, -1.28511375e+00]])"
            ]
          },
          "execution_count": 168,
          "metadata": {},
          "output_type": "execute_result"
        }
      ],
      "source": [
        "x_iht = np.delete(x_instance, miss, axis = 1)\n",
        "x_iht"
      ]
    },
    {
      "cell_type": "code",
      "execution_count": null,
      "metadata": {
        "id": "4DYwmJONa56b"
      },
      "outputs": [],
      "source": [
        "from sklearn.neighbors import KNeighborsClassifier\n",
        "knn = KNeighborsClassifier()"
      ]
    },
    {
      "cell_type": "code",
      "execution_count": null,
      "metadata": {
        "colab": {
          "base_uri": "https://localhost:8080/"
        },
        "id": "ST7qzyAoIAv0",
        "outputId": "2d854cf4-58d5-434f-a205-87afddb6b906"
      },
      "outputs": [
        {
          "name": "stdout",
          "output_type": "stream",
          "text": [
            "Acuracy using Forward Feature Selection and KNN is :  96.6445\n",
            "Precision using Forward Feature Selection and KNN is :  88.8718\n",
            "Recall using Forward Feature Selection and KNN is :  77.9\n",
            "F1 Score using Forward Feature Selection and KNN is :  82.7767\n"
          ]
        }
      ],
      "source": [
        "ans = measure(knn, x_iht, y_iht)\n",
        "\n",
        "print(\"Acuracy using Forward Feature Selection and KNN is : \",round(ans[0]*100,4))\n",
        "print(\"Precision using Forward Feature Selection and KNN is : \",round(ans[1]*100,4))\n",
        "\n",
        "print(\"Recall using Forward Feature Selection and KNN is : \",round(ans[2]*100,4))\n",
        "print(\"F1 Score using Forward Feature Selection and KNN is : \",round(ans[3]*100,4))"
      ]
    },
    {
      "cell_type": "markdown",
      "metadata": {
        "id": "yQrm6Jz-cr29"
      },
      "source": [
        "# **Backward Feature Elimination**"
      ]
    },
    {
      "cell_type": "markdown",
      "metadata": {
        "id": "AdVh3xfddjHu"
      },
      "source": [
        "**Backward Feature Elimination using Logistic Regression**"
      ]
    },
    {
      "cell_type": "code",
      "execution_count": null,
      "metadata": {
        "id": "ox43S7rtbDK7"
      },
      "outputs": [],
      "source": [
        "from mlxtend.feature_selection import SequentialFeatureSelector as sfs"
      ]
    },
    {
      "cell_type": "code",
      "execution_count": null,
      "metadata": {
        "id": "qx9EO_t-cwkp"
      },
      "outputs": [],
      "source": [
        "from sklearn.linear_model import LogisticRegression\n",
        "log = LogisticRegression(random_state = 0)"
      ]
    },
    {
      "cell_type": "code",
      "execution_count": null,
      "metadata": {
        "id": "kXkBnsS6c3dy"
      },
      "outputs": [],
      "source": [
        "sfs1 = sfs(log, k_features=7, forward=False, verbose=1, scoring='neg_mean_squared_error')"
      ]
    },
    {
      "cell_type": "code",
      "execution_count": null,
      "metadata": {
        "colab": {
          "base_uri": "https://localhost:8080/"
        },
        "id": "lX71f2hDdAGF",
        "outputId": "212893a4-20ec-451a-f9c8-eba8b88fe7ad"
      },
      "outputs": [
        {
          "name": "stderr",
          "output_type": "stream",
          "text": [
            "[Parallel(n_jobs=1)]: Using backend SequentialBackend with 1 concurrent workers.\n",
            "[Parallel(n_jobs=1)]: Done  10 out of  10 | elapsed:    0.7s finished\n",
            "Features: 9/7[Parallel(n_jobs=1)]: Using backend SequentialBackend with 1 concurrent workers.\n",
            "[Parallel(n_jobs=1)]: Done   9 out of   9 | elapsed:    0.6s finished\n",
            "Features: 8/7[Parallel(n_jobs=1)]: Using backend SequentialBackend with 1 concurrent workers.\n",
            "[Parallel(n_jobs=1)]: Done   8 out of   8 | elapsed:    0.6s finished\n",
            "Features: 7/7"
          ]
        }
      ],
      "source": [
        "sfs1 = sfs1.fit(x_instance, y_iht)"
      ]
    },
    {
      "cell_type": "code",
      "execution_count": null,
      "metadata": {
        "colab": {
          "base_uri": "https://localhost:8080/"
        },
        "id": "TEiTd9cfdFxi",
        "outputId": "72c66e7e-a9a7-4ece-dea8-90878e112fed"
      },
      "outputs": [
        {
          "name": "stdout",
          "output_type": "stream",
          "text": [
            "['0', '1', '2', '3', '4', '5', '7']\n"
          ]
        }
      ],
      "source": [
        "feat_names = list(sfs1.k_feature_names_)\n",
        "print(feat_names)"
      ]
    },
    {
      "cell_type": "code",
      "execution_count": null,
      "metadata": {
        "colab": {
          "base_uri": "https://localhost:8080/"
        },
        "id": "gJBSxaBMqZ1B",
        "outputId": "cf2e9e3d-d464-48e9-9ba9-03f495235967"
      },
      "outputs": [
        {
          "data": {
            "text/plain": [
              "[0, 1, 2, 3, 4, 5, 7]"
            ]
          },
          "execution_count": 176,
          "metadata": {},
          "output_type": "execute_result"
        }
      ],
      "source": [
        "for i in range(0,len(feat_names)):\n",
        "  feat_names[i] = int(feat_names[i])\n",
        "feat_names"
      ]
    },
    {
      "cell_type": "code",
      "execution_count": null,
      "metadata": {
        "colab": {
          "base_uri": "https://localhost:8080/"
        },
        "id": "eM01eSU6qZpQ",
        "outputId": "f1b2360b-7a8b-4cea-d51b-0b0101377ad9"
      },
      "outputs": [
        {
          "data": {
            "text/plain": [
              "[6, 8, 9]"
            ]
          },
          "execution_count": 177,
          "metadata": {},
          "output_type": "execute_result"
        }
      ],
      "source": [
        "miss = []\n",
        "actual = [0,1,2,3,4,5,6,7,8,9]\n",
        "for i in range(0,len(actual)):\n",
        "  if(actual[i] not in feat_names):\n",
        "    miss.append(i)\n",
        "miss"
      ]
    },
    {
      "cell_type": "code",
      "execution_count": null,
      "metadata": {
        "colab": {
          "base_uri": "https://localhost:8080/"
        },
        "id": "E5wfieXzdKRw",
        "outputId": "7b378b28-d5f4-42f9-cb31-18fff7c1c236"
      },
      "outputs": [
        {
          "data": {
            "text/plain": [
              "array([[ 1.18807255, -1.77911731, -0.32860186, ..., -1.3814364 ,\n",
              "        -1.01617781, -0.24354879],\n",
              "       [-0.840344  , -1.55798046, -0.32860186, ..., -1.3814364 ,\n",
              "         0.98407974,  0.10473529],\n",
              "       [ 1.18807255, -1.29261625, -0.32860186, ..., -1.3814364 ,\n",
              "        -1.01617781,  1.21761006],\n",
              "       ...,\n",
              "       [-0.840344  ,  1.40525323, -0.32860186, ...,  0.72388421,\n",
              "        -1.01617781, -0.60397975],\n",
              "       [ 1.18807255,  1.22834376,  3.04319637, ...,  0.72388421,\n",
              "        -1.01617781, -0.40521268],\n",
              "       [-0.840344  ,  1.53793534, -0.32860186, ...,  0.72388421,\n",
              "        -1.01617781, -0.6037589 ]])"
            ]
          },
          "execution_count": 178,
          "metadata": {},
          "output_type": "execute_result"
        }
      ],
      "source": [
        "x_iht = np.delete(x_instance, [5, 8, 9], axis = 1)\n",
        "x_iht"
      ]
    },
    {
      "cell_type": "code",
      "execution_count": null,
      "metadata": {
        "id": "nefooh9LdUIY"
      },
      "outputs": [],
      "source": [
        "from sklearn.linear_model import LogisticRegression\n",
        "log = LogisticRegression(random_state = 0)"
      ]
    },
    {
      "cell_type": "code",
      "execution_count": null,
      "metadata": {
        "colab": {
          "base_uri": "https://localhost:8080/"
        },
        "id": "ePOgCh9ZMg-K",
        "outputId": "fc4c4555-e3cb-41fd-d3ac-ae114e9f879a"
      },
      "outputs": [
        {
          "name": "stdout",
          "output_type": "stream",
          "text": [
            "Acuracy using Backward Feature Elimination and Logistic Regression is :  96.6438\n",
            "Precision using Backward Feature Elimination and Logistic Regression is :  89.5117\n",
            "Recall using Backward Feature Elimination and Logistic Regression is :  77.05\n",
            "F1 Score using Backward Feature Elimination and Logistic Regression is :  82.5519\n"
          ]
        }
      ],
      "source": [
        "ans = measure(log, x_iht, y_iht)\n",
        "\n",
        "print(\"Acuracy using Backward Feature Elimination and Logistic Regression is : \",round(ans[0]*100,4))\n",
        "print(\"Precision using Backward Feature Elimination and Logistic Regression is : \",round(ans[1]*100,4))\n",
        "\n",
        "print(\"Recall using Backward Feature Elimination and Logistic Regression is : \",round(ans[2]*100,4))\n",
        "print(\"F1 Score using Backward Feature Elimination and Logistic Regression is : \",round(ans[3]*100,4))"
      ]
    },
    {
      "cell_type": "markdown",
      "metadata": {
        "id": "-wbjXXlsevGT"
      },
      "source": [
        "**Backward Feature Elimination using Decision Tree**"
      ]
    },
    {
      "cell_type": "code",
      "execution_count": null,
      "metadata": {
        "id": "g2auWrnldho_"
      },
      "outputs": [],
      "source": [
        "from mlxtend.feature_selection import SequentialFeatureSelector as sfs\n",
        "from sklearn import tree\n",
        "clf = tree.DecisionTreeClassifier()"
      ]
    },
    {
      "cell_type": "code",
      "execution_count": null,
      "metadata": {
        "colab": {
          "base_uri": "https://localhost:8080/"
        },
        "id": "e4tYgQoje8WL",
        "outputId": "d8e76b8f-820c-4c96-871c-6fb503a970fc"
      },
      "outputs": [
        {
          "name": "stderr",
          "output_type": "stream",
          "text": [
            "[Parallel(n_jobs=1)]: Using backend SequentialBackend with 1 concurrent workers.\n",
            "[Parallel(n_jobs=1)]: Done  10 out of  10 | elapsed:    0.3s finished\n",
            "Features: 9/7[Parallel(n_jobs=1)]: Using backend SequentialBackend with 1 concurrent workers.\n",
            "[Parallel(n_jobs=1)]: Done   9 out of   9 | elapsed:    0.3s finished\n",
            "Features: 8/7[Parallel(n_jobs=1)]: Using backend SequentialBackend with 1 concurrent workers.\n",
            "[Parallel(n_jobs=1)]: Done   8 out of   8 | elapsed:    0.2s finished\n",
            "Features: 7/7"
          ]
        }
      ],
      "source": [
        "sfs1 = sfs(clf, k_features=7, forward=False, verbose=1, scoring='neg_mean_squared_error')\n",
        "sfs1 = sfs1.fit(x_instance, y_iht)"
      ]
    },
    {
      "cell_type": "code",
      "execution_count": null,
      "metadata": {
        "colab": {
          "base_uri": "https://localhost:8080/"
        },
        "id": "S8t1Iq_Fe_MJ",
        "outputId": "cb0383d1-cca2-43b4-d1f1-6a02a0273c83"
      },
      "outputs": [
        {
          "name": "stdout",
          "output_type": "stream",
          "text": [
            "['1', '3', '4', '5', '7', '8', '9']\n"
          ]
        }
      ],
      "source": [
        "feat_names = list(sfs1.k_feature_names_)\n",
        "print(feat_names)"
      ]
    },
    {
      "cell_type": "code",
      "execution_count": null,
      "metadata": {
        "colab": {
          "base_uri": "https://localhost:8080/"
        },
        "id": "h0VzDQioqfG-",
        "outputId": "fb7b5d5c-8a01-439e-d2b1-66fb3e299093"
      },
      "outputs": [
        {
          "data": {
            "text/plain": [
              "[1, 3, 4, 5, 7, 8, 9]"
            ]
          },
          "execution_count": 184,
          "metadata": {},
          "output_type": "execute_result"
        }
      ],
      "source": [
        "for i in range(0,len(feat_names)):\n",
        "  feat_names[i] = int(feat_names[i])\n",
        "feat_names"
      ]
    },
    {
      "cell_type": "code",
      "execution_count": null,
      "metadata": {
        "colab": {
          "base_uri": "https://localhost:8080/"
        },
        "id": "b9BRNE4BqfD-",
        "outputId": "39a825d5-4c83-441f-a756-dbd30181f300"
      },
      "outputs": [
        {
          "data": {
            "text/plain": [
              "[0, 2, 6]"
            ]
          },
          "execution_count": 185,
          "metadata": {},
          "output_type": "execute_result"
        }
      ],
      "source": [
        "miss = []\n",
        "actual = [0,1,2,3,4,5,6,7,8,9]\n",
        "for i in range(0,len(actual)):\n",
        "  if(actual[i] not in feat_names):\n",
        "    miss.append(i)\n",
        "\n",
        "miss"
      ]
    },
    {
      "cell_type": "code",
      "execution_count": null,
      "metadata": {
        "colab": {
          "base_uri": "https://localhost:8080/"
        },
        "id": "_YZXG_5LfBXA",
        "outputId": "5298e277-1cc4-4256-d900-444d104018ad"
      },
      "outputs": [
        {
          "data": {
            "text/plain": [
              "array([[-1.77911731e+00, -2.38946800e-01, -1.38143640e+00, ...,\n",
              "        -2.43548790e-01, -1.41524339e+00, -1.28511375e+00],\n",
              "       [-1.55798046e+00, -2.38946800e-01, -1.38143640e+00, ...,\n",
              "         1.04735294e-01, -1.46720990e+00, -1.28511375e+00],\n",
              "       [-1.29261625e+00, -2.38946800e-01, -1.38143640e+00, ...,\n",
              "         1.21761006e+00, -1.27233548e+00, -1.28511375e+00],\n",
              "       ...,\n",
              "       [ 1.40525323e+00, -2.38946800e-01,  7.23884211e-01, ...,\n",
              "        -6.03979751e-01,  5.28105869e-02, -3.51780710e-01],\n",
              "       [ 1.22834376e+00, -2.38946800e-01,  7.23884211e-01, ...,\n",
              "        -4.05212677e-01,  8.44074468e-04, -1.28511375e+00],\n",
              "       [ 1.53793534e+00, -2.38946800e-01,  7.23884211e-01, ...,\n",
              "        -6.03758899e-01, -1.20737734e+00, -1.28511375e+00]])"
            ]
          },
          "execution_count": 186,
          "metadata": {},
          "output_type": "execute_result"
        }
      ],
      "source": [
        "x_iht = np.delete(x_instance, miss, axis = 1)\n",
        "x_iht"
      ]
    },
    {
      "cell_type": "code",
      "execution_count": null,
      "metadata": {
        "id": "yyaiMg5QfGxW"
      },
      "outputs": [],
      "source": [
        "from sklearn import tree\n",
        "clf = tree.DecisionTreeClassifier()"
      ]
    },
    {
      "cell_type": "code",
      "execution_count": null,
      "metadata": {
        "colab": {
          "base_uri": "https://localhost:8080/"
        },
        "id": "0LLdYhmqNE8K",
        "outputId": "4296d77b-c287-4f2d-b5ef-a77551d76329"
      },
      "outputs": [
        {
          "name": "stdout",
          "output_type": "stream",
          "text": [
            "Acuracy using Backward Feature Elimination  and Decision Tree is :  96.1401\n",
            "Precision using Backward Feature Elimination and Decision Tree is :  81.5459\n",
            "Recall using Backward Feature Elimination and Decision Tree is :  79.5\n",
            "F1 Score using Backward Feature Elimination and Decision Tree is :  80.3773\n"
          ]
        }
      ],
      "source": [
        "ans = measure(clf, x_iht, y_iht)\n",
        "\n",
        "print(\"Acuracy using Backward Feature Elimination  and Decision Tree is : \",round(ans[0]*100,4))\n",
        "print(\"Precision using Backward Feature Elimination and Decision Tree is : \",round(ans[1]*100,4))\n",
        "\n",
        "print(\"Recall using Backward Feature Elimination and Decision Tree is : \",round(ans[2]*100,4))\n",
        "print(\"F1 Score using Backward Feature Elimination and Decision Tree is : \",round(ans[3]*100,4))"
      ]
    },
    {
      "cell_type": "markdown",
      "metadata": {
        "id": "k5vpBJjyfVrH"
      },
      "source": [
        "**Backward Elimination using SVM**"
      ]
    },
    {
      "cell_type": "code",
      "execution_count": null,
      "metadata": {
        "id": "YxbT8aLLfSgz"
      },
      "outputs": [],
      "source": [
        "from mlxtend.feature_selection import SequentialFeatureSelector as sfs\n",
        "from sklearn import svm\n",
        "cl = svm.SVC()"
      ]
    },
    {
      "cell_type": "code",
      "execution_count": null,
      "metadata": {
        "colab": {
          "base_uri": "https://localhost:8080/"
        },
        "id": "e1RPNSCkfnHl",
        "outputId": "de7a60da-89fd-4e58-bee0-8f819c2f09af"
      },
      "outputs": [
        {
          "name": "stderr",
          "output_type": "stream",
          "text": [
            "[Parallel(n_jobs=1)]: Using backend SequentialBackend with 1 concurrent workers.\n",
            "[Parallel(n_jobs=1)]: Done  10 out of  10 | elapsed:    2.2s finished\n",
            "Features: 9/7[Parallel(n_jobs=1)]: Using backend SequentialBackend with 1 concurrent workers.\n",
            "[Parallel(n_jobs=1)]: Done   9 out of   9 | elapsed:    1.8s finished\n",
            "Features: 8/7[Parallel(n_jobs=1)]: Using backend SequentialBackend with 1 concurrent workers.\n",
            "[Parallel(n_jobs=1)]: Done   8 out of   8 | elapsed:    1.5s finished\n",
            "Features: 7/7"
          ]
        }
      ],
      "source": [
        "sfs1 = sfs(cl, k_features=7, forward=False, verbose=1, scoring='neg_mean_squared_error')\n",
        "sfs1 = sfs1.fit(x_instance, y_iht)"
      ]
    },
    {
      "cell_type": "code",
      "execution_count": null,
      "metadata": {
        "colab": {
          "base_uri": "https://localhost:8080/"
        },
        "id": "BeM1zDYyfqMm",
        "outputId": "7156dcc0-0a35-43a5-c305-a0a56f218af0"
      },
      "outputs": [
        {
          "name": "stdout",
          "output_type": "stream",
          "text": [
            "['1', '2', '3', '5', '6', '7', '9']\n"
          ]
        }
      ],
      "source": [
        "feat_names = list(sfs1.k_feature_names_)\n",
        "print(feat_names)"
      ]
    },
    {
      "cell_type": "code",
      "execution_count": null,
      "metadata": {
        "colab": {
          "base_uri": "https://localhost:8080/"
        },
        "id": "cVbgxjf_ql3t",
        "outputId": "76d09d62-893f-447e-dc66-9f990c95e985"
      },
      "outputs": [
        {
          "data": {
            "text/plain": [
              "[1, 2, 3, 5, 6, 7, 9]"
            ]
          },
          "execution_count": 192,
          "metadata": {},
          "output_type": "execute_result"
        }
      ],
      "source": [
        "for i in range(0,len(feat_names)):\n",
        "  feat_names[i] = int(feat_names[i])\n",
        "feat_names"
      ]
    },
    {
      "cell_type": "code",
      "execution_count": null,
      "metadata": {
        "colab": {
          "base_uri": "https://localhost:8080/"
        },
        "id": "Wtp5LcIbql0p",
        "outputId": "ace76882-8a81-48d9-dad2-9e50316c44a0"
      },
      "outputs": [
        {
          "data": {
            "text/plain": [
              "[0, 4, 8]"
            ]
          },
          "execution_count": 193,
          "metadata": {},
          "output_type": "execute_result"
        }
      ],
      "source": [
        "miss = []\n",
        "actual = [0,1,2,3,4,5,6,7,8,9]\n",
        "for i in range(0,len(actual)):\n",
        "  if(actual[i] not in feat_names):\n",
        "    miss.append(i)\n",
        "\n",
        "miss"
      ]
    },
    {
      "cell_type": "code",
      "execution_count": null,
      "metadata": {
        "colab": {
          "base_uri": "https://localhost:8080/"
        },
        "id": "7j4BR5nDftXJ",
        "outputId": "aaa56216-2c59-4bb3-9dff-b21008378992"
      },
      "outputs": [
        {
          "data": {
            "text/plain": [
              "array([[-1.77911731, -0.32860186, -0.2389468 , ..., -1.01617781,\n",
              "        -0.24354879, -1.28511375],\n",
              "       [-1.55798046, -0.32860186, -0.2389468 , ...,  0.98407974,\n",
              "         0.10473529, -1.28511375],\n",
              "       [-1.29261625, -0.32860186, -0.2389468 , ..., -1.01617781,\n",
              "         1.21761006, -1.28511375],\n",
              "       ...,\n",
              "       [ 1.40525323, -0.32860186, -0.2389468 , ..., -1.01617781,\n",
              "        -0.60397975, -0.35178071],\n",
              "       [ 1.22834376,  3.04319637, -0.2389468 , ..., -1.01617781,\n",
              "        -0.40521268, -1.28511375],\n",
              "       [ 1.53793534, -0.32860186, -0.2389468 , ..., -1.01617781,\n",
              "        -0.6037589 , -1.28511375]])"
            ]
          },
          "execution_count": 194,
          "metadata": {},
          "output_type": "execute_result"
        }
      ],
      "source": [
        "x_iht = np.delete(x_instance, miss, axis = 1)\n",
        "x_iht"
      ]
    },
    {
      "cell_type": "code",
      "execution_count": null,
      "metadata": {
        "id": "Fz1-ocN4fwin"
      },
      "outputs": [],
      "source": [
        "from sklearn import svm\n",
        "cl = svm.SVC()"
      ]
    },
    {
      "cell_type": "code",
      "execution_count": null,
      "metadata": {
        "colab": {
          "base_uri": "https://localhost:8080/"
        },
        "id": "XiUqmGqGNI3w",
        "outputId": "013d9e78-ea7a-4758-dc80-145f4319aaed"
      },
      "outputs": [
        {
          "name": "stdout",
          "output_type": "stream",
          "text": [
            "Acuracy using Backward Feature Elimination and SVM is :  96.938\n",
            "Precision using Backward Feature Elimination and SVM is :  92.6927\n",
            "Recall using Backward Feature Elimination and SVM is :  76.6833\n",
            "F1 Score using Backward Feature Elimination and SVM is :  83.6629\n"
          ]
        }
      ],
      "source": [
        "ans = measure(cl, x_iht, y_iht)\n",
        "\n",
        "print(\"Acuracy using Backward Feature Elimination and SVM is : \",round(ans[0]*100,4))\n",
        "print(\"Precision using Backward Feature Elimination and SVM is : \",round(ans[1]*100,4))\n",
        "\n",
        "print(\"Recall using Backward Feature Elimination and SVM is : \",round(ans[2]*100,4))\n",
        "print(\"F1 Score using Backward Feature Elimination and SVM is : \",round(ans[3]*100,4))"
      ]
    },
    {
      "cell_type": "markdown",
      "metadata": {
        "id": "ny4euR0lf75X"
      },
      "source": [
        "**Backward Feature Elimination using Naive Bayes**"
      ]
    },
    {
      "cell_type": "code",
      "execution_count": null,
      "metadata": {
        "id": "sobpmNbnf61N"
      },
      "outputs": [],
      "source": [
        "from mlxtend.feature_selection import SequentialFeatureSelector as sfs\n",
        "from sklearn.naive_bayes import GaussianNB\n",
        "gnb = GaussianNB()"
      ]
    },
    {
      "cell_type": "code",
      "execution_count": null,
      "metadata": {
        "colab": {
          "base_uri": "https://localhost:8080/"
        },
        "id": "oBnqBqFsgJ7f",
        "outputId": "7fa8a093-da1f-42de-b6b5-4c7dcf626700"
      },
      "outputs": [
        {
          "name": "stderr",
          "output_type": "stream",
          "text": [
            "[Parallel(n_jobs=1)]: Using backend SequentialBackend with 1 concurrent workers.\n",
            "[Parallel(n_jobs=1)]: Done  10 out of  10 | elapsed:    0.1s finished\n",
            "Features: 9/7[Parallel(n_jobs=1)]: Using backend SequentialBackend with 1 concurrent workers.\n",
            "[Parallel(n_jobs=1)]: Done   9 out of   9 | elapsed:    0.1s finished\n",
            "Features: 8/7[Parallel(n_jobs=1)]: Using backend SequentialBackend with 1 concurrent workers.\n",
            "[Parallel(n_jobs=1)]: Done   8 out of   8 | elapsed:    0.1s finished\n",
            "Features: 7/7"
          ]
        }
      ],
      "source": [
        "sfs1 = sfs(gnb, k_features=7, forward=False, verbose=1, scoring='neg_mean_squared_error')\n",
        "sfs1 = sfs1.fit(x_instance, y_iht)"
      ]
    },
    {
      "cell_type": "code",
      "execution_count": null,
      "metadata": {
        "colab": {
          "base_uri": "https://localhost:8080/"
        },
        "id": "lyfLfdPMgNMH",
        "outputId": "586c1c06-c0aa-43ab-a98e-909989a429d6"
      },
      "outputs": [
        {
          "name": "stdout",
          "output_type": "stream",
          "text": [
            "['0', '1', '3', '4', '6', '7', '9']\n"
          ]
        }
      ],
      "source": [
        "feat_names = list(sfs1.k_feature_names_)\n",
        "print(feat_names)"
      ]
    },
    {
      "cell_type": "code",
      "execution_count": null,
      "metadata": {
        "colab": {
          "base_uri": "https://localhost:8080/"
        },
        "id": "kxYvehxlqtf1",
        "outputId": "a6ad1ccd-2792-4039-b642-4457ab12cdd7"
      },
      "outputs": [
        {
          "data": {
            "text/plain": [
              "[0, 1, 3, 4, 6, 7, 9]"
            ]
          },
          "execution_count": 200,
          "metadata": {},
          "output_type": "execute_result"
        }
      ],
      "source": [
        "for i in range(0,len(feat_names)):\n",
        "  feat_names[i] = int(feat_names[i])\n",
        "feat_names"
      ]
    },
    {
      "cell_type": "code",
      "execution_count": null,
      "metadata": {
        "colab": {
          "base_uri": "https://localhost:8080/"
        },
        "id": "aztRzCBCqtVU",
        "outputId": "e8339737-89c0-486b-ea95-380e2ed61fc7"
      },
      "outputs": [
        {
          "data": {
            "text/plain": [
              "[2, 5, 8]"
            ]
          },
          "execution_count": 201,
          "metadata": {},
          "output_type": "execute_result"
        }
      ],
      "source": [
        "miss = []\n",
        "actual = [0,1,2,3,4,5,6,7,8,9]\n",
        "for i in range(0,len(actual)):\n",
        "  if(actual[i] not in feat_names):\n",
        "    miss.append(i)\n",
        "\n",
        "miss"
      ]
    },
    {
      "cell_type": "code",
      "execution_count": null,
      "metadata": {
        "colab": {
          "base_uri": "https://localhost:8080/"
        },
        "id": "FhLM58WMgPgD",
        "outputId": "0ccdef96-0f73-457f-82bf-4171cc7dca31"
      },
      "outputs": [
        {
          "data": {
            "text/plain": [
              "array([[ 1.18807255, -1.77911731, -0.2389468 , ...,  1.68071161,\n",
              "        -1.01617781, -0.24354879],\n",
              "       [-0.840344  , -1.55798046, -0.2389468 , ..., -0.15383636,\n",
              "         0.98407974,  0.10473529],\n",
              "       [ 1.18807255, -1.29261625, -0.2389468 , ..., -1.07111035,\n",
              "        -1.01617781,  1.21761006],\n",
              "       ...,\n",
              "       [-0.840344  ,  1.40525323, -0.2389468 , ...,  0.76343762,\n",
              "        -1.01617781, -0.60397975],\n",
              "       [ 1.18807255,  1.22834376, -0.2389468 , ...,  0.76343762,\n",
              "        -1.01617781, -0.40521268],\n",
              "       [-0.840344  ,  1.53793534, -0.2389468 , ..., -0.15383636,\n",
              "        -1.01617781, -0.6037589 ]])"
            ]
          },
          "execution_count": 202,
          "metadata": {},
          "output_type": "execute_result"
        }
      ],
      "source": [
        "x_iht = np.delete(x_instance, [2,8,9], axis = 1)\n",
        "x_iht"
      ]
    },
    {
      "cell_type": "code",
      "execution_count": null,
      "metadata": {
        "id": "cI4c795mgVzL"
      },
      "outputs": [],
      "source": [
        "from sklearn.naive_bayes import GaussianNB\n",
        "gnb = GaussianNB()"
      ]
    },
    {
      "cell_type": "code",
      "execution_count": null,
      "metadata": {
        "colab": {
          "base_uri": "https://localhost:8080/"
        },
        "id": "lng4oK75NM_J",
        "outputId": "96301763-bdee-49af-8fc4-6360e3bcccce"
      },
      "outputs": [
        {
          "name": "stdout",
          "output_type": "stream",
          "text": [
            "Acuracy using Backward Feature Elimination and Naive Bayes is :  95.5961\n",
            "Precision using Backward Feature Elimination and Naive Bayes is :  87.2025\n",
            "Recall using Backward Feature Elimination and Naive Bayes is :  67.85\n",
            "F1 Score using Backward Feature Elimination and Naive Bayes is :  76.0034\n"
          ]
        }
      ],
      "source": [
        "ans = measure(gnb, x_iht, y_iht)\n",
        "\n",
        "print(\"Acuracy using Backward Feature Elimination and Naive Bayes is : \",round(ans[0]*100,4))\n",
        "print(\"Precision using Backward Feature Elimination and Naive Bayes is : \",round(ans[1]*100,4))\n",
        "\n",
        "print(\"Recall using Backward Feature Elimination and Naive Bayes is : \",round(ans[2]*100,4))\n",
        "print(\"F1 Score using Backward Feature Elimination and Naive Bayes is : \",round(ans[3]*100,4))"
      ]
    },
    {
      "cell_type": "markdown",
      "metadata": {
        "id": "qjvEJP22gy0K"
      },
      "source": [
        "**Backward Feature Eliminaion using Random Forest**"
      ]
    },
    {
      "cell_type": "code",
      "execution_count": null,
      "metadata": {
        "id": "U5YenLKjgmEK"
      },
      "outputs": [],
      "source": [
        "from mlxtend.feature_selection import SequentialFeatureSelector as sfs\n",
        "from sklearn.ensemble import RandomForestClassifier\n",
        "rf = RandomForestClassifier(random_state=0)"
      ]
    },
    {
      "cell_type": "code",
      "execution_count": null,
      "metadata": {
        "colab": {
          "base_uri": "https://localhost:8080/"
        },
        "id": "WzNyoYEkhDKz",
        "outputId": "8db0ecb0-8aa8-4e21-e4e2-01db5c1fc288"
      },
      "outputs": [
        {
          "name": "stderr",
          "output_type": "stream",
          "text": [
            "[Parallel(n_jobs=1)]: Using backend SequentialBackend with 1 concurrent workers.\n",
            "[Parallel(n_jobs=1)]: Done  10 out of  10 | elapsed:   13.7s finished\n",
            "Features: 9/7[Parallel(n_jobs=1)]: Using backend SequentialBackend with 1 concurrent workers.\n",
            "[Parallel(n_jobs=1)]: Done   9 out of   9 | elapsed:   10.7s finished\n",
            "Features: 8/7[Parallel(n_jobs=1)]: Using backend SequentialBackend with 1 concurrent workers.\n",
            "[Parallel(n_jobs=1)]: Done   8 out of   8 | elapsed:    9.6s finished\n",
            "Features: 7/7"
          ]
        }
      ],
      "source": [
        "sfs1 = sfs(rf, k_features=7, forward=False, verbose=1, scoring='neg_mean_squared_error')\n",
        "sfs1 = sfs1.fit(x_instance, y_iht)"
      ]
    },
    {
      "cell_type": "code",
      "execution_count": null,
      "metadata": {
        "colab": {
          "base_uri": "https://localhost:8080/"
        },
        "id": "Uq0tXb-shISl",
        "outputId": "3c72ef3f-83cb-45ae-946c-9fd3d3f3c418"
      },
      "outputs": [
        {
          "name": "stdout",
          "output_type": "stream",
          "text": [
            "['0', '1', '2', '3', '7', '8', '9']\n"
          ]
        }
      ],
      "source": [
        "feat_names = list(sfs1.k_feature_names_)\n",
        "print(feat_names)"
      ]
    },
    {
      "cell_type": "code",
      "execution_count": null,
      "metadata": {
        "colab": {
          "base_uri": "https://localhost:8080/"
        },
        "id": "ZJjocmk0qyzi",
        "outputId": "eb8dd772-b6af-425e-9dc2-9b16e50f088b"
      },
      "outputs": [
        {
          "data": {
            "text/plain": [
              "[0, 1, 2, 3, 7, 8, 9]"
            ]
          },
          "execution_count": 208,
          "metadata": {},
          "output_type": "execute_result"
        }
      ],
      "source": [
        "for i in range(0,len(feat_names)):\n",
        "  feat_names[i] = int(feat_names[i])\n",
        "feat_names"
      ]
    },
    {
      "cell_type": "code",
      "execution_count": null,
      "metadata": {
        "colab": {
          "base_uri": "https://localhost:8080/"
        },
        "id": "ZRfIO1CGqyrM",
        "outputId": "8a219462-246e-45d7-e72f-93cdbe3daa38"
      },
      "outputs": [
        {
          "data": {
            "text/plain": [
              "[4, 5, 6]"
            ]
          },
          "execution_count": 209,
          "metadata": {},
          "output_type": "execute_result"
        }
      ],
      "source": [
        "miss = []\n",
        "actual = [0,1,2,3,4,5,6,7,8,9]\n",
        "for i in range(0,len(actual)):\n",
        "  if(actual[i] not in feat_names):\n",
        "    miss.append(i)\n",
        "\n",
        "miss"
      ]
    },
    {
      "cell_type": "code",
      "execution_count": null,
      "metadata": {
        "colab": {
          "base_uri": "https://localhost:8080/"
        },
        "id": "tSe7IiTwhRWW",
        "outputId": "3ced51ba-5b9f-40b2-d015-95af2b777616"
      },
      "outputs": [
        {
          "data": {
            "text/plain": [
              "array([[ 1.18807255e+00, -1.77911731e+00, -3.28601864e-01, ...,\n",
              "        -2.43548790e-01, -1.41524339e+00, -1.28511375e+00],\n",
              "       [-8.40343999e-01, -1.55798046e+00, -3.28601864e-01, ...,\n",
              "         1.04735294e-01, -1.46720990e+00, -1.28511375e+00],\n",
              "       [ 1.18807255e+00, -1.29261625e+00, -3.28601864e-01, ...,\n",
              "         1.21761006e+00, -1.27233548e+00, -1.28511375e+00],\n",
              "       ...,\n",
              "       [-8.40343999e-01,  1.40525323e+00, -3.28601864e-01, ...,\n",
              "        -6.03979751e-01,  5.28105869e-02, -3.51780710e-01],\n",
              "       [ 1.18807255e+00,  1.22834376e+00,  3.04319637e+00, ...,\n",
              "        -4.05212677e-01,  8.44074468e-04, -1.28511375e+00],\n",
              "       [-8.40343999e-01,  1.53793534e+00, -3.28601864e-01, ...,\n",
              "        -6.03758899e-01, -1.20737734e+00, -1.28511375e+00]])"
            ]
          },
          "execution_count": 210,
          "metadata": {},
          "output_type": "execute_result"
        }
      ],
      "source": [
        "x_iht = np.delete(x_instance, miss, axis = 1)\n",
        "x_iht"
      ]
    },
    {
      "cell_type": "code",
      "execution_count": null,
      "metadata": {
        "id": "IYY8EUl_hXJ2"
      },
      "outputs": [],
      "source": [
        "from sklearn.ensemble import RandomForestClassifier\n",
        "rf = RandomForestClassifier(random_state=0)"
      ]
    },
    {
      "cell_type": "code",
      "execution_count": null,
      "metadata": {
        "colab": {
          "base_uri": "https://localhost:8080/"
        },
        "id": "ertZPxS_NSfd",
        "outputId": "16616fc6-a12f-43a9-ca72-2e3f35eca08c"
      },
      "outputs": [
        {
          "name": "stdout",
          "output_type": "stream",
          "text": [
            "Acuracy using Backward Feature Elimination and Random Forest is :  97.7343\n",
            "Precision using Backward Feature Elimination and Random Forest is :  95.7815\n",
            "Recall using Backward Feature Elimination and Random Forest is :  81.9\n",
            "F1 Score using Backward Feature Elimination and Random Forest is :  88.2064\n"
          ]
        }
      ],
      "source": [
        "ans = measure(rf, x_iht, y_iht)\n",
        "\n",
        "print(\"Acuracy using Backward Feature Elimination and Random Forest is : \",round(ans[0]*100,4))\n",
        "print(\"Precision using Backward Feature Elimination and Random Forest is : \",round(ans[1]*100,4))\n",
        "\n",
        "print(\"Recall using Backward Feature Elimination and Random Forest is : \",round(ans[2]*100,4))\n",
        "print(\"F1 Score using Backward Feature Elimination and Random Forest is : \",round(ans[3]*100,4))"
      ]
    },
    {
      "cell_type": "markdown",
      "metadata": {
        "id": "hIMlfUBZhrju"
      },
      "source": [
        "**Backward Feature Elimination using KNN**"
      ]
    },
    {
      "cell_type": "code",
      "execution_count": null,
      "metadata": {
        "id": "MgE4RET-hnzj"
      },
      "outputs": [],
      "source": [
        "from mlxtend.feature_selection import SequentialFeatureSelector as sfs\n",
        "from sklearn.neighbors import KNeighborsClassifier\n",
        "knn = KNeighborsClassifier()"
      ]
    },
    {
      "cell_type": "code",
      "execution_count": null,
      "metadata": {
        "colab": {
          "base_uri": "https://localhost:8080/"
        },
        "id": "bGbVQwTfh0WH",
        "outputId": "169a4e65-7572-4b1a-af76-6a48ee26e3ae"
      },
      "outputs": [
        {
          "name": "stderr",
          "output_type": "stream",
          "text": [
            "[Parallel(n_jobs=1)]: Using backend SequentialBackend with 1 concurrent workers.\n",
            "[Parallel(n_jobs=1)]: Done  10 out of  10 | elapsed:    1.1s finished\n",
            "Features: 9/7[Parallel(n_jobs=1)]: Using backend SequentialBackend with 1 concurrent workers.\n",
            "[Parallel(n_jobs=1)]: Done   9 out of   9 | elapsed:    1.0s finished\n",
            "Features: 8/7[Parallel(n_jobs=1)]: Using backend SequentialBackend with 1 concurrent workers.\n",
            "[Parallel(n_jobs=1)]: Done   8 out of   8 | elapsed:    0.9s finished\n",
            "Features: 7/7"
          ]
        }
      ],
      "source": [
        "sfs1 = sfs(knn, k_features=7, forward=False, verbose=1, scoring='neg_mean_squared_error')\n",
        "sfs1 = sfs1.fit(x_instance, y_iht)"
      ]
    },
    {
      "cell_type": "code",
      "execution_count": null,
      "metadata": {
        "colab": {
          "base_uri": "https://localhost:8080/"
        },
        "id": "-6ZNzCrLh3En",
        "outputId": "e76ba234-2a1e-41aa-8c1e-c9fafde3f315"
      },
      "outputs": [
        {
          "name": "stdout",
          "output_type": "stream",
          "text": [
            "['1', '2', '3', '4', '7', '8', '9']\n"
          ]
        }
      ],
      "source": [
        "feat_names = list(sfs1.k_feature_names_)\n",
        "print(feat_names)"
      ]
    },
    {
      "cell_type": "code",
      "execution_count": null,
      "metadata": {
        "colab": {
          "base_uri": "https://localhost:8080/"
        },
        "id": "JWwZA89Dq6PX",
        "outputId": "f6a4399c-18ad-4795-b9c3-991238e3441f"
      },
      "outputs": [
        {
          "data": {
            "text/plain": [
              "[1, 2, 3, 4, 7, 8, 9]"
            ]
          },
          "execution_count": 216,
          "metadata": {},
          "output_type": "execute_result"
        }
      ],
      "source": [
        "for i in range(0,len(feat_names)):\n",
        "  feat_names[i] = int(feat_names[i])\n",
        "feat_names"
      ]
    },
    {
      "cell_type": "code",
      "execution_count": null,
      "metadata": {
        "colab": {
          "base_uri": "https://localhost:8080/"
        },
        "id": "3GE6VXSGq6IZ",
        "outputId": "aa918e41-b5ff-4bef-9fe8-63bbfb13f80a"
      },
      "outputs": [
        {
          "data": {
            "text/plain": [
              "[0, 5, 6]"
            ]
          },
          "execution_count": 217,
          "metadata": {},
          "output_type": "execute_result"
        }
      ],
      "source": [
        "miss = []\n",
        "actual = [0,1,2,3,4,5,6,7,8,9]\n",
        "for i in range(0,len(actual)):\n",
        "  if(actual[i] not in feat_names):\n",
        "    miss.append(i)\n",
        "\n",
        "miss"
      ]
    },
    {
      "cell_type": "code",
      "execution_count": null,
      "metadata": {
        "colab": {
          "base_uri": "https://localhost:8080/"
        },
        "id": "mfA2XWs1h49j",
        "outputId": "22edbd72-6bc2-4026-fd52-7bbf65226eb4"
      },
      "outputs": [
        {
          "data": {
            "text/plain": [
              "array([[ 1.18807255e+00, -1.77911731e+00, -3.28601864e-01, ...,\n",
              "        -2.43548790e-01, -1.41524339e+00, -1.28511375e+00],\n",
              "       [-8.40343999e-01, -1.55798046e+00, -3.28601864e-01, ...,\n",
              "         1.04735294e-01, -1.46720990e+00, -1.28511375e+00],\n",
              "       [ 1.18807255e+00, -1.29261625e+00, -3.28601864e-01, ...,\n",
              "         1.21761006e+00, -1.27233548e+00, -1.28511375e+00],\n",
              "       ...,\n",
              "       [-8.40343999e-01,  1.40525323e+00, -3.28601864e-01, ...,\n",
              "        -6.03979751e-01,  5.28105869e-02, -3.51780710e-01],\n",
              "       [ 1.18807255e+00,  1.22834376e+00,  3.04319637e+00, ...,\n",
              "        -4.05212677e-01,  8.44074468e-04, -1.28511375e+00],\n",
              "       [-8.40343999e-01,  1.53793534e+00, -3.28601864e-01, ...,\n",
              "        -6.03758899e-01, -1.20737734e+00, -1.28511375e+00]])"
            ]
          },
          "execution_count": 218,
          "metadata": {},
          "output_type": "execute_result"
        }
      ],
      "source": [
        "x_iht = np.delete(x_instance, [4,5,6], axis = 1)\n",
        "x_iht"
      ]
    },
    {
      "cell_type": "code",
      "execution_count": null,
      "metadata": {
        "id": "EDMoP6L9h86B"
      },
      "outputs": [],
      "source": [
        "from sklearn.neighbors import KNeighborsClassifier\n",
        "knn = KNeighborsClassifier()"
      ]
    },
    {
      "cell_type": "code",
      "execution_count": null,
      "metadata": {
        "colab": {
          "base_uri": "https://localhost:8080/"
        },
        "id": "QPjOMO0TNW_A",
        "outputId": "f9c9d4c4-b114-470f-92e4-e453e440430e"
      },
      "outputs": [
        {
          "name": "stdout",
          "output_type": "stream",
          "text": [
            "Acuracy using Backward Feature Elimination and KNN is :  96.6861\n",
            "Precision using Backward Feature Elimination and KNN is :  90.7267\n",
            "Recall using Backward Feature Elimination and KNN is :  75.9\n",
            "F1 Score using Backward Feature Elimination and KNN is :  82.4073\n"
          ]
        }
      ],
      "source": [
        "ans = measure(knn, x_iht, y_iht)\n",
        "\n",
        "print(\"Acuracy using Backward Feature Elimination and KNN is : \",round(ans[0]*100,4))\n",
        "print(\"Precision using Backward Feature Elimination and KNN is : \",round(ans[1]*100,4))\n",
        "\n",
        "print(\"Recall using Backward Feature Elimination and KNN is : \",round(ans[2]*100,4))\n",
        "print(\"F1 Score using Backward Feature Elimination and KNN is : \",round(ans[3]*100,4))"
      ]
    },
    {
      "cell_type": "markdown",
      "metadata": {
        "id": "LMN4Y802i0Hg"
      },
      "source": [
        "# **Exhaustive Feature Selection**"
      ]
    },
    {
      "cell_type": "code",
      "execution_count": null,
      "metadata": {
        "id": "W8svbI6BiHUe"
      },
      "outputs": [],
      "source": [
        "from mlxtend.feature_selection import ExhaustiveFeatureSelector as EFS"
      ]
    },
    {
      "cell_type": "markdown",
      "metadata": {
        "id": "I1OcPXJNkQHE"
      },
      "source": [
        "**Exhaustive Feature Selection using Logistic Regression**"
      ]
    },
    {
      "cell_type": "code",
      "execution_count": null,
      "metadata": {
        "id": "xfvVvGmNi3gF"
      },
      "outputs": [],
      "source": [
        "from sklearn.linear_model import LogisticRegression\n",
        "log = LogisticRegression(random_state = 0)"
      ]
    },
    {
      "cell_type": "code",
      "execution_count": null,
      "metadata": {
        "id": "vJpLN-Sdi8U4"
      },
      "outputs": [],
      "source": [
        "efs1 = EFS(log, min_features=7, max_features=7, scoring='accuracy', print_progress=True, cv=10)\n",
        "efs2 = EFS(log, min_features=7, max_features=7, scoring='precision', print_progress=True, cv=10)\n",
        "efs3 = EFS(log, min_features=7, max_features=7, scoring='recall', print_progress=True, cv=10)\n",
        "efs4 = EFS(log, min_features=7, max_features=7, scoring='f1', print_progress=True, cv=10)"
      ]
    },
    {
      "cell_type": "code",
      "execution_count": null,
      "metadata": {
        "colab": {
          "background_save": true,
          "base_uri": "https://localhost:8080/"
        },
        "id": "hCZ_D0eZjLMr",
        "outputId": "1e195eb2-5e6e-4ccb-d679-4ecbef1f4843"
      },
      "outputs": [
        {
          "name": "stderr",
          "output_type": "stream",
          "text": [
            "Features: 120/120"
          ]
        }
      ],
      "source": [
        "efs1 = efs1.fit(x_instance, y_iht)\n",
        "efs2 = efs2.fit(x_instance, y_iht)\n",
        "\n",
        "efs3 = efs3.fit(x_instance, y_iht)\n",
        "efs4 = efs4.fit(x_instance, y_iht)"
      ]
    },
    {
      "cell_type": "code",
      "execution_count": null,
      "metadata": {
        "colab": {
          "background_save": true
        },
        "id": "UlOrY9v5jY4R",
        "outputId": "a376a522-bc31-4219-8b24-4daf2c173555"
      },
      "outputs": [
        {
          "name": "stdout",
          "output_type": "stream",
          "text": [
            "Accuracy of Model with Exhaustive Feature Selection using Logistic Regression is: 96.7278\n",
            "Precision of Model with Exhaustive Feature Selection using Logistic Regression is: 93.3333\n",
            "Recall of Model with Exhaustive Feature Selection using Logistic Regression is: 78.25\n",
            "F1 Score of Model with Exhaustive Feature Selection using Logistic Regression is: 83.079\n"
          ]
        }
      ],
      "source": [
        "print(\"Accuracy of Model with Exhaustive Feature Selection using Logistic Regression is:\", round(efs1.best_score_*100,4))\n",
        "print(\"Precision of Model with Exhaustive Feature Selection using Logistic Regression is:\", round(efs2.best_score_*100,4))\n",
        "\n",
        "print(\"Recall of Model with Exhaustive Feature Selection using Logistic Regression is:\", round(efs3.best_score_*100,4))\n",
        "print(\"F1 Score of Model with Exhaustive Feature Selection using Logistic Regression is:\", round(efs4.best_score_*100,4))"
      ]
    },
    {
      "cell_type": "code",
      "execution_count": null,
      "metadata": {
        "colab": {
          "background_save": true
        },
        "id": "vQ6VZbNUZKh1",
        "outputId": "30d97d67-6f7f-4837-cd05-b12a3ffe88ae"
      },
      "outputs": [
        {
          "name": "stdout",
          "output_type": "stream",
          "text": [
            "(0, 1, 2, 3, 4, 5, 7)\n",
            "\n"
          ]
        }
      ],
      "source": [
        "print(efs1.best_idx_)\n",
        "print()"
      ]
    },
    {
      "cell_type": "markdown",
      "metadata": {
        "id": "h9EKx65-kzdI"
      },
      "source": [
        "**Exhaustive Feature Selection using Decision Tree**"
      ]
    },
    {
      "cell_type": "code",
      "execution_count": null,
      "metadata": {
        "colab": {
          "background_save": true
        },
        "id": "ll0eAVd0jakk"
      },
      "outputs": [],
      "source": [
        "from mlxtend.feature_selection import ExhaustiveFeatureSelector as EFS"
      ]
    },
    {
      "cell_type": "code",
      "execution_count": null,
      "metadata": {
        "colab": {
          "background_save": true
        },
        "id": "kbczPUmvk50T"
      },
      "outputs": [],
      "source": [
        "from sklearn import tree\n",
        "clf = tree.DecisionTreeClassifier()"
      ]
    },
    {
      "cell_type": "code",
      "execution_count": null,
      "metadata": {
        "colab": {
          "background_save": true
        },
        "id": "A_RrBkpOk8OP",
        "outputId": "58ef539f-e2b1-4e5a-c3f8-91689cb42bb2"
      },
      "outputs": [
        {
          "name": "stderr",
          "output_type": "stream",
          "text": [
            "Features: 120/120"
          ]
        }
      ],
      "source": [
        "efs1 = EFS(clf, min_features=7, max_features=7, scoring='accuracy', print_progress=True, cv=10)\n",
        "efs1 = efs1.fit(x_instance, y_iht)"
      ]
    },
    {
      "cell_type": "code",
      "execution_count": null,
      "metadata": {
        "colab": {
          "background_save": true
        },
        "id": "Q4CKtSPWY_QO",
        "outputId": "ca6fb5d9-dbf9-4993-fc97-cfc0d731d002"
      },
      "outputs": [
        {
          "name": "stderr",
          "output_type": "stream",
          "text": [
            "Features: 120/120"
          ]
        }
      ],
      "source": [
        "efs2 = EFS(clf, min_features=7, max_features=7, scoring='precision', print_progress=True, cv=10)\n",
        "efs2 = efs2.fit(x_instance, y_iht)"
      ]
    },
    {
      "cell_type": "code",
      "execution_count": null,
      "metadata": {
        "colab": {
          "background_save": true
        },
        "id": "BmJypGdiZEMY",
        "outputId": "8ef4ca16-9e55-4fba-bab7-a680795eba91"
      },
      "outputs": [
        {
          "name": "stderr",
          "output_type": "stream",
          "text": [
            "Features: 120/120"
          ]
        }
      ],
      "source": [
        "efs3 = EFS(clf, min_features=7, max_features=7, scoring='recall', print_progress=True, cv=10)\n",
        "efs3 = efs3.fit(x_instance, y_iht)"
      ]
    },
    {
      "cell_type": "code",
      "execution_count": null,
      "metadata": {
        "colab": {
          "background_save": true
        },
        "id": "qaG7P4s6ZH7w",
        "outputId": "d3d5f395-f093-4c7d-d6de-73ddbdd4c203"
      },
      "outputs": [
        {
          "name": "stderr",
          "output_type": "stream",
          "text": [
            "Features: 120/120"
          ]
        }
      ],
      "source": [
        "efs4 = EFS(clf, min_features=7, max_features=7, scoring='f1', print_progress=True, cv=10)\n",
        "efs4 = efs4.fit(x_instance, y_iht)"
      ]
    },
    {
      "cell_type": "code",
      "execution_count": null,
      "metadata": {
        "colab": {
          "background_save": true
        },
        "id": "50FGTEaNlGks",
        "outputId": "239c47ab-7927-4b6f-ca66-1e980924539c"
      },
      "outputs": [
        {
          "name": "stdout",
          "output_type": "stream",
          "text": [
            "Accuracy of Model with Exhaustive Feature Selection using Decision Tree is: 96.2672\n",
            "Precision of Model with Exhaustive Feature Selection using Decision Tree is: 85.0101\n",
            "Recall of Model with Exhaustive Feature Selection using Decision Tree is: 82.3\n",
            "F1 Score of Model with Exhaustive Feature Selection using Decision Tree is: 83.5299\n"
          ]
        }
      ],
      "source": [
        "print(\"Accuracy of Model with Exhaustive Feature Selection using Decision Tree is:\", round(efs1.best_score_*100,4))\n",
        "print(\"Precision of Model with Exhaustive Feature Selection using Decision Tree is:\", round(efs2.best_score_*100,4))\n",
        "\n",
        "print(\"Recall of Model with Exhaustive Feature Selection using Decision Tree is:\", round(efs3.best_score_*100,4))\n",
        "print(\"F1 Score of Model with Exhaustive Feature Selection using Decision Tree is:\", round(efs4.best_score_*100,4))"
      ]
    },
    {
      "cell_type": "code",
      "execution_count": null,
      "metadata": {
        "colab": {
          "background_save": true
        },
        "id": "NpVaOw8NZcfU",
        "outputId": "5307b256-5185-4eb3-8efc-ff7d1e3a0dc9"
      },
      "outputs": [
        {
          "name": "stdout",
          "output_type": "stream",
          "text": [
            "(0, 1, 2, 3, 4, 7, 9)\n",
            "\n"
          ]
        }
      ],
      "source": [
        "print(efs1.best_idx_)\n",
        "print()"
      ]
    },
    {
      "cell_type": "markdown",
      "metadata": {
        "id": "lVxeDft9lj9a"
      },
      "source": [
        "**Exhaustive Feature Selection using SVM**"
      ]
    },
    {
      "cell_type": "code",
      "execution_count": null,
      "metadata": {
        "colab": {
          "background_save": true
        },
        "id": "uianDcC4lMFG"
      },
      "outputs": [],
      "source": [
        "from mlxtend.feature_selection import ExhaustiveFeatureSelector as EFS\n",
        "from sklearn import svm\n",
        "cl = svm.SVC()"
      ]
    },
    {
      "cell_type": "code",
      "execution_count": null,
      "metadata": {
        "colab": {
          "background_save": true
        },
        "id": "MwVTOQf_lsA6",
        "outputId": "9eb4bc73-fc84-4fc6-d31e-3de0484bbf70"
      },
      "outputs": [
        {
          "name": "stderr",
          "output_type": "stream",
          "text": [
            "Features: 120/120"
          ]
        }
      ],
      "source": [
        "efs1 = EFS(cl, min_features=7, max_features=7, scoring='accuracy', print_progress=True, cv=10)\n",
        "\n",
        "efs1 = efs1.fit(x_instance, y_iht)"
      ]
    },
    {
      "cell_type": "code",
      "execution_count": null,
      "metadata": {
        "colab": {
          "background_save": true
        },
        "id": "7VEZ5JBaZTPL",
        "outputId": "f2440af8-e8ae-4125-f84d-279c168452d3"
      },
      "outputs": [
        {
          "name": "stderr",
          "output_type": "stream",
          "text": [
            "Features: 120/120"
          ]
        }
      ],
      "source": [
        "efs2 = EFS(cl, min_features=7, max_features=7, scoring='precision', print_progress=True, cv=10)\n",
        "\n",
        "efs2 = efs2.fit(x_instance, y_iht)"
      ]
    },
    {
      "cell_type": "code",
      "execution_count": null,
      "metadata": {
        "colab": {
          "background_save": true
        },
        "id": "XEnOjPbWZTHJ",
        "outputId": "d414e907-09ed-4178-cd5c-095581ff68ee"
      },
      "outputs": [
        {
          "name": "stderr",
          "output_type": "stream",
          "text": [
            "Features: 120/120"
          ]
        }
      ],
      "source": [
        "efs3 = EFS(cl, min_features=7, max_features=7, scoring='recall', print_progress=True, cv=10)\n",
        "\n",
        "efs3 = efs3.fit(x_instance, y_iht)"
      ]
    },
    {
      "cell_type": "code",
      "execution_count": null,
      "metadata": {
        "colab": {
          "background_save": true
        },
        "id": "6T8nLa7rZS75",
        "outputId": "d65fbda8-86ec-4e69-932c-d9a883163dd1"
      },
      "outputs": [
        {
          "name": "stderr",
          "output_type": "stream",
          "text": [
            "Features: 120/120"
          ]
        }
      ],
      "source": [
        "efs4 = EFS(cl, min_features=7, max_features=7, scoring='f1', print_progress=True, cv=10)\n",
        "\n",
        "efs4 = efs4.fit(x_instance, y_iht)"
      ]
    },
    {
      "cell_type": "code",
      "execution_count": null,
      "metadata": {
        "colab": {
          "background_save": true
        },
        "id": "4gpkfiSflxp0",
        "outputId": "bf983b47-b013-475b-a1d0-1150bbc42140"
      },
      "outputs": [
        {
          "name": "stdout",
          "output_type": "stream",
          "text": [
            "Accuracy of Model with Exhaustive Feature Selection using SVM is: 96.9801\n",
            "Precision of Model with Exhaustive Feature Selection using SVM is: 94.8489\n",
            "Recall of Model with Exhaustive Feature Selection using SVM is: 77.0667\n",
            "F1 Score of Model with Exhaustive Feature Selection using SVM is: 84.0217\n"
          ]
        }
      ],
      "source": [
        "print(\"Accuracy of Model with Exhaustive Feature Selection using SVM is:\", round(efs1.best_score_*100,4))\n",
        "print(\"Precision of Model with Exhaustive Feature Selection using SVM is:\", round(efs2.best_score_*100,4))\n",
        "\n",
        "print(\"Recall of Model with Exhaustive Feature Selection using SVM is:\", round(efs3.best_score_*100,4))\n",
        "print(\"F1 Score of Model with Exhaustive Feature Selection using SVM is:\", round(efs4.best_score_*100,4))"
      ]
    },
    {
      "cell_type": "code",
      "execution_count": null,
      "metadata": {
        "colab": {
          "background_save": true
        },
        "id": "X0BtcKMVZlcH",
        "outputId": "81236cc4-fba6-47e3-cc5d-d1bd79f56771"
      },
      "outputs": [
        {
          "name": "stdout",
          "output_type": "stream",
          "text": [
            "(1, 2, 3, 4, 6, 7, 8)\n",
            "\n"
          ]
        }
      ],
      "source": [
        "print(efs1.best_idx_)\n",
        "print()"
      ]
    },
    {
      "cell_type": "markdown",
      "metadata": {
        "id": "b_qpKnZBmlAm"
      },
      "source": [
        "**Exhaustive Feature Selection using Naive Bayes**"
      ]
    },
    {
      "cell_type": "code",
      "execution_count": null,
      "metadata": {
        "colab": {
          "background_save": true
        },
        "id": "6yC4tu1SmE-X"
      },
      "outputs": [],
      "source": [
        "from mlxtend.feature_selection import ExhaustiveFeatureSelector as EFS\n",
        "from sklearn.naive_bayes import GaussianNB\n",
        "gnb = GaussianNB()"
      ]
    },
    {
      "cell_type": "code",
      "execution_count": null,
      "metadata": {
        "colab": {
          "background_save": true
        },
        "id": "FIuCDIvjmuhi",
        "outputId": "18901416-4e74-435b-bad8-7620ac8eee54"
      },
      "outputs": [
        {
          "name": "stderr",
          "output_type": "stream",
          "text": [
            "Features: 120/120"
          ]
        }
      ],
      "source": [
        "efs1 = EFS(gnb, min_features=7, max_features=7, scoring='accuracy', print_progress=True, cv=10)\n",
        "efs1 = efs1.fit(x_instance, y_iht)"
      ]
    },
    {
      "cell_type": "code",
      "execution_count": null,
      "metadata": {
        "colab": {
          "background_save": true
        },
        "id": "0z2Aw0S7Zymi",
        "outputId": "2d15f727-81cf-4f5a-d0e5-0a0781444223"
      },
      "outputs": [
        {
          "name": "stderr",
          "output_type": "stream",
          "text": [
            "Features: 120/120"
          ]
        }
      ],
      "source": [
        "efs2 = EFS(gnb, min_features=7, max_features=7, scoring='precision', print_progress=True, cv=10)\n",
        "efs2 = efs2.fit(x_instance, y_iht)"
      ]
    },
    {
      "cell_type": "code",
      "execution_count": null,
      "metadata": {
        "colab": {
          "background_save": true
        },
        "id": "l-lPplONZyfZ",
        "outputId": "0eec4ecf-fa9c-4d29-fa34-78bf189f1180"
      },
      "outputs": [
        {
          "name": "stderr",
          "output_type": "stream",
          "text": [
            "Features: 120/120"
          ]
        }
      ],
      "source": [
        "efs3 = EFS(gnb, min_features=7, max_features=7, scoring='recall', print_progress=True, cv=10)\n",
        "efs3 = efs3.fit(x_instance, y_iht)"
      ]
    },
    {
      "cell_type": "code",
      "execution_count": null,
      "metadata": {
        "colab": {
          "background_save": true
        },
        "id": "UFdpuVcRZxz7",
        "outputId": "d2a690fd-d1c2-4c6d-eb88-1d0ce0d8c717"
      },
      "outputs": [
        {
          "name": "stderr",
          "output_type": "stream",
          "text": [
            "Features: 120/120"
          ]
        }
      ],
      "source": [
        "efs4 = EFS(gnb, min_features=7, max_features=7, scoring='f1', print_progress=True, cv=10)\n",
        "efs4 = efs4.fit(x_instance, y_iht)"
      ]
    },
    {
      "cell_type": "code",
      "execution_count": null,
      "metadata": {
        "colab": {
          "background_save": true
        },
        "id": "GrEiYu9GmySN",
        "outputId": "f873fbc3-b825-4b03-d9f8-33f587b260b1"
      },
      "outputs": [
        {
          "name": "stdout",
          "output_type": "stream",
          "text": [
            "Accuracy of Model with Exhaustive Feature Selection using Naive Bayes is: 95.5961\n",
            "Precision of Model with Exhaustive Feature Selection using Naive Bayes is: 95.79\n",
            "Recall of Model with Exhaustive Feature Selection using Naive Bayes is: 86.7333\n",
            "F1 Score of Model with Exhaustive Feature Selection using Naive Bayes is: 78.1369\n"
          ]
        }
      ],
      "source": [
        "print(\"Accuracy of Model with Exhaustive Feature Selection using Naive Bayes is:\", round(efs1.best_score_*100,4))\n",
        "print(\"Precision of Model with Exhaustive Feature Selection using Naive Bayes is:\", round(efs2.best_score_*100,4))\n",
        "\n",
        "print(\"Recall of Model with Exhaustive Feature Selection using Naive Bayes is:\", round(efs3.best_score_*100,4))\n",
        "print(\"F1 Score of Model with Exhaustive Feature Selection using Naive Bayes is:\", round(efs4.best_score_*100,4))"
      ]
    },
    {
      "cell_type": "code",
      "execution_count": null,
      "metadata": {
        "colab": {
          "background_save": true
        },
        "id": "Zg-IYjPnZ1dA",
        "outputId": "841f72a7-3d10-45bd-9bdc-6d944ec3faa5"
      },
      "outputs": [
        {
          "name": "stdout",
          "output_type": "stream",
          "text": [
            "(0, 1, 3, 4, 5, 6, 7)\n",
            "\n"
          ]
        }
      ],
      "source": [
        "print(efs1.best_idx_)\n",
        "print()"
      ]
    },
    {
      "cell_type": "markdown",
      "metadata": {
        "id": "XavDHkLinHBc"
      },
      "source": [
        "**Exhaustive Feature Selection using Random Forest**"
      ]
    },
    {
      "cell_type": "code",
      "execution_count": null,
      "metadata": {
        "colab": {
          "background_save": true
        },
        "id": "HGtHpY0JnGOR"
      },
      "outputs": [],
      "source": [
        "from mlxtend.feature_selection import ExhaustiveFeatureSelector as EFS\n",
        "from sklearn.ensemble import RandomForestClassifier\n",
        "rf = RandomForestClassifier(random_state=0)"
      ]
    },
    {
      "cell_type": "code",
      "execution_count": null,
      "metadata": {
        "colab": {
          "background_save": true
        },
        "id": "f9s45yuDnQJy",
        "outputId": "9bb0576d-bda4-4b96-fa2a-ba70f093396a"
      },
      "outputs": [
        {
          "name": "stderr",
          "output_type": "stream",
          "text": [
            "Features: 120/120"
          ]
        }
      ],
      "source": [
        "efs1 = EFS(rf, min_features=7, max_features=7, scoring='accuracy', print_progress=True, cv=10)\n",
        "efs1 = efs1.fit(x_instance, y_iht)"
      ]
    },
    {
      "cell_type": "code",
      "execution_count": null,
      "metadata": {
        "colab": {
          "background_save": true
        },
        "id": "HboCfZ9yaLQG",
        "outputId": "eefc5b96-8e0d-46af-a50a-94851bd83329"
      },
      "outputs": [
        {
          "name": "stderr",
          "output_type": "stream",
          "text": [
            "Features: 120/120"
          ]
        }
      ],
      "source": [
        "efs2 = EFS(rf, min_features=7, max_features=7, scoring='precision', print_progress=True, cv=10)\n",
        "efs2 = efs2.fit(x_instance, y_iht)"
      ]
    },
    {
      "cell_type": "code",
      "execution_count": null,
      "metadata": {
        "colab": {
          "background_save": true
        },
        "id": "U-Q2Db08aLAv",
        "outputId": "35539ff4-5cd8-49e5-ffa6-5705df55b7ea"
      },
      "outputs": [
        {
          "name": "stderr",
          "output_type": "stream",
          "text": [
            "Features: 120/120"
          ]
        }
      ],
      "source": [
        "efs3 = EFS(rf, min_features=7, max_features=7, scoring='recall', print_progress=True, cv=10)\n",
        "efs3 = efs3.fit(x_instance, y_iht)"
      ]
    },
    {
      "cell_type": "code",
      "execution_count": null,
      "metadata": {
        "colab": {
          "background_save": true
        },
        "id": "-nLbvTsqaK9p",
        "outputId": "4b3a147e-fe89-40bf-ed29-e967f79ab2d9"
      },
      "outputs": [
        {
          "name": "stderr",
          "output_type": "stream",
          "text": [
            "Features: 120/120"
          ]
        }
      ],
      "source": [
        "efs4 = EFS(rf, min_features=7, max_features=7, scoring='f1', print_progress=True, cv=10)\n",
        "efs4 = efs4.fit(x_instance, y_iht)"
      ]
    },
    {
      "cell_type": "code",
      "execution_count": null,
      "metadata": {
        "colab": {
          "background_save": true
        },
        "id": "khopMAvrnQG1",
        "outputId": "31f6ad20-f798-447b-b439-bf84c347cc46"
      },
      "outputs": [
        {
          "name": "stdout",
          "output_type": "stream",
          "text": [
            "Accuracy of Model with Exhaustive Feature Selection using Random Forest is: 97.902\n",
            "Precision of Model with Exhaustive Feature Selection using Random Forest is: 96.2735\n",
            "Recall of Model with Exhaustive Feature Selection using Random Forest is: 83.5\n",
            "F1 Score of Model with Exhaustive Feature Selection using Random Forest is: 89.1603\n"
          ]
        }
      ],
      "source": [
        "print(\"Accuracy of Model with Exhaustive Feature Selection using Random Forest is:\", round(efs1.best_score_*100,4))\n",
        "print(\"Precision of Model with Exhaustive Feature Selection using Random Forest is:\", round(efs2.best_score_*100,4))\n",
        "\n",
        "print(\"Recall of Model with Exhaustive Feature Selection using Random Forest is:\", round(efs3.best_score_*100,4))\n",
        "print(\"F1 Score of Model with Exhaustive Feature Selection using Random Forest is:\", round(efs4.best_score_*100,4))"
      ]
    },
    {
      "cell_type": "code",
      "execution_count": null,
      "metadata": {
        "colab": {
          "background_save": true
        },
        "id": "unYJzkGNZ3bC",
        "outputId": "832e83e7-8af1-4c74-bc9b-9e8c17ada1d8"
      },
      "outputs": [
        {
          "name": "stdout",
          "output_type": "stream",
          "text": [
            "(1, 2, 3, 5, 7, 8, 9)\n",
            "\n"
          ]
        }
      ],
      "source": [
        "print(efs1.best_idx_)\n",
        "print()"
      ]
    },
    {
      "cell_type": "markdown",
      "metadata": {
        "id": "A79-BX25nXMz"
      },
      "source": [
        "**Exhaustive Feature Selection using KNN**"
      ]
    },
    {
      "cell_type": "code",
      "execution_count": null,
      "metadata": {
        "colab": {
          "background_save": true
        },
        "id": "c1Qf7PC2nblj"
      },
      "outputs": [],
      "source": [
        "from mlxtend.feature_selection import ExhaustiveFeatureSelector as EFS\n",
        "from sklearn.neighbors import KNeighborsClassifier\n",
        "knn = KNeighborsClassifier()"
      ]
    },
    {
      "cell_type": "code",
      "execution_count": null,
      "metadata": {
        "colab": {
          "background_save": true
        },
        "id": "pKKcW5eAnbig",
        "outputId": "e5c3cc92-f729-43ad-b32f-b304981875f2"
      },
      "outputs": [
        {
          "name": "stderr",
          "output_type": "stream",
          "text": [
            "Features: 120/120"
          ]
        }
      ],
      "source": [
        "efs1 = EFS(knn, min_features=7, max_features=7, scoring='accuracy', print_progress=True, cv=10)\n",
        "efs1 = efs1.fit(x_instance, y_iht)"
      ]
    },
    {
      "cell_type": "code",
      "execution_count": null,
      "metadata": {
        "colab": {
          "background_save": true
        },
        "id": "MEDRuMU6adye",
        "outputId": "4fe75a0d-2eea-42d3-b128-09b7d8740752"
      },
      "outputs": [
        {
          "name": "stderr",
          "output_type": "stream",
          "text": [
            "Features: 120/120"
          ]
        }
      ],
      "source": [
        "efs2 = EFS(knn, min_features=7, max_features=7, scoring='precision', print_progress=True, cv=10)\n",
        "efs2 = efs2.fit(x_instance, y_iht)"
      ]
    },
    {
      "cell_type": "code",
      "execution_count": null,
      "metadata": {
        "colab": {
          "background_save": true
        },
        "id": "MIfc31_Sadol",
        "outputId": "4de4fcb7-e80c-4e61-e09b-f3e9b80eab9b"
      },
      "outputs": [
        {
          "name": "stderr",
          "output_type": "stream",
          "text": [
            "Features: 120/120"
          ]
        }
      ],
      "source": [
        "efs3 = EFS(knn, min_features=7, max_features=7, scoring='recall', print_progress=True, cv=10)\n",
        "efs3 = efs3.fit(x_instance, y_iht)"
      ]
    },
    {
      "cell_type": "code",
      "execution_count": null,
      "metadata": {
        "colab": {
          "background_save": true
        },
        "id": "0e-fa6IBadlc",
        "outputId": "94263bc6-1e76-459d-ce36-449c9b5a53f0"
      },
      "outputs": [
        {
          "name": "stderr",
          "output_type": "stream",
          "text": [
            "Features: 120/120"
          ]
        }
      ],
      "source": [
        "efs4 = EFS(knn, min_features=7, max_features=7, scoring='f1', print_progress=True, cv=10)\n",
        "efs4 = efs4.fit(x_instance, y_iht)"
      ]
    },
    {
      "cell_type": "code",
      "execution_count": null,
      "metadata": {
        "colab": {
          "background_save": true
        },
        "id": "lPWJCzgUnalK",
        "outputId": "e96ab52c-8b4f-4f0c-b765-2141c1920648"
      },
      "outputs": [
        {
          "name": "stdout",
          "output_type": "stream",
          "text": [
            "Accuracy of Model with Exhaustive Feature Selection using KNN is: 96.6861\n",
            "Precision of Model with Exhaustive Feature Selection using KNN is: 93.6464\n",
            "Recall of Model with Exhaustive Feature Selection using KNN is: 77.9\n",
            "F1 Score of Model with Exhaustive Feature Selection using KNN is: 82.7767\n"
          ]
        }
      ],
      "source": [
        "print(\"Accuracy of Model with Exhaustive Feature Selection using KNN is:\", round(efs1.best_score_*100,4))\n",
        "print(\"Precision of Model with Exhaustive Feature Selection using KNN is:\", round(efs2.best_score_*100,4))\n",
        "\n",
        "print(\"Recall of Model with Exhaustive Feature Selection using KNN is:\", round(efs3.best_score_*100,4))\n",
        "print(\"F1 Score of Model with Exhaustive Feature Selection using KNN is:\", round(efs4.best_score_*100,4))"
      ]
    },
    {
      "cell_type": "code",
      "execution_count": null,
      "metadata": {
        "colab": {
          "background_save": true
        },
        "id": "JneahN0dZ560",
        "outputId": "1fa60ef8-ffec-4475-8b30-c5c3cbdf2bdc"
      },
      "outputs": [
        {
          "name": "stdout",
          "output_type": "stream",
          "text": [
            "(0, 1, 2, 3, 7, 8, 9)\n",
            "\n"
          ]
        }
      ],
      "source": [
        "print(efs1.best_idx_)\n",
        "print()"
      ]
    },
    {
      "cell_type": "markdown",
      "metadata": {
        "id": "LbnN2jabSGSt"
      },
      "source": [
        "# **Relief Algorithms**"
      ]
    },
    {
      "cell_type": "code",
      "execution_count": null,
      "metadata": {
        "colab": {
          "background_save": true
        },
        "id": "HQ_3vlYaSa-K",
        "outputId": "cb243b3b-a61a-46ca-f650-fe6d9d97e9c6"
      },
      "outputs": [
        {
          "name": "stdout",
          "output_type": "stream",
          "text": [
            "Looking in indexes: https://pypi.org/simple, https://us-python.pkg.dev/colab-wheels/public/simple/\n",
            "Collecting ReliefF\n",
            "  Downloading ReliefF-0.1.2.tar.gz (48 kB)\n",
            "\u001b[K     |████████████████████████████████| 48 kB 2.4 MB/s \n",
            "\u001b[?25hRequirement already satisfied: numpy in /usr/local/lib/python3.7/dist-packages (from ReliefF) (1.21.6)\n",
            "Requirement already satisfied: scipy in /usr/local/lib/python3.7/dist-packages (from ReliefF) (1.7.3)\n",
            "Requirement already satisfied: scikit-learn in /usr/local/lib/python3.7/dist-packages (from ReliefF) (1.0.2)\n",
            "Requirement already satisfied: joblib>=0.11 in /usr/local/lib/python3.7/dist-packages (from scikit-learn->ReliefF) (1.2.0)\n",
            "Requirement already satisfied: threadpoolctl>=2.0.0 in /usr/local/lib/python3.7/dist-packages (from scikit-learn->ReliefF) (3.1.0)\n",
            "Building wheels for collected packages: ReliefF\n",
            "  Building wheel for ReliefF (setup.py) ... \u001b[?25l\u001b[?25hdone\n",
            "  Created wheel for ReliefF: filename=ReliefF-0.1.2-py3-none-any.whl size=6318 sha256=18e0cd11ad5438c6686e36628cabde2ddb2a1ad07fba6f398402090098556ee8\n",
            "  Stored in directory: /root/.cache/pip/wheels/18/8a/4a/3aada56cb869df4c1b1ed6af509c941a25985d1d1258a2e78c\n",
            "Successfully built ReliefF\n",
            "Installing collected packages: ReliefF\n",
            "Successfully installed ReliefF-0.1.2\n"
          ]
        }
      ],
      "source": [
        "pip install ReliefF"
      ]
    },
    {
      "cell_type": "code",
      "execution_count": null,
      "metadata": {
        "colab": {
          "background_save": true
        },
        "id": "WOwZxYTjxUtJ"
      },
      "outputs": [],
      "source": [
        "from ReliefF import ReliefF"
      ]
    },
    {
      "cell_type": "code",
      "execution_count": null,
      "metadata": {
        "colab": {
          "background_save": true
        },
        "id": "OIkbwr1HSixA"
      },
      "outputs": [],
      "source": [
        "fs = ReliefF(n_neighbors=1, n_features_to_keep=7)"
      ]
    },
    {
      "cell_type": "code",
      "execution_count": null,
      "metadata": {
        "colab": {
          "background_save": true
        },
        "id": "hICl6Ub5Sl6V"
      },
      "outputs": [],
      "source": [
        "x_iht = fs.fit_transform(x_instance, y_iht)"
      ]
    },
    {
      "cell_type": "code",
      "execution_count": null,
      "metadata": {
        "colab": {
          "background_save": true
        },
        "id": "Wh_nc2QcSNzD",
        "outputId": "ea2bfa32-1dad-4127-f078-f2242f1b2832"
      },
      "outputs": [
        {
          "data": {
            "text/plain": [
              "array([[-0.2389468 , -0.32860186, -1.01617781, ...,  1.18807255,\n",
              "         1.68071161, -1.28511375],\n",
              "       [-0.2389468 , -0.32860186,  0.98407974, ..., -0.840344  ,\n",
              "        -0.15383636, -1.28511375],\n",
              "       [-0.2389468 , -0.32860186, -1.01617781, ...,  1.18807255,\n",
              "        -1.07111035, -1.28511375],\n",
              "       ...,\n",
              "       [-0.2389468 , -0.32860186, -1.01617781, ..., -0.840344  ,\n",
              "         0.76343762, -0.35178071],\n",
              "       [-0.2389468 ,  3.04319637, -1.01617781, ...,  1.18807255,\n",
              "         0.76343762, -1.28511375],\n",
              "       [-0.2389468 , -0.32860186, -1.01617781, ..., -0.840344  ,\n",
              "        -0.15383636, -1.28511375]])"
            ]
          },
          "execution_count": 267,
          "metadata": {},
          "output_type": "execute_result"
        }
      ],
      "source": [
        "x_iht"
      ]
    },
    {
      "cell_type": "code",
      "execution_count": null,
      "metadata": {
        "colab": {
          "background_save": true
        },
        "id": "kFlnyjYUSurb",
        "outputId": "37a1f4cc-0e5a-4557-ec1d-a482131a0119"
      },
      "outputs": [
        {
          "data": {
            "text/plain": [
              "10"
            ]
          },
          "execution_count": 268,
          "metadata": {},
          "output_type": "execute_result"
        }
      ],
      "source": [
        "len(x_instance[0])"
      ]
    },
    {
      "cell_type": "code",
      "execution_count": null,
      "metadata": {
        "colab": {
          "background_save": true
        },
        "id": "6ZZ9AQtXSra3",
        "outputId": "040bea61-e0e4-47ac-cb0e-53c87e5f7e51"
      },
      "outputs": [
        {
          "data": {
            "text/plain": [
              "7"
            ]
          },
          "execution_count": 269,
          "metadata": {},
          "output_type": "execute_result"
        }
      ],
      "source": [
        "len(x_iht[0])"
      ]
    },
    {
      "cell_type": "code",
      "execution_count": null,
      "metadata": {
        "colab": {
          "background_save": true
        },
        "id": "jKGnBL7PStTs",
        "outputId": "8c615a92-fb7d-41fd-bf2d-abfc36ceaf3a"
      },
      "outputs": [
        {
          "name": "stdout",
          "output_type": "stream",
          "text": [
            "2384 2384 2384\n"
          ]
        }
      ],
      "source": [
        "print(len(x_instance), len(x_iht), len(y_iht))"
      ]
    },
    {
      "cell_type": "markdown",
      "metadata": {
        "id": "gIt09_3WS7TE"
      },
      "source": [
        "**Relief Algorithms using Logistic Regression**"
      ]
    },
    {
      "cell_type": "code",
      "execution_count": null,
      "metadata": {
        "colab": {
          "background_save": true
        },
        "id": "Vf6eirK9S2CK"
      },
      "outputs": [],
      "source": [
        "from sklearn.linear_model import LogisticRegression\n",
        "log = LogisticRegression(random_state = 0)"
      ]
    },
    {
      "cell_type": "code",
      "execution_count": null,
      "metadata": {
        "colab": {
          "background_save": true
        },
        "id": "k2YAf6Klayi8",
        "outputId": "4e57cd55-0ba7-4ce6-c365-1ca2fb460627"
      },
      "outputs": [
        {
          "name": "stdout",
          "output_type": "stream",
          "text": [
            "Acuracy using ReliefF Algorithm and Logistic Regression is :  92.6163\n",
            "Precision using Relief Algorithm and Logistic Regression is :  84.8902\n",
            "Recall using ReliefF Algorithm and Logistic Regression is :  36.95\n",
            "F1 Score using ReliefF Algorithm and Logistic Regression is :  50.6042\n"
          ]
        }
      ],
      "source": [
        "ans = measure(log, x_iht, y_iht)\n",
        "\n",
        "print(\"Acuracy using ReliefF Algorithm and Logistic Regression is : \",round(ans[0]*100,4))\n",
        "print(\"Precision using Relief Algorithm and Logistic Regression is : \",round(ans[1]*100,4))\n",
        "\n",
        "print(\"Recall using ReliefF Algorithm and Logistic Regression is : \",round(ans[2]*100,4))\n",
        "print(\"F1 Score using ReliefF Algorithm and Logistic Regression is : \",round(ans[3]*100,4))"
      ]
    },
    {
      "cell_type": "markdown",
      "metadata": {
        "id": "XvIHijEzTV_B"
      },
      "source": [
        "**Relief Algorithms using Decision Tree**"
      ]
    },
    {
      "cell_type": "code",
      "execution_count": null,
      "metadata": {
        "colab": {
          "background_save": true
        },
        "id": "uQwKb0UsTUpc"
      },
      "outputs": [],
      "source": [
        "from sklearn import tree\n",
        "clf = tree.DecisionTreeClassifier()"
      ]
    },
    {
      "cell_type": "code",
      "execution_count": null,
      "metadata": {
        "colab": {
          "background_save": true
        },
        "id": "Ha9PgS7tbW1H",
        "outputId": "0fbfdbe7-176b-400f-c1aa-a2cc5d5c3486"
      },
      "outputs": [
        {
          "name": "stdout",
          "output_type": "stream",
          "text": [
            "Acuracy using ReliefF Algorithm  and Decision Tree is :  92.6172\n",
            "Precision using ReliefF Algorithm and Decision Tree is :  84.2195\n",
            "Recall using ReliefF Algorithm and Decision Tree is :  36.5333\n",
            "F1 Score using ReliefF Algorithm and Decision Tree is :  50.1675\n"
          ]
        }
      ],
      "source": [
        "ans = measure(clf, x_iht, y_iht)\n",
        "\n",
        "print(\"Acuracy using ReliefF Algorithm  and Decision Tree is : \",round(ans[0]*100,4))\n",
        "print(\"Precision using ReliefF Algorithm and Decision Tree is : \",round(ans[1]*100,4))\n",
        "\n",
        "print(\"Recall using ReliefF Algorithm and Decision Tree is : \",round(ans[2]*100,4))\n",
        "print(\"F1 Score using ReliefF Algorithm and Decision Tree is : \",round(ans[3]*100,4))"
      ]
    },
    {
      "cell_type": "markdown",
      "metadata": {
        "id": "mxuz8tbeTfnW"
      },
      "source": [
        "**Relief Algorithms using SVM**"
      ]
    },
    {
      "cell_type": "code",
      "execution_count": null,
      "metadata": {
        "colab": {
          "background_save": true
        },
        "id": "AHMJj74mTgHV"
      },
      "outputs": [],
      "source": [
        "from sklearn import svm\n",
        "cl = svm.SVC()"
      ]
    },
    {
      "cell_type": "code",
      "execution_count": null,
      "metadata": {
        "colab": {
          "background_save": true
        },
        "id": "LP-5QO8IbaUj",
        "outputId": "6ee89dff-1c95-4e21-9724-62ef81f7f418"
      },
      "outputs": [
        {
          "name": "stdout",
          "output_type": "stream",
          "text": [
            "Acuracy using ReliefF Algorithm and SVM is :  92.8684\n",
            "Precision using ReliefF Algorithm and SVM is :  86.1259\n",
            "Recall using ReliefF Algorithm and SVM is :  39.35\n",
            "F1 Score using ReliefF Algorithm and SVM is :  53.1924\n"
          ]
        }
      ],
      "source": [
        "ans = measure(cl, x_iht, y_iht)\n",
        "\n",
        "print(\"Acuracy using ReliefF Algorithm and SVM is : \",round(ans[0]*100,4))\n",
        "print(\"Precision using ReliefF Algorithm and SVM is : \",round(ans[1]*100,4))\n",
        "\n",
        "print(\"Recall using ReliefF Algorithm and SVM is : \",round(ans[2]*100,4))\n",
        "print(\"F1 Score using ReliefF Algorithm and SVM is : \",round(ans[3]*100,4))"
      ]
    },
    {
      "cell_type": "markdown",
      "metadata": {
        "id": "iB3K3xGaTk9x"
      },
      "source": [
        "**Relief Algorithms using Naive Bayes**"
      ]
    },
    {
      "cell_type": "code",
      "execution_count": null,
      "metadata": {
        "colab": {
          "background_save": true
        },
        "id": "hHIeIDbsTocG"
      },
      "outputs": [],
      "source": [
        "from sklearn.naive_bayes import GaussianNB\n",
        "gnb = GaussianNB()"
      ]
    },
    {
      "cell_type": "code",
      "execution_count": null,
      "metadata": {
        "colab": {
          "background_save": true
        },
        "id": "WuBDiqFObelW",
        "outputId": "1def267e-357d-4d22-b8cd-f0e5ebb0d336"
      },
      "outputs": [
        {
          "name": "stdout",
          "output_type": "stream",
          "text": [
            "Acuracy using ReliefF Algorithm and Naive Bayes is :  92.8264\n",
            "Precision using ReliefF Algorithm and Naive Bayes is :  83.7179\n",
            "Recall using ReliefF Algorithm and Naive Bayes is :  40.15\n",
            "F1 Score using ReliefF Algorithm and Naive Bayes is :  53.5357\n"
          ]
        }
      ],
      "source": [
        "ans = measure(gnb, x_iht, y_iht)\n",
        "\n",
        "print(\"Acuracy using ReliefF Algorithm and Naive Bayes is : \",round(ans[0]*100,4))\n",
        "print(\"Precision using ReliefF Algorithm and Naive Bayes is : \",round(ans[1]*100,4))\n",
        "\n",
        "print(\"Recall using ReliefF Algorithm and Naive Bayes is : \",round(ans[2]*100,4))\n",
        "print(\"F1 Score using ReliefF Algorithm and Naive Bayes is : \",round(ans[3]*100,4))"
      ]
    },
    {
      "cell_type": "markdown",
      "metadata": {
        "id": "tcBEQL3UTq7e"
      },
      "source": [
        "**Releif Algorithms using Random Forest**"
      ]
    },
    {
      "cell_type": "code",
      "execution_count": null,
      "metadata": {
        "colab": {
          "background_save": true
        },
        "id": "Olua3H90TuUB"
      },
      "outputs": [],
      "source": [
        "from sklearn.ensemble import RandomForestClassifier\n",
        "rf = RandomForestClassifier(random_state=0)"
      ]
    },
    {
      "cell_type": "code",
      "execution_count": null,
      "metadata": {
        "colab": {
          "background_save": true
        },
        "id": "uCnVhuCbbisI",
        "outputId": "ea8a6d03-7054-4fbd-98b1-477a6572c97f"
      },
      "outputs": [
        {
          "name": "stdout",
          "output_type": "stream",
          "text": [
            "Acuracy using ReliefF Algorithm and Random Forest is :  92.1981\n",
            "Precision using ReliefF Algorithm and Random Forest is :  74.4799\n",
            "Recall using ReliefF Algorithm and Random Forest is :  39.75\n",
            "F1 Score using ReliefF Algorithm and Random Forest is :  51.3352\n"
          ]
        }
      ],
      "source": [
        "ans = measure(rf, x_iht, y_iht)\n",
        "\n",
        "print(\"Acuracy using ReliefF Algorithm and Random Forest is : \",round(ans[0]*100,4))\n",
        "print(\"Precision using ReliefF Algorithm and Random Forest is : \",round(ans[1]*100,4))\n",
        "\n",
        "print(\"Recall using ReliefF Algorithm and Random Forest is : \",round(ans[2]*100,4))\n",
        "print(\"F1 Score using ReliefF Algorithm and Random Forest is : \",round(ans[3]*100,4))"
      ]
    },
    {
      "cell_type": "markdown",
      "metadata": {
        "id": "icSi8DYqTzCI"
      },
      "source": [
        "**Relief Algorithms using KNN**"
      ]
    },
    {
      "cell_type": "code",
      "execution_count": null,
      "metadata": {
        "colab": {
          "background_save": true
        },
        "id": "-BFynPbXT2G3"
      },
      "outputs": [],
      "source": [
        "from sklearn.neighbors import KNeighborsClassifier\n",
        "knn = KNeighborsClassifier()"
      ]
    },
    {
      "cell_type": "code",
      "execution_count": null,
      "metadata": {
        "colab": {
          "background_save": true
        },
        "id": "nq57DLU0bmfg",
        "outputId": "04363113-149e-488d-e189-487d3220b469"
      },
      "outputs": [
        {
          "name": "stdout",
          "output_type": "stream",
          "text": [
            "Acuracy using ReliefF Algorithm and KNN is :  92.7427\n",
            "Precision using ReliefF Algorithm and KNN is :  85.2208\n",
            "Recall using ReliefF Algorithm and KNN is :  37.75\n",
            "F1 Score using ReliefF Algorithm and KNN is :  51.9153\n"
          ]
        }
      ],
      "source": [
        "ans = measure(knn, x_iht, y_iht)\n",
        "\n",
        "print(\"Acuracy using ReliefF Algorithm and KNN is : \",round(ans[0]*100,4))\n",
        "print(\"Precision using ReliefF Algorithm and KNN is : \",round(ans[1]*100,4))\n",
        "\n",
        "print(\"Recall using ReliefF Algorithm and KNN is : \",round(ans[2]*100,4))\n",
        "print(\"F1 Score using ReliefF Algorithm and KNN is : \",round(ans[3]*100,4))"
      ]
    },
    {
      "cell_type": "code",
      "source": [
        "import time\n",
        "end_time = round(time.time()*1000)\n",
        "print(\"Operations Start Time:\",end_time)"
      ],
      "metadata": {
        "id": "KMN3cD_d7Fnn"
      },
      "execution_count": null,
      "outputs": []
    },
    {
      "cell_type": "code",
      "source": [
        "print(\"Time taken for the complete comparative analysis of feature selection methods is : \",(end_time-start_time))"
      ],
      "metadata": {
        "id": "Q8ucSr-f7FOe"
      },
      "execution_count": null,
      "outputs": []
    },
    {
      "cell_type": "markdown",
      "metadata": {
        "id": "apzfcDkn2n5I"
      },
      "source": [
        "# **Genetic Algorithm**"
      ]
    },
    {
      "cell_type": "code",
      "execution_count": null,
      "metadata": {
        "colab": {
          "background_save": true
        },
        "id": "mZlmmzRV2nhG"
      },
      "outputs": [],
      "source": [
        "from sklearn.metrics import *\n",
        "from sklearn.model_selection import *"
      ]
    },
    {
      "cell_type": "code",
      "execution_count": null,
      "metadata": {
        "colab": {
          "background_save": true
        },
        "id": "1UTEJz6T3yx7",
        "outputId": "43244d9c-a5cf-442f-cbfd-458fc1650bf3"
      },
      "outputs": [
        {
          "name": "stdout",
          "output_type": "stream",
          "text": [
            "Looking in indexes: https://pypi.org/simple, https://us-python.pkg.dev/colab-wheels/public/simple/\n",
            "Collecting sklearn-genetic\n",
            "  Downloading sklearn_genetic-0.5.1-py3-none-any.whl (11 kB)\n",
            "Requirement already satisfied: numpy in /usr/local/lib/python3.7/dist-packages (from sklearn-genetic) (1.21.6)\n",
            "Collecting deap>=1.0.2\n",
            "  Downloading deap-1.3.3-cp37-cp37m-manylinux_2_5_x86_64.manylinux1_x86_64.manylinux_2_17_x86_64.manylinux2014_x86_64.whl (139 kB)\n",
            "\u001b[K     |████████████████████████████████| 139 kB 4.2 MB/s \n",
            "\u001b[?25hRequirement already satisfied: scikit-learn>=0.23 in /usr/local/lib/python3.7/dist-packages (from sklearn-genetic) (1.0.2)\n",
            "Collecting multiprocess\n",
            "  Downloading multiprocess-0.70.14-py37-none-any.whl (115 kB)\n",
            "\u001b[K     |████████████████████████████████| 115 kB 55.0 MB/s \n",
            "\u001b[?25hRequirement already satisfied: joblib>=0.11 in /usr/local/lib/python3.7/dist-packages (from scikit-learn>=0.23->sklearn-genetic) (1.2.0)\n",
            "Requirement already satisfied: threadpoolctl>=2.0.0 in /usr/local/lib/python3.7/dist-packages (from scikit-learn>=0.23->sklearn-genetic) (3.1.0)\n",
            "Requirement already satisfied: scipy>=1.1.0 in /usr/local/lib/python3.7/dist-packages (from scikit-learn>=0.23->sklearn-genetic) (1.7.3)\n",
            "Requirement already satisfied: dill>=0.3.6 in /usr/local/lib/python3.7/dist-packages (from multiprocess->sklearn-genetic) (0.3.6)\n",
            "Installing collected packages: multiprocess, deap, sklearn-genetic\n",
            "Successfully installed deap-1.3.3 multiprocess-0.70.14 sklearn-genetic-0.5.1\n"
          ]
        }
      ],
      "source": [
        "pip install sklearn-genetic"
      ]
    },
    {
      "cell_type": "code",
      "execution_count": null,
      "metadata": {
        "colab": {
          "background_save": true
        },
        "id": "hwIqLMqb3pSl"
      },
      "outputs": [],
      "source": [
        "from genetic_selection import GeneticSelectionCV"
      ]
    },
    {
      "cell_type": "markdown",
      "metadata": {
        "id": "CgoYArAaVDp9"
      },
      "source": [
        "**Genetic Algorithm using Logistic Regression**"
      ]
    },
    {
      "cell_type": "code",
      "execution_count": null,
      "metadata": {
        "colab": {
          "background_save": true
        },
        "id": "BPhxUIdPLCcb"
      },
      "outputs": [],
      "source": [
        "from sklearn.linear_model import LogisticRegression\n",
        "log = LogisticRegression(random_state = 0)"
      ]
    },
    {
      "cell_type": "code",
      "execution_count": null,
      "metadata": {
        "colab": {
          "background_save": true
        },
        "id": "WWygpIO32ne4"
      },
      "outputs": [],
      "source": [
        "acc = GeneticSelectionCV(log, cv = 10,  max_features = 7, n_population = 200, crossover_proba = 0.5, mutation_proba = 0.2,\n",
        "                                n_generations = 10, crossover_independent_proba=0.5, mutation_independent_proba=0.05, n_gen_no_change=10, caching=True, n_jobs=-1,\n",
        "                         scoring = 'accuracy')"
      ]
    },
    {
      "cell_type": "code",
      "execution_count": null,
      "metadata": {
        "colab": {
          "background_save": true
        },
        "id": "9K0r_VTS2nbs",
        "outputId": "0a2bf274-8515-4984-e162-379c21da6ca1"
      },
      "outputs": [
        {
          "data": {
            "text/plain": [
              "array([ True,  True,  True,  True, False,  True, False,  True, False,\n",
              "       False])"
            ]
          },
          "execution_count": 288,
          "metadata": {},
          "output_type": "execute_result"
        }
      ],
      "source": [
        "acc = acc.fit(x_instance, y_iht)\n",
        "acc.support_"
      ]
    },
    {
      "cell_type": "code",
      "execution_count": null,
      "metadata": {
        "colab": {
          "background_save": true
        },
        "id": "byF_yWUz56kJ",
        "outputId": "b6d39409-6f1d-43ad-a8c3-12f10c73a15f"
      },
      "outputs": [
        {
          "name": "stdout",
          "output_type": "stream",
          "text": [
            "Accuracy using Feature Selection Genetic Algorithm and Logistic Regression :  96.7282\n"
          ]
        }
      ],
      "source": [
        "print(\"Accuracy using Feature Selection Genetic Algorithm and Logistic Regression : \", round(100*acc.score(x_instance, y_iht),4))"
      ]
    },
    {
      "cell_type": "code",
      "execution_count": null,
      "metadata": {
        "colab": {
          "background_save": true
        },
        "id": "D60gAhfp-Dtq"
      },
      "outputs": [],
      "source": [
        "prec = GeneticSelectionCV(log, cv = 10,  max_features = 8, n_population = 200, crossover_proba = 0.5, mutation_proba = 0.2,\n",
        "                                n_generations = 10, crossover_independent_proba=0.5, mutation_independent_proba=0.05, n_gen_no_change=10, caching=True, n_jobs=-1,\n",
        "                         scoring = 'precision')"
      ]
    },
    {
      "cell_type": "code",
      "execution_count": null,
      "metadata": {
        "colab": {
          "background_save": true
        },
        "id": "xA2iJuT-1zhO",
        "outputId": "f2c77bdf-0ec9-49da-88b7-0a1d36d73b84"
      },
      "outputs": [
        {
          "name": "stderr",
          "output_type": "stream",
          "text": [
            "/usr/local/lib/python3.7/dist-packages/sklearn/metrics/_classification.py:1318: UndefinedMetricWarning: Precision is ill-defined and being set to 0.0 due to no predicted samples. Use `zero_division` parameter to control this behavior.\n",
            "  _warn_prf(average, modifier, msg_start, len(result))\n",
            "/usr/local/lib/python3.7/dist-packages/sklearn/metrics/_classification.py:1318: UndefinedMetricWarning: Precision is ill-defined and being set to 0.0 due to no predicted samples. Use `zero_division` parameter to control this behavior.\n",
            "  _warn_prf(average, modifier, msg_start, len(result))\n",
            "/usr/local/lib/python3.7/dist-packages/sklearn/metrics/_classification.py:1318: UndefinedMetricWarning: Precision is ill-defined and being set to 0.0 due to no predicted samples. Use `zero_division` parameter to control this behavior.\n",
            "  _warn_prf(average, modifier, msg_start, len(result))\n",
            "/usr/local/lib/python3.7/dist-packages/sklearn/metrics/_classification.py:1318: UndefinedMetricWarning: Precision is ill-defined and being set to 0.0 due to no predicted samples. Use `zero_division` parameter to control this behavior.\n",
            "  _warn_prf(average, modifier, msg_start, len(result))\n",
            "/usr/local/lib/python3.7/dist-packages/sklearn/metrics/_classification.py:1318: UndefinedMetricWarning: Precision is ill-defined and being set to 0.0 due to no predicted samples. Use `zero_division` parameter to control this behavior.\n",
            "  _warn_prf(average, modifier, msg_start, len(result))\n",
            "/usr/local/lib/python3.7/dist-packages/sklearn/metrics/_classification.py:1318: UndefinedMetricWarning: Precision is ill-defined and being set to 0.0 due to no predicted samples. Use `zero_division` parameter to control this behavior.\n",
            "  _warn_prf(average, modifier, msg_start, len(result))\n",
            "/usr/local/lib/python3.7/dist-packages/sklearn/metrics/_classification.py:1318: UndefinedMetricWarning: Precision is ill-defined and being set to 0.0 due to no predicted samples. Use `zero_division` parameter to control this behavior.\n",
            "  _warn_prf(average, modifier, msg_start, len(result))\n",
            "/usr/local/lib/python3.7/dist-packages/sklearn/metrics/_classification.py:1318: UndefinedMetricWarning: Precision is ill-defined and being set to 0.0 due to no predicted samples. Use `zero_division` parameter to control this behavior.\n",
            "  _warn_prf(average, modifier, msg_start, len(result))\n",
            "/usr/local/lib/python3.7/dist-packages/sklearn/metrics/_classification.py:1318: UndefinedMetricWarning: Precision is ill-defined and being set to 0.0 due to no predicted samples. Use `zero_division` parameter to control this behavior.\n",
            "  _warn_prf(average, modifier, msg_start, len(result))\n",
            "/usr/local/lib/python3.7/dist-packages/sklearn/metrics/_classification.py:1318: UndefinedMetricWarning: Precision is ill-defined and being set to 0.0 due to no predicted samples. Use `zero_division` parameter to control this behavior.\n",
            "  _warn_prf(average, modifier, msg_start, len(result))\n",
            "/usr/local/lib/python3.7/dist-packages/sklearn/metrics/_classification.py:1318: UndefinedMetricWarning: Precision is ill-defined and being set to 0.0 due to no predicted samples. Use `zero_division` parameter to control this behavior.\n",
            "  _warn_prf(average, modifier, msg_start, len(result))\n",
            "/usr/local/lib/python3.7/dist-packages/sklearn/metrics/_classification.py:1318: UndefinedMetricWarning: Precision is ill-defined and being set to 0.0 due to no predicted samples. Use `zero_division` parameter to control this behavior.\n",
            "  _warn_prf(average, modifier, msg_start, len(result))\n",
            "/usr/local/lib/python3.7/dist-packages/sklearn/metrics/_classification.py:1318: UndefinedMetricWarning: Precision is ill-defined and being set to 0.0 due to no predicted samples. Use `zero_division` parameter to control this behavior.\n",
            "  _warn_prf(average, modifier, msg_start, len(result))\n",
            "/usr/local/lib/python3.7/dist-packages/sklearn/metrics/_classification.py:1318: UndefinedMetricWarning: Precision is ill-defined and being set to 0.0 due to no predicted samples. Use `zero_division` parameter to control this behavior.\n",
            "  _warn_prf(average, modifier, msg_start, len(result))\n",
            "/usr/local/lib/python3.7/dist-packages/sklearn/metrics/_classification.py:1318: UndefinedMetricWarning: Precision is ill-defined and being set to 0.0 due to no predicted samples. Use `zero_division` parameter to control this behavior.\n",
            "  _warn_prf(average, modifier, msg_start, len(result))\n",
            "/usr/local/lib/python3.7/dist-packages/sklearn/metrics/_classification.py:1318: UndefinedMetricWarning: Precision is ill-defined and being set to 0.0 due to no predicted samples. Use `zero_division` parameter to control this behavior.\n",
            "  _warn_prf(average, modifier, msg_start, len(result))\n",
            "/usr/local/lib/python3.7/dist-packages/sklearn/metrics/_classification.py:1318: UndefinedMetricWarning: Precision is ill-defined and being set to 0.0 due to no predicted samples. Use `zero_division` parameter to control this behavior.\n",
            "  _warn_prf(average, modifier, msg_start, len(result))\n",
            "/usr/local/lib/python3.7/dist-packages/sklearn/metrics/_classification.py:1318: UndefinedMetricWarning: Precision is ill-defined and being set to 0.0 due to no predicted samples. Use `zero_division` parameter to control this behavior.\n",
            "  _warn_prf(average, modifier, msg_start, len(result))\n",
            "/usr/local/lib/python3.7/dist-packages/sklearn/metrics/_classification.py:1318: UndefinedMetricWarning: Precision is ill-defined and being set to 0.0 due to no predicted samples. Use `zero_division` parameter to control this behavior.\n",
            "  _warn_prf(average, modifier, msg_start, len(result))\n",
            "/usr/local/lib/python3.7/dist-packages/sklearn/metrics/_classification.py:1318: UndefinedMetricWarning: Precision is ill-defined and being set to 0.0 due to no predicted samples. Use `zero_division` parameter to control this behavior.\n",
            "  _warn_prf(average, modifier, msg_start, len(result))\n",
            "/usr/local/lib/python3.7/dist-packages/sklearn/metrics/_classification.py:1318: UndefinedMetricWarning: Precision is ill-defined and being set to 0.0 due to no predicted samples. Use `zero_division` parameter to control this behavior.\n",
            "  _warn_prf(average, modifier, msg_start, len(result))\n",
            "/usr/local/lib/python3.7/dist-packages/sklearn/metrics/_classification.py:1318: UndefinedMetricWarning: Precision is ill-defined and being set to 0.0 due to no predicted samples. Use `zero_division` parameter to control this behavior.\n",
            "  _warn_prf(average, modifier, msg_start, len(result))\n",
            "/usr/local/lib/python3.7/dist-packages/sklearn/metrics/_classification.py:1318: UndefinedMetricWarning: Precision is ill-defined and being set to 0.0 due to no predicted samples. Use `zero_division` parameter to control this behavior.\n",
            "  _warn_prf(average, modifier, msg_start, len(result))\n",
            "/usr/local/lib/python3.7/dist-packages/sklearn/metrics/_classification.py:1318: UndefinedMetricWarning: Precision is ill-defined and being set to 0.0 due to no predicted samples. Use `zero_division` parameter to control this behavior.\n",
            "  _warn_prf(average, modifier, msg_start, len(result))\n",
            "/usr/local/lib/python3.7/dist-packages/sklearn/metrics/_classification.py:1318: UndefinedMetricWarning: Precision is ill-defined and being set to 0.0 due to no predicted samples. Use `zero_division` parameter to control this behavior.\n",
            "  _warn_prf(average, modifier, msg_start, len(result))\n",
            "/usr/local/lib/python3.7/dist-packages/sklearn/metrics/_classification.py:1318: UndefinedMetricWarning: Precision is ill-defined and being set to 0.0 due to no predicted samples. Use `zero_division` parameter to control this behavior.\n",
            "  _warn_prf(average, modifier, msg_start, len(result))\n",
            "/usr/local/lib/python3.7/dist-packages/sklearn/metrics/_classification.py:1318: UndefinedMetricWarning: Precision is ill-defined and being set to 0.0 due to no predicted samples. Use `zero_division` parameter to control this behavior.\n",
            "  _warn_prf(average, modifier, msg_start, len(result))\n",
            "/usr/local/lib/python3.7/dist-packages/sklearn/metrics/_classification.py:1318: UndefinedMetricWarning: Precision is ill-defined and being set to 0.0 due to no predicted samples. Use `zero_division` parameter to control this behavior.\n",
            "  _warn_prf(average, modifier, msg_start, len(result))\n",
            "/usr/local/lib/python3.7/dist-packages/sklearn/metrics/_classification.py:1318: UndefinedMetricWarning: Precision is ill-defined and being set to 0.0 due to no predicted samples. Use `zero_division` parameter to control this behavior.\n",
            "  _warn_prf(average, modifier, msg_start, len(result))\n",
            "/usr/local/lib/python3.7/dist-packages/sklearn/metrics/_classification.py:1318: UndefinedMetricWarning: Precision is ill-defined and being set to 0.0 due to no predicted samples. Use `zero_division` parameter to control this behavior.\n",
            "  _warn_prf(average, modifier, msg_start, len(result))\n",
            "/usr/local/lib/python3.7/dist-packages/sklearn/metrics/_classification.py:1318: UndefinedMetricWarning: Precision is ill-defined and being set to 0.0 due to no predicted samples. Use `zero_division` parameter to control this behavior.\n",
            "  _warn_prf(average, modifier, msg_start, len(result))\n",
            "/usr/local/lib/python3.7/dist-packages/sklearn/metrics/_classification.py:1318: UndefinedMetricWarning: Precision is ill-defined and being set to 0.0 due to no predicted samples. Use `zero_division` parameter to control this behavior.\n",
            "  _warn_prf(average, modifier, msg_start, len(result))\n",
            "/usr/local/lib/python3.7/dist-packages/sklearn/metrics/_classification.py:1318: UndefinedMetricWarning: Precision is ill-defined and being set to 0.0 due to no predicted samples. Use `zero_division` parameter to control this behavior.\n",
            "  _warn_prf(average, modifier, msg_start, len(result))\n",
            "/usr/local/lib/python3.7/dist-packages/sklearn/metrics/_classification.py:1318: UndefinedMetricWarning: Precision is ill-defined and being set to 0.0 due to no predicted samples. Use `zero_division` parameter to control this behavior.\n",
            "  _warn_prf(average, modifier, msg_start, len(result))\n",
            "/usr/local/lib/python3.7/dist-packages/sklearn/metrics/_classification.py:1318: UndefinedMetricWarning: Precision is ill-defined and being set to 0.0 due to no predicted samples. Use `zero_division` parameter to control this behavior.\n",
            "  _warn_prf(average, modifier, msg_start, len(result))\n",
            "/usr/local/lib/python3.7/dist-packages/sklearn/metrics/_classification.py:1318: UndefinedMetricWarning: Precision is ill-defined and being set to 0.0 due to no predicted samples. Use `zero_division` parameter to control this behavior.\n",
            "  _warn_prf(average, modifier, msg_start, len(result))\n",
            "/usr/local/lib/python3.7/dist-packages/sklearn/metrics/_classification.py:1318: UndefinedMetricWarning: Precision is ill-defined and being set to 0.0 due to no predicted samples. Use `zero_division` parameter to control this behavior.\n",
            "  _warn_prf(average, modifier, msg_start, len(result))\n",
            "/usr/local/lib/python3.7/dist-packages/sklearn/metrics/_classification.py:1318: UndefinedMetricWarning: Precision is ill-defined and being set to 0.0 due to no predicted samples. Use `zero_division` parameter to control this behavior.\n",
            "  _warn_prf(average, modifier, msg_start, len(result))\n",
            "/usr/local/lib/python3.7/dist-packages/sklearn/metrics/_classification.py:1318: UndefinedMetricWarning: Precision is ill-defined and being set to 0.0 due to no predicted samples. Use `zero_division` parameter to control this behavior.\n",
            "  _warn_prf(average, modifier, msg_start, len(result))\n",
            "/usr/local/lib/python3.7/dist-packages/sklearn/metrics/_classification.py:1318: UndefinedMetricWarning: Precision is ill-defined and being set to 0.0 due to no predicted samples. Use `zero_division` parameter to control this behavior.\n",
            "  _warn_prf(average, modifier, msg_start, len(result))\n",
            "/usr/local/lib/python3.7/dist-packages/sklearn/metrics/_classification.py:1318: UndefinedMetricWarning: Precision is ill-defined and being set to 0.0 due to no predicted samples. Use `zero_division` parameter to control this behavior.\n",
            "  _warn_prf(average, modifier, msg_start, len(result))\n",
            "/usr/local/lib/python3.7/dist-packages/sklearn/metrics/_classification.py:1318: UndefinedMetricWarning: Precision is ill-defined and being set to 0.0 due to no predicted samples. Use `zero_division` parameter to control this behavior.\n",
            "  _warn_prf(average, modifier, msg_start, len(result))\n",
            "/usr/local/lib/python3.7/dist-packages/sklearn/metrics/_classification.py:1318: UndefinedMetricWarning: Precision is ill-defined and being set to 0.0 due to no predicted samples. Use `zero_division` parameter to control this behavior.\n",
            "  _warn_prf(average, modifier, msg_start, len(result))\n",
            "/usr/local/lib/python3.7/dist-packages/sklearn/metrics/_classification.py:1318: UndefinedMetricWarning: Precision is ill-defined and being set to 0.0 due to no predicted samples. Use `zero_division` parameter to control this behavior.\n",
            "  _warn_prf(average, modifier, msg_start, len(result))\n",
            "/usr/local/lib/python3.7/dist-packages/sklearn/metrics/_classification.py:1318: UndefinedMetricWarning: Precision is ill-defined and being set to 0.0 due to no predicted samples. Use `zero_division` parameter to control this behavior.\n",
            "  _warn_prf(average, modifier, msg_start, len(result))\n",
            "/usr/local/lib/python3.7/dist-packages/sklearn/metrics/_classification.py:1318: UndefinedMetricWarning: Precision is ill-defined and being set to 0.0 due to no predicted samples. Use `zero_division` parameter to control this behavior.\n",
            "  _warn_prf(average, modifier, msg_start, len(result))\n",
            "/usr/local/lib/python3.7/dist-packages/sklearn/metrics/_classification.py:1318: UndefinedMetricWarning: Precision is ill-defined and being set to 0.0 due to no predicted samples. Use `zero_division` parameter to control this behavior.\n",
            "  _warn_prf(average, modifier, msg_start, len(result))\n",
            "/usr/local/lib/python3.7/dist-packages/sklearn/metrics/_classification.py:1318: UndefinedMetricWarning: Precision is ill-defined and being set to 0.0 due to no predicted samples. Use `zero_division` parameter to control this behavior.\n",
            "  _warn_prf(average, modifier, msg_start, len(result))\n",
            "/usr/local/lib/python3.7/dist-packages/sklearn/metrics/_classification.py:1318: UndefinedMetricWarning: Precision is ill-defined and being set to 0.0 due to no predicted samples. Use `zero_division` parameter to control this behavior.\n",
            "  _warn_prf(average, modifier, msg_start, len(result))\n",
            "/usr/local/lib/python3.7/dist-packages/sklearn/metrics/_classification.py:1318: UndefinedMetricWarning: Precision is ill-defined and being set to 0.0 due to no predicted samples. Use `zero_division` parameter to control this behavior.\n",
            "  _warn_prf(average, modifier, msg_start, len(result))\n",
            "/usr/local/lib/python3.7/dist-packages/sklearn/metrics/_classification.py:1318: UndefinedMetricWarning: Precision is ill-defined and being set to 0.0 due to no predicted samples. Use `zero_division` parameter to control this behavior.\n",
            "  _warn_prf(average, modifier, msg_start, len(result))\n",
            "/usr/local/lib/python3.7/dist-packages/sklearn/metrics/_classification.py:1318: UndefinedMetricWarning: Precision is ill-defined and being set to 0.0 due to no predicted samples. Use `zero_division` parameter to control this behavior.\n",
            "  _warn_prf(average, modifier, msg_start, len(result))\n",
            "/usr/local/lib/python3.7/dist-packages/sklearn/metrics/_classification.py:1318: UndefinedMetricWarning: Precision is ill-defined and being set to 0.0 due to no predicted samples. Use `zero_division` parameter to control this behavior.\n",
            "  _warn_prf(average, modifier, msg_start, len(result))\n",
            "/usr/local/lib/python3.7/dist-packages/sklearn/metrics/_classification.py:1318: UndefinedMetricWarning: Precision is ill-defined and being set to 0.0 due to no predicted samples. Use `zero_division` parameter to control this behavior.\n",
            "  _warn_prf(average, modifier, msg_start, len(result))\n",
            "/usr/local/lib/python3.7/dist-packages/sklearn/metrics/_classification.py:1318: UndefinedMetricWarning: Precision is ill-defined and being set to 0.0 due to no predicted samples. Use `zero_division` parameter to control this behavior.\n",
            "  _warn_prf(average, modifier, msg_start, len(result))\n",
            "/usr/local/lib/python3.7/dist-packages/sklearn/metrics/_classification.py:1318: UndefinedMetricWarning: Precision is ill-defined and being set to 0.0 due to no predicted samples. Use `zero_division` parameter to control this behavior.\n",
            "  _warn_prf(average, modifier, msg_start, len(result))\n",
            "/usr/local/lib/python3.7/dist-packages/sklearn/metrics/_classification.py:1318: UndefinedMetricWarning: Precision is ill-defined and being set to 0.0 due to no predicted samples. Use `zero_division` parameter to control this behavior.\n",
            "  _warn_prf(average, modifier, msg_start, len(result))\n",
            "/usr/local/lib/python3.7/dist-packages/sklearn/metrics/_classification.py:1318: UndefinedMetricWarning: Precision is ill-defined and being set to 0.0 due to no predicted samples. Use `zero_division` parameter to control this behavior.\n",
            "  _warn_prf(average, modifier, msg_start, len(result))\n",
            "/usr/local/lib/python3.7/dist-packages/sklearn/metrics/_classification.py:1318: UndefinedMetricWarning: Precision is ill-defined and being set to 0.0 due to no predicted samples. Use `zero_division` parameter to control this behavior.\n",
            "  _warn_prf(average, modifier, msg_start, len(result))\n",
            "/usr/local/lib/python3.7/dist-packages/sklearn/metrics/_classification.py:1318: UndefinedMetricWarning: Precision is ill-defined and being set to 0.0 due to no predicted samples. Use `zero_division` parameter to control this behavior.\n",
            "  _warn_prf(average, modifier, msg_start, len(result))\n",
            "/usr/local/lib/python3.7/dist-packages/sklearn/metrics/_classification.py:1318: UndefinedMetricWarning: Precision is ill-defined and being set to 0.0 due to no predicted samples. Use `zero_division` parameter to control this behavior.\n",
            "  _warn_prf(average, modifier, msg_start, len(result))\n",
            "/usr/local/lib/python3.7/dist-packages/sklearn/metrics/_classification.py:1318: UndefinedMetricWarning: Precision is ill-defined and being set to 0.0 due to no predicted samples. Use `zero_division` parameter to control this behavior.\n",
            "  _warn_prf(average, modifier, msg_start, len(result))\n",
            "/usr/local/lib/python3.7/dist-packages/sklearn/metrics/_classification.py:1318: UndefinedMetricWarning: Precision is ill-defined and being set to 0.0 due to no predicted samples. Use `zero_division` parameter to control this behavior.\n",
            "  _warn_prf(average, modifier, msg_start, len(result))\n",
            "/usr/local/lib/python3.7/dist-packages/sklearn/metrics/_classification.py:1318: UndefinedMetricWarning: Precision is ill-defined and being set to 0.0 due to no predicted samples. Use `zero_division` parameter to control this behavior.\n",
            "  _warn_prf(average, modifier, msg_start, len(result))\n",
            "/usr/local/lib/python3.7/dist-packages/sklearn/metrics/_classification.py:1318: UndefinedMetricWarning: Precision is ill-defined and being set to 0.0 due to no predicted samples. Use `zero_division` parameter to control this behavior.\n",
            "  _warn_prf(average, modifier, msg_start, len(result))\n",
            "/usr/local/lib/python3.7/dist-packages/sklearn/metrics/_classification.py:1318: UndefinedMetricWarning: Precision is ill-defined and being set to 0.0 due to no predicted samples. Use `zero_division` parameter to control this behavior.\n",
            "  _warn_prf(average, modifier, msg_start, len(result))\n",
            "/usr/local/lib/python3.7/dist-packages/sklearn/metrics/_classification.py:1318: UndefinedMetricWarning: Precision is ill-defined and being set to 0.0 due to no predicted samples. Use `zero_division` parameter to control this behavior.\n",
            "  _warn_prf(average, modifier, msg_start, len(result))\n",
            "/usr/local/lib/python3.7/dist-packages/sklearn/metrics/_classification.py:1318: UndefinedMetricWarning: Precision is ill-defined and being set to 0.0 due to no predicted samples. Use `zero_division` parameter to control this behavior.\n",
            "  _warn_prf(average, modifier, msg_start, len(result))\n",
            "/usr/local/lib/python3.7/dist-packages/sklearn/metrics/_classification.py:1318: UndefinedMetricWarning: Precision is ill-defined and being set to 0.0 due to no predicted samples. Use `zero_division` parameter to control this behavior.\n",
            "  _warn_prf(average, modifier, msg_start, len(result))\n",
            "/usr/local/lib/python3.7/dist-packages/sklearn/metrics/_classification.py:1318: UndefinedMetricWarning: Precision is ill-defined and being set to 0.0 due to no predicted samples. Use `zero_division` parameter to control this behavior.\n",
            "  _warn_prf(average, modifier, msg_start, len(result))\n",
            "/usr/local/lib/python3.7/dist-packages/sklearn/metrics/_classification.py:1318: UndefinedMetricWarning: Precision is ill-defined and being set to 0.0 due to no predicted samples. Use `zero_division` parameter to control this behavior.\n",
            "  _warn_prf(average, modifier, msg_start, len(result))\n",
            "/usr/local/lib/python3.7/dist-packages/sklearn/metrics/_classification.py:1318: UndefinedMetricWarning: Precision is ill-defined and being set to 0.0 due to no predicted samples. Use `zero_division` parameter to control this behavior.\n",
            "  _warn_prf(average, modifier, msg_start, len(result))\n",
            "/usr/local/lib/python3.7/dist-packages/sklearn/metrics/_classification.py:1318: UndefinedMetricWarning: Precision is ill-defined and being set to 0.0 due to no predicted samples. Use `zero_division` parameter to control this behavior.\n",
            "  _warn_prf(average, modifier, msg_start, len(result))\n",
            "/usr/local/lib/python3.7/dist-packages/sklearn/metrics/_classification.py:1318: UndefinedMetricWarning: Precision is ill-defined and being set to 0.0 due to no predicted samples. Use `zero_division` parameter to control this behavior.\n",
            "  _warn_prf(average, modifier, msg_start, len(result))\n",
            "/usr/local/lib/python3.7/dist-packages/sklearn/metrics/_classification.py:1318: UndefinedMetricWarning: Precision is ill-defined and being set to 0.0 due to no predicted samples. Use `zero_division` parameter to control this behavior.\n",
            "  _warn_prf(average, modifier, msg_start, len(result))\n",
            "/usr/local/lib/python3.7/dist-packages/sklearn/metrics/_classification.py:1318: UndefinedMetricWarning: Precision is ill-defined and being set to 0.0 due to no predicted samples. Use `zero_division` parameter to control this behavior.\n",
            "  _warn_prf(average, modifier, msg_start, len(result))\n",
            "/usr/local/lib/python3.7/dist-packages/sklearn/metrics/_classification.py:1318: UndefinedMetricWarning: Precision is ill-defined and being set to 0.0 due to no predicted samples. Use `zero_division` parameter to control this behavior.\n",
            "  _warn_prf(average, modifier, msg_start, len(result))\n",
            "/usr/local/lib/python3.7/dist-packages/sklearn/metrics/_classification.py:1318: UndefinedMetricWarning: Precision is ill-defined and being set to 0.0 due to no predicted samples. Use `zero_division` parameter to control this behavior.\n",
            "  _warn_prf(average, modifier, msg_start, len(result))\n",
            "/usr/local/lib/python3.7/dist-packages/sklearn/metrics/_classification.py:1318: UndefinedMetricWarning: Precision is ill-defined and being set to 0.0 due to no predicted samples. Use `zero_division` parameter to control this behavior.\n",
            "  _warn_prf(average, modifier, msg_start, len(result))\n",
            "/usr/local/lib/python3.7/dist-packages/sklearn/metrics/_classification.py:1318: UndefinedMetricWarning: Precision is ill-defined and being set to 0.0 due to no predicted samples. Use `zero_division` parameter to control this behavior.\n",
            "  _warn_prf(average, modifier, msg_start, len(result))\n",
            "/usr/local/lib/python3.7/dist-packages/sklearn/metrics/_classification.py:1318: UndefinedMetricWarning: Precision is ill-defined and being set to 0.0 due to no predicted samples. Use `zero_division` parameter to control this behavior.\n",
            "  _warn_prf(average, modifier, msg_start, len(result))\n",
            "/usr/local/lib/python3.7/dist-packages/sklearn/metrics/_classification.py:1318: UndefinedMetricWarning: Precision is ill-defined and being set to 0.0 due to no predicted samples. Use `zero_division` parameter to control this behavior.\n",
            "  _warn_prf(average, modifier, msg_start, len(result))\n",
            "/usr/local/lib/python3.7/dist-packages/sklearn/metrics/_classification.py:1318: UndefinedMetricWarning: Precision is ill-defined and being set to 0.0 due to no predicted samples. Use `zero_division` parameter to control this behavior.\n",
            "  _warn_prf(average, modifier, msg_start, len(result))\n",
            "/usr/local/lib/python3.7/dist-packages/sklearn/metrics/_classification.py:1318: UndefinedMetricWarning: Precision is ill-defined and being set to 0.0 due to no predicted samples. Use `zero_division` parameter to control this behavior.\n",
            "  _warn_prf(average, modifier, msg_start, len(result))\n",
            "/usr/local/lib/python3.7/dist-packages/sklearn/metrics/_classification.py:1318: UndefinedMetricWarning: Precision is ill-defined and being set to 0.0 due to no predicted samples. Use `zero_division` parameter to control this behavior.\n",
            "  _warn_prf(average, modifier, msg_start, len(result))\n",
            "/usr/local/lib/python3.7/dist-packages/sklearn/metrics/_classification.py:1318: UndefinedMetricWarning: Precision is ill-defined and being set to 0.0 due to no predicted samples. Use `zero_division` parameter to control this behavior.\n",
            "  _warn_prf(average, modifier, msg_start, len(result))\n",
            "/usr/local/lib/python3.7/dist-packages/sklearn/metrics/_classification.py:1318: UndefinedMetricWarning: Precision is ill-defined and being set to 0.0 due to no predicted samples. Use `zero_division` parameter to control this behavior.\n",
            "  _warn_prf(average, modifier, msg_start, len(result))\n",
            "/usr/local/lib/python3.7/dist-packages/sklearn/metrics/_classification.py:1318: UndefinedMetricWarning: Precision is ill-defined and being set to 0.0 due to no predicted samples. Use `zero_division` parameter to control this behavior.\n",
            "  _warn_prf(average, modifier, msg_start, len(result))\n",
            "/usr/local/lib/python3.7/dist-packages/sklearn/metrics/_classification.py:1318: UndefinedMetricWarning: Precision is ill-defined and being set to 0.0 due to no predicted samples. Use `zero_division` parameter to control this behavior.\n",
            "  _warn_prf(average, modifier, msg_start, len(result))\n",
            "/usr/local/lib/python3.7/dist-packages/sklearn/metrics/_classification.py:1318: UndefinedMetricWarning: Precision is ill-defined and being set to 0.0 due to no predicted samples. Use `zero_division` parameter to control this behavior.\n",
            "  _warn_prf(average, modifier, msg_start, len(result))\n",
            "/usr/local/lib/python3.7/dist-packages/sklearn/metrics/_classification.py:1318: UndefinedMetricWarning: Precision is ill-defined and being set to 0.0 due to no predicted samples. Use `zero_division` parameter to control this behavior.\n",
            "  _warn_prf(average, modifier, msg_start, len(result))\n",
            "/usr/local/lib/python3.7/dist-packages/sklearn/metrics/_classification.py:1318: UndefinedMetricWarning: Precision is ill-defined and being set to 0.0 due to no predicted samples. Use `zero_division` parameter to control this behavior.\n",
            "  _warn_prf(average, modifier, msg_start, len(result))\n",
            "/usr/local/lib/python3.7/dist-packages/sklearn/metrics/_classification.py:1318: UndefinedMetricWarning: Precision is ill-defined and being set to 0.0 due to no predicted samples. Use `zero_division` parameter to control this behavior.\n",
            "  _warn_prf(average, modifier, msg_start, len(result))\n",
            "/usr/local/lib/python3.7/dist-packages/sklearn/metrics/_classification.py:1318: UndefinedMetricWarning: Precision is ill-defined and being set to 0.0 due to no predicted samples. Use `zero_division` parameter to control this behavior.\n",
            "  _warn_prf(average, modifier, msg_start, len(result))\n",
            "/usr/local/lib/python3.7/dist-packages/sklearn/metrics/_classification.py:1318: UndefinedMetricWarning: Precision is ill-defined and being set to 0.0 due to no predicted samples. Use `zero_division` parameter to control this behavior.\n",
            "  _warn_prf(average, modifier, msg_start, len(result))\n",
            "/usr/local/lib/python3.7/dist-packages/sklearn/metrics/_classification.py:1318: UndefinedMetricWarning: Precision is ill-defined and being set to 0.0 due to no predicted samples. Use `zero_division` parameter to control this behavior.\n",
            "  _warn_prf(average, modifier, msg_start, len(result))\n",
            "/usr/local/lib/python3.7/dist-packages/sklearn/metrics/_classification.py:1318: UndefinedMetricWarning: Precision is ill-defined and being set to 0.0 due to no predicted samples. Use `zero_division` parameter to control this behavior.\n",
            "  _warn_prf(average, modifier, msg_start, len(result))\n",
            "/usr/local/lib/python3.7/dist-packages/sklearn/metrics/_classification.py:1318: UndefinedMetricWarning: Precision is ill-defined and being set to 0.0 due to no predicted samples. Use `zero_division` parameter to control this behavior.\n",
            "  _warn_prf(average, modifier, msg_start, len(result))\n",
            "/usr/local/lib/python3.7/dist-packages/sklearn/metrics/_classification.py:1318: UndefinedMetricWarning: Precision is ill-defined and being set to 0.0 due to no predicted samples. Use `zero_division` parameter to control this behavior.\n",
            "  _warn_prf(average, modifier, msg_start, len(result))\n",
            "/usr/local/lib/python3.7/dist-packages/sklearn/metrics/_classification.py:1318: UndefinedMetricWarning: Precision is ill-defined and being set to 0.0 due to no predicted samples. Use `zero_division` parameter to control this behavior.\n",
            "  _warn_prf(average, modifier, msg_start, len(result))\n",
            "/usr/local/lib/python3.7/dist-packages/sklearn/metrics/_classification.py:1318: UndefinedMetricWarning: Precision is ill-defined and being set to 0.0 due to no predicted samples. Use `zero_division` parameter to control this behavior.\n",
            "  _warn_prf(average, modifier, msg_start, len(result))\n",
            "/usr/local/lib/python3.7/dist-packages/sklearn/metrics/_classification.py:1318: UndefinedMetricWarning: Precision is ill-defined and being set to 0.0 due to no predicted samples. Use `zero_division` parameter to control this behavior.\n",
            "  _warn_prf(average, modifier, msg_start, len(result))\n",
            "/usr/local/lib/python3.7/dist-packages/sklearn/metrics/_classification.py:1318: UndefinedMetricWarning: Precision is ill-defined and being set to 0.0 due to no predicted samples. Use `zero_division` parameter to control this behavior.\n",
            "  _warn_prf(average, modifier, msg_start, len(result))\n",
            "/usr/local/lib/python3.7/dist-packages/sklearn/metrics/_classification.py:1318: UndefinedMetricWarning: Precision is ill-defined and being set to 0.0 due to no predicted samples. Use `zero_division` parameter to control this behavior.\n",
            "  _warn_prf(average, modifier, msg_start, len(result))\n",
            "/usr/local/lib/python3.7/dist-packages/sklearn/metrics/_classification.py:1318: UndefinedMetricWarning: Precision is ill-defined and being set to 0.0 due to no predicted samples. Use `zero_division` parameter to control this behavior.\n",
            "  _warn_prf(average, modifier, msg_start, len(result))\n",
            "/usr/local/lib/python3.7/dist-packages/sklearn/metrics/_classification.py:1318: UndefinedMetricWarning: Precision is ill-defined and being set to 0.0 due to no predicted samples. Use `zero_division` parameter to control this behavior.\n",
            "  _warn_prf(average, modifier, msg_start, len(result))\n",
            "/usr/local/lib/python3.7/dist-packages/sklearn/metrics/_classification.py:1318: UndefinedMetricWarning: Precision is ill-defined and being set to 0.0 due to no predicted samples. Use `zero_division` parameter to control this behavior.\n",
            "  _warn_prf(average, modifier, msg_start, len(result))\n",
            "/usr/local/lib/python3.7/dist-packages/sklearn/metrics/_classification.py:1318: UndefinedMetricWarning: Precision is ill-defined and being set to 0.0 due to no predicted samples. Use `zero_division` parameter to control this behavior.\n",
            "  _warn_prf(average, modifier, msg_start, len(result))\n",
            "/usr/local/lib/python3.7/dist-packages/sklearn/metrics/_classification.py:1318: UndefinedMetricWarning: Precision is ill-defined and being set to 0.0 due to no predicted samples. Use `zero_division` parameter to control this behavior.\n",
            "  _warn_prf(average, modifier, msg_start, len(result))\n",
            "/usr/local/lib/python3.7/dist-packages/sklearn/metrics/_classification.py:1318: UndefinedMetricWarning: Precision is ill-defined and being set to 0.0 due to no predicted samples. Use `zero_division` parameter to control this behavior.\n",
            "  _warn_prf(average, modifier, msg_start, len(result))\n",
            "/usr/local/lib/python3.7/dist-packages/sklearn/metrics/_classification.py:1318: UndefinedMetricWarning: Precision is ill-defined and being set to 0.0 due to no predicted samples. Use `zero_division` parameter to control this behavior.\n",
            "  _warn_prf(average, modifier, msg_start, len(result))\n",
            "/usr/local/lib/python3.7/dist-packages/sklearn/metrics/_classification.py:1318: UndefinedMetricWarning: Precision is ill-defined and being set to 0.0 due to no predicted samples. Use `zero_division` parameter to control this behavior.\n",
            "  _warn_prf(average, modifier, msg_start, len(result))\n",
            "/usr/local/lib/python3.7/dist-packages/sklearn/metrics/_classification.py:1318: UndefinedMetricWarning: Precision is ill-defined and being set to 0.0 due to no predicted samples. Use `zero_division` parameter to control this behavior.\n",
            "  _warn_prf(average, modifier, msg_start, len(result))\n",
            "/usr/local/lib/python3.7/dist-packages/sklearn/metrics/_classification.py:1318: UndefinedMetricWarning: Precision is ill-defined and being set to 0.0 due to no predicted samples. Use `zero_division` parameter to control this behavior.\n",
            "  _warn_prf(average, modifier, msg_start, len(result))\n",
            "/usr/local/lib/python3.7/dist-packages/sklearn/metrics/_classification.py:1318: UndefinedMetricWarning: Precision is ill-defined and being set to 0.0 due to no predicted samples. Use `zero_division` parameter to control this behavior.\n",
            "  _warn_prf(average, modifier, msg_start, len(result))\n",
            "/usr/local/lib/python3.7/dist-packages/sklearn/metrics/_classification.py:1318: UndefinedMetricWarning: Precision is ill-defined and being set to 0.0 due to no predicted samples. Use `zero_division` parameter to control this behavior.\n",
            "  _warn_prf(average, modifier, msg_start, len(result))\n",
            "/usr/local/lib/python3.7/dist-packages/sklearn/metrics/_classification.py:1318: UndefinedMetricWarning: Precision is ill-defined and being set to 0.0 due to no predicted samples. Use `zero_division` parameter to control this behavior.\n",
            "  _warn_prf(average, modifier, msg_start, len(result))\n",
            "/usr/local/lib/python3.7/dist-packages/sklearn/metrics/_classification.py:1318: UndefinedMetricWarning: Precision is ill-defined and being set to 0.0 due to no predicted samples. Use `zero_division` parameter to control this behavior.\n",
            "  _warn_prf(average, modifier, msg_start, len(result))\n",
            "/usr/local/lib/python3.7/dist-packages/sklearn/metrics/_classification.py:1318: UndefinedMetricWarning: Precision is ill-defined and being set to 0.0 due to no predicted samples. Use `zero_division` parameter to control this behavior.\n",
            "  _warn_prf(average, modifier, msg_start, len(result))\n",
            "/usr/local/lib/python3.7/dist-packages/sklearn/metrics/_classification.py:1318: UndefinedMetricWarning: Precision is ill-defined and being set to 0.0 due to no predicted samples. Use `zero_division` parameter to control this behavior.\n",
            "  _warn_prf(average, modifier, msg_start, len(result))\n",
            "/usr/local/lib/python3.7/dist-packages/sklearn/metrics/_classification.py:1318: UndefinedMetricWarning: Precision is ill-defined and being set to 0.0 due to no predicted samples. Use `zero_division` parameter to control this behavior.\n",
            "  _warn_prf(average, modifier, msg_start, len(result))\n",
            "/usr/local/lib/python3.7/dist-packages/sklearn/metrics/_classification.py:1318: UndefinedMetricWarning: Precision is ill-defined and being set to 0.0 due to no predicted samples. Use `zero_division` parameter to control this behavior.\n",
            "  _warn_prf(average, modifier, msg_start, len(result))\n",
            "/usr/local/lib/python3.7/dist-packages/sklearn/metrics/_classification.py:1318: UndefinedMetricWarning: Precision is ill-defined and being set to 0.0 due to no predicted samples. Use `zero_division` parameter to control this behavior.\n",
            "  _warn_prf(average, modifier, msg_start, len(result))\n",
            "/usr/local/lib/python3.7/dist-packages/sklearn/metrics/_classification.py:1318: UndefinedMetricWarning: Precision is ill-defined and being set to 0.0 due to no predicted samples. Use `zero_division` parameter to control this behavior.\n",
            "  _warn_prf(average, modifier, msg_start, len(result))\n",
            "/usr/local/lib/python3.7/dist-packages/sklearn/metrics/_classification.py:1318: UndefinedMetricWarning: Precision is ill-defined and being set to 0.0 due to no predicted samples. Use `zero_division` parameter to control this behavior.\n",
            "  _warn_prf(average, modifier, msg_start, len(result))\n",
            "/usr/local/lib/python3.7/dist-packages/sklearn/metrics/_classification.py:1318: UndefinedMetricWarning: Precision is ill-defined and being set to 0.0 due to no predicted samples. Use `zero_division` parameter to control this behavior.\n",
            "  _warn_prf(average, modifier, msg_start, len(result))\n",
            "/usr/local/lib/python3.7/dist-packages/sklearn/metrics/_classification.py:1318: UndefinedMetricWarning: Precision is ill-defined and being set to 0.0 due to no predicted samples. Use `zero_division` parameter to control this behavior.\n",
            "  _warn_prf(average, modifier, msg_start, len(result))\n",
            "/usr/local/lib/python3.7/dist-packages/sklearn/metrics/_classification.py:1318: UndefinedMetricWarning: Precision is ill-defined and being set to 0.0 due to no predicted samples. Use `zero_division` parameter to control this behavior.\n",
            "  _warn_prf(average, modifier, msg_start, len(result))\n",
            "/usr/local/lib/python3.7/dist-packages/sklearn/metrics/_classification.py:1318: UndefinedMetricWarning: Precision is ill-defined and being set to 0.0 due to no predicted samples. Use `zero_division` parameter to control this behavior.\n",
            "  _warn_prf(average, modifier, msg_start, len(result))\n",
            "/usr/local/lib/python3.7/dist-packages/sklearn/metrics/_classification.py:1318: UndefinedMetricWarning: Precision is ill-defined and being set to 0.0 due to no predicted samples. Use `zero_division` parameter to control this behavior.\n",
            "  _warn_prf(average, modifier, msg_start, len(result))\n",
            "/usr/local/lib/python3.7/dist-packages/sklearn/metrics/_classification.py:1318: UndefinedMetricWarning: Precision is ill-defined and being set to 0.0 due to no predicted samples. Use `zero_division` parameter to control this behavior.\n",
            "  _warn_prf(average, modifier, msg_start, len(result))\n",
            "/usr/local/lib/python3.7/dist-packages/sklearn/metrics/_classification.py:1318: UndefinedMetricWarning: Precision is ill-defined and being set to 0.0 due to no predicted samples. Use `zero_division` parameter to control this behavior.\n",
            "  _warn_prf(average, modifier, msg_start, len(result))\n",
            "/usr/local/lib/python3.7/dist-packages/sklearn/metrics/_classification.py:1318: UndefinedMetricWarning: Precision is ill-defined and being set to 0.0 due to no predicted samples. Use `zero_division` parameter to control this behavior.\n",
            "  _warn_prf(average, modifier, msg_start, len(result))\n",
            "/usr/local/lib/python3.7/dist-packages/sklearn/metrics/_classification.py:1318: UndefinedMetricWarning: Precision is ill-defined and being set to 0.0 due to no predicted samples. Use `zero_division` parameter to control this behavior.\n",
            "  _warn_prf(average, modifier, msg_start, len(result))\n",
            "/usr/local/lib/python3.7/dist-packages/sklearn/metrics/_classification.py:1318: UndefinedMetricWarning: Precision is ill-defined and being set to 0.0 due to no predicted samples. Use `zero_division` parameter to control this behavior.\n",
            "  _warn_prf(average, modifier, msg_start, len(result))\n",
            "/usr/local/lib/python3.7/dist-packages/sklearn/metrics/_classification.py:1318: UndefinedMetricWarning: Precision is ill-defined and being set to 0.0 due to no predicted samples. Use `zero_division` parameter to control this behavior.\n",
            "  _warn_prf(average, modifier, msg_start, len(result))\n",
            "/usr/local/lib/python3.7/dist-packages/sklearn/metrics/_classification.py:1318: UndefinedMetricWarning: Precision is ill-defined and being set to 0.0 due to no predicted samples. Use `zero_division` parameter to control this behavior.\n",
            "  _warn_prf(average, modifier, msg_start, len(result))\n",
            "/usr/local/lib/python3.7/dist-packages/sklearn/metrics/_classification.py:1318: UndefinedMetricWarning: Precision is ill-defined and being set to 0.0 due to no predicted samples. Use `zero_division` parameter to control this behavior.\n",
            "  _warn_prf(average, modifier, msg_start, len(result))\n",
            "/usr/local/lib/python3.7/dist-packages/sklearn/metrics/_classification.py:1318: UndefinedMetricWarning: Precision is ill-defined and being set to 0.0 due to no predicted samples. Use `zero_division` parameter to control this behavior.\n",
            "  _warn_prf(average, modifier, msg_start, len(result))\n",
            "/usr/local/lib/python3.7/dist-packages/sklearn/metrics/_classification.py:1318: UndefinedMetricWarning: Precision is ill-defined and being set to 0.0 due to no predicted samples. Use `zero_division` parameter to control this behavior.\n",
            "  _warn_prf(average, modifier, msg_start, len(result))\n",
            "/usr/local/lib/python3.7/dist-packages/sklearn/metrics/_classification.py:1318: UndefinedMetricWarning: Precision is ill-defined and being set to 0.0 due to no predicted samples. Use `zero_division` parameter to control this behavior.\n",
            "  _warn_prf(average, modifier, msg_start, len(result))\n",
            "/usr/local/lib/python3.7/dist-packages/sklearn/metrics/_classification.py:1318: UndefinedMetricWarning: Precision is ill-defined and being set to 0.0 due to no predicted samples. Use `zero_division` parameter to control this behavior.\n",
            "  _warn_prf(average, modifier, msg_start, len(result))\n",
            "/usr/local/lib/python3.7/dist-packages/sklearn/metrics/_classification.py:1318: UndefinedMetricWarning: Precision is ill-defined and being set to 0.0 due to no predicted samples. Use `zero_division` parameter to control this behavior.\n",
            "  _warn_prf(average, modifier, msg_start, len(result))\n",
            "/usr/local/lib/python3.7/dist-packages/sklearn/metrics/_classification.py:1318: UndefinedMetricWarning: Precision is ill-defined and being set to 0.0 due to no predicted samples. Use `zero_division` parameter to control this behavior.\n",
            "  _warn_prf(average, modifier, msg_start, len(result))\n",
            "/usr/local/lib/python3.7/dist-packages/sklearn/metrics/_classification.py:1318: UndefinedMetricWarning: Precision is ill-defined and being set to 0.0 due to no predicted samples. Use `zero_division` parameter to control this behavior.\n",
            "  _warn_prf(average, modifier, msg_start, len(result))\n",
            "/usr/local/lib/python3.7/dist-packages/sklearn/metrics/_classification.py:1318: UndefinedMetricWarning: Precision is ill-defined and being set to 0.0 due to no predicted samples. Use `zero_division` parameter to control this behavior.\n",
            "  _warn_prf(average, modifier, msg_start, len(result))\n",
            "/usr/local/lib/python3.7/dist-packages/sklearn/metrics/_classification.py:1318: UndefinedMetricWarning: Precision is ill-defined and being set to 0.0 due to no predicted samples. Use `zero_division` parameter to control this behavior.\n",
            "  _warn_prf(average, modifier, msg_start, len(result))\n",
            "/usr/local/lib/python3.7/dist-packages/sklearn/metrics/_classification.py:1318: UndefinedMetricWarning: Precision is ill-defined and being set to 0.0 due to no predicted samples. Use `zero_division` parameter to control this behavior.\n",
            "  _warn_prf(average, modifier, msg_start, len(result))\n",
            "/usr/local/lib/python3.7/dist-packages/sklearn/metrics/_classification.py:1318: UndefinedMetricWarning: Precision is ill-defined and being set to 0.0 due to no predicted samples. Use `zero_division` parameter to control this behavior.\n",
            "  _warn_prf(average, modifier, msg_start, len(result))\n",
            "/usr/local/lib/python3.7/dist-packages/sklearn/metrics/_classification.py:1318: UndefinedMetricWarning: Precision is ill-defined and being set to 0.0 due to no predicted samples. Use `zero_division` parameter to control this behavior.\n",
            "  _warn_prf(average, modifier, msg_start, len(result))\n",
            "/usr/local/lib/python3.7/dist-packages/sklearn/metrics/_classification.py:1318: UndefinedMetricWarning: Precision is ill-defined and being set to 0.0 due to no predicted samples. Use `zero_division` parameter to control this behavior.\n",
            "  _warn_prf(average, modifier, msg_start, len(result))\n",
            "/usr/local/lib/python3.7/dist-packages/sklearn/metrics/_classification.py:1318: UndefinedMetricWarning: Precision is ill-defined and being set to 0.0 due to no predicted samples. Use `zero_division` parameter to control this behavior.\n",
            "  _warn_prf(average, modifier, msg_start, len(result))\n",
            "/usr/local/lib/python3.7/dist-packages/sklearn/metrics/_classification.py:1318: UndefinedMetricWarning: Precision is ill-defined and being set to 0.0 due to no predicted samples. Use `zero_division` parameter to control this behavior.\n",
            "  _warn_prf(average, modifier, msg_start, len(result))\n",
            "/usr/local/lib/python3.7/dist-packages/sklearn/metrics/_classification.py:1318: UndefinedMetricWarning: Precision is ill-defined and being set to 0.0 due to no predicted samples. Use `zero_division` parameter to control this behavior.\n",
            "  _warn_prf(average, modifier, msg_start, len(result))\n",
            "/usr/local/lib/python3.7/dist-packages/sklearn/metrics/_classification.py:1318: UndefinedMetricWarning: Precision is ill-defined and being set to 0.0 due to no predicted samples. Use `zero_division` parameter to control this behavior.\n",
            "  _warn_prf(average, modifier, msg_start, len(result))\n",
            "/usr/local/lib/python3.7/dist-packages/sklearn/metrics/_classification.py:1318: UndefinedMetricWarning: Precision is ill-defined and being set to 0.0 due to no predicted samples. Use `zero_division` parameter to control this behavior.\n",
            "  _warn_prf(average, modifier, msg_start, len(result))\n",
            "/usr/local/lib/python3.7/dist-packages/sklearn/metrics/_classification.py:1318: UndefinedMetricWarning: Precision is ill-defined and being set to 0.0 due to no predicted samples. Use `zero_division` parameter to control this behavior.\n",
            "  _warn_prf(average, modifier, msg_start, len(result))\n",
            "/usr/local/lib/python3.7/dist-packages/sklearn/metrics/_classification.py:1318: UndefinedMetricWarning: Precision is ill-defined and being set to 0.0 due to no predicted samples. Use `zero_division` parameter to control this behavior.\n",
            "  _warn_prf(average, modifier, msg_start, len(result))\n",
            "/usr/local/lib/python3.7/dist-packages/sklearn/metrics/_classification.py:1318: UndefinedMetricWarning: Precision is ill-defined and being set to 0.0 due to no predicted samples. Use `zero_division` parameter to control this behavior.\n",
            "  _warn_prf(average, modifier, msg_start, len(result))\n",
            "/usr/local/lib/python3.7/dist-packages/sklearn/metrics/_classification.py:1318: UndefinedMetricWarning: Precision is ill-defined and being set to 0.0 due to no predicted samples. Use `zero_division` parameter to control this behavior.\n",
            "  _warn_prf(average, modifier, msg_start, len(result))\n",
            "/usr/local/lib/python3.7/dist-packages/sklearn/metrics/_classification.py:1318: UndefinedMetricWarning: Precision is ill-defined and being set to 0.0 due to no predicted samples. Use `zero_division` parameter to control this behavior.\n",
            "  _warn_prf(average, modifier, msg_start, len(result))\n",
            "/usr/local/lib/python3.7/dist-packages/sklearn/metrics/_classification.py:1318: UndefinedMetricWarning: Precision is ill-defined and being set to 0.0 due to no predicted samples. Use `zero_division` parameter to control this behavior.\n",
            "  _warn_prf(average, modifier, msg_start, len(result))\n",
            "/usr/local/lib/python3.7/dist-packages/sklearn/metrics/_classification.py:1318: UndefinedMetricWarning: Precision is ill-defined and being set to 0.0 due to no predicted samples. Use `zero_division` parameter to control this behavior.\n",
            "  _warn_prf(average, modifier, msg_start, len(result))\n",
            "/usr/local/lib/python3.7/dist-packages/sklearn/metrics/_classification.py:1318: UndefinedMetricWarning: Precision is ill-defined and being set to 0.0 due to no predicted samples. Use `zero_division` parameter to control this behavior.\n",
            "  _warn_prf(average, modifier, msg_start, len(result))\n",
            "/usr/local/lib/python3.7/dist-packages/sklearn/metrics/_classification.py:1318: UndefinedMetricWarning: Precision is ill-defined and being set to 0.0 due to no predicted samples. Use `zero_division` parameter to control this behavior.\n",
            "  _warn_prf(average, modifier, msg_start, len(result))\n",
            "/usr/local/lib/python3.7/dist-packages/sklearn/metrics/_classification.py:1318: UndefinedMetricWarning: Precision is ill-defined and being set to 0.0 due to no predicted samples. Use `zero_division` parameter to control this behavior.\n",
            "  _warn_prf(average, modifier, msg_start, len(result))\n",
            "/usr/local/lib/python3.7/dist-packages/sklearn/metrics/_classification.py:1318: UndefinedMetricWarning: Precision is ill-defined and being set to 0.0 due to no predicted samples. Use `zero_division` parameter to control this behavior.\n",
            "  _warn_prf(average, modifier, msg_start, len(result))\n",
            "/usr/local/lib/python3.7/dist-packages/sklearn/metrics/_classification.py:1318: UndefinedMetricWarning: Precision is ill-defined and being set to 0.0 due to no predicted samples. Use `zero_division` parameter to control this behavior.\n",
            "  _warn_prf(average, modifier, msg_start, len(result))\n",
            "/usr/local/lib/python3.7/dist-packages/sklearn/metrics/_classification.py:1318: UndefinedMetricWarning: Precision is ill-defined and being set to 0.0 due to no predicted samples. Use `zero_division` parameter to control this behavior.\n",
            "  _warn_prf(average, modifier, msg_start, len(result))\n",
            "/usr/local/lib/python3.7/dist-packages/sklearn/metrics/_classification.py:1318: UndefinedMetricWarning: Precision is ill-defined and being set to 0.0 due to no predicted samples. Use `zero_division` parameter to control this behavior.\n",
            "  _warn_prf(average, modifier, msg_start, len(result))\n",
            "/usr/local/lib/python3.7/dist-packages/sklearn/metrics/_classification.py:1318: UndefinedMetricWarning: Precision is ill-defined and being set to 0.0 due to no predicted samples. Use `zero_division` parameter to control this behavior.\n",
            "  _warn_prf(average, modifier, msg_start, len(result))\n",
            "/usr/local/lib/python3.7/dist-packages/sklearn/metrics/_classification.py:1318: UndefinedMetricWarning: Precision is ill-defined and being set to 0.0 due to no predicted samples. Use `zero_division` parameter to control this behavior.\n",
            "  _warn_prf(average, modifier, msg_start, len(result))\n",
            "/usr/local/lib/python3.7/dist-packages/sklearn/metrics/_classification.py:1318: UndefinedMetricWarning: Precision is ill-defined and being set to 0.0 due to no predicted samples. Use `zero_division` parameter to control this behavior.\n",
            "  _warn_prf(average, modifier, msg_start, len(result))\n",
            "/usr/local/lib/python3.7/dist-packages/sklearn/metrics/_classification.py:1318: UndefinedMetricWarning: Precision is ill-defined and being set to 0.0 due to no predicted samples. Use `zero_division` parameter to control this behavior.\n",
            "  _warn_prf(average, modifier, msg_start, len(result))\n",
            "/usr/local/lib/python3.7/dist-packages/sklearn/metrics/_classification.py:1318: UndefinedMetricWarning: Precision is ill-defined and being set to 0.0 due to no predicted samples. Use `zero_division` parameter to control this behavior.\n",
            "  _warn_prf(average, modifier, msg_start, len(result))\n",
            "/usr/local/lib/python3.7/dist-packages/sklearn/metrics/_classification.py:1318: UndefinedMetricWarning: Precision is ill-defined and being set to 0.0 due to no predicted samples. Use `zero_division` parameter to control this behavior.\n",
            "  _warn_prf(average, modifier, msg_start, len(result))\n",
            "/usr/local/lib/python3.7/dist-packages/sklearn/metrics/_classification.py:1318: UndefinedMetricWarning: Precision is ill-defined and being set to 0.0 due to no predicted samples. Use `zero_division` parameter to control this behavior.\n",
            "  _warn_prf(average, modifier, msg_start, len(result))\n",
            "/usr/local/lib/python3.7/dist-packages/sklearn/metrics/_classification.py:1318: UndefinedMetricWarning: Precision is ill-defined and being set to 0.0 due to no predicted samples. Use `zero_division` parameter to control this behavior.\n",
            "  _warn_prf(average, modifier, msg_start, len(result))\n",
            "/usr/local/lib/python3.7/dist-packages/sklearn/metrics/_classification.py:1318: UndefinedMetricWarning: Precision is ill-defined and being set to 0.0 due to no predicted samples. Use `zero_division` parameter to control this behavior.\n",
            "  _warn_prf(average, modifier, msg_start, len(result))\n",
            "/usr/local/lib/python3.7/dist-packages/sklearn/metrics/_classification.py:1318: UndefinedMetricWarning: Precision is ill-defined and being set to 0.0 due to no predicted samples. Use `zero_division` parameter to control this behavior.\n",
            "  _warn_prf(average, modifier, msg_start, len(result))\n",
            "/usr/local/lib/python3.7/dist-packages/sklearn/metrics/_classification.py:1318: UndefinedMetricWarning: Precision is ill-defined and being set to 0.0 due to no predicted samples. Use `zero_division` parameter to control this behavior.\n",
            "  _warn_prf(average, modifier, msg_start, len(result))\n",
            "/usr/local/lib/python3.7/dist-packages/sklearn/metrics/_classification.py:1318: UndefinedMetricWarning: Precision is ill-defined and being set to 0.0 due to no predicted samples. Use `zero_division` parameter to control this behavior.\n",
            "  _warn_prf(average, modifier, msg_start, len(result))\n",
            "/usr/local/lib/python3.7/dist-packages/sklearn/metrics/_classification.py:1318: UndefinedMetricWarning: Precision is ill-defined and being set to 0.0 due to no predicted samples. Use `zero_division` parameter to control this behavior.\n",
            "  _warn_prf(average, modifier, msg_start, len(result))\n",
            "/usr/local/lib/python3.7/dist-packages/sklearn/metrics/_classification.py:1318: UndefinedMetricWarning: Precision is ill-defined and being set to 0.0 due to no predicted samples. Use `zero_division` parameter to control this behavior.\n",
            "  _warn_prf(average, modifier, msg_start, len(result))\n",
            "/usr/local/lib/python3.7/dist-packages/sklearn/metrics/_classification.py:1318: UndefinedMetricWarning: Precision is ill-defined and being set to 0.0 due to no predicted samples. Use `zero_division` parameter to control this behavior.\n",
            "  _warn_prf(average, modifier, msg_start, len(result))\n",
            "/usr/local/lib/python3.7/dist-packages/sklearn/metrics/_classification.py:1318: UndefinedMetricWarning: Precision is ill-defined and being set to 0.0 due to no predicted samples. Use `zero_division` parameter to control this behavior.\n",
            "  _warn_prf(average, modifier, msg_start, len(result))\n",
            "/usr/local/lib/python3.7/dist-packages/sklearn/metrics/_classification.py:1318: UndefinedMetricWarning: Precision is ill-defined and being set to 0.0 due to no predicted samples. Use `zero_division` parameter to control this behavior.\n",
            "  _warn_prf(average, modifier, msg_start, len(result))\n",
            "/usr/local/lib/python3.7/dist-packages/sklearn/metrics/_classification.py:1318: UndefinedMetricWarning: Precision is ill-defined and being set to 0.0 due to no predicted samples. Use `zero_division` parameter to control this behavior.\n",
            "  _warn_prf(average, modifier, msg_start, len(result))\n",
            "/usr/local/lib/python3.7/dist-packages/sklearn/metrics/_classification.py:1318: UndefinedMetricWarning: Precision is ill-defined and being set to 0.0 due to no predicted samples. Use `zero_division` parameter to control this behavior.\n",
            "  _warn_prf(average, modifier, msg_start, len(result))\n",
            "/usr/local/lib/python3.7/dist-packages/sklearn/metrics/_classification.py:1318: UndefinedMetricWarning: Precision is ill-defined and being set to 0.0 due to no predicted samples. Use `zero_division` parameter to control this behavior.\n",
            "  _warn_prf(average, modifier, msg_start, len(result))\n",
            "/usr/local/lib/python3.7/dist-packages/sklearn/metrics/_classification.py:1318: UndefinedMetricWarning: Precision is ill-defined and being set to 0.0 due to no predicted samples. Use `zero_division` parameter to control this behavior.\n",
            "  _warn_prf(average, modifier, msg_start, len(result))\n",
            "/usr/local/lib/python3.7/dist-packages/sklearn/metrics/_classification.py:1318: UndefinedMetricWarning: Precision is ill-defined and being set to 0.0 due to no predicted samples. Use `zero_division` parameter to control this behavior.\n",
            "  _warn_prf(average, modifier, msg_start, len(result))\n",
            "/usr/local/lib/python3.7/dist-packages/sklearn/metrics/_classification.py:1318: UndefinedMetricWarning: Precision is ill-defined and being set to 0.0 due to no predicted samples. Use `zero_division` parameter to control this behavior.\n",
            "  _warn_prf(average, modifier, msg_start, len(result))\n",
            "/usr/local/lib/python3.7/dist-packages/sklearn/metrics/_classification.py:1318: UndefinedMetricWarning: Precision is ill-defined and being set to 0.0 due to no predicted samples. Use `zero_division` parameter to control this behavior.\n",
            "  _warn_prf(average, modifier, msg_start, len(result))\n",
            "/usr/local/lib/python3.7/dist-packages/sklearn/metrics/_classification.py:1318: UndefinedMetricWarning: Precision is ill-defined and being set to 0.0 due to no predicted samples. Use `zero_division` parameter to control this behavior.\n",
            "  _warn_prf(average, modifier, msg_start, len(result))\n",
            "/usr/local/lib/python3.7/dist-packages/sklearn/metrics/_classification.py:1318: UndefinedMetricWarning: Precision is ill-defined and being set to 0.0 due to no predicted samples. Use `zero_division` parameter to control this behavior.\n",
            "  _warn_prf(average, modifier, msg_start, len(result))\n",
            "/usr/local/lib/python3.7/dist-packages/sklearn/metrics/_classification.py:1318: UndefinedMetricWarning: Precision is ill-defined and being set to 0.0 due to no predicted samples. Use `zero_division` parameter to control this behavior.\n",
            "  _warn_prf(average, modifier, msg_start, len(result))\n",
            "/usr/local/lib/python3.7/dist-packages/sklearn/metrics/_classification.py:1318: UndefinedMetricWarning: Precision is ill-defined and being set to 0.0 due to no predicted samples. Use `zero_division` parameter to control this behavior.\n",
            "  _warn_prf(average, modifier, msg_start, len(result))\n",
            "/usr/local/lib/python3.7/dist-packages/sklearn/metrics/_classification.py:1318: UndefinedMetricWarning: Precision is ill-defined and being set to 0.0 due to no predicted samples. Use `zero_division` parameter to control this behavior.\n",
            "  _warn_prf(average, modifier, msg_start, len(result))\n",
            "/usr/local/lib/python3.7/dist-packages/sklearn/metrics/_classification.py:1318: UndefinedMetricWarning: Precision is ill-defined and being set to 0.0 due to no predicted samples. Use `zero_division` parameter to control this behavior.\n",
            "  _warn_prf(average, modifier, msg_start, len(result))\n",
            "/usr/local/lib/python3.7/dist-packages/sklearn/metrics/_classification.py:1318: UndefinedMetricWarning: Precision is ill-defined and being set to 0.0 due to no predicted samples. Use `zero_division` parameter to control this behavior.\n",
            "  _warn_prf(average, modifier, msg_start, len(result))\n",
            "/usr/local/lib/python3.7/dist-packages/sklearn/metrics/_classification.py:1318: UndefinedMetricWarning: Precision is ill-defined and being set to 0.0 due to no predicted samples. Use `zero_division` parameter to control this behavior.\n",
            "  _warn_prf(average, modifier, msg_start, len(result))\n",
            "/usr/local/lib/python3.7/dist-packages/sklearn/metrics/_classification.py:1318: UndefinedMetricWarning: Precision is ill-defined and being set to 0.0 due to no predicted samples. Use `zero_division` parameter to control this behavior.\n",
            "  _warn_prf(average, modifier, msg_start, len(result))\n",
            "/usr/local/lib/python3.7/dist-packages/sklearn/metrics/_classification.py:1318: UndefinedMetricWarning: Precision is ill-defined and being set to 0.0 due to no predicted samples. Use `zero_division` parameter to control this behavior.\n",
            "  _warn_prf(average, modifier, msg_start, len(result))\n",
            "/usr/local/lib/python3.7/dist-packages/sklearn/metrics/_classification.py:1318: UndefinedMetricWarning: Precision is ill-defined and being set to 0.0 due to no predicted samples. Use `zero_division` parameter to control this behavior.\n",
            "  _warn_prf(average, modifier, msg_start, len(result))\n",
            "/usr/local/lib/python3.7/dist-packages/sklearn/metrics/_classification.py:1318: UndefinedMetricWarning: Precision is ill-defined and being set to 0.0 due to no predicted samples. Use `zero_division` parameter to control this behavior.\n",
            "  _warn_prf(average, modifier, msg_start, len(result))\n",
            "/usr/local/lib/python3.7/dist-packages/sklearn/metrics/_classification.py:1318: UndefinedMetricWarning: Precision is ill-defined and being set to 0.0 due to no predicted samples. Use `zero_division` parameter to control this behavior.\n",
            "  _warn_prf(average, modifier, msg_start, len(result))\n",
            "/usr/local/lib/python3.7/dist-packages/sklearn/metrics/_classification.py:1318: UndefinedMetricWarning: Precision is ill-defined and being set to 0.0 due to no predicted samples. Use `zero_division` parameter to control this behavior.\n",
            "  _warn_prf(average, modifier, msg_start, len(result))\n",
            "/usr/local/lib/python3.7/dist-packages/sklearn/metrics/_classification.py:1318: UndefinedMetricWarning: Precision is ill-defined and being set to 0.0 due to no predicted samples. Use `zero_division` parameter to control this behavior.\n",
            "  _warn_prf(average, modifier, msg_start, len(result))\n",
            "/usr/local/lib/python3.7/dist-packages/sklearn/metrics/_classification.py:1318: UndefinedMetricWarning: Precision is ill-defined and being set to 0.0 due to no predicted samples. Use `zero_division` parameter to control this behavior.\n",
            "  _warn_prf(average, modifier, msg_start, len(result))\n",
            "/usr/local/lib/python3.7/dist-packages/sklearn/metrics/_classification.py:1318: UndefinedMetricWarning: Precision is ill-defined and being set to 0.0 due to no predicted samples. Use `zero_division` parameter to control this behavior.\n",
            "  _warn_prf(average, modifier, msg_start, len(result))\n",
            "/usr/local/lib/python3.7/dist-packages/sklearn/metrics/_classification.py:1318: UndefinedMetricWarning: Precision is ill-defined and being set to 0.0 due to no predicted samples. Use `zero_division` parameter to control this behavior.\n",
            "  _warn_prf(average, modifier, msg_start, len(result))\n",
            "/usr/local/lib/python3.7/dist-packages/sklearn/metrics/_classification.py:1318: UndefinedMetricWarning: Precision is ill-defined and being set to 0.0 due to no predicted samples. Use `zero_division` parameter to control this behavior.\n",
            "  _warn_prf(average, modifier, msg_start, len(result))\n",
            "/usr/local/lib/python3.7/dist-packages/sklearn/metrics/_classification.py:1318: UndefinedMetricWarning: Precision is ill-defined and being set to 0.0 due to no predicted samples. Use `zero_division` parameter to control this behavior.\n",
            "  _warn_prf(average, modifier, msg_start, len(result))\n",
            "/usr/local/lib/python3.7/dist-packages/sklearn/metrics/_classification.py:1318: UndefinedMetricWarning: Precision is ill-defined and being set to 0.0 due to no predicted samples. Use `zero_division` parameter to control this behavior.\n",
            "  _warn_prf(average, modifier, msg_start, len(result))\n",
            "/usr/local/lib/python3.7/dist-packages/sklearn/metrics/_classification.py:1318: UndefinedMetricWarning: Precision is ill-defined and being set to 0.0 due to no predicted samples. Use `zero_division` parameter to control this behavior.\n",
            "  _warn_prf(average, modifier, msg_start, len(result))\n",
            "/usr/local/lib/python3.7/dist-packages/sklearn/metrics/_classification.py:1318: UndefinedMetricWarning: Precision is ill-defined and being set to 0.0 due to no predicted samples. Use `zero_division` parameter to control this behavior.\n",
            "  _warn_prf(average, modifier, msg_start, len(result))\n",
            "/usr/local/lib/python3.7/dist-packages/sklearn/metrics/_classification.py:1318: UndefinedMetricWarning: Precision is ill-defined and being set to 0.0 due to no predicted samples. Use `zero_division` parameter to control this behavior.\n",
            "  _warn_prf(average, modifier, msg_start, len(result))\n",
            "/usr/local/lib/python3.7/dist-packages/sklearn/metrics/_classification.py:1318: UndefinedMetricWarning: Precision is ill-defined and being set to 0.0 due to no predicted samples. Use `zero_division` parameter to control this behavior.\n",
            "  _warn_prf(average, modifier, msg_start, len(result))\n",
            "/usr/local/lib/python3.7/dist-packages/sklearn/metrics/_classification.py:1318: UndefinedMetricWarning: Precision is ill-defined and being set to 0.0 due to no predicted samples. Use `zero_division` parameter to control this behavior.\n",
            "  _warn_prf(average, modifier, msg_start, len(result))\n",
            "/usr/local/lib/python3.7/dist-packages/sklearn/metrics/_classification.py:1318: UndefinedMetricWarning: Precision is ill-defined and being set to 0.0 due to no predicted samples. Use `zero_division` parameter to control this behavior.\n",
            "  _warn_prf(average, modifier, msg_start, len(result))\n",
            "/usr/local/lib/python3.7/dist-packages/sklearn/metrics/_classification.py:1318: UndefinedMetricWarning: Precision is ill-defined and being set to 0.0 due to no predicted samples. Use `zero_division` parameter to control this behavior.\n",
            "  _warn_prf(average, modifier, msg_start, len(result))\n",
            "/usr/local/lib/python3.7/dist-packages/sklearn/metrics/_classification.py:1318: UndefinedMetricWarning: Precision is ill-defined and being set to 0.0 due to no predicted samples. Use `zero_division` parameter to control this behavior.\n",
            "  _warn_prf(average, modifier, msg_start, len(result))\n",
            "/usr/local/lib/python3.7/dist-packages/sklearn/metrics/_classification.py:1318: UndefinedMetricWarning: Precision is ill-defined and being set to 0.0 due to no predicted samples. Use `zero_division` parameter to control this behavior.\n",
            "  _warn_prf(average, modifier, msg_start, len(result))\n",
            "/usr/local/lib/python3.7/dist-packages/sklearn/metrics/_classification.py:1318: UndefinedMetricWarning: Precision is ill-defined and being set to 0.0 due to no predicted samples. Use `zero_division` parameter to control this behavior.\n",
            "  _warn_prf(average, modifier, msg_start, len(result))\n",
            "/usr/local/lib/python3.7/dist-packages/sklearn/metrics/_classification.py:1318: UndefinedMetricWarning: Precision is ill-defined and being set to 0.0 due to no predicted samples. Use `zero_division` parameter to control this behavior.\n",
            "  _warn_prf(average, modifier, msg_start, len(result))\n",
            "/usr/local/lib/python3.7/dist-packages/sklearn/metrics/_classification.py:1318: UndefinedMetricWarning: Precision is ill-defined and being set to 0.0 due to no predicted samples. Use `zero_division` parameter to control this behavior.\n",
            "  _warn_prf(average, modifier, msg_start, len(result))\n",
            "/usr/local/lib/python3.7/dist-packages/sklearn/metrics/_classification.py:1318: UndefinedMetricWarning: Precision is ill-defined and being set to 0.0 due to no predicted samples. Use `zero_division` parameter to control this behavior.\n",
            "  _warn_prf(average, modifier, msg_start, len(result))\n",
            "/usr/local/lib/python3.7/dist-packages/sklearn/metrics/_classification.py:1318: UndefinedMetricWarning: Precision is ill-defined and being set to 0.0 due to no predicted samples. Use `zero_division` parameter to control this behavior.\n",
            "  _warn_prf(average, modifier, msg_start, len(result))\n",
            "/usr/local/lib/python3.7/dist-packages/sklearn/metrics/_classification.py:1318: UndefinedMetricWarning: Precision is ill-defined and being set to 0.0 due to no predicted samples. Use `zero_division` parameter to control this behavior.\n",
            "  _warn_prf(average, modifier, msg_start, len(result))\n",
            "/usr/local/lib/python3.7/dist-packages/sklearn/metrics/_classification.py:1318: UndefinedMetricWarning: Precision is ill-defined and being set to 0.0 due to no predicted samples. Use `zero_division` parameter to control this behavior.\n",
            "  _warn_prf(average, modifier, msg_start, len(result))\n",
            "/usr/local/lib/python3.7/dist-packages/sklearn/metrics/_classification.py:1318: UndefinedMetricWarning: Precision is ill-defined and being set to 0.0 due to no predicted samples. Use `zero_division` parameter to control this behavior.\n",
            "  _warn_prf(average, modifier, msg_start, len(result))\n",
            "/usr/local/lib/python3.7/dist-packages/sklearn/metrics/_classification.py:1318: UndefinedMetricWarning: Precision is ill-defined and being set to 0.0 due to no predicted samples. Use `zero_division` parameter to control this behavior.\n",
            "  _warn_prf(average, modifier, msg_start, len(result))\n",
            "/usr/local/lib/python3.7/dist-packages/sklearn/metrics/_classification.py:1318: UndefinedMetricWarning: Precision is ill-defined and being set to 0.0 due to no predicted samples. Use `zero_division` parameter to control this behavior.\n",
            "  _warn_prf(average, modifier, msg_start, len(result))\n",
            "/usr/local/lib/python3.7/dist-packages/sklearn/metrics/_classification.py:1318: UndefinedMetricWarning: Precision is ill-defined and being set to 0.0 due to no predicted samples. Use `zero_division` parameter to control this behavior.\n",
            "  _warn_prf(average, modifier, msg_start, len(result))\n",
            "/usr/local/lib/python3.7/dist-packages/sklearn/metrics/_classification.py:1318: UndefinedMetricWarning: Precision is ill-defined and being set to 0.0 due to no predicted samples. Use `zero_division` parameter to control this behavior.\n",
            "  _warn_prf(average, modifier, msg_start, len(result))\n",
            "/usr/local/lib/python3.7/dist-packages/sklearn/metrics/_classification.py:1318: UndefinedMetricWarning: Precision is ill-defined and being set to 0.0 due to no predicted samples. Use `zero_division` parameter to control this behavior.\n",
            "  _warn_prf(average, modifier, msg_start, len(result))\n",
            "/usr/local/lib/python3.7/dist-packages/sklearn/metrics/_classification.py:1318: UndefinedMetricWarning: Precision is ill-defined and being set to 0.0 due to no predicted samples. Use `zero_division` parameter to control this behavior.\n",
            "  _warn_prf(average, modifier, msg_start, len(result))\n",
            "/usr/local/lib/python3.7/dist-packages/sklearn/metrics/_classification.py:1318: UndefinedMetricWarning: Precision is ill-defined and being set to 0.0 due to no predicted samples. Use `zero_division` parameter to control this behavior.\n",
            "  _warn_prf(average, modifier, msg_start, len(result))\n",
            "/usr/local/lib/python3.7/dist-packages/sklearn/metrics/_classification.py:1318: UndefinedMetricWarning: Precision is ill-defined and being set to 0.0 due to no predicted samples. Use `zero_division` parameter to control this behavior.\n",
            "  _warn_prf(average, modifier, msg_start, len(result))\n",
            "/usr/local/lib/python3.7/dist-packages/sklearn/metrics/_classification.py:1318: UndefinedMetricWarning: Precision is ill-defined and being set to 0.0 due to no predicted samples. Use `zero_division` parameter to control this behavior.\n",
            "  _warn_prf(average, modifier, msg_start, len(result))\n",
            "/usr/local/lib/python3.7/dist-packages/sklearn/metrics/_classification.py:1318: UndefinedMetricWarning: Precision is ill-defined and being set to 0.0 due to no predicted samples. Use `zero_division` parameter to control this behavior.\n",
            "  _warn_prf(average, modifier, msg_start, len(result))\n",
            "/usr/local/lib/python3.7/dist-packages/sklearn/metrics/_classification.py:1318: UndefinedMetricWarning: Precision is ill-defined and being set to 0.0 due to no predicted samples. Use `zero_division` parameter to control this behavior.\n",
            "  _warn_prf(average, modifier, msg_start, len(result))\n",
            "/usr/local/lib/python3.7/dist-packages/sklearn/metrics/_classification.py:1318: UndefinedMetricWarning: Precision is ill-defined and being set to 0.0 due to no predicted samples. Use `zero_division` parameter to control this behavior.\n",
            "  _warn_prf(average, modifier, msg_start, len(result))\n",
            "/usr/local/lib/python3.7/dist-packages/sklearn/metrics/_classification.py:1318: UndefinedMetricWarning: Precision is ill-defined and being set to 0.0 due to no predicted samples. Use `zero_division` parameter to control this behavior.\n",
            "  _warn_prf(average, modifier, msg_start, len(result))\n",
            "/usr/local/lib/python3.7/dist-packages/sklearn/metrics/_classification.py:1318: UndefinedMetricWarning: Precision is ill-defined and being set to 0.0 due to no predicted samples. Use `zero_division` parameter to control this behavior.\n",
            "  _warn_prf(average, modifier, msg_start, len(result))\n",
            "/usr/local/lib/python3.7/dist-packages/sklearn/metrics/_classification.py:1318: UndefinedMetricWarning: Precision is ill-defined and being set to 0.0 due to no predicted samples. Use `zero_division` parameter to control this behavior.\n",
            "  _warn_prf(average, modifier, msg_start, len(result))\n",
            "/usr/local/lib/python3.7/dist-packages/sklearn/metrics/_classification.py:1318: UndefinedMetricWarning: Precision is ill-defined and being set to 0.0 due to no predicted samples. Use `zero_division` parameter to control this behavior.\n",
            "  _warn_prf(average, modifier, msg_start, len(result))\n",
            "/usr/local/lib/python3.7/dist-packages/sklearn/metrics/_classification.py:1318: UndefinedMetricWarning: Precision is ill-defined and being set to 0.0 due to no predicted samples. Use `zero_division` parameter to control this behavior.\n",
            "  _warn_prf(average, modifier, msg_start, len(result))\n",
            "/usr/local/lib/python3.7/dist-packages/sklearn/metrics/_classification.py:1318: UndefinedMetricWarning: Precision is ill-defined and being set to 0.0 due to no predicted samples. Use `zero_division` parameter to control this behavior.\n",
            "  _warn_prf(average, modifier, msg_start, len(result))\n",
            "/usr/local/lib/python3.7/dist-packages/sklearn/metrics/_classification.py:1318: UndefinedMetricWarning: Precision is ill-defined and being set to 0.0 due to no predicted samples. Use `zero_division` parameter to control this behavior.\n",
            "  _warn_prf(average, modifier, msg_start, len(result))\n",
            "/usr/local/lib/python3.7/dist-packages/sklearn/metrics/_classification.py:1318: UndefinedMetricWarning: Precision is ill-defined and being set to 0.0 due to no predicted samples. Use `zero_division` parameter to control this behavior.\n",
            "  _warn_prf(average, modifier, msg_start, len(result))\n",
            "/usr/local/lib/python3.7/dist-packages/sklearn/metrics/_classification.py:1318: UndefinedMetricWarning: Precision is ill-defined and being set to 0.0 due to no predicted samples. Use `zero_division` parameter to control this behavior.\n",
            "  _warn_prf(average, modifier, msg_start, len(result))\n",
            "/usr/local/lib/python3.7/dist-packages/sklearn/metrics/_classification.py:1318: UndefinedMetricWarning: Precision is ill-defined and being set to 0.0 due to no predicted samples. Use `zero_division` parameter to control this behavior.\n",
            "  _warn_prf(average, modifier, msg_start, len(result))\n",
            "/usr/local/lib/python3.7/dist-packages/sklearn/metrics/_classification.py:1318: UndefinedMetricWarning: Precision is ill-defined and being set to 0.0 due to no predicted samples. Use `zero_division` parameter to control this behavior.\n",
            "  _warn_prf(average, modifier, msg_start, len(result))\n",
            "/usr/local/lib/python3.7/dist-packages/sklearn/metrics/_classification.py:1318: UndefinedMetricWarning: Precision is ill-defined and being set to 0.0 due to no predicted samples. Use `zero_division` parameter to control this behavior.\n",
            "  _warn_prf(average, modifier, msg_start, len(result))\n",
            "/usr/local/lib/python3.7/dist-packages/sklearn/metrics/_classification.py:1318: UndefinedMetricWarning: Precision is ill-defined and being set to 0.0 due to no predicted samples. Use `zero_division` parameter to control this behavior.\n",
            "  _warn_prf(average, modifier, msg_start, len(result))\n",
            "/usr/local/lib/python3.7/dist-packages/sklearn/metrics/_classification.py:1318: UndefinedMetricWarning: Precision is ill-defined and being set to 0.0 due to no predicted samples. Use `zero_division` parameter to control this behavior.\n",
            "  _warn_prf(average, modifier, msg_start, len(result))\n",
            "/usr/local/lib/python3.7/dist-packages/sklearn/metrics/_classification.py:1318: UndefinedMetricWarning: Precision is ill-defined and being set to 0.0 due to no predicted samples. Use `zero_division` parameter to control this behavior.\n",
            "  _warn_prf(average, modifier, msg_start, len(result))\n",
            "/usr/local/lib/python3.7/dist-packages/sklearn/metrics/_classification.py:1318: UndefinedMetricWarning: Precision is ill-defined and being set to 0.0 due to no predicted samples. Use `zero_division` parameter to control this behavior.\n",
            "  _warn_prf(average, modifier, msg_start, len(result))\n",
            "/usr/local/lib/python3.7/dist-packages/sklearn/metrics/_classification.py:1318: UndefinedMetricWarning: Precision is ill-defined and being set to 0.0 due to no predicted samples. Use `zero_division` parameter to control this behavior.\n",
            "  _warn_prf(average, modifier, msg_start, len(result))\n",
            "/usr/local/lib/python3.7/dist-packages/sklearn/metrics/_classification.py:1318: UndefinedMetricWarning: Precision is ill-defined and being set to 0.0 due to no predicted samples. Use `zero_division` parameter to control this behavior.\n",
            "  _warn_prf(average, modifier, msg_start, len(result))\n",
            "/usr/local/lib/python3.7/dist-packages/sklearn/metrics/_classification.py:1318: UndefinedMetricWarning: Precision is ill-defined and being set to 0.0 due to no predicted samples. Use `zero_division` parameter to control this behavior.\n",
            "  _warn_prf(average, modifier, msg_start, len(result))\n",
            "/usr/local/lib/python3.7/dist-packages/sklearn/metrics/_classification.py:1318: UndefinedMetricWarning: Precision is ill-defined and being set to 0.0 due to no predicted samples. Use `zero_division` parameter to control this behavior.\n",
            "  _warn_prf(average, modifier, msg_start, len(result))\n",
            "/usr/local/lib/python3.7/dist-packages/sklearn/metrics/_classification.py:1318: UndefinedMetricWarning: Precision is ill-defined and being set to 0.0 due to no predicted samples. Use `zero_division` parameter to control this behavior.\n",
            "  _warn_prf(average, modifier, msg_start, len(result))\n",
            "/usr/local/lib/python3.7/dist-packages/sklearn/metrics/_classification.py:1318: UndefinedMetricWarning: Precision is ill-defined and being set to 0.0 due to no predicted samples. Use `zero_division` parameter to control this behavior.\n",
            "  _warn_prf(average, modifier, msg_start, len(result))\n",
            "/usr/local/lib/python3.7/dist-packages/sklearn/metrics/_classification.py:1318: UndefinedMetricWarning: Precision is ill-defined and being set to 0.0 due to no predicted samples. Use `zero_division` parameter to control this behavior.\n",
            "  _warn_prf(average, modifier, msg_start, len(result))\n",
            "/usr/local/lib/python3.7/dist-packages/sklearn/metrics/_classification.py:1318: UndefinedMetricWarning: Precision is ill-defined and being set to 0.0 due to no predicted samples. Use `zero_division` parameter to control this behavior.\n",
            "  _warn_prf(average, modifier, msg_start, len(result))\n",
            "/usr/local/lib/python3.7/dist-packages/sklearn/metrics/_classification.py:1318: UndefinedMetricWarning: Precision is ill-defined and being set to 0.0 due to no predicted samples. Use `zero_division` parameter to control this behavior.\n",
            "  _warn_prf(average, modifier, msg_start, len(result))\n",
            "/usr/local/lib/python3.7/dist-packages/sklearn/metrics/_classification.py:1318: UndefinedMetricWarning: Precision is ill-defined and being set to 0.0 due to no predicted samples. Use `zero_division` parameter to control this behavior.\n",
            "  _warn_prf(average, modifier, msg_start, len(result))\n",
            "/usr/local/lib/python3.7/dist-packages/sklearn/metrics/_classification.py:1318: UndefinedMetricWarning: Precision is ill-defined and being set to 0.0 due to no predicted samples. Use `zero_division` parameter to control this behavior.\n",
            "  _warn_prf(average, modifier, msg_start, len(result))\n",
            "/usr/local/lib/python3.7/dist-packages/sklearn/metrics/_classification.py:1318: UndefinedMetricWarning: Precision is ill-defined and being set to 0.0 due to no predicted samples. Use `zero_division` parameter to control this behavior.\n",
            "  _warn_prf(average, modifier, msg_start, len(result))\n",
            "/usr/local/lib/python3.7/dist-packages/sklearn/metrics/_classification.py:1318: UndefinedMetricWarning: Precision is ill-defined and being set to 0.0 due to no predicted samples. Use `zero_division` parameter to control this behavior.\n",
            "  _warn_prf(average, modifier, msg_start, len(result))\n",
            "/usr/local/lib/python3.7/dist-packages/sklearn/metrics/_classification.py:1318: UndefinedMetricWarning: Precision is ill-defined and being set to 0.0 due to no predicted samples. Use `zero_division` parameter to control this behavior.\n",
            "  _warn_prf(average, modifier, msg_start, len(result))\n",
            "/usr/local/lib/python3.7/dist-packages/sklearn/metrics/_classification.py:1318: UndefinedMetricWarning: Precision is ill-defined and being set to 0.0 due to no predicted samples. Use `zero_division` parameter to control this behavior.\n",
            "  _warn_prf(average, modifier, msg_start, len(result))\n",
            "/usr/local/lib/python3.7/dist-packages/sklearn/metrics/_classification.py:1318: UndefinedMetricWarning: Precision is ill-defined and being set to 0.0 due to no predicted samples. Use `zero_division` parameter to control this behavior.\n",
            "  _warn_prf(average, modifier, msg_start, len(result))\n",
            "/usr/local/lib/python3.7/dist-packages/sklearn/metrics/_classification.py:1318: UndefinedMetricWarning: Precision is ill-defined and being set to 0.0 due to no predicted samples. Use `zero_division` parameter to control this behavior.\n",
            "  _warn_prf(average, modifier, msg_start, len(result))\n",
            "/usr/local/lib/python3.7/dist-packages/sklearn/metrics/_classification.py:1318: UndefinedMetricWarning: Precision is ill-defined and being set to 0.0 due to no predicted samples. Use `zero_division` parameter to control this behavior.\n",
            "  _warn_prf(average, modifier, msg_start, len(result))\n",
            "/usr/local/lib/python3.7/dist-packages/sklearn/metrics/_classification.py:1318: UndefinedMetricWarning: Precision is ill-defined and being set to 0.0 due to no predicted samples. Use `zero_division` parameter to control this behavior.\n",
            "  _warn_prf(average, modifier, msg_start, len(result))\n",
            "/usr/local/lib/python3.7/dist-packages/sklearn/metrics/_classification.py:1318: UndefinedMetricWarning: Precision is ill-defined and being set to 0.0 due to no predicted samples. Use `zero_division` parameter to control this behavior.\n",
            "  _warn_prf(average, modifier, msg_start, len(result))\n",
            "/usr/local/lib/python3.7/dist-packages/sklearn/metrics/_classification.py:1318: UndefinedMetricWarning: Precision is ill-defined and being set to 0.0 due to no predicted samples. Use `zero_division` parameter to control this behavior.\n",
            "  _warn_prf(average, modifier, msg_start, len(result))\n",
            "/usr/local/lib/python3.7/dist-packages/sklearn/metrics/_classification.py:1318: UndefinedMetricWarning: Precision is ill-defined and being set to 0.0 due to no predicted samples. Use `zero_division` parameter to control this behavior.\n",
            "  _warn_prf(average, modifier, msg_start, len(result))\n",
            "/usr/local/lib/python3.7/dist-packages/sklearn/metrics/_classification.py:1318: UndefinedMetricWarning: Precision is ill-defined and being set to 0.0 due to no predicted samples. Use `zero_division` parameter to control this behavior.\n",
            "  _warn_prf(average, modifier, msg_start, len(result))\n",
            "/usr/local/lib/python3.7/dist-packages/sklearn/metrics/_classification.py:1318: UndefinedMetricWarning: Precision is ill-defined and being set to 0.0 due to no predicted samples. Use `zero_division` parameter to control this behavior.\n",
            "  _warn_prf(average, modifier, msg_start, len(result))\n",
            "/usr/local/lib/python3.7/dist-packages/sklearn/metrics/_classification.py:1318: UndefinedMetricWarning: Precision is ill-defined and being set to 0.0 due to no predicted samples. Use `zero_division` parameter to control this behavior.\n",
            "  _warn_prf(average, modifier, msg_start, len(result))\n",
            "/usr/local/lib/python3.7/dist-packages/sklearn/metrics/_classification.py:1318: UndefinedMetricWarning: Precision is ill-defined and being set to 0.0 due to no predicted samples. Use `zero_division` parameter to control this behavior.\n",
            "  _warn_prf(average, modifier, msg_start, len(result))\n",
            "/usr/local/lib/python3.7/dist-packages/sklearn/metrics/_classification.py:1318: UndefinedMetricWarning: Precision is ill-defined and being set to 0.0 due to no predicted samples. Use `zero_division` parameter to control this behavior.\n",
            "  _warn_prf(average, modifier, msg_start, len(result))\n",
            "/usr/local/lib/python3.7/dist-packages/sklearn/metrics/_classification.py:1318: UndefinedMetricWarning: Precision is ill-defined and being set to 0.0 due to no predicted samples. Use `zero_division` parameter to control this behavior.\n",
            "  _warn_prf(average, modifier, msg_start, len(result))\n",
            "/usr/local/lib/python3.7/dist-packages/sklearn/metrics/_classification.py:1318: UndefinedMetricWarning: Precision is ill-defined and being set to 0.0 due to no predicted samples. Use `zero_division` parameter to control this behavior.\n",
            "  _warn_prf(average, modifier, msg_start, len(result))\n",
            "/usr/local/lib/python3.7/dist-packages/sklearn/metrics/_classification.py:1318: UndefinedMetricWarning: Precision is ill-defined and being set to 0.0 due to no predicted samples. Use `zero_division` parameter to control this behavior.\n",
            "  _warn_prf(average, modifier, msg_start, len(result))\n",
            "/usr/local/lib/python3.7/dist-packages/sklearn/metrics/_classification.py:1318: UndefinedMetricWarning: Precision is ill-defined and being set to 0.0 due to no predicted samples. Use `zero_division` parameter to control this behavior.\n",
            "  _warn_prf(average, modifier, msg_start, len(result))\n",
            "/usr/local/lib/python3.7/dist-packages/sklearn/metrics/_classification.py:1318: UndefinedMetricWarning: Precision is ill-defined and being set to 0.0 due to no predicted samples. Use `zero_division` parameter to control this behavior.\n",
            "  _warn_prf(average, modifier, msg_start, len(result))\n",
            "/usr/local/lib/python3.7/dist-packages/sklearn/metrics/_classification.py:1318: UndefinedMetricWarning: Precision is ill-defined and being set to 0.0 due to no predicted samples. Use `zero_division` parameter to control this behavior.\n",
            "  _warn_prf(average, modifier, msg_start, len(result))\n",
            "/usr/local/lib/python3.7/dist-packages/sklearn/metrics/_classification.py:1318: UndefinedMetricWarning: Precision is ill-defined and being set to 0.0 due to no predicted samples. Use `zero_division` parameter to control this behavior.\n",
            "  _warn_prf(average, modifier, msg_start, len(result))\n",
            "/usr/local/lib/python3.7/dist-packages/sklearn/metrics/_classification.py:1318: UndefinedMetricWarning: Precision is ill-defined and being set to 0.0 due to no predicted samples. Use `zero_division` parameter to control this behavior.\n",
            "  _warn_prf(average, modifier, msg_start, len(result))\n",
            "/usr/local/lib/python3.7/dist-packages/sklearn/metrics/_classification.py:1318: UndefinedMetricWarning: Precision is ill-defined and being set to 0.0 due to no predicted samples. Use `zero_division` parameter to control this behavior.\n",
            "  _warn_prf(average, modifier, msg_start, len(result))\n",
            "/usr/local/lib/python3.7/dist-packages/sklearn/metrics/_classification.py:1318: UndefinedMetricWarning: Precision is ill-defined and being set to 0.0 due to no predicted samples. Use `zero_division` parameter to control this behavior.\n",
            "  _warn_prf(average, modifier, msg_start, len(result))\n",
            "/usr/local/lib/python3.7/dist-packages/sklearn/metrics/_classification.py:1318: UndefinedMetricWarning: Precision is ill-defined and being set to 0.0 due to no predicted samples. Use `zero_division` parameter to control this behavior.\n",
            "  _warn_prf(average, modifier, msg_start, len(result))\n",
            "/usr/local/lib/python3.7/dist-packages/sklearn/metrics/_classification.py:1318: UndefinedMetricWarning: Precision is ill-defined and being set to 0.0 due to no predicted samples. Use `zero_division` parameter to control this behavior.\n",
            "  _warn_prf(average, modifier, msg_start, len(result))\n",
            "/usr/local/lib/python3.7/dist-packages/sklearn/metrics/_classification.py:1318: UndefinedMetricWarning: Precision is ill-defined and being set to 0.0 due to no predicted samples. Use `zero_division` parameter to control this behavior.\n",
            "  _warn_prf(average, modifier, msg_start, len(result))\n",
            "/usr/local/lib/python3.7/dist-packages/sklearn/metrics/_classification.py:1318: UndefinedMetricWarning: Precision is ill-defined and being set to 0.0 due to no predicted samples. Use `zero_division` parameter to control this behavior.\n",
            "  _warn_prf(average, modifier, msg_start, len(result))\n",
            "/usr/local/lib/python3.7/dist-packages/sklearn/metrics/_classification.py:1318: UndefinedMetricWarning: Precision is ill-defined and being set to 0.0 due to no predicted samples. Use `zero_division` parameter to control this behavior.\n",
            "  _warn_prf(average, modifier, msg_start, len(result))\n",
            "/usr/local/lib/python3.7/dist-packages/sklearn/metrics/_classification.py:1318: UndefinedMetricWarning: Precision is ill-defined and being set to 0.0 due to no predicted samples. Use `zero_division` parameter to control this behavior.\n",
            "  _warn_prf(average, modifier, msg_start, len(result))\n",
            "/usr/local/lib/python3.7/dist-packages/sklearn/metrics/_classification.py:1318: UndefinedMetricWarning: Precision is ill-defined and being set to 0.0 due to no predicted samples. Use `zero_division` parameter to control this behavior.\n",
            "  _warn_prf(average, modifier, msg_start, len(result))\n",
            "/usr/local/lib/python3.7/dist-packages/sklearn/metrics/_classification.py:1318: UndefinedMetricWarning: Precision is ill-defined and being set to 0.0 due to no predicted samples. Use `zero_division` parameter to control this behavior.\n",
            "  _warn_prf(average, modifier, msg_start, len(result))\n",
            "/usr/local/lib/python3.7/dist-packages/sklearn/metrics/_classification.py:1318: UndefinedMetricWarning: Precision is ill-defined and being set to 0.0 due to no predicted samples. Use `zero_division` parameter to control this behavior.\n",
            "  _warn_prf(average, modifier, msg_start, len(result))\n",
            "/usr/local/lib/python3.7/dist-packages/sklearn/metrics/_classification.py:1318: UndefinedMetricWarning: Precision is ill-defined and being set to 0.0 due to no predicted samples. Use `zero_division` parameter to control this behavior.\n",
            "  _warn_prf(average, modifier, msg_start, len(result))\n",
            "/usr/local/lib/python3.7/dist-packages/sklearn/metrics/_classification.py:1318: UndefinedMetricWarning: Precision is ill-defined and being set to 0.0 due to no predicted samples. Use `zero_division` parameter to control this behavior.\n",
            "  _warn_prf(average, modifier, msg_start, len(result))\n",
            "/usr/local/lib/python3.7/dist-packages/sklearn/metrics/_classification.py:1318: UndefinedMetricWarning: Precision is ill-defined and being set to 0.0 due to no predicted samples. Use `zero_division` parameter to control this behavior.\n",
            "  _warn_prf(average, modifier, msg_start, len(result))\n",
            "/usr/local/lib/python3.7/dist-packages/sklearn/metrics/_classification.py:1318: UndefinedMetricWarning: Precision is ill-defined and being set to 0.0 due to no predicted samples. Use `zero_division` parameter to control this behavior.\n",
            "  _warn_prf(average, modifier, msg_start, len(result))\n",
            "/usr/local/lib/python3.7/dist-packages/sklearn/metrics/_classification.py:1318: UndefinedMetricWarning: Precision is ill-defined and being set to 0.0 due to no predicted samples. Use `zero_division` parameter to control this behavior.\n",
            "  _warn_prf(average, modifier, msg_start, len(result))\n",
            "/usr/local/lib/python3.7/dist-packages/sklearn/metrics/_classification.py:1318: UndefinedMetricWarning: Precision is ill-defined and being set to 0.0 due to no predicted samples. Use `zero_division` parameter to control this behavior.\n",
            "  _warn_prf(average, modifier, msg_start, len(result))\n",
            "/usr/local/lib/python3.7/dist-packages/sklearn/metrics/_classification.py:1318: UndefinedMetricWarning: Precision is ill-defined and being set to 0.0 due to no predicted samples. Use `zero_division` parameter to control this behavior.\n",
            "  _warn_prf(average, modifier, msg_start, len(result))\n",
            "/usr/local/lib/python3.7/dist-packages/sklearn/metrics/_classification.py:1318: UndefinedMetricWarning: Precision is ill-defined and being set to 0.0 due to no predicted samples. Use `zero_division` parameter to control this behavior.\n",
            "  _warn_prf(average, modifier, msg_start, len(result))\n",
            "/usr/local/lib/python3.7/dist-packages/sklearn/metrics/_classification.py:1318: UndefinedMetricWarning: Precision is ill-defined and being set to 0.0 due to no predicted samples. Use `zero_division` parameter to control this behavior.\n",
            "  _warn_prf(average, modifier, msg_start, len(result))\n",
            "/usr/local/lib/python3.7/dist-packages/sklearn/metrics/_classification.py:1318: UndefinedMetricWarning: Precision is ill-defined and being set to 0.0 due to no predicted samples. Use `zero_division` parameter to control this behavior.\n",
            "  _warn_prf(average, modifier, msg_start, len(result))\n",
            "/usr/local/lib/python3.7/dist-packages/sklearn/metrics/_classification.py:1318: UndefinedMetricWarning: Precision is ill-defined and being set to 0.0 due to no predicted samples. Use `zero_division` parameter to control this behavior.\n",
            "  _warn_prf(average, modifier, msg_start, len(result))\n",
            "/usr/local/lib/python3.7/dist-packages/sklearn/metrics/_classification.py:1318: UndefinedMetricWarning: Precision is ill-defined and being set to 0.0 due to no predicted samples. Use `zero_division` parameter to control this behavior.\n",
            "  _warn_prf(average, modifier, msg_start, len(result))\n",
            "/usr/local/lib/python3.7/dist-packages/sklearn/metrics/_classification.py:1318: UndefinedMetricWarning: Precision is ill-defined and being set to 0.0 due to no predicted samples. Use `zero_division` parameter to control this behavior.\n",
            "  _warn_prf(average, modifier, msg_start, len(result))\n",
            "/usr/local/lib/python3.7/dist-packages/sklearn/metrics/_classification.py:1318: UndefinedMetricWarning: Precision is ill-defined and being set to 0.0 due to no predicted samples. Use `zero_division` parameter to control this behavior.\n",
            "  _warn_prf(average, modifier, msg_start, len(result))\n",
            "/usr/local/lib/python3.7/dist-packages/sklearn/metrics/_classification.py:1318: UndefinedMetricWarning: Precision is ill-defined and being set to 0.0 due to no predicted samples. Use `zero_division` parameter to control this behavior.\n",
            "  _warn_prf(average, modifier, msg_start, len(result))\n",
            "/usr/local/lib/python3.7/dist-packages/sklearn/metrics/_classification.py:1318: UndefinedMetricWarning: Precision is ill-defined and being set to 0.0 due to no predicted samples. Use `zero_division` parameter to control this behavior.\n",
            "  _warn_prf(average, modifier, msg_start, len(result))\n",
            "/usr/local/lib/python3.7/dist-packages/sklearn/metrics/_classification.py:1318: UndefinedMetricWarning: Precision is ill-defined and being set to 0.0 due to no predicted samples. Use `zero_division` parameter to control this behavior.\n",
            "  _warn_prf(average, modifier, msg_start, len(result))\n",
            "/usr/local/lib/python3.7/dist-packages/sklearn/metrics/_classification.py:1318: UndefinedMetricWarning: Precision is ill-defined and being set to 0.0 due to no predicted samples. Use `zero_division` parameter to control this behavior.\n",
            "  _warn_prf(average, modifier, msg_start, len(result))\n",
            "/usr/local/lib/python3.7/dist-packages/sklearn/metrics/_classification.py:1318: UndefinedMetricWarning: Precision is ill-defined and being set to 0.0 due to no predicted samples. Use `zero_division` parameter to control this behavior.\n",
            "  _warn_prf(average, modifier, msg_start, len(result))\n",
            "/usr/local/lib/python3.7/dist-packages/sklearn/metrics/_classification.py:1318: UndefinedMetricWarning: Precision is ill-defined and being set to 0.0 due to no predicted samples. Use `zero_division` parameter to control this behavior.\n",
            "  _warn_prf(average, modifier, msg_start, len(result))\n",
            "/usr/local/lib/python3.7/dist-packages/sklearn/metrics/_classification.py:1318: UndefinedMetricWarning: Precision is ill-defined and being set to 0.0 due to no predicted samples. Use `zero_division` parameter to control this behavior.\n",
            "  _warn_prf(average, modifier, msg_start, len(result))\n",
            "/usr/local/lib/python3.7/dist-packages/sklearn/metrics/_classification.py:1318: UndefinedMetricWarning: Precision is ill-defined and being set to 0.0 due to no predicted samples. Use `zero_division` parameter to control this behavior.\n",
            "  _warn_prf(average, modifier, msg_start, len(result))\n",
            "/usr/local/lib/python3.7/dist-packages/sklearn/metrics/_classification.py:1318: UndefinedMetricWarning: Precision is ill-defined and being set to 0.0 due to no predicted samples. Use `zero_division` parameter to control this behavior.\n",
            "  _warn_prf(average, modifier, msg_start, len(result))\n",
            "/usr/local/lib/python3.7/dist-packages/sklearn/metrics/_classification.py:1318: UndefinedMetricWarning: Precision is ill-defined and being set to 0.0 due to no predicted samples. Use `zero_division` parameter to control this behavior.\n",
            "  _warn_prf(average, modifier, msg_start, len(result))\n",
            "/usr/local/lib/python3.7/dist-packages/sklearn/metrics/_classification.py:1318: UndefinedMetricWarning: Precision is ill-defined and being set to 0.0 due to no predicted samples. Use `zero_division` parameter to control this behavior.\n",
            "  _warn_prf(average, modifier, msg_start, len(result))\n",
            "/usr/local/lib/python3.7/dist-packages/sklearn/metrics/_classification.py:1318: UndefinedMetricWarning: Precision is ill-defined and being set to 0.0 due to no predicted samples. Use `zero_division` parameter to control this behavior.\n",
            "  _warn_prf(average, modifier, msg_start, len(result))\n",
            "/usr/local/lib/python3.7/dist-packages/sklearn/metrics/_classification.py:1318: UndefinedMetricWarning: Precision is ill-defined and being set to 0.0 due to no predicted samples. Use `zero_division` parameter to control this behavior.\n",
            "  _warn_prf(average, modifier, msg_start, len(result))\n",
            "/usr/local/lib/python3.7/dist-packages/sklearn/metrics/_classification.py:1318: UndefinedMetricWarning: Precision is ill-defined and being set to 0.0 due to no predicted samples. Use `zero_division` parameter to control this behavior.\n",
            "  _warn_prf(average, modifier, msg_start, len(result))\n",
            "/usr/local/lib/python3.7/dist-packages/sklearn/metrics/_classification.py:1318: UndefinedMetricWarning: Precision is ill-defined and being set to 0.0 due to no predicted samples. Use `zero_division` parameter to control this behavior.\n",
            "  _warn_prf(average, modifier, msg_start, len(result))\n",
            "/usr/local/lib/python3.7/dist-packages/sklearn/metrics/_classification.py:1318: UndefinedMetricWarning: Precision is ill-defined and being set to 0.0 due to no predicted samples. Use `zero_division` parameter to control this behavior.\n",
            "  _warn_prf(average, modifier, msg_start, len(result))\n",
            "/usr/local/lib/python3.7/dist-packages/sklearn/metrics/_classification.py:1318: UndefinedMetricWarning: Precision is ill-defined and being set to 0.0 due to no predicted samples. Use `zero_division` parameter to control this behavior.\n",
            "  _warn_prf(average, modifier, msg_start, len(result))\n",
            "/usr/local/lib/python3.7/dist-packages/sklearn/metrics/_classification.py:1318: UndefinedMetricWarning: Precision is ill-defined and being set to 0.0 due to no predicted samples. Use `zero_division` parameter to control this behavior.\n",
            "  _warn_prf(average, modifier, msg_start, len(result))\n",
            "/usr/local/lib/python3.7/dist-packages/sklearn/metrics/_classification.py:1318: UndefinedMetricWarning: Precision is ill-defined and being set to 0.0 due to no predicted samples. Use `zero_division` parameter to control this behavior.\n",
            "  _warn_prf(average, modifier, msg_start, len(result))\n",
            "/usr/local/lib/python3.7/dist-packages/sklearn/metrics/_classification.py:1318: UndefinedMetricWarning: Precision is ill-defined and being set to 0.0 due to no predicted samples. Use `zero_division` parameter to control this behavior.\n",
            "  _warn_prf(average, modifier, msg_start, len(result))\n",
            "/usr/local/lib/python3.7/dist-packages/sklearn/metrics/_classification.py:1318: UndefinedMetricWarning: Precision is ill-defined and being set to 0.0 due to no predicted samples. Use `zero_division` parameter to control this behavior.\n",
            "  _warn_prf(average, modifier, msg_start, len(result))\n",
            "/usr/local/lib/python3.7/dist-packages/sklearn/metrics/_classification.py:1318: UndefinedMetricWarning: Precision is ill-defined and being set to 0.0 due to no predicted samples. Use `zero_division` parameter to control this behavior.\n",
            "  _warn_prf(average, modifier, msg_start, len(result))\n",
            "/usr/local/lib/python3.7/dist-packages/sklearn/metrics/_classification.py:1318: UndefinedMetricWarning: Precision is ill-defined and being set to 0.0 due to no predicted samples. Use `zero_division` parameter to control this behavior.\n",
            "  _warn_prf(average, modifier, msg_start, len(result))\n",
            "/usr/local/lib/python3.7/dist-packages/sklearn/metrics/_classification.py:1318: UndefinedMetricWarning: Precision is ill-defined and being set to 0.0 due to no predicted samples. Use `zero_division` parameter to control this behavior.\n",
            "  _warn_prf(average, modifier, msg_start, len(result))\n",
            "/usr/local/lib/python3.7/dist-packages/sklearn/metrics/_classification.py:1318: UndefinedMetricWarning: Precision is ill-defined and being set to 0.0 due to no predicted samples. Use `zero_division` parameter to control this behavior.\n",
            "  _warn_prf(average, modifier, msg_start, len(result))\n",
            "/usr/local/lib/python3.7/dist-packages/sklearn/metrics/_classification.py:1318: UndefinedMetricWarning: Precision is ill-defined and being set to 0.0 due to no predicted samples. Use `zero_division` parameter to control this behavior.\n",
            "  _warn_prf(average, modifier, msg_start, len(result))\n",
            "/usr/local/lib/python3.7/dist-packages/sklearn/metrics/_classification.py:1318: UndefinedMetricWarning: Precision is ill-defined and being set to 0.0 due to no predicted samples. Use `zero_division` parameter to control this behavior.\n",
            "  _warn_prf(average, modifier, msg_start, len(result))\n",
            "/usr/local/lib/python3.7/dist-packages/sklearn/metrics/_classification.py:1318: UndefinedMetricWarning: Precision is ill-defined and being set to 0.0 due to no predicted samples. Use `zero_division` parameter to control this behavior.\n",
            "  _warn_prf(average, modifier, msg_start, len(result))\n",
            "/usr/local/lib/python3.7/dist-packages/sklearn/metrics/_classification.py:1318: UndefinedMetricWarning: Precision is ill-defined and being set to 0.0 due to no predicted samples. Use `zero_division` parameter to control this behavior.\n",
            "  _warn_prf(average, modifier, msg_start, len(result))\n",
            "/usr/local/lib/python3.7/dist-packages/sklearn/metrics/_classification.py:1318: UndefinedMetricWarning: Precision is ill-defined and being set to 0.0 due to no predicted samples. Use `zero_division` parameter to control this behavior.\n",
            "  _warn_prf(average, modifier, msg_start, len(result))\n",
            "/usr/local/lib/python3.7/dist-packages/sklearn/metrics/_classification.py:1318: UndefinedMetricWarning: Precision is ill-defined and being set to 0.0 due to no predicted samples. Use `zero_division` parameter to control this behavior.\n",
            "  _warn_prf(average, modifier, msg_start, len(result))\n",
            "/usr/local/lib/python3.7/dist-packages/sklearn/metrics/_classification.py:1318: UndefinedMetricWarning: Precision is ill-defined and being set to 0.0 due to no predicted samples. Use `zero_division` parameter to control this behavior.\n",
            "  _warn_prf(average, modifier, msg_start, len(result))\n",
            "/usr/local/lib/python3.7/dist-packages/sklearn/metrics/_classification.py:1318: UndefinedMetricWarning: Precision is ill-defined and being set to 0.0 due to no predicted samples. Use `zero_division` parameter to control this behavior.\n",
            "  _warn_prf(average, modifier, msg_start, len(result))\n",
            "/usr/local/lib/python3.7/dist-packages/sklearn/metrics/_classification.py:1318: UndefinedMetricWarning: Precision is ill-defined and being set to 0.0 due to no predicted samples. Use `zero_division` parameter to control this behavior.\n",
            "  _warn_prf(average, modifier, msg_start, len(result))\n",
            "/usr/local/lib/python3.7/dist-packages/sklearn/metrics/_classification.py:1318: UndefinedMetricWarning: Precision is ill-defined and being set to 0.0 due to no predicted samples. Use `zero_division` parameter to control this behavior.\n",
            "  _warn_prf(average, modifier, msg_start, len(result))\n"
          ]
        },
        {
          "data": {
            "text/plain": [
              "array([False, False, False,  True, False, False, False, False, False,\n",
              "       False])"
            ]
          },
          "execution_count": 291,
          "metadata": {},
          "output_type": "execute_result"
        }
      ],
      "source": [
        "prec = prec.fit(x_instance, y_iht)\n",
        "prec.support_"
      ]
    },
    {
      "cell_type": "markdown",
      "metadata": {
        "id": "faBobidMVHGk"
      },
      "source": [
        "**Genetic Algorithm using Decision Tree**"
      ]
    },
    {
      "cell_type": "code",
      "execution_count": null,
      "metadata": {
        "colab": {
          "background_save": true
        },
        "id": "gQPu0y_txaCw"
      },
      "outputs": [],
      "source": [
        "from sklearn import tree\n",
        "clf = tree.DecisionTreeClassifier()"
      ]
    },
    {
      "cell_type": "code",
      "execution_count": null,
      "metadata": {
        "colab": {
          "background_save": true
        },
        "id": "VHaQBoYAVRVC"
      },
      "outputs": [],
      "source": [
        "acc = GeneticSelectionCV(clf, cv = 10,  max_features = 7, n_population = 200, crossover_proba = 0.5, mutation_proba = 0.2,\n",
        "                                n_generations = 10, crossover_independent_proba=0.5, mutation_independent_proba=0.05, n_gen_no_change=10, caching=True, n_jobs=-1,\n",
        "                         scoring = 'accuracy')"
      ]
    },
    {
      "cell_type": "code",
      "execution_count": null,
      "metadata": {
        "colab": {
          "background_save": true
        },
        "id": "s30q5zXlVUin",
        "outputId": "aa97991d-2b1b-4db6-fed9-3d0e4a92bc20"
      },
      "outputs": [
        {
          "data": {
            "text/plain": [
              "array([False,  True, False,  True,  True, False, False, False, False,\n",
              "        True])"
            ]
          },
          "execution_count": 294,
          "metadata": {},
          "output_type": "execute_result"
        }
      ],
      "source": [
        "acc = acc.fit(x_instance, y_iht)\n",
        "acc.support_"
      ]
    },
    {
      "cell_type": "code",
      "execution_count": null,
      "metadata": {
        "colab": {
          "background_save": true
        },
        "id": "tDF7pwUFVWP5",
        "outputId": "471d3cea-ebc9-4ec6-8452-638315e3dfbc"
      },
      "outputs": [
        {
          "name": "stdout",
          "output_type": "stream",
          "text": [
            "Accuracy using Feature Selection Genetic Algorithm and Decision Tree :  97.8607\n"
          ]
        }
      ],
      "source": [
        "print(\"Accuracy using Feature Selection Genetic Algorithm and Decision Tree : \", round(100*acc.score(x_instance, y_iht),4))"
      ]
    },
    {
      "cell_type": "markdown",
      "metadata": {
        "id": "4t17ZTOtVgHK"
      },
      "source": [
        "**Genetic Algorithm using SVM**"
      ]
    },
    {
      "cell_type": "code",
      "execution_count": null,
      "metadata": {
        "colab": {
          "background_save": true
        },
        "id": "k6wqANY-Vews"
      },
      "outputs": [],
      "source": [
        "from sklearn import svm\n",
        "cl = svm.SVC()"
      ]
    },
    {
      "cell_type": "code",
      "execution_count": null,
      "metadata": {
        "colab": {
          "background_save": true
        },
        "id": "e9mKS1ayVmSw"
      },
      "outputs": [],
      "source": [
        "acc = GeneticSelectionCV(cl, cv = 10,  max_features = 7, n_population = 200, crossover_proba = 0.5, mutation_proba = 0.2,\n",
        "                                n_generations = 10, crossover_independent_proba=0.5, mutation_independent_proba=0.05, n_gen_no_change=10, caching=True, n_jobs=-1,\n",
        "                         scoring = 'accuracy')"
      ]
    },
    {
      "cell_type": "code",
      "execution_count": null,
      "metadata": {
        "colab": {
          "background_save": true
        },
        "id": "YdocuNLaVwJ7",
        "outputId": "f88e29e1-1868-4d6d-b6fc-387746caec07"
      },
      "outputs": [
        {
          "data": {
            "text/plain": [
              "array([False,  True,  True,  True, False, False, False,  True, False,\n",
              "        True])"
            ]
          },
          "execution_count": 298,
          "metadata": {},
          "output_type": "execute_result"
        }
      ],
      "source": [
        "acc = acc.fit(x_instance, y_iht)\n",
        "acc.support_"
      ]
    },
    {
      "cell_type": "code",
      "execution_count": null,
      "metadata": {
        "colab": {
          "background_save": true
        },
        "id": "D8THXJ_kVpHO",
        "outputId": "515886a8-b294-4d43-af17-091956bdb2f4"
      },
      "outputs": [
        {
          "name": "stdout",
          "output_type": "stream",
          "text": [
            "Accuracy using Feature Selection Genetic Algorithm and SVM :  97.1896\n"
          ]
        }
      ],
      "source": [
        "print(\"Accuracy using Feature Selection Genetic Algorithm and SVM : \", round(100*acc.score(x_instance, y_iht),4))"
      ]
    },
    {
      "cell_type": "markdown",
      "metadata": {
        "id": "KfK_CYhZWndk"
      },
      "source": [
        "**Genetic Algorithm using Naive Bayes**"
      ]
    },
    {
      "cell_type": "code",
      "execution_count": null,
      "metadata": {
        "colab": {
          "background_save": true
        },
        "id": "sIBnOB91Wr9s"
      },
      "outputs": [],
      "source": [
        "from sklearn.naive_bayes import GaussianNB\n",
        "gnb = GaussianNB()"
      ]
    },
    {
      "cell_type": "code",
      "execution_count": null,
      "metadata": {
        "colab": {
          "background_save": true
        },
        "id": "_QMylFfxWrT3"
      },
      "outputs": [],
      "source": [
        "acc = GeneticSelectionCV(gnb, cv = 10,  max_features = 7, n_population = 200, crossover_proba = 0.5, mutation_proba = 0.2,\n",
        "                                n_generations = 10, crossover_independent_proba=0.5, mutation_independent_proba=0.05, n_gen_no_change=10, caching=True, n_jobs=-1,\n",
        "                         scoring = 'accuracy')"
      ]
    },
    {
      "cell_type": "code",
      "execution_count": null,
      "metadata": {
        "colab": {
          "background_save": true
        },
        "id": "SlZU62-eWrOZ",
        "outputId": "506f4449-806c-48d1-f004-623c1bb03fb5"
      },
      "outputs": [
        {
          "data": {
            "text/plain": [
              "array([False,  True, False,  True,  True,  True, False,  True, False,\n",
              "       False])"
            ]
          },
          "execution_count": 302,
          "metadata": {},
          "output_type": "execute_result"
        }
      ],
      "source": [
        "acc = acc.fit(x_instance, y_iht)\n",
        "acc.support_"
      ]
    },
    {
      "cell_type": "code",
      "execution_count": null,
      "metadata": {
        "colab": {
          "background_save": true
        },
        "id": "8ZeQ6zV7WtWp",
        "outputId": "173ea992-fbdc-42f2-f41c-eefc602bbefa"
      },
      "outputs": [
        {
          "name": "stdout",
          "output_type": "stream",
          "text": [
            "Accuracy using Feature Selection Genetic Algorithm and Naive Bayes :  95.6376\n"
          ]
        }
      ],
      "source": [
        "print(\"Accuracy using Feature Selection Genetic Algorithm and Naive Bayes : \", round(100*acc.score(x_instance, y_iht),4))"
      ]
    },
    {
      "cell_type": "markdown",
      "metadata": {
        "id": "wjIyu_zgWv_Y"
      },
      "source": [
        "**Genetic Algorithm using Random Forest**"
      ]
    },
    {
      "cell_type": "code",
      "execution_count": null,
      "metadata": {
        "colab": {
          "background_save": true
        },
        "id": "UNkAW3ToW2yz"
      },
      "outputs": [],
      "source": [
        "from sklearn.ensemble import RandomForestClassifier\n",
        "rf = RandomForestClassifier(random_state=0)"
      ]
    },
    {
      "cell_type": "code",
      "execution_count": null,
      "metadata": {
        "colab": {
          "background_save": true
        },
        "id": "IMpF4tm8W2wu"
      },
      "outputs": [],
      "source": [
        "acc = GeneticSelectionCV(rf, cv = 10,  max_features = 7, n_population = 200, crossover_proba = 0.5,\n",
        "                         mutation_proba = 0.2, n_generations = 10, crossover_independent_proba=0.5,\n",
        "                         mutation_independent_proba=0.05, n_gen_no_change=10, caching=True, n_jobs=-1,\n",
        "                         scoring = 'accuracy')"
      ]
    },
    {
      "cell_type": "code",
      "execution_count": null,
      "metadata": {
        "id": "LZ0H8WAeW2rZ"
      },
      "outputs": [],
      "source": [
        "acc = acc.fit(x_instance, y_iht)\n",
        "acc.support_"
      ]
    },
    {
      "cell_type": "code",
      "execution_count": null,
      "metadata": {
        "id": "ThXaVYMIdhWl"
      },
      "outputs": [],
      "source": [
        "print(\"Accuracy using Feature Selection Genetic Algorithm and Random Forest : \",\n",
        "      round(100*acc.score(x_instance, y_iht),4))"
      ]
    },
    {
      "cell_type": "markdown",
      "metadata": {
        "id": "joJkkEDKW3g1"
      },
      "source": [
        "**Genetic Algorithm using KNN**"
      ]
    },
    {
      "cell_type": "code",
      "execution_count": null,
      "metadata": {
        "id": "2zQH_9TtW6L3"
      },
      "outputs": [],
      "source": [
        "from sklearn.neighbors import KNeighborsClassifier\n",
        "knn = KNeighborsClassifier()"
      ]
    },
    {
      "cell_type": "code",
      "execution_count": null,
      "metadata": {
        "id": "ZZN2j4dqW6DI"
      },
      "outputs": [],
      "source": [
        "acc = GeneticSelectionCV(knn, cv = 10,  max_features = 7, n_population = 200, crossover_proba = 0.5, mutation_proba = 0.2,\n",
        "                                n_generations = 10, crossover_independent_proba=0.5, mutation_independent_proba=0.05, n_gen_no_change=10, caching=True, n_jobs=-1,\n",
        "                         scoring = 'accuracy')"
      ]
    },
    {
      "cell_type": "code",
      "execution_count": null,
      "metadata": {
        "id": "E_Ioq0lxW57c"
      },
      "outputs": [],
      "source": [
        "acc = acc.fit(x_instance, y_iht)\n",
        "acc.support_"
      ]
    },
    {
      "cell_type": "code",
      "execution_count": null,
      "metadata": {
        "id": "aZBcJMnWVsWl"
      },
      "outputs": [],
      "source": [
        "print(\"Accuracy using Feature Selection Genetic Algorithm and KNN : \", round(100*acc.score(x_instance, y_iht),4))"
      ]
    },
    {
      "cell_type": "markdown",
      "metadata": {
        "id": "8x-20xYAJu3C"
      },
      "source": [
        "# **Testing the Optimal 6 features obtained with other Classifiers**"
      ]
    },
    {
      "cell_type": "code",
      "execution_count": null,
      "metadata": {
        "id": "SbAfdMaFGozy"
      },
      "outputs": [],
      "source": [
        "x_instance"
      ]
    },
    {
      "cell_type": "code",
      "execution_count": null,
      "metadata": {
        "id": "fsc9tf6EJ2e-"
      },
      "outputs": [],
      "source": [
        "x_iht1 = np.delete(x_instance,[0,5,6,9],axis = 1)\n",
        "x_iht1"
      ]
    },
    {
      "cell_type": "markdown",
      "metadata": {
        "id": "pJw7ISHa1_Xq"
      },
      "source": [
        "**Logistic Regression**"
      ]
    },
    {
      "cell_type": "code",
      "execution_count": null,
      "metadata": {
        "id": "17l4_PGI1_CH"
      },
      "outputs": [],
      "source": [
        "from sklearn.linear_model import LogisticRegression\n",
        "log = LogisticRegression(random_state = 0)"
      ]
    },
    {
      "cell_type": "code",
      "execution_count": null,
      "metadata": {
        "id": "diajajmh1-_A"
      },
      "outputs": [],
      "source": [
        "ans = measure(log, x_iht1, y_iht)\n",
        "print(\"Acuracy using Optimal Features and Logistic Regression is : \",round(ans[0]*100,4))\n",
        "print(\"Precision using Optimal Features and Logistic Regression is : \",round(ans[1]*100,4))\n",
        "\n",
        "print(\"Recall using Optimal Features and Logistic Regression is : \",round(ans[2]*100,4))\n",
        "print(\"F1 Score using Optimal Features and Logistic Regression is : \",round(ans[3]*100,4))"
      ]
    },
    {
      "cell_type": "markdown",
      "metadata": {
        "id": "vJVE5S0D2ut-"
      },
      "source": [
        "**Decision Tree**"
      ]
    },
    {
      "cell_type": "code",
      "execution_count": null,
      "metadata": {
        "id": "5k1amTKC1-qU"
      },
      "outputs": [],
      "source": [
        "from sklearn import tree\n",
        "clf = tree.DecisionTreeClassifier()"
      ]
    },
    {
      "cell_type": "code",
      "execution_count": null,
      "metadata": {
        "id": "l9mEbQz21-mp"
      },
      "outputs": [],
      "source": [
        "ans = measure(clf, x_iht1, y_iht)\n",
        "\n",
        "print(\"Acuracy using Optimal Features and Decision Tree is : \",round(ans[0]*100,4))\n",
        "print(\"Precision using Optimal Features and Decision Tree is : \",round(ans[1]*100,4))\n",
        "\n",
        "print(\"Recall using Optimal Features and Decision Tree is : \",round(ans[2]*100,4))\n",
        "print(\"F1 Score using Optimal Featuresand Decision Tree is : \",round(ans[3]*100,4))"
      ]
    },
    {
      "cell_type": "markdown",
      "metadata": {
        "id": "0Kza3fnK2-a_"
      },
      "source": [
        "**SVM**"
      ]
    },
    {
      "cell_type": "code",
      "execution_count": null,
      "metadata": {
        "id": "cEAFMHOB1-RN"
      },
      "outputs": [],
      "source": [
        "from sklearn import svm\n",
        "cl = svm.SVC()"
      ]
    },
    {
      "cell_type": "code",
      "execution_count": null,
      "metadata": {
        "id": "hZ1sK7P41-OI"
      },
      "outputs": [],
      "source": [
        "ans = measure(cl, x_iht1, y_iht)\n",
        "\n",
        "print(\"Acuracy using Optimal Features and SVM is : \",round(ans[0]*100,4))\n",
        "print(\"Precision using Optimal Features and SVM is : \",round(ans[1]*100,4))\n",
        "\n",
        "print(\"Recall using Optimal Features and SVM is : \",round(ans[2]*100,4))\n",
        "print(\"F1 Score using Optimal Features and SVM is : \",round(ans[3]*100,4))"
      ]
    },
    {
      "cell_type": "markdown",
      "metadata": {
        "id": "TkjXY72Y3Dof"
      },
      "source": [
        "**Naive Bayes**"
      ]
    },
    {
      "cell_type": "code",
      "execution_count": null,
      "metadata": {
        "id": "KYPXPibx19wF"
      },
      "outputs": [],
      "source": [
        "from sklearn.naive_bayes import GaussianNB\n",
        "gnb = GaussianNB()"
      ]
    },
    {
      "cell_type": "code",
      "execution_count": null,
      "metadata": {
        "id": "d8ibrCD119rQ"
      },
      "outputs": [],
      "source": [
        "ans = measure(gnb, x_iht1, y_iht)\n",
        "\n",
        "print(\"Acuracy using Optimal Features and Naive Bayes is : \",round(ans[0]*100,4))\n",
        "print(\"Precision using Optimal Features and Naive Bayes is : \",round(ans[1]*100,4))\n",
        "\n",
        "print(\"Recall using Optimal Features and Naive Bayes is : \",round(ans[2]*100,4))\n",
        "print(\"F1 Score using Optimal Features and Naive Bayes is : \",round(ans[3]*100,4))"
      ]
    },
    {
      "cell_type": "markdown",
      "metadata": {
        "id": "jYgygoUm16ZZ"
      },
      "source": [
        "**Using Random Forest**"
      ]
    },
    {
      "cell_type": "code",
      "execution_count": null,
      "metadata": {
        "id": "SUhsrUuaKRMu"
      },
      "outputs": [],
      "source": [
        "from sklearn.ensemble import RandomForestClassifier\n",
        "rf = RandomForestClassifier(random_state=0)"
      ]
    },
    {
      "cell_type": "code",
      "execution_count": null,
      "metadata": {
        "id": "pS_NpJ-2KAU3"
      },
      "outputs": [],
      "source": [
        "ans = measure(rf, x_iht1, y_iht)\n",
        "\n",
        "print(\"Acuracy using Optimal Features and Random Forest is : \",round(ans[0]*100,4))\n",
        "print(\"Precision using Optimal Features and Random Forest is : \",round(ans[1]*100,4))\n",
        "\n",
        "print(\"Recall using Optimal Features and Random Forest is : \",round(ans[2]*100,4))\n",
        "print(\"F1 Score using Optimal Features and Random Forest is : \",round(ans[3]*100,4))"
      ]
    },
    {
      "cell_type": "markdown",
      "metadata": {
        "id": "aB0Btqil3H-D"
      },
      "source": [
        "**KNN**"
      ]
    },
    {
      "cell_type": "code",
      "execution_count": null,
      "metadata": {
        "id": "cnS7NYrMK-JP"
      },
      "outputs": [],
      "source": [
        "from sklearn.neighbors import KNeighborsClassifier\n",
        "knn = KNeighborsClassifier()"
      ]
    },
    {
      "cell_type": "code",
      "execution_count": null,
      "metadata": {
        "id": "QDS5Vyhj25d8"
      },
      "outputs": [],
      "source": [
        "ans = measure(knn, x_iht1, y_iht)\n",
        "\n",
        "print(\"Acuracy using Optimal Features and KNN is : \",round(ans[0]*100,4))\n",
        "print(\"Precision using Optimal Features and KNN is : \",round(ans[1]*100,4))\n",
        "\n",
        "print(\"Recall using Optimal Features and KNN is : \",round(ans[2]*100,4))\n",
        "print(\"F1 Score using Optimal Features and KNN is : \",round(ans[3]*100,4))"
      ]
    },
    {
      "cell_type": "code",
      "execution_count": null,
      "metadata": {
        "id": "4YhRdl1KejFA"
      },
      "outputs": [],
      "source": [
        "from sklearn.ensemble import RandomForestClassifier\n",
        "rf = RandomForestClassifier(random_state=0)"
      ]
    },
    {
      "cell_type": "markdown",
      "metadata": {
        "id": "ldd8_BSufJic"
      },
      "source": [
        "**If Max Features = 8**"
      ]
    },
    {
      "cell_type": "code",
      "execution_count": null,
      "metadata": {
        "id": "N70FFSMHeoU5"
      },
      "outputs": [],
      "source": [
        "acc = GeneticSelectionCV(rf, cv = 10,  max_features = 8, n_population = 200, crossover_proba = 0.5, mutation_proba = 0.2,\n",
        "                                n_generations = 10, crossover_independent_proba=0.5, mutation_independent_proba=0.05, n_gen_no_change=10, caching=True, n_jobs=-1,\n",
        "                         scoring = 'accuracy')\n",
        "\n",
        "acc = acc.fit(x_instance, y_iht)\n",
        "acc.support_"
      ]
    },
    {
      "cell_type": "code",
      "execution_count": null,
      "metadata": {
        "id": "-K9vBWks25MV"
      },
      "outputs": [],
      "source": [
        "print(\"Accuracy using Feature Selection Genetic Algorithm and Logistic Regression : \", round(100*acc.score(x_instance, y_iht),4))"
      ]
    },
    {
      "cell_type": "markdown",
      "metadata": {
        "id": "bOVaRWOUfQAk"
      },
      "source": [
        "**If Max Features = 9**"
      ]
    },
    {
      "cell_type": "code",
      "execution_count": null,
      "metadata": {
        "id": "biLFO0WzekJn"
      },
      "outputs": [],
      "source": [
        "acc = GeneticSelectionCV(rf, cv = 10,  max_features = 9, n_population = 200, crossover_proba = 0.5, mutation_proba = 0.2,\n",
        "                                n_generations = 10, crossover_independent_proba=0.5, mutation_independent_proba=0.05, n_gen_no_change=10, caching=True, n_jobs=-1,\n",
        "                         scoring = 'accuracy')\n",
        "\n",
        "acc = acc.fit(x_instance, y_iht)\n",
        "acc.support_"
      ]
    },
    {
      "cell_type": "code",
      "execution_count": null,
      "metadata": {
        "id": "qeyA0Gb_e047"
      },
      "outputs": [],
      "source": [
        "print(\"Accuracy using Feature Selection Genetic Algorithm and Logistic Regression : \", round(100*acc.score(x_instance, y_iht),4))"
      ]
    },
    {
      "cell_type": "markdown",
      "metadata": {
        "id": "6AIVctXDfSFz"
      },
      "source": [
        "**If Max Features = 6**"
      ]
    },
    {
      "cell_type": "code",
      "execution_count": null,
      "metadata": {
        "id": "ga7RJZDke6Zu"
      },
      "outputs": [],
      "source": [
        "acc = GeneticSelectionCV(rf, cv = 10,  max_features = 6, n_population = 200, crossover_proba = 0.5, mutation_proba = 0.2,\n",
        "                                n_generations = 10, crossover_independent_proba=0.5, mutation_independent_proba=0.05, n_gen_no_change=10, caching=True, n_jobs=-1,\n",
        "                         scoring = 'accuracy')\n",
        "\n",
        "acc = acc.fit(x_instance, y_iht)\n",
        "acc.support_"
      ]
    },
    {
      "cell_type": "code",
      "execution_count": null,
      "metadata": {
        "id": "fb4GdbK8e9re"
      },
      "outputs": [],
      "source": [
        "print(\"Accuracy using Feature Selection Genetic Algorithm and Logistic Regression : \", round(100*acc.score(x_instance, y_iht),4))"
      ]
    },
    {
      "cell_type": "markdown",
      "metadata": {
        "id": "kJ9DW_MBfTrJ"
      },
      "source": [
        "**If Max Features = 5**"
      ]
    },
    {
      "cell_type": "code",
      "execution_count": null,
      "metadata": {
        "id": "rtlyf6jUe_fe"
      },
      "outputs": [],
      "source": [
        "acc = GeneticSelectionCV(rf, cv = 10,  max_features = 5, n_population = 200, crossover_proba = 0.5, mutation_proba = 0.2,\n",
        "                                n_generations = 10, crossover_independent_proba=0.5, mutation_independent_proba=0.05, n_gen_no_change=10, caching=True, n_jobs=-1,\n",
        "                         scoring = 'accuracy')\n",
        "\n",
        "acc = acc.fit(x_instance, y_iht)\n",
        "acc.support_"
      ]
    },
    {
      "cell_type": "code",
      "execution_count": null,
      "metadata": {
        "id": "ak4eOdKMfCCr"
      },
      "outputs": [],
      "source": [
        "print(\"Accuracy using Feature Selection Genetic Algorithm and Logistic Regression : \", round(100*acc.score(x_instance, y_iht),4))"
      ]
    },
    {
      "cell_type": "code",
      "execution_count": null,
      "metadata": {
        "id": "sQdHL_NufFb1"
      },
      "outputs": [],
      "source": [
        "acc = GeneticSelectionCV(rf, cv = 10,  max_features = 4, n_population = 200, crossover_proba = 0.5, mutation_proba = 0.2,\n",
        "                                n_generations = 10, crossover_independent_proba=0.5, mutation_independent_proba=0.05, n_gen_no_change=10, caching=True, n_jobs=-1,\n",
        "                         scoring = 'accuracy')\n",
        "\n",
        "acc = acc.fit(x_instance, y_iht)\n",
        "acc.support_"
      ]
    },
    {
      "cell_type": "code",
      "execution_count": null,
      "metadata": {
        "id": "3_IZqYZCHpEf"
      },
      "outputs": [],
      "source": [
        "print(\"Accuracy using Feature Selection Genetic Algorithm and Logistic Regression : \", round(100*acc.score(x_instance, y_iht),4))"
      ]
    },
    {
      "cell_type": "markdown",
      "metadata": {
        "id": "wlMwZ7O_IpKu"
      },
      "source": [
        "# **If Optimal Features except [0,5,6] are taken**"
      ]
    },
    {
      "cell_type": "code",
      "execution_count": null,
      "metadata": {
        "id": "JN4LyFb_Ho8I"
      },
      "outputs": [],
      "source": [
        "x_iht2 = np.delete(x_instance,[0,5,6],axis = 1)\n",
        "x_iht2"
      ]
    },
    {
      "cell_type": "markdown",
      "metadata": {
        "id": "H3iTwzIcJTZG"
      },
      "source": [
        "**Logistic Regression**"
      ]
    },
    {
      "cell_type": "code",
      "execution_count": null,
      "metadata": {
        "id": "Y7Ku8zC4I1yy"
      },
      "outputs": [],
      "source": [
        "from sklearn.linear_model import LogisticRegression\n",
        "log = LogisticRegression(random_state = 0)"
      ]
    },
    {
      "cell_type": "code",
      "execution_count": null,
      "metadata": {
        "id": "R_IgxPdJI1vS"
      },
      "outputs": [],
      "source": [
        "ans = measure(log, x_iht2, y_iht)\n",
        "print(\"Acuracy using Optimal Features and Logistic Regression is : \",round(ans[0]*100,4))\n",
        "print(\"Precision using Optimal Features and Logistic Regression is : \",round(ans[1]*100,4))\n",
        "\n",
        "print(\"Recall using Optimal Features and Logistic Regression is : \",round(ans[2]*100,4))\n",
        "print(\"F1 Score using Optimal Features and Logistic Regression is : \",round(ans[3]*100,4))"
      ]
    },
    {
      "cell_type": "markdown",
      "metadata": {
        "id": "o0dHfQWlJY5k"
      },
      "source": [
        "**Decision Tree**"
      ]
    },
    {
      "cell_type": "code",
      "execution_count": null,
      "metadata": {
        "id": "d71U1F6MI1sY"
      },
      "outputs": [],
      "source": [
        "from sklearn import tree\n",
        "clf = tree.DecisionTreeClassifier()"
      ]
    },
    {
      "cell_type": "code",
      "execution_count": null,
      "metadata": {
        "id": "YroUjcYHI1qG"
      },
      "outputs": [],
      "source": [
        "ans = measure(clf, x_iht2, y_iht)\n",
        "print(\"Acuracy using Optimal Features and Decision Tree is : \",round(ans[0]*100,4))\n",
        "print(\"Precision using Optimal Features and Decision Tree is : \",round(ans[1]*100,4))\n",
        "\n",
        "print(\"Recall using Optimal Features and Decision Tree is : \",round(ans[2]*100,4))\n",
        "print(\"F1 Score using Optimal Features and Decision Tree is : \",round(ans[3]*100,4))"
      ]
    },
    {
      "cell_type": "markdown",
      "metadata": {
        "id": "g4HcAooKJbTk"
      },
      "source": [
        "**SVM**"
      ]
    },
    {
      "cell_type": "code",
      "execution_count": null,
      "metadata": {
        "id": "HGu5uPYIJhG0"
      },
      "outputs": [],
      "source": [
        "from sklearn import svm\n",
        "cl = svm.SVC()"
      ]
    },
    {
      "cell_type": "code",
      "execution_count": null,
      "metadata": {
        "id": "sj7iKZfhJg1R"
      },
      "outputs": [],
      "source": [
        "ans = measure(cl, x_iht2, y_iht)\n",
        "print(\"Acuracy using Optimal Features and SVM is : \",round(ans[0]*100,4))\n",
        "print(\"Precision using Optimal Features and SVM is : \",round(ans[1]*100,4))\n",
        "\n",
        "print(\"Recall using Optimal Features and SVM is : \",round(ans[2]*100,4))\n",
        "print(\"F1 Score using Optimal Features and SVM is : \",round(ans[3]*100,4))"
      ]
    },
    {
      "cell_type": "markdown",
      "metadata": {
        "id": "ZxsDhbm7Jh2H"
      },
      "source": [
        "**Naive Bayes**"
      ]
    },
    {
      "cell_type": "code",
      "execution_count": null,
      "metadata": {
        "id": "OzaZa_MCJgy1"
      },
      "outputs": [],
      "source": [
        "from sklearn.naive_bayes import GaussianNB\n",
        "gnb = GaussianNB()"
      ]
    },
    {
      "cell_type": "code",
      "execution_count": null,
      "metadata": {
        "id": "nIzsPFuYJgwG"
      },
      "outputs": [],
      "source": [
        "ans = measure(gnb, x_iht2, y_iht)\n",
        "print(\"Acuracy using Optimal Features and Naive Bayes is : \",round(ans[0]*100,4))\n",
        "print(\"Precision using Optimal Features and Naive Bayes is : \",round(ans[1]*100,4))\n",
        "\n",
        "print(\"Recall using Optimal Features and Naive Bayes is : \",round(ans[2]*100,4))\n",
        "print(\"F1 Score using Optimal Features and Naive Bayes is : \",round(ans[3]*100,4))"
      ]
    },
    {
      "cell_type": "markdown",
      "metadata": {
        "id": "1zFwUGVJJkHK"
      },
      "source": [
        "**Random Forest**"
      ]
    },
    {
      "cell_type": "code",
      "execution_count": null,
      "metadata": {
        "id": "d8MkqUzBJcb4"
      },
      "outputs": [],
      "source": [
        "from sklearn.ensemble import RandomForestClassifier\n",
        "rf = RandomForestClassifier(random_state=0)"
      ]
    },
    {
      "cell_type": "code",
      "execution_count": null,
      "metadata": {
        "id": "X1RDW33lJbzN"
      },
      "outputs": [],
      "source": [
        "ans = measure(rf, x_iht2, y_iht)\n",
        "print(\"Acuracy using Optimal Features and Random Forest is : \",round(ans[0]*100,4))\n",
        "print(\"Precision using Optimal Features and Random Forest is : \",round(ans[1]*100,4))\n",
        "\n",
        "print(\"Recall using Optimal Features and Random Forest is : \",round(ans[2]*100,4))\n",
        "print(\"F1 Score using Optimal Features and Random Forest is : \",round(ans[3]*100,4))"
      ]
    },
    {
      "cell_type": "markdown",
      "metadata": {
        "id": "ADZYEifzJnUg"
      },
      "source": [
        "**KNN**"
      ]
    },
    {
      "cell_type": "code",
      "execution_count": null,
      "metadata": {
        "id": "Kf_ARlpvJm8a"
      },
      "outputs": [],
      "source": [
        "from sklearn.neighbors import KNeighborsClassifier\n",
        "knn = KNeighborsClassifier()"
      ]
    },
    {
      "cell_type": "code",
      "execution_count": null,
      "metadata": {
        "id": "lX9jgSAhJm5W"
      },
      "outputs": [],
      "source": [
        "ans = measure(knn, x_iht2, y_iht)\n",
        "print(\"Acuracy using Optimal Features and KNN is : \",round(ans[0]*100,4))\n",
        "print(\"Precision using Optimal Features and KNN is : \",round(ans[1]*100,4))\n",
        "\n",
        "print(\"Recall using Optimal Features and KNN is : \",round(ans[2]*100,4))\n",
        "print(\"F1 Score using Optimal Features and KNN is : \",round(ans[3]*100,4))"
      ]
    },
    {
      "cell_type": "markdown",
      "metadata": {
        "id": "IPp7Z4T9lKlJ"
      },
      "source": [
        "# **Particle Swarm Optimization - PSO**"
      ]
    },
    {
      "cell_type": "code",
      "execution_count": null,
      "metadata": {
        "id": "vt4URcSskcK5"
      },
      "outputs": [],
      "source": [
        "x_instance"
      ]
    },
    {
      "cell_type": "code",
      "execution_count": null,
      "metadata": {
        "id": "BRp69ZIjk7AU"
      },
      "outputs": [],
      "source": [
        "y_iht"
      ]
    },
    {
      "cell_type": "code",
      "execution_count": null,
      "metadata": {
        "id": "1-KaRPM7k8tE"
      },
      "outputs": [],
      "source": [
        "y = y_iht.values"
      ]
    },
    {
      "cell_type": "code",
      "execution_count": null,
      "metadata": {
        "id": "Fj4ylo6sk_4P"
      },
      "outputs": [],
      "source": [
        "X = x_instance"
      ]
    },
    {
      "cell_type": "code",
      "execution_count": null,
      "metadata": {
        "id": "8F2fS_AslV0d"
      },
      "outputs": [],
      "source": [
        "pip install pyswarms"
      ]
    },
    {
      "cell_type": "code",
      "execution_count": null,
      "metadata": {
        "id": "mgDctQDZlF6b"
      },
      "outputs": [],
      "source": [
        "import numpy as np\n",
        "import seaborn as sns\n",
        "import pandas as pd\n",
        "\n",
        "import pyswarms as ps\n",
        "\n",
        "%load_ext autoreload\n",
        "%autoreload 2\n",
        "%matplotlib inline"
      ]
    },
    {
      "cell_type": "code",
      "execution_count": null,
      "metadata": {
        "id": "MbKKgsf2w2Xb"
      },
      "outputs": [],
      "source": [
        "# Objective function\n",
        "def f_per_particle(m, alpha, classifier):\n",
        "    total_features = 10\n",
        "\n",
        "    if np.count_nonzero(m) == 0:\n",
        "        X_subset = X\n",
        "    else:\n",
        "        X_subset = X[:,m==1]\n",
        "    classifier.fit(X_subset, y)\n",
        "    #scores = measure(classifier, X_subset, y)\n",
        "    #P = scores[0]\n",
        "    P = (classifier.predict(X_subset) == y).mean()\n",
        "    j = (alpha * (1.0 - P)\n",
        "        + (1.0 - alpha) * (1 - (X_subset.shape[1] / total_features)))\n",
        "\n",
        "    return j"
      ]
    },
    {
      "cell_type": "markdown",
      "metadata": {
        "id": "pd7eNJe0xBYt"
      },
      "source": [
        "**Logistic Regression**"
      ]
    },
    {
      "cell_type": "code",
      "execution_count": null,
      "metadata": {
        "id": "38PPoTOiw2Sn"
      },
      "outputs": [],
      "source": [
        "from sklearn.linear_model import LogisticRegression\n",
        "log = LogisticRegression(random_state = 0)"
      ]
    },
    {
      "cell_type": "code",
      "execution_count": null,
      "metadata": {
        "id": "4V8CMv1xw2OH"
      },
      "outputs": [],
      "source": [
        "def f(X, alpha=0.88):\n",
        "    n_particles = X.shape[0]\n",
        "    j = [f_per_particle(X[i], alpha, log) for i in range(n_particles)]\n",
        "    return np.array(j)"
      ]
    },
    {
      "cell_type": "code",
      "execution_count": null,
      "metadata": {
        "id": "T1y5u7DgxJRU"
      },
      "outputs": [],
      "source": [
        "options = {'c1': 0.5, 'c2': 0.5, 'w':0.9, 'k': 30, 'p':2}\n",
        "dimensions = 10\n",
        "\n",
        "#optimizer.reset()\n",
        "optimizer = ps.discrete.BinaryPSO(n_particles=30, dimensions=dimensions, options=options)\n",
        "cost, pos = optimizer.optimize(f, iters=200, verbose=2)"
      ]
    },
    {
      "cell_type": "code",
      "execution_count": null,
      "metadata": {
        "id": "rPuewMNQzEnO"
      },
      "outputs": [],
      "source": [
        "pos"
      ]
    },
    {
      "cell_type": "code",
      "execution_count": null,
      "metadata": {
        "id": "bAtx_9X8xJOG"
      },
      "outputs": [],
      "source": [
        "X_selected_features = X[:,pos==1]"
      ]
    },
    {
      "cell_type": "code",
      "execution_count": null,
      "metadata": {
        "id": "h3h18cTKy01u"
      },
      "outputs": [],
      "source": [
        "X_selected_features"
      ]
    },
    {
      "cell_type": "code",
      "execution_count": null,
      "metadata": {
        "id": "NmuqokmqxWW6"
      },
      "outputs": [],
      "source": [
        "ans = measure(log, X_selected_features, y)\n",
        "print(\"Acuracy using Optimal Features and Logistic Regression is : \",round(ans[0]*100,4))\n",
        "print(\"Precision using Optimal Features and Logistic Regression is : \",round(ans[1]*100,4))\n",
        "\n",
        "print(\"Recall using Optimal Features and Logistic Regression is : \",round(ans[2]*100,4))\n",
        "print(\"F1 Score using Optimal Features and Logistic Regression is : \",round(ans[3]*100,4))"
      ]
    },
    {
      "cell_type": "markdown",
      "metadata": {
        "id": "SwXMQE-j7cVh"
      },
      "source": [
        "**Decision Tree**"
      ]
    },
    {
      "cell_type": "code",
      "execution_count": null,
      "metadata": {
        "id": "xenRsUT_1ujU"
      },
      "outputs": [],
      "source": [
        "from sklearn import tree\n",
        "clf = tree.DecisionTreeClassifier()"
      ]
    },
    {
      "cell_type": "code",
      "execution_count": null,
      "metadata": {
        "id": "a7xRdeLa7ijH"
      },
      "outputs": [],
      "source": [
        "def f(X, alpha=0.88):\n",
        "    n_particles = X.shape[0]\n",
        "    j = [f_per_particle(X[i], alpha, clf) for i in range(n_particles)]\n",
        "    return np.array(j)"
      ]
    },
    {
      "cell_type": "code",
      "execution_count": null,
      "metadata": {
        "id": "jBJD7vkn7lOo"
      },
      "outputs": [],
      "source": [
        "options = {'c1': 0.5, 'c2': 0.5, 'w':0.9, 'k': 30, 'p':2}\n",
        "dimensions = 10\n",
        "\n",
        "optimizer.reset()\n",
        "optimizer = ps.discrete.BinaryPSO(n_particles=30, dimensions=dimensions, options=options)\n",
        "cost, pos = optimizer.optimize(f, iters=200, verbose=2)"
      ]
    },
    {
      "cell_type": "code",
      "execution_count": null,
      "metadata": {
        "id": "bcbrYc9s8dUs"
      },
      "outputs": [],
      "source": [
        "pos"
      ]
    },
    {
      "cell_type": "code",
      "execution_count": null,
      "metadata": {
        "id": "DC1Z5X5e8eDZ"
      },
      "outputs": [],
      "source": [
        "X_selected_features = X[:, pos==1]"
      ]
    },
    {
      "cell_type": "code",
      "execution_count": null,
      "metadata": {
        "id": "WMPqQEe98hkR"
      },
      "outputs": [],
      "source": [
        "X_selected_features"
      ]
    },
    {
      "cell_type": "code",
      "execution_count": null,
      "metadata": {
        "id": "n_RNAzMZ7wNd"
      },
      "outputs": [],
      "source": [
        "ans = measure(clf, X_selected_features, y)\n",
        "print(\"Acuracy using Optimal Features and Decision Tree is : \",round(ans[0]*100,4))\n",
        "print(\"Precision using Optimal Features and Decision Tree is : \",round(ans[1]*100,4))\n",
        "\n",
        "print(\"Recall using Optimal Features and Decision Tree is : \",round(ans[2]*100,4))\n",
        "print(\"F1 Score using Optimal Features and Decision Tree is : \",round(ans[3]*100,4))"
      ]
    },
    {
      "cell_type": "markdown",
      "metadata": {
        "id": "BrPtqIXS-1gb"
      },
      "source": [
        "**SVM**"
      ]
    },
    {
      "cell_type": "code",
      "execution_count": null,
      "metadata": {
        "id": "d8PBccYC-3LZ"
      },
      "outputs": [],
      "source": [
        "from sklearn import svm\n",
        "cl = svm.SVC()"
      ]
    },
    {
      "cell_type": "code",
      "execution_count": null,
      "metadata": {
        "id": "Wa8sYnL9-3H7"
      },
      "outputs": [],
      "source": [
        "def f(X, alpha=0.88):\n",
        "    n_particles = X.shape[0]\n",
        "    j = [f_per_particle(X[i], alpha, cl) for i in range(n_particles)]\n",
        "    return np.array(j)"
      ]
    },
    {
      "cell_type": "code",
      "execution_count": null,
      "metadata": {
        "id": "67dtoPCe-3Ex"
      },
      "outputs": [],
      "source": [
        "options = {'c1': 0.5, 'c2': 0.5, 'w':0.9, 'k': 30, 'p':2}\n",
        "dimensions = 10\n",
        "\n",
        "optimizer.reset()\n",
        "optimizer = ps.discrete.BinaryPSO(n_particles=30, dimensions=dimensions, options=options)\n",
        "cost, pos = optimizer.optimize(f, iters=200, verbose=2)"
      ]
    },
    {
      "cell_type": "code",
      "execution_count": null,
      "metadata": {
        "id": "H4nkbtrG-3Bu"
      },
      "outputs": [],
      "source": [
        "pos"
      ]
    },
    {
      "cell_type": "code",
      "execution_count": null,
      "metadata": {
        "id": "XJaK-xla8kSH"
      },
      "outputs": [],
      "source": [
        "X_selected_features = X[:, pos==1]"
      ]
    },
    {
      "cell_type": "code",
      "execution_count": null,
      "metadata": {
        "id": "UzwqTw0r_Ec5"
      },
      "outputs": [],
      "source": [
        "ans = measure(cl, X_selected_features, y)\n",
        "print(\"Acuracy using Optimal Features and SVM is : \",round(ans[0]*100,4))\n",
        "print(\"Precision using Optimal Features and SVM is : \",round(ans[1]*100,4))\n",
        "\n",
        "print(\"Recall using Optimal Features and SVM is : \",round(ans[2]*100,4))\n",
        "print(\"F1 Score using Optimal Features and SVM is : \",round(ans[3]*100,4))"
      ]
    },
    {
      "cell_type": "markdown",
      "metadata": {
        "id": "RpN_4RTF_JAQ"
      },
      "source": [
        "**Naive Bayes**"
      ]
    },
    {
      "cell_type": "code",
      "execution_count": null,
      "metadata": {
        "id": "lEWi5bnq_Mzx"
      },
      "outputs": [],
      "source": [
        "from sklearn.naive_bayes import GaussianNB\n",
        "gnb = GaussianNB()"
      ]
    },
    {
      "cell_type": "code",
      "execution_count": null,
      "metadata": {
        "id": "Jz1GWvxn_MwQ"
      },
      "outputs": [],
      "source": [
        "def f(X, alpha=0.88):\n",
        "    n_particles = X.shape[0]\n",
        "    j = [f_per_particle(X[i], alpha, gnb) for i in range(n_particles)]\n",
        "    return np.array(j)"
      ]
    },
    {
      "cell_type": "code",
      "execution_count": null,
      "metadata": {
        "id": "7aIUNfNa_Ms5"
      },
      "outputs": [],
      "source": [
        "options = {'c1': 0.5, 'c2': 0.5, 'w':0.9, 'k': 30, 'p':2}\n",
        "dimensions = 10\n",
        "\n",
        "optimizer.reset()\n",
        "optimizer = ps.discrete.BinaryPSO(n_particles=30, dimensions=dimensions, options=options)\n",
        "cost, pos = optimizer.optimize(f, iters=200, verbose=2)"
      ]
    },
    {
      "cell_type": "code",
      "execution_count": null,
      "metadata": {
        "id": "lG-BspRy_Mpz"
      },
      "outputs": [],
      "source": [
        "pos"
      ]
    },
    {
      "cell_type": "code",
      "execution_count": null,
      "metadata": {
        "id": "8GHOExuq_Yhp"
      },
      "outputs": [],
      "source": [
        "X_selected_features = X[:, pos==1]"
      ]
    },
    {
      "cell_type": "code",
      "execution_count": null,
      "metadata": {
        "id": "2-jX3rMA_Jvp"
      },
      "outputs": [],
      "source": [
        "ans = measure(gnb, X_selected_features, y)\n",
        "print(\"Acuracy using Optimal Features and Naive Bayes is : \",round(ans[0]*100,4))\n",
        "print(\"Precision using Optimal Features and Naive Bayes is : \",round(ans[1]*100,4))\n",
        "\n",
        "print(\"Recall using Optimal Features and Naive Bayes is : \",round(ans[2]*100,4))\n",
        "print(\"F1 Score using Optimal Features and Naive Bayes is : \",round(ans[3]*100,4))"
      ]
    },
    {
      "cell_type": "markdown",
      "metadata": {
        "id": "AzPjikwX_59m"
      },
      "source": [
        "**Random Forest**"
      ]
    },
    {
      "cell_type": "code",
      "execution_count": null,
      "metadata": {
        "id": "1T6bs7R-_7bM"
      },
      "outputs": [],
      "source": [
        "from sklearn.ensemble import RandomForestClassifier\n",
        "rf = RandomForestClassifier(random_state=0)"
      ]
    },
    {
      "cell_type": "code",
      "execution_count": null,
      "metadata": {
        "id": "WqyBzEzS_-kI"
      },
      "outputs": [],
      "source": [
        "def f(X, alpha=0.88):\n",
        "    n_particles = X.shape[0]\n",
        "    j = [f_per_particle(X[i], alpha, rf) for i in range(n_particles)]\n",
        "    return np.array(j)"
      ]
    },
    {
      "cell_type": "code",
      "execution_count": null,
      "metadata": {
        "id": "LDiffIga_-g4"
      },
      "outputs": [],
      "source": [
        "options = {'c1': 0.5, 'c2': 0.5, 'w':0.9, 'k': 30, 'p':2}\n",
        "dimensions = 10\n",
        "\n",
        "optimizer.reset()\n",
        "optimizer = ps.discrete.BinaryPSO(n_particles=30, dimensions=dimensions, options=options)\n",
        "cost, pos = optimizer.optimize(f, iters=200, verbose=2)"
      ]
    },
    {
      "cell_type": "code",
      "execution_count": null,
      "metadata": {
        "id": "_BdRToSx_-dH"
      },
      "outputs": [],
      "source": [
        "pos"
      ]
    },
    {
      "cell_type": "code",
      "execution_count": null,
      "metadata": {
        "id": "EsgU6EDL_-Zz"
      },
      "outputs": [],
      "source": [
        "X_selected_features = X[:, pos==1]"
      ]
    },
    {
      "cell_type": "code",
      "execution_count": null,
      "metadata": {
        "id": "7hqWN6RH_-Wv"
      },
      "outputs": [],
      "source": [
        "ans = measure(rf, X_selected_features, y)\n",
        "print(\"Acuracy using Optimal Features and Random Forest is : \",round(ans[0]*100,4))\n",
        "print(\"Precision using Optimal Features and Random Forest is : \",round(ans[1]*100,4))\n",
        "\n",
        "print(\"Recall using Optimal Features and Random Forest is : \",round(ans[2]*100,4))\n",
        "print(\"F1 Score using Optimal Features and Random Forest is : \",round(ans[3]*100,4))"
      ]
    },
    {
      "cell_type": "markdown",
      "metadata": {
        "id": "18JzVqfNAiS5"
      },
      "source": [
        "**KNN**"
      ]
    },
    {
      "cell_type": "code",
      "execution_count": null,
      "metadata": {
        "id": "c03iel57AkeN"
      },
      "outputs": [],
      "source": [
        "from sklearn.neighbors import KNeighborsClassifier\n",
        "knn = KNeighborsClassifier()"
      ]
    },
    {
      "cell_type": "code",
      "execution_count": null,
      "metadata": {
        "id": "z51OId5dAka0"
      },
      "outputs": [],
      "source": [
        "def f(X, alpha=0.88):\n",
        "    n_particles = X.shape[0]\n",
        "    j = [f_per_particle(X[i], alpha, knn) for i in range(n_particles)]\n",
        "    return np.array(j)"
      ]
    },
    {
      "cell_type": "code",
      "execution_count": null,
      "metadata": {
        "id": "C3MglloQAj7H"
      },
      "outputs": [],
      "source": [
        "options = {'c1': 0.5, 'c2': 0.5, 'w':0.9, 'k': 30, 'p':2}\n",
        "dimensions = 10\n",
        "\n",
        "optimizer.reset()\n",
        "optimizer = ps.discrete.BinaryPSO(n_particles=30, dimensions=dimensions, options=options)\n",
        "cost, pos = optimizer.optimize(f, iters=200, verbose=2)"
      ]
    },
    {
      "cell_type": "code",
      "execution_count": null,
      "metadata": {
        "id": "lAHTUaZiAj3o"
      },
      "outputs": [],
      "source": [
        "pos"
      ]
    },
    {
      "cell_type": "code",
      "execution_count": null,
      "metadata": {
        "id": "0PmT8S8jAjzg"
      },
      "outputs": [],
      "source": [
        "X_selected_features = X[:, pos==1]"
      ]
    },
    {
      "cell_type": "code",
      "execution_count": null,
      "metadata": {
        "id": "lvQ0ig27Ajub"
      },
      "outputs": [],
      "source": [
        "ans = measure(knn, X_selected_features, y)\n",
        "print(\"Acuracy using Optimal Features and KNN is : \",round(ans[0]*100,4))\n",
        "print(\"Precision using Optimal Features and KNN is : \",round(ans[1]*100,4))\n",
        "\n",
        "print(\"Recall using Optimal Features and KNN is : \",round(ans[2]*100,4))\n",
        "print(\"F1 Score using Optimal Features and KNN is : \",round(ans[3]*100,4))"
      ]
    },
    {
      "cell_type": "code",
      "execution_count": null,
      "metadata": {
        "id": "yiAiVt_03LeO"
      },
      "outputs": [],
      "source": [
        "import time\n",
        "end_time = round(time.time()*1000)\n",
        "print(\"Operations Start Time:\",end_time)"
      ]
    },
    {
      "cell_type": "code",
      "execution_count": null,
      "metadata": {
        "id": "GOPgzH0nJ2-a"
      },
      "outputs": [],
      "source": [
        "print(\"Time taken for the complete comparative analysis of feature selection methods is : \",(end_time-start_time))"
      ]
    }
  ],
  "metadata": {
    "colab": {
      "collapsed_sections": [
        "7kE0vFq5yd2v"
      ],
      "provenance": []
    },
    "kernelspec": {
      "display_name": "Python 3",
      "name": "python3"
    },
    "language_info": {
      "name": "python"
    }
  },
  "nbformat": 4,
  "nbformat_minor": 0
}